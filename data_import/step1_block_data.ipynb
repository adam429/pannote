{
 "cells": [
  {
   "cell_type": "code",
   "metadata": {
    "tags": [],
    "deepnote_to_be_reexecuted": false,
    "source_hash": "c1c06a2b",
    "execution_start": 1644885067118,
    "execution_millis": 873,
    "cell_id": "2576592d-08f4-4419-b32b-1c76f463d373",
    "deepnote_cell_type": "code"
   },
   "source": "# load init moudle file\n\n$data_import = true\nload \"/work/pannote/panbot_note.rb\"\nnil",
   "execution_count": 12,
   "outputs": []
  },
  {
   "cell_type": "code",
   "metadata": {
    "tags": [],
    "deepnote_to_be_reexecuted": false,
    "source_hash": "bdf8e106",
    "execution_start": 1644885067993,
    "execution_millis": 1090555,
    "deepnote_output_heights": [
     1
    ],
    "cell_id": "00001-bf7d25dc-2ed8-4fea-bb9f-5cf1abe24410",
    "deepnote_cell_type": "code"
   },
   "source": "code = <<~'TASKCODE'\n\n# save to main-db\nrequire 'active_record'\nrequire 'faraday'\nrequire 'ethereum.rb'\nrequire 'faraday'\nrequire 'parallel'\nrequire 'resolv-replace'\n\nconnect_str = __PARAMS__CONNECT_STR__\nhttp_endpoint = __PARAMS__HTTP_ENDPOINT__\nblock_numbers = __PARAMS__BEGIN__..__PARAMS__END__\n\nActiveRecord::Base.establish_connection(connect_str)\n\n\n## load data model from github\nmodels = [\"application_record\",\"address\",\"cache\",\"block\",\"epoch\",\"epoch_detail\",\"event\",\"transfer\",\"tx\",\"log\"]\nmodels.each do |model| \n  url = \"https://raw.githubusercontent.com/adam429/panscan/main/panscan/app/models/#{model}.rb\"\n  body = Faraday.get(url).body\n  f = open(\"load.rb\",\"w\")\n  f.write(body)\n  f.close\n  load './load.rb'\nend\n\n## 数据准备\n\n\ncontract_name = \"PancakePredictionV2\"\ncontract_addr = \"0x18B2A687610328590Bc8F2e5fEdDe3b582A49cdA\".downcase\nbscscan_apikey = \"HIFNPQFV6MY755QMVPFIAY7F25RUTHI26Z\"\n\nclient = Ethereum::HttpClient.new(http_endpoint)\n\napi_url = \"https://api.bscscan.com/api?module=contract&action=getabi&address=#{contract_addr}&apikey=#{bscscan_apikey}\"\nabi = JSON.parse(JSON.parse(response = Faraday.get(api_url).body)[\"result\"])\n\ncontract = Ethereum::Contract.create(\n        client: client, \n        name: contract_name, \n        address: contract_addr, \n        abi: abi)\n\n\n\nget_abi = -> (contract_addr) {\n  api_url = \"https://api.bscscan.com/api?module=contract&action=getabi&address=#{contract_addr}&apikey=#{bscscan_apikey}\"\n  \n  begin\n    abi = JSON.parse(response = Faraday.get(api_url).body)[\"result\"]\n\n    while abi==\"Max rate limit reached\" do\n      sleep(0.2)\n      abi = JSON.parse(response = Faraday.get(api_url).body)[\"result\"]\n    end\n  rescue Faraday::TimeoutError\n    sleep(1)\n    retry\n  end\n    \n  return abi\n}\n\ndecoder = Ethereum::Decoder.new\nencoder = Ethereum::Encoder.new\n\nAddress.client = client\nAddress.get_abi = get_abi\nAddress.decoder = decoder\n\nabi_constructor_inputs, abi_functions, abi_events = Ethereum::Abi.parse_abi(abi)\n\nfunction_abi = abi_functions.map do |x|\n   [\"0x\"+x.signature,x]\nend.to_h\n\nevent_abi = abi_events.map do |x|\n   [\"0x\"+x.signature,x]\nend.to_h\n\n\ndef decode_params(decoder,log,name)\n  if name==\"Claim\"\n    return {\n      \"sender\"=> \"0x\"+decoder.decode(\"address\",log[\"topics\"][1]),\n      \"epoch\" => decoder.decode(\"uint256\",log[\"topics\"][2]),\n      \"amount\" => decoder.decode(\"uint256\",log[\"data\"])/1e18\n    }\n  end\n  if name==\"BetBull\"\n    return {\n      \"sender\"=> \"0x\"+decoder.decode(\"address\",log[\"topics\"][1]),\n      \"epoch\" => decoder.decode(\"uint256\",log[\"topics\"][2]),\n      \"amount\" => decoder.decode(\"uint256\",log[\"data\"])/1e18\n    }\n  end\n  if name==\"BetBear\"\n    return {\n      \"sender\"=> \"0x\"+decoder.decode(\"address\",log[\"topics\"][1]),\n      \"epoch\" => decoder.decode(\"uint256\",log[\"topics\"][2]),\n      \"amount\" => decoder.decode(\"uint256\",log[\"data\"])/1e18\n    }\n  end\n  if name==\"LockRound\"\n    return {\n      \"epoch\" => decoder.decode(\"uint256\",log[\"topics\"][1]),\n      \"round_id\" => decoder.decode(\"uint256\",log[\"topics\"][2]),\n      \"price\" => decoder.decode(\"int256\",log[\"data\"])/1e18\n    }\n  end\n  if name==\"EndRound\"\n    return {\n      \"epoch\" => decoder.decode(\"uint256\",log[\"topics\"][1]),\n    }\n  end\n  if name==\"RewardsCalculated\"\n    data = decoder.decode_arguments(\n          [\n            Ethereum::FunctionInput.new({\"type\"=>\"uint256\",\"name\"=>\"rewardBaseCalAmount\"}),\n            Ethereum::FunctionInput.new({\"type\"=>\"uint256\",\"name\"=>\"rewardAmount\"}),\n            Ethereum::FunctionInput.new({\"type\"=>\"uint256\",\"name\"=>\"treasuryAmount\"}),\n          ], log[\"data\"])\n    return {\n      \"epoch\" => decoder.decode(\"uint256\",log[\"topics\"][1]),\n      \"rewardBaseCalAmount\" => data[0],\n      \"rewardAmount\" => data[1],\n      \"treasuryAmount\" => data[2],\n    }\n  end\n  if name==\"StartRound\"\n    return {\"epoch\" => decoder.decode(\"uint256\",log[\"topics\"][1]) }\n  end\n  return {}\nend\n\ndef data_import_block(block_number,client,contract_addr,function_abi,event_abi,decoder)\n     return \"alredy exist\" if Block.find_by_block_number(block_number)\n\n    ## get block\n    block = client.eth_get_block_by_number(block_number,true)[\"result\"]\n    block[\"block_number\"] = block[\"number\"].to_i(16)\n    block[\"block_time\"] = Time.at(block[\"timestamp\"].to_i(16))\n  \n    ## get tx receipt\n    transactions = block[\"transactions\"].filter {|x| x[\"from\"]==contract_addr.downcase or x[\"to\"]==contract_addr.downcase }.map {|tx|  tx[\"block_number\"]=block[\"block_number\"]; tx[\"block_time\"]=block[\"block_time\"]; tx}\n\n    transactions = Parallel.map(transactions,in_threads: 5) do |tx|\n      tx[\"receipt\"] = client.eth_get_transaction_receipt(tx[\"hash\"])[\"result\"]\n      tx\n    end\n  \n    ## process tx\n    transactions.map! do |tx|\n      size = tx[\"input\"].size\n      if tx[\"input\"]=='0x' then\n        method_hash = tx[\"input\"]\n        input_data =  tx[\"input\"]\n        tx[\"method_name\"]= \"\"\n        tx[\"input_data\"] = \"\"\n      else\n        method_hash = tx[\"input\"][0,10]\n        input_data = \"0x\"+tx[\"input\"][10,size]  \n        if function_abi[method_hash] then\n          tx[\"method_name\"]= function_abi[method_hash].name\n          tx[\"input_data\"] = decoder.decode_arguments(function_abi[method_hash].inputs,input_data)\n        else\n          tx[\"method_name\"]= \"\"\n          tx[\"input_data\"] = \"\"\n        end\n      end\n      tx[\"amount\"] = tx[\"value\"].to_i(16)/1e18\n      tx[\"block_number\"] = tx[\"blockNumber\"].to_i(16)\n      tx[\"gas_price\"] = tx[\"gasPrice\"].to_i(16)/1e9\n      tx[\"gas\"] = tx[\"gas\"].to_i(16)\n      tx[\"nonce\"] = tx[\"nonce\"].to_i(16)\n\n      tx[\"cumulative_gas_used\"] = tx[\"receipt\"][\"cumulativeGasUsed\"].to_i(16)\n      tx[\"gas_used\"] = tx[\"receipt\"][\"gasUsed\"].to_i(16)\n\n      tx[\"status\"] = tx[\"receipt\"][\"status\"]==\"0x1\" ? true : false\n\n      tx[\"event\"]=tx[\"receipt\"][\"logs\"].map do |log|\n        event = {}\n        event[\"log\"] = log\n        event[\"abi\"] = event_abi[log[\"topics\"][0]]\n        event[\"name\"] = event[\"abi\"].name\n        event[\"params\"] = decode_params(decoder,log,event[\"name\"])\n        event\n      end\n\n      tx\n    end\n  \n    ## save to active_record\n    ar = Block.new()\n    ar.difficulty = block[\"difficulty\"].to_i(16)\n    ar.total_difficulty = block[\"totalDifficulty\"].to_i(16)\n    ar.block_number = block[\"block_number\"]\n    ar.gas_limit = block[\"gasLimit\"].to_i(16)\n    ar.gas_used = block[\"gasUsed\"].to_i(16)\n    ar.miner = block[\"miner\"]\n    ar.block_hash = block[\"hash\"]\n    ar.parent_hash = block[\"parentHash\"]\n    ar.block_time = Time.at(block[\"timestamp\"].to_i(16))\n    ar.block_size = block[\"size\"].to_i(16)\n\n    ar.save!\n\n    transactions.map do |tx|\n      ar = Tx.new()\n      ar.block_hash = tx[\"blockHash\"]\n      ar.tx_hash = tx[\"hash\"]\n      ar.from = tx[\"from\"]\n      ar.to = tx[\"to\"]\n      ar.method_name = tx[\"method_name\"]\n      ar.input_data = JSON.dump(tx[\"input_data\"])\n\n      ar.tx_type = tx[\"type\"].to_i(16)\n      ar.tx_status = tx[\"status\"]\n\n\n      ar.block_time = tx[\"block_time\"]\n      ar.block_number = tx[\"blockNumber\"].to_i(16)\n      ar.gas = tx[\"gas\"]\n      ar.gas_price = tx[\"gasPrice\"]\n      ar.nonce = tx[\"nonce\"]\n      ar.tx_index = tx[\"transactionIndex\"].to_i(16)\n      ar.amount = tx[\"value\"].to_i(16)\n      ar.cumulative_gas_used = tx[\"cumulative_gas_used\"]\n      ar.gas_used = tx[\"gas_used\"]\n      ar.contract_address = tx[\"receipt\"][\"contractAddress\"]\n\n      begin\n        ar.save!\n      rescue ActiveRecord::RecordNotUnique \n      end\n    end\n\n    transactions.map {|x| x[\"event\"]}.flatten.map do |event|\n      ar = Event.new()\n      ar.name = event[\"name\"]\n      ar.params = JSON.dump(event[\"params\"])\n      ar.event_abi = event[\"abi\"].event_string\n      ar.input_type = event[\"abi\"].input_types\n      ar.input_name = event[\"abi\"].inputs\n      ar.log_index = event[\"log\"][\"logIndex\"].to_i(16)\n      ar.tx_index = event[\"log\"][\"transactionIndex\"].to_i(16)\n      ar.block_hash = event[\"log\"][\"blockHash\"]\n      ar.tx_hash = event[\"log\"][\"transactionHash\"]\n      ar.block_number = event[\"log\"][\"blockNumber\"].to_i(16)\n      ar.event_key = \"#{ar.block_number}-#{ar.tx_index}-#{ar.log_index}\"\n\n      begin\n        ar.save!\n      rescue ActiveRecord::RecordNotUnique \n      end\n    end\n\n  \nend\n\n\n\n\ntime = Time.now()\n\nputs \"== data import transfer - start ==\"\nLog.log \"== data import transfer - start ==\"\n\n\n\nParallel.map(block_numbers.to_a,in_threads: 10) do |block_number|  \n  puts \"#{Time.now} blocks: #{block_number}\" if block_number%10000==0\n  Log.log \"#{Time.now} blocks: #{block_number}\" if block_number%10000==0\n  data_import_block(block_number,client,contract_addr,function_abi,event_abi,decoder)\nend\n\nputs \"== data import transfer - end ==\"\nLog.log \"== data import transfer - end ==\"\nputs \"time #{Time.now-time} s\"\nLog.log \"time #{Time.now-time} s\"\n\nTASKCODE\n",
   "execution_count": 13,
   "outputs": [
    {
     "output_type": "execute_result",
     "execution_count": 13,
     "data": {
      "text/plain": "\"\\n# save to main-db\\nrequire 'active_record'\\nrequire 'faraday'\\nrequire 'ethereum.rb'\\nrequire 'faraday'\\nrequire 'parallel'\\nrequire 'resolv-replace'\\n\\nconnect_str = __PARAMS__CONNECT_STR__\\nhttp_endpoint = __PARAMS__HTTP_ENDPOINT__\\nblock_numbers = __PARAMS__BEGIN__..__PARAMS__END__\\n\\nActiveRecord::Base.establish_connection(connect_str)\\n\\n\\n## load data model from github\\nmodels = [\\\"application_record\\\",\\\"address\\\",\\\"cache\\\",\\\"block\\\",\\\"epoch\\\",\\\"epoch_detail\\\",\\\"event\\\",\\\"transfer\\\",\\\"tx\\\",\\\"log\\\"]\\nmodels.each do |model| \\n  url = \\\"https://raw.githubusercontent.com/adam429/panscan/main/panscan/app/models/\\#{model}.rb\\\"\\n  body = Faraday.get(url).body\\n  f = open(\\\"load.rb\\\",\\\"w\\\")\\n  f.write(body)\\n  f.close\\n  load './load.rb'\\nend\\n\\n## 数据准备\\n\\n\\ncontract_name = \\\"PancakePredictionV2\\\"\\ncontract_addr = \\\"0x18B2A687610328590Bc8F2e5fEdDe3b582A49cdA\\\".downcase\\nbscscan_apikey = \\\"HIFNPQFV6MY755QMVPFIAY7F25RUTHI26Z\\\"\\n\\nclient = Ethereum::HttpClient.new(http_endpoint)\\n\\napi_url = \\\"https://api.bscscan.com/api?module=contract&action=getabi&address=\\#{contract_addr}&apikey=\\#{bscscan_apikey}\\\"\\nabi = JSON.parse(JSON.parse(response = Faraday.get(api_url).body)[\\\"result\\\"])\\n\\ncontract = Ethereum::Contract.create(\\n        client: client, \\n        name: contract_name, \\n        address: contract_addr, \\n        abi: abi)\\n\\n\\n\\nget_abi = -> (contract_addr) {\\n  api_url = \\\"https://api.bscscan.com/api?module=contract&action=getabi&address=\\#{contract_addr}&apikey=\\#{bscscan_apikey}\\\"\\n  \\n  begin\\n    abi = JSON.parse(response = Faraday.get(api_url).body)[\\\"result\\\"]\\n\\n    while abi==\\\"Max rate limit reached\\\" do\\n      sleep(0.2)\\n      abi = JSON.parse(response = Faraday.get(api_url).body)[\\\"result\\\"]\\n    end\\n  rescue Faraday::TimeoutError\\n    sleep(1)\\n    retry\\n  end\\n    \\n  return abi\\n}\\n\\ndecoder = Ethereum::Decoder.new\\nencoder = Ethereum::Encoder.new\\n\\nAddress.client = client\\nAddress.get_abi = get_abi\\nAddress.decoder = decoder\\n\\nabi_constructor_inputs, abi_functions, abi_events = Ethereum::Abi.parse_abi(abi)\\n\\nfunction_abi = abi_functions.map do |x|\\n   [\\\"0x\\\"+x.signature,x]\\nend.to_h\\n\\nevent_abi = abi_events.map do |x|\\n   [\\\"0x\\\"+x.signature,x]\\nend.to_h\\n\\n\\ndef decode_params(decoder,log,name)\\n  if name==\\\"Claim\\\"\\n    return {\\n      \\\"sender\\\"=> \\\"0x\\\"+decoder.decode(\\\"address\\\",log[\\\"topics\\\"][1]),\\n      \\\"epoch\\\" => decoder.decode(\\\"uint256\\\",log[\\\"topics\\\"][2]),\\n      \\\"amount\\\" => decoder.decode(\\\"uint256\\\",log[\\\"data\\\"])/1e18\\n    }\\n  end\\n  if name==\\\"BetBull\\\"\\n    return {\\n      \\\"sender\\\"=> \\\"0x\\\"+decoder.decode(\\\"address\\\",log[\\\"topics\\\"][1]),\\n      \\\"epoch\\\" => decoder.decode(\\\"uint256\\\",log[\\\"topics\\\"][2]),\\n      \\\"amount\\\" => decoder.decode(\\\"uint256\\\",log[\\\"data\\\"])/1e18\\n    }\\n  end\\n  if name==\\\"BetBear\\\"\\n    return {\\n      \\\"sender\\\"=> \\\"0x\\\"+decoder.decode(\\\"address\\\",log[\\\"topics\\\"][1]),\\n      \\\"epoch\\\" => decoder.decode(\\\"uint256\\\",log[\\\"topics\\\"][2]),\\n      \\\"amount\\\" => decoder.decode(\\\"uint256\\\",log[\\\"data\\\"])/1e18\\n    }\\n  end\\n  if name==\\\"LockRound\\\"\\n    return {\\n      \\\"epoch\\\" => decoder.decode(\\\"uint256\\\",log[\\\"topics\\\"][1]),\\n      \\\"round_id\\\" => decoder.decode(\\\"uint256\\\",log[\\\"topics\\\"][2]),\\n      \\\"price\\\" => decoder.decode(\\\"int256\\\",log[\\\"data\\\"])/1e18\\n    }\\n  end\\n  if name==\\\"EndRound\\\"\\n    return {\\n      \\\"epoch\\\" => decoder.decode(\\\"uint256\\\",log[\\\"topics\\\"][1]),\\n    }\\n  end\\n  if name==\\\"RewardsCalculated\\\"\\n    data = decoder.decode_arguments(\\n          [\\n            Ethereum::FunctionInput.new({\\\"type\\\"=>\\\"uint256\\\",\\\"name\\\"=>\\\"rewardBaseCalAmount\\\"}),\\n            Ethereum::FunctionInput.new({\\\"type\\\"=>\\\"uint256\\\",\\\"name\\\"=>\\\"rewardAmount\\\"}),\\n            Ethereum::FunctionInput.new({\\\"type\\\"=>\\\"uint256\\\",\\\"name\\\"=>\\\"treasuryAmount\\\"}),\\n          ], log[\\\"data\\\"])\\n    return {\\n      \\\"epoch\\\" => decoder.decode(\\\"uint256\\\",log[\\\"topics\\\"][1]),\\n      \\\"rewardBaseCalAmount\\\" => data[0],\\n      \\\"rewardAmount\\\" => data[1],\\n      \\\"treasuryAmount\\\" => data[2],\\n    }\\n  end\\n  if name==\\\"StartRound\\\"\\n    return {\\\"epoch\\\" => decoder.decode(\\\"uint256\\\",log[\\\"topics\\\"][1]) }\\n  end\\n  return {}\\nend\\n\\ndef data_import_block(block_number,client,contract_addr,function_abi,event_abi,decoder)\\n     return \\\"alredy exist\\\" if Block.find_by_block_number(block_number)\\n\\n    ## get block\\n    block = client.eth_get_block_by_number(block_number,true)[\\\"result\\\"]\\n    block[\\\"block_number\\\"] = block[\\\"number\\\"].to_i(16)\\n    block[\\\"block_time\\\"] = Time.at(block[\\\"timestamp\\\"].to_i(16))\\n  \\n    ## get tx receipt\\n    transactions = block[\\\"transactions\\\"].filter {|x| x[\\\"from\\\"]==contract_addr.downcase or x[\\\"to\\\"]==contract_addr.downcase }.map {|tx|  tx[\\\"block_number\\\"]=block[\\\"block_number\\\"]; tx[\\\"block_time\\\"]=block[\\\"block_time\\\"]; tx}\\n\\n    transactions = Parallel.map(transactions,in_threads: 5) do |tx|\\n      tx[\\\"receipt\\\"] = client.eth_get_transaction_receipt(tx[\\\"hash\\\"])[\\\"result\\\"]\\n      tx\\n    end\\n  \\n    ## process tx\\n    transactions.map! do |tx|\\n      size = tx[\\\"input\\\"].size\\n      if tx[\\\"input\\\"]=='0x' then\\n        method_hash = tx[\\\"input\\\"]\\n        input_data =  tx[\\\"input\\\"]\\n        tx[\\\"method_name\\\"]= \\\"\\\"\\n        tx[\\\"input_data\\\"] = \\\"\\\"\\n      else\\n        method_hash = tx[\\\"input\\\"][0,10]\\n        input_data = \\\"0x\\\"+tx[\\\"input\\\"][10,size]  \\n        if function_abi[method_hash] then\\n          tx[\\\"method_name\\\"]= function_abi[method_hash].name\\n          tx[\\\"input_data\\\"] = decoder.decode_arguments(function_abi[method_hash].inputs,input_data)\\n        else\\n          tx[\\\"method_name\\\"]= \\\"\\\"\\n          tx[\\\"input_data\\\"] = \\\"\\\"\\n        end\\n      end\\n      tx[\\\"amount\\\"] = tx[\\\"value\\\"].to_i(16)/1e18\\n      tx[\\\"block_number\\\"] = tx[\\\"blockNumber\\\"].to_i(16)\\n      tx[\\\"gas_price\\\"] = tx[\\\"gasPrice\\\"].to_i(16)/1e9\\n      tx[\\\"gas\\\"] = tx[\\\"gas\\\"].to_i(16)\\n      tx[\\\"nonce\\\"] = tx[\\\"nonce\\\"].to_i(16)\\n\\n      tx[\\\"cumulative_gas_used\\\"] = tx[\\\"receipt\\\"][\\\"cumulativeGasUsed\\\"].to_i(16)\\n      tx[\\\"gas_used\\\"] = tx[\\\"receipt\\\"][\\\"gasUsed\\\"].to_i(16)\\n\\n      tx[\\\"status\\\"] = tx[\\\"receipt\\\"][\\\"status\\\"]==\\\"0x1\\\" ? true : false\\n\\n      tx[\\\"event\\\"]=tx[\\\"receipt\\\"][\\\"logs\\\"].map do |log|\\n        event = {}\\n        event[\\\"log\\\"] = log\\n        event[\\\"abi\\\"] = event_abi[log[\\\"topics\\\"][0]]\\n        event[\\\"name\\\"] = event[\\\"abi\\\"].name\\n        event[\\\"params\\\"] = decode_params(decoder,log,event[\\\"name\\\"])\\n        event\\n      end\\n\\n      tx\\n    end\\n  \\n    ## save to active_record\\n    ar = Block.new()\\n    ar.difficulty = block[\\\"difficulty\\\"].to_i(16)\\n    ar.total_difficulty = block[\\\"totalDifficulty\\\"].to_i(16)\\n    ar.block_number = block[\\\"block_number\\\"]\\n    ar.gas_limit = block[\\\"gasLimit\\\"].to_i(16)\\n    ar.gas_used = block[\\\"gasUsed\\\"].to_i(16)\\n    ar.miner = block[\\\"miner\\\"]\\n    ar.block_hash = block[\\\"hash\\\"]\\n    ar.parent_hash = block[\\\"parentHash\\\"]\\n    ar.block_time = Time.at(block[\\\"timestamp\\\"].to_i(16))\\n    ar.block_size = block[\\\"size\\\"].to_i(16)\\n\\n    ar.save!\\n\\n    transactions.map do |tx|\\n      ar = Tx.new()\\n      ar.block_hash = tx[\\\"blockHash\\\"]\\n      ar.tx_hash = tx[\\\"hash\\\"]\\n      ar.from = tx[\\\"from\\\"]\\n      ar.to = tx[\\\"to\\\"]\\n      ar.method_name = tx[\\\"method_name\\\"]\\n      ar.input_data = JSON.dump(tx[\\\"input_data\\\"])\\n\\n      ar.tx_type = tx[\\\"type\\\"].to_i(16)\\n      ar.tx_status = tx[\\\"status\\\"]\\n\\n\\n      ar.block_time = tx[\\\"block_time\\\"]\\n      ar.block_number = tx[\\\"blockNumber\\\"].to_i(16)\\n      ar.gas = tx[\\\"gas\\\"]\\n      ar.gas_price = tx[\\\"gasPrice\\\"]\\n      ar.nonce = tx[\\\"nonce\\\"]\\n      ar.tx_index = tx[\\\"transactionIndex\\\"].to_i(16)\\n      ar.amount = tx[\\\"value\\\"].to_i(16)\\n      ar.cumulative_gas_used = tx[\\\"cumulative_gas_used\\\"]\\n      ar.gas_used = tx[\\\"gas_used\\\"]\\n      ar.contract_address = tx[\\\"receipt\\\"][\\\"contractAddress\\\"]\\n\\n      begin\\n        ar.save!\\n      rescue ActiveRecord::RecordNotUnique \\n      end\\n    end\\n\\n    transactions.map {|x| x[\\\"event\\\"]}.flatten.map do |event|\\n      ar = Event.new()\\n      ar.name = event[\\\"name\\\"]\\n      ar.params = JSON.dump(event[\\\"params\\\"])\\n      ar.event_abi = event[\\\"abi\\\"].event_string\\n      ar.input_type = event[\\\"abi\\\"].input_types\\n      ar.input_name = event[\\\"abi\\\"].inputs\\n      ar.log_index = event[\\\"log\\\"][\\\"logIndex\\\"].to_i(16)\\n      ar.tx_index = event[\\\"log\\\"][\\\"transactionIndex\\\"].to_i(16)\\n      ar.block_hash = event[\\\"log\\\"][\\\"blockHash\\\"]\\n      ar.tx_hash = event[\\\"log\\\"][\\\"transactionHash\\\"]\\n      ar.block_number = event[\\\"log\\\"][\\\"blockNumber\\\"].to_i(16)\\n      ar.event_key = \\\"\\#{ar.block_number}-\\#{ar.tx_index}-\\#{ar.log_index}\\\"\\n\\n      begin\\n        ar.save!\\n      rescue ActiveRecord::RecordNotUnique \\n      end\\n    end\\n\\n  \\nend\\n\\n\\n\\n\\ntime = Time.now()\\n\\nputs \\\"== data import transfer - start ==\\\"\\nLog.log \\\"== data import transfer - start ==\\\"\\n\\n\\n\\nParallel.map(block_numbers.to_a,in_threads: 10) do |block_number|  \\n  puts \\\"\\#{Time.now} blocks: \\#{block_number}\\\" if block_number%10000==0\\n  Log.log \\\"\\#{Time.now} blocks: \\#{block_number}\\\" if block_number%10000==0\\n  data_import_block(block_number,client,contract_addr,function_abi,event_abi,decoder)\\nend\\n\\nputs \\\"== data import transfer - end ==\\\"\\nLog.log \\\"== data import transfer - end ==\\\"\\nputs \\\"time \\#{Time.now-time} s\\\"\\nLog.log \\\"time \\#{Time.now-time} s\\\"\\n\\n\""
     },
     "metadata": {}
    }
   ]
  },
  {
   "cell_type": "code",
   "metadata": {
    "tags": [],
    "deepnote_to_be_reexecuted": false,
    "source_hash": "632dc000",
    "execution_start": 1644898625162,
    "execution_millis": 5109,
    "deepnote_output_heights": [
     21.1875
    ],
    "cell_id": "00002-a424a432-158a-40cf-b560-a488262af1d5",
    "deepnote_cell_type": "code"
   },
   "source": "\ndb_last_transfer_block = Transfer.order(:block_number).last.block_number\nlast_block = $client.eth_get_block_by_number(\"latest\",false)[\"result\"][\"number\"].to_i(16)\n\ndb_last_block = Block.order(:block_number).last.block_number\ndb_last_epoch = Epoch.order(:epoch).last.epoch\nlast_epoch = $contract.call.current_epoch\nlast_block = $client.eth_get_block_by_number(\"latest\",false)[\"result\"][\"number\"].to_i(16)\n\nputs \"last_epoch = #{last_epoch}\"\nputs \"db_last_epoch = #{db_last_epoch}\"\nputs \"-----------------------\"\nputs \"last_block = #{last_block}\"\nputs \"db_last_block = #{db_last_block}\"\nputs \"-----------------------\"\nputs \"last_transfer_block = #{db_last_transfer_block}\"\nputs \"db_last_block = #{db_last_block}\"\nputs \"-----------------------\"\n\nputs \"epochs #{last_epoch-db_last_epoch} - blocks #{last_block-db_last_block} - transfer #{last_block-db_last_transfer_block}\"\nnil\n",
   "execution_count": 16,
   "outputs": [
    {
     "name": "stdout",
     "text": "last_epoch = 45190\ndb_last_epoch = 45124\n-----------------------\nlast_block = 15267723\ndb_last_block = 15263213\n-----------------------\nlast_transfer_block = 15263213\ndb_last_block = 15263213\n-----------------------\nepochs 66 - blocks 4510 - transfer 4510\n",
     "output_type": "stream"
    }
   ]
  },
  {
   "cell_type": "code",
   "metadata": {
    "tags": [],
    "deepnote_to_be_reexecuted": false,
    "source_hash": "1a94e8ad",
    "execution_start": 1644885070878,
    "execution_millis": 336,
    "cell_id": "00003-6d19c1e8-b5b7-4160-b135-a4b2cb3f9e4d",
    "deepnote_cell_type": "code"
   },
   "source": "begin_block = db_last_block\nend_block = last_block\nstep = 10000\n\nloop do\n  task_end_block = [(begin_block+step)/10000*10000,begin_block+step,end_block].min\n  task_name = \"data-import-block #{begin_block} - #{task_end_block}\"\n  task_code = code.gsub(/__PARAMS__BEGIN__/,begin_block.to_s)\n                  .gsub(/__PARAMS__END__/,task_end_block.to_s)\n                  .gsub(/__PARAMS__CONNECT_STR__/,'\"'+ENV[\"DB_CONNECT_STR\"]+'\"')\n                  .gsub(/__PARAMS__HTTP_ENDPOINT__/,'\"'+ENV[\"HTTP_ENDPOINT\"]+'\"')\n  puts task_name\n  Task.create_task(task_name, task_code)\n\n  begin_block = [(begin_block+step)/10000*10000,begin_block+step].min\n  break if begin_block > end_block\nend\n\n",
   "execution_count": 15,
   "outputs": [
    {
     "name": "stdout",
     "text": "data-import-block 15262888 - 15263213\n",
     "output_type": "stream"
    }
   ]
  },
  {
   "cell_type": "code",
   "metadata": {
    "tags": [],
    "cell_id": "00004-4007ba56-2f1c-4d8f-8b97-7e209a4fd440",
    "deepnote_cell_type": "code"
   },
   "source": "",
   "execution_count": null,
   "outputs": [
    {
     "name": "stdout",
     "text": "postgres://u3jro090e4mjir:p5bb01e1f1e7a8b34936331f0c30e417234be2722c97001ea82818ca4a700ebc9@ec2-34-198-50-175.compute-1.amazonaws.com:5432/dfknjjv4a1of2h?pool=20\n",
     "output_type": "stream"
    }
   ]
  },
  {
   "cell_type": "code",
   "source": "",
   "metadata": {
    "cell_id": "f71f0815-cef5-456a-8759-58f52f57099c",
    "tags": [],
    "deepnote_to_be_reexecuted": false,
    "source_hash": "b623e53d",
    "execution_start": 1644883683216,
    "execution_millis": 2,
    "deepnote_output_heights": [
     21.1875
    ],
    "deepnote_cell_type": "code"
   },
   "outputs": [],
   "execution_count": 6
  },
  {
   "cell_type": "code",
   "source": "",
   "metadata": {
    "cell_id": "227c833b-1393-45ae-9007-e5af0ac914f3",
    "tags": [],
    "deepnote_cell_type": "code"
   },
   "outputs": [],
   "execution_count": null
  },
  {
   "cell_type": "markdown",
   "source": "<a style='text-decoration:none;line-height:16px;display:flex;color:#5B5B62;padding:10px;justify-content:end;' href='https://deepnote.com?utm_source=created-in-deepnote-cell&projectId=ebde59c2-d67b-4e31-ad3b-1bdd07014691' target=\"_blank\">\n<img alt='Created in deepnote.com' style='display:inline;max-height:16px;margin:0px;margin-right:7.5px;' src='data:image/svg+xml;base64,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' > </img>\nCreated in <span style='font-weight:600;margin-left:4px;'>Deepnote</span></a>",
   "metadata": {
    "tags": [],
    "created_in_deepnote_cell": true,
    "deepnote_cell_type": "markdown"
   }
  }
 ],
 "nbformat": 4,
 "nbformat_minor": 2,
 "metadata": {
  "orig_nbformat": 2,
  "deepnote": {
   "is_reactive": false
  },
  "deepnote_notebook_id": "8251d36a-671b-4d78-8ba8-adb88b2802ed",
  "deepnote_execution_queue": []
 }
}