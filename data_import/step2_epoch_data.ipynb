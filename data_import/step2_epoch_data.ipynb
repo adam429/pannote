{
 "cells": [
  {
   "cell_type": "code",
   "metadata": {
    "tags": [],
    "cell_id": "3729f08b-0d81-4348-87fa-e20c42f4704f",
    "deepnote_to_be_reexecuted": false,
    "source_hash": "f9765597",
    "execution_start": 1645922668419,
    "execution_millis": 1482,
    "deepnote_output_heights": [
     21.1875
    ],
    "deepnote_cell_type": "code"
   },
   "source": "# Start writing cod# load init moudle file\n\n$data_import = true\nload \"/work/pannote/panbot_note.rb\"\n",
   "execution_count": null,
   "outputs": [
    {
     "output_type": "execute_result",
     "execution_count": 1,
     "data": {
      "text/plain": "true"
     },
     "metadata": {}
    }
   ]
  },
  {
   "cell_type": "code",
   "metadata": {
    "cell_id": "bfd79d5e-0925-4716-b658-02ed6308d437",
    "tags": [],
    "deepnote_to_be_reexecuted": false,
    "source_hash": "135deecb",
    "execution_start": 1645890854080,
    "execution_millis": 0,
    "deepnote_output_heights": [
     21.1875
    ],
    "deepnote_cell_type": "code"
   },
   "source": "def data_import_epoch(epoch,contract)\n  if Epoch.find_by_epoch(epoch)==nil\n    current_round = contract.call.rounds(epoch)\n\n    startTimestamp = Time.at(current_round[1])\n    lockTimestamp = Time.at(current_round[2])\n    closeTimestamp = Time.at(current_round[3])\n    lockPrice = current_round[4]/1e8.to_f\n    closePrice = current_round[5]/1e8.to_f\n    totalAmount = current_round[8]/1e18.to_f\n    bullAmount = current_round[9]/1e18.to_f\n    bearAmount = current_round[10]/1e18.to_f\n    rewardBaseCalAmount = current_round[11]/1e18.to_f\n    rewardAmount = current_round[12]/1e18.to_f\n    bullPayout = totalAmount/bullAmount\n    bearPayout = totalAmount/bearAmount    \n\n    ar = Epoch.new()\n    ar.epoch = epoch\n    ar.start_timestamp = startTimestamp\n    ar.lock_timestamp = lockTimestamp\n    ar.close_timestamp = closeTimestamp\n    ar.lock_price = lockPrice\n    ar.close_price = closePrice\n    ar.total_amount = totalAmount\n    ar.bull_amount = bullAmount\n    ar.bear_amount = bearAmount\n    ar.reward_base_cal_amount = rewardBaseCalAmount\n    ar.reward_amount = rewardAmount\n    ar.bull_payout = bullPayout\n    ar.bear_payout = bearPayout\n\n    ar.save!\n  end\nend\n\ndb_last_block = Block.order(:block_number).last.block_number\ndb_last_epoch = Epoch.order(:epoch).last.epoch\n\nlast_epoch = $contract.call.current_epoch\nlast_block = $client.eth_get_block_by_number(\"latest\",false)[\"result\"][\"number\"].to_i(16)\n\nputs \"last_epoch = #{last_epoch}\"\nputs \"last_block = #{last_block}\"\nputs \"db_last_epoch = #{db_last_epoch}\"\nputs \"db_last_block = #{db_last_block}\"\n\nputs \"epochs #{last_epoch-db_last_epoch} - blocks #{last_block-db_last_block}\"\nnil\n\nrounds = []\n\ntime = Time.now()\n\nepoch_min = db_last_epoch + 1\nepoch_max = last_epoch - 1\n\nrounds = Parallel.map((epoch_min..epoch_max).to_a,in_threads: 10) do |epoch|\n  data_import_epoch(epoch,$contract)\nend\n\ntime = Time.now()-time\n\nputs \"rounds.size #{rounds.size} - time #{time} s\"\n",
   "execution_count": null,
   "outputs": [
    {
     "output_type": "error",
     "ename": "NameError",
     "evalue": "uninitialized constant Block",
     "traceback": [
      "\u001b[31mNameError\u001b[0m: uninitialized constant Block",
      "(irb):36:in `irb_binding'"
     ]
    }
   ]
  },
  {
   "cell_type": "code",
   "metadata": {
    "cell_id": "e1773aba-fdf9-48b6-b7aa-d716c7c8d62b",
    "tags": [],
    "deepnote_to_be_reexecuted": false,
    "source_hash": "a418326f",
    "execution_start": 1645923088478,
    "execution_millis": 7,
    "deepnote_cell_type": "code"
   },
   "source": "def data_update_epoch(epoch,contract)\n    current_round = contract.call.rounds(epoch)\n\n    startTimestamp = Time.at(current_round[1])\n    lockTimestamp = Time.at(current_round[2])\n    closeTimestamp = Time.at(current_round[3])\n    lockPrice = current_round[4]/1e8.to_f\n    closePrice = current_round[5]/1e8.to_f\n    totalAmount = current_round[8]/1e18.to_f\n    bullAmount = current_round[9]/1e18.to_f\n    bearAmount = current_round[10]/1e18.to_f\n    rewardBaseCalAmount = current_round[11]/1e18.to_f\n    rewardAmount = current_round[12]/1e18.to_f\n    bullPayout = totalAmount/bullAmount\n    bearPayout = totalAmount/bearAmount    \n\n    ar = Epoch.find_by_epoch(epoch)\n    ar.start_timestamp = startTimestamp\n    ar.lock_timestamp = lockTimestamp\n    ar.close_timestamp = closeTimestamp\n    ar.lock_price = lockPrice\n    ar.close_price = closePrice\n    ar.total_amount = totalAmount\n    ar.bull_amount = bullAmount\n    ar.bear_amount = bearAmount\n    ar.reward_base_cal_amount = rewardBaseCalAmount\n    ar.reward_amount = rewardAmount\n    ar.bull_payout = bullPayout\n    ar.bear_payout = bearPayout\n\n    ar.save!\nend\n\n\nepoch = Epoch.where(close_price:0).map {|x| x.id}",
   "execution_count": null,
   "outputs": [
    {
     "output_type": "execute_result",
     "execution_count": 41,
     "data": {
      "text/plain": "[9290, 8138, 8133, 8872, 8871, 8873, 9252, 9245, 9287, 9291, 12953, 12958, 8869, 19424]"
     },
     "metadata": {}
    }
   ]
  },
  {
   "cell_type": "code",
   "metadata": {
    "cell_id": "6932761d-dcb8-48aa-9c38-5c4f92098779",
    "tags": [],
    "deepnote_to_be_reexecuted": false,
    "source_hash": "2708cc1a",
    "execution_start": 1645922646727,
    "execution_millis": 716,
    "deepnote_cell_type": "code"
   },
   "source": "epoch.map {|x| data_update_epoch(x,$contract) }",
   "execution_count": null,
   "outputs": [
    {
     "output_type": "execute_result",
     "execution_count": 68,
     "data": {
      "text/plain": "[true, true, true, true, true, true, true, true, true, true, true, true, true, true, true]"
     },
     "metadata": {}
    }
   ]
  },
  {
   "cell_type": "code",
   "metadata": {
    "cell_id": "df9fe8cc-4158-4b74-9fa1-03409e4999c5",
    "tags": [],
    "deepnote_to_be_reexecuted": false,
    "source_hash": "902e7e78",
    "execution_start": 1645923081395,
    "execution_millis": 11,
    "deepnote_cell_type": "code"
   },
   "source": "Epoch.where(\"close_price = 0\").last",
   "execution_count": null,
   "outputs": [
    {
     "output_type": "execute_result",
     "execution_count": 40,
     "data": {
      "text/plain": "#<Epoch id: 19424, epoch: 43490, start_timestamp: \"2022-02-08 20:20:03.000000000 +0000\", lock_timestamp: \"2022-02-08 20:25:03.000000000 +0000\", close_timestamp: \"2022-02-08 20:30:03.000000000 +0000\", lock_price: 0.0, close_price: 0.0, total_amount: 2.8898801047589195, bull_amount: 2.7125147516294845, bear_amount: 0.17736535312943513, reward_base_cal_amount: 0.0, reward_amount: 0.0, bull_payout: 1.0653877930149087, bear_payout: 16.293374403567896, created_at: \"2022-02-14 22:42:11.776219000 +0000\", updated_at: \"2022-02-15 00:15:49.989533000 +0000\", total_count: 22, start_block_number: 15085639, lock_block_number: 15085739>"
     },
     "metadata": {}
    }
   ]
  },
  {
   "cell_type": "code",
   "metadata": {
    "cell_id": "13f60cec-533c-4e91-985e-2132533eed2f",
    "tags": [],
    "deepnote_to_be_reexecuted": false,
    "source_hash": "faa3eb88",
    "execution_start": 1645922988143,
    "execution_millis": 5,
    "deepnote_cell_type": "code"
   },
   "source": "Epoch.where(epoch:43489)",
   "execution_count": null,
   "outputs": [
    {
     "output_type": "execute_result",
     "execution_count": 34,
     "data": {
      "text/plain": "#<ActiveRecord::Relation []>"
     },
     "metadata": {}
    }
   ]
  },
  {
   "cell_type": "code",
   "metadata": {
    "cell_id": "e3e1b8cf-63d8-4038-a2a7-5dfd412020bd",
    "tags": [],
    "deepnote_to_be_reexecuted": false,
    "source_hash": "f471241c",
    "execution_start": 1645923143483,
    "execution_millis": 20,
    "deepnote_cell_type": "code"
   },
   "source": "puts Epoch.order(\"epoch desc\").limit(20)[13].epoch\nputs Epoch.order(\"epoch desc\").limit(20)[13].id\nputs Epoch.order(\"epoch desc\").limit(20)[13].lock_price\nputs Epoch.order(\"epoch desc\").limit(20)[13].close_price\n",
   "execution_count": null,
   "outputs": [
    {
     "name": "stdout",
     "text": "48490\n24436\n373.54\n373.51\n",
     "output_type": "stream"
    }
   ]
  },
  {
   "cell_type": "code",
   "metadata": {
    "cell_id": "3ffb68b9-bcca-425c-8251-3fbac89d1b9a",
    "tags": [],
    "deepnote_to_be_reexecuted": false,
    "source_hash": "326543af",
    "execution_start": 1645923143813,
    "execution_millis": 28,
    "deepnote_cell_type": "code"
   },
   "source": "epoch.map {|x| Epoch.find(x).epoch}",
   "execution_count": null,
   "outputs": [
    {
     "output_type": "error",
     "ename": "ActiveRecord::RecordNotFound",
     "evalue": "Couldn't find Epoch with 'id'=19424",
     "traceback": [
      "\u001b[31mActiveRecord::RecordNotFound\u001b[0m: Couldn't find Epoch with 'id'=19424",
      "/usr/local/bundle/gems/activerecord-7.0.2.2/lib/active_record/core.rb:284:in `find'",
      "(irb):in `block in irb_binding'",
      "(irb):in `map'",
      "(irb):in `irb_binding'"
     ]
    }
   ]
  },
  {
   "cell_type": "code",
   "metadata": {
    "cell_id": "a6c425d0-af8a-447c-a1b6-1eecce3cfd76",
    "tags": [],
    "deepnote_to_be_reexecuted": false,
    "source_hash": "56143b42",
    "execution_start": 1645923132441,
    "execution_millis": 5,
    "deepnote_cell_type": "code"
   },
   "source": "Epoch.find(19424).delete",
   "execution_count": null,
   "outputs": [
    {
     "output_type": "execute_result",
     "execution_count": 45,
     "data": {
      "text/plain": "#<Epoch id: 19424, epoch: 43490, start_timestamp: \"2022-02-08 20:20:03.000000000 +0000\", lock_timestamp: \"2022-02-08 20:25:03.000000000 +0000\", close_timestamp: \"2022-02-08 20:30:03.000000000 +0000\", lock_price: 0.0, close_price: 0.0, total_amount: 2.8898801047589195, bull_amount: 2.7125147516294845, bear_amount: 0.17736535312943513, reward_base_cal_amount: 0.0, reward_amount: 0.0, bull_payout: 1.0653877930149087, bear_payout: 16.293374403567896, created_at: \"2022-02-14 22:42:11.776219000 +0000\", updated_at: \"2022-02-15 00:15:49.989533000 +0000\", total_count: 22, start_block_number: 15085639, lock_block_number: 15085739>"
     },
     "metadata": {}
    }
   ]
  },
  {
   "cell_type": "code",
   "metadata": {
    "cell_id": "0c4eb36e-5bc0-4c08-81f9-3e6a65d9ff78",
    "tags": [],
    "deepnote_to_be_reexecuted": false,
    "source_hash": "2a37a67a",
    "execution_start": 1645923019009,
    "execution_millis": 5,
    "deepnote_cell_type": "code"
   },
   "source": "Epoch",
   "execution_count": null,
   "outputs": [
    {
     "output_type": "execute_result",
     "execution_count": 36,
     "data": {
      "text/plain": "24439"
     },
     "metadata": {}
    }
   ]
  },
  {
   "cell_type": "code",
   "metadata": {
    "cell_id": "913fd325-7027-4ac8-ae70-b6365f6d95f3",
    "tags": [],
    "deepnote_to_be_reexecuted": false,
    "source_hash": "91279298",
    "execution_start": 1645923331268,
    "execution_millis": 5,
    "deepnote_cell_type": "code"
   },
   "source": "puts Task.last.output",
   "execution_count": null,
   "outputs": [
    {
     "name": "stdout",
     "text": "2022-02-27 00:39:31 +0000 runner panworker-5_e759 take task 15413 : epoch_data_calc\n2022-02-27 00:39:31 +0000 == begin run ==\nException Class: RangeError\nException Message: cannot convert endless range to an array\nException Backtrace:\n/panworker/task.rb:215:in `to_a'\n/panworker/task.rb:215:in `epoch_calc'\n/panworker/task.rb:296:in `epoch_data_calc'\n/panworker/task.rb:307:in `main'\n/panworker/task.rb:311:in `__main'\n/panworker/task.rb:320:in `_run'\n/panworker/task.rb:196:in `eval'\n/panworker/task.rb:196:in `_run'\n/panworker/task.rb:204:in `run'\n/panworker/task.rb:34:in `block in run_loop'\n/panworker/task.rb:31:in `loop'\n/panworker/task.rb:31:in `run_loop'\npanworker.rb:31:in `<main>'\n2022-02-27 00:39:31 +0000 == abort run ==\n",
     "output_type": "stream"
    }
   ]
  },
  {
   "cell_type": "code",
   "metadata": {
    "cell_id": "519ff5e4-eea9-44df-b265-14a56a1ac595",
    "tags": [],
    "deepnote_to_be_reexecuted": false,
    "source_hash": "a0843bd3",
    "execution_start": 1645923444409,
    "execution_millis": 6,
    "deepnote_cell_type": "code"
   },
   "source": "Epoch.last.lock_block_number",
   "execution_count": null,
   "outputs": [
    {
     "output_type": "execute_result",
     "execution_count": 58,
     "data": {
      "text/plain": "15606949"
     },
     "metadata": {}
    }
   ]
  },
  {
   "cell_type": "code",
   "metadata": {
    "cell_id": "d31ac314-1ec0-467f-94e0-6f78d4d0654a",
    "tags": [],
    "deepnote_to_be_reexecuted": false,
    "source_hash": "b36c67ba",
    "execution_start": 1645923549129,
    "execution_millis": 6,
    "deepnote_cell_type": "code"
   },
   "source": "Epoch.where(total_count:nil).select(:epoch).map {|x| x.epoch}.min == nil",
   "execution_count": null,
   "outputs": [
    {
     "output_type": "execute_result",
     "execution_count": 60,
     "data": {
      "text/plain": "true"
     },
     "metadata": {}
    }
   ]
  },
  {
   "cell_type": "code",
   "metadata": {
    "cell_id": "ed482a2c-338b-4bc3-b1f0-6e60bca5af72",
    "tags": [],
    "deepnote_cell_type": "code"
   },
   "source": "",
   "execution_count": null,
   "outputs": []
  },
  {
   "cell_type": "markdown",
   "source": "<a style='text-decoration:none;line-height:16px;display:flex;color:#5B5B62;padding:10px;justify-content:end;' href='https://deepnote.com?utm_source=created-in-deepnote-cell&projectId=ebde59c2-d67b-4e31-ad3b-1bdd07014691' target=\"_blank\">\n<img alt='Created in deepnote.com' style='display:inline;max-height:16px;margin:0px;margin-right:7.5px;' src='data:image/svg+xml;base64,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' > </img>\nCreated in <span style='font-weight:600;margin-left:4px;'>Deepnote</span></a>",
   "metadata": {
    "tags": [],
    "created_in_deepnote_cell": true,
    "deepnote_cell_type": "markdown"
   }
  }
 ],
 "nbformat": 4,
 "nbformat_minor": 2,
 "metadata": {
  "orig_nbformat": 2,
  "deepnote": {
   "is_reactive": false
  },
  "deepnote_notebook_id": "48fa07a6-360f-44ec-9caa-0337fe19209a",
  "deepnote_execution_queue": []
 }
}