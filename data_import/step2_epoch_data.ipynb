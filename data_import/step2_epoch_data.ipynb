{
 "cells": [
  {
   "cell_type": "code",
   "metadata": {
    "tags": [],
    "cell_id": "3729f08b-0d81-4348-87fa-e20c42f4704f",
    "deepnote_to_be_reexecuted": false,
    "source_hash": "f9765597",
    "execution_start": 1644878151462,
    "execution_millis": 1996,
    "deepnote_output_heights": [
     21.1875
    ],
    "deepnote_cell_type": "code"
   },
   "source": "# Start writing cod# load init moudle file\n\n$data_import = true\nload \"/work/pannote/panbot_note.rb\"\n",
   "outputs": [
    {
     "output_type": "execute_result",
     "execution_count": 4,
     "data": {
      "text/plain": "true"
     },
     "metadata": {}
    }
   ],
   "execution_count": null
  },
  {
   "cell_type": "code",
   "source": "def data_import_epoch(epoch,contract)\n  if Epoch.find_by_epoch(epoch)==nil\n    current_round = contract.call.rounds(epoch)\n\n    startTimestamp = Time.at(current_round[1])\n    lockTimestamp = Time.at(current_round[2])\n    closeTimestamp = Time.at(current_round[3])\n    lockPrice = current_round[4]/1e8.to_f\n    closePrice = current_round[5]/1e8.to_f\n    totalAmount = current_round[8]/1e18.to_f\n    bullAmount = current_round[9]/1e18.to_f\n    bearAmount = current_round[10]/1e18.to_f\n    rewardBaseCalAmount = current_round[11]/1e18.to_f\n    rewardAmount = current_round[12]/1e18.to_f\n    bullPayout = totalAmount/bullAmount\n    bearPayout = totalAmount/bearAmount    \n\n    ar = Epoch.new()\n    ar.epoch = epoch\n    ar.start_timestamp = startTimestamp\n    ar.lock_timestamp = lockTimestamp\n    ar.close_timestamp = closeTimestamp\n    ar.lock_price = lockPrice\n    ar.close_price = closePrice\n    ar.total_amount = totalAmount\n    ar.bull_amount = bullAmount\n    ar.bear_amount = bearAmount\n    ar.reward_base_cal_amount = rewardBaseCalAmount\n    ar.reward_amount = rewardAmount\n    ar.bull_payout = bullPayout\n    ar.bear_payout = bearPayout\n\n    ar.save!\n  end\nend\n\ndb_last_block = Block.order(:block_number).last.block_number\ndb_last_epoch = Epoch.order(:epoch).last.epoch\n\nlast_epoch = $contract.call.current_epoch\nlast_block = $client.eth_get_block_by_number(\"latest\",false)[\"result\"][\"number\"].to_i(16)\n\nputs \"last_epoch = #{last_epoch}\"\nputs \"last_block = #{last_block}\"\nputs \"db_last_epoch = #{db_last_epoch}\"\nputs \"db_last_block = #{db_last_block}\"\n\nputs \"epochs #{last_epoch-db_last_epoch} - blocks #{last_block-db_last_block}\"\nnil\n\nrounds = []\n\ntime = Time.now()\n\nepoch_min = db_last_epoch + 1\nepoch_max = last_epoch - 1\n\nrounds = Parallel.map((epoch_min..epoch_max).to_a,in_threads: 10) do |epoch|\n  data_import_epoch(epoch,$contract)\nend\n\ntime = Time.now()-time\n\nputs \"rounds.size #{rounds.size} - time #{time} s\"\n",
   "metadata": {
    "cell_id": "bfd79d5e-0925-4716-b658-02ed6308d437",
    "tags": [],
    "deepnote_to_be_reexecuted": false,
    "source_hash": "135deecb",
    "execution_start": 1644878564711,
    "execution_millis": 190,
    "deepnote_output_heights": [
     21.1875
    ],
    "deepnote_cell_type": "code"
   },
   "outputs": [
    {
     "name": "stdout",
     "text": "last_epoch = 45125\nlast_block = 15261083\ndb_last_epoch = 45124\ndb_last_block = 14958036\nepochs 1 - blocks 303047\nrounds.size 0 - time 4.2881e-05 s\n",
     "output_type": "stream"
    }
   ],
   "execution_count": null
  },
  {
   "cell_type": "code",
   "source": "",
   "metadata": {
    "cell_id": "e1773aba-fdf9-48b6-b7aa-d716c7c8d62b",
    "tags": [],
    "deepnote_cell_type": "code"
   },
   "outputs": [],
   "execution_count": null
  },
  {
   "cell_type": "markdown",
   "source": "<a style='text-decoration:none;line-height:16px;display:flex;color:#5B5B62;padding:10px;justify-content:end;' href='https://deepnote.com?utm_source=created-in-deepnote-cell&projectId=ebde59c2-d67b-4e31-ad3b-1bdd07014691' target=\"_blank\">\n<img alt='Created in deepnote.com' style='display:inline;max-height:16px;margin:0px;margin-right:7.5px;' src='data:image/svg+xml;base64,PD94bWwgdmVyc2lvbj0iMS4wIiBlbmNvZGluZz0iVVRGLTgiPz4KPHN2ZyB3aWR0aD0iODBweCIgaGVpZ2h0PSI4MHB4IiB2aWV3Qm94PSIwIDAgODAgODAiIHZlcnNpb249IjEuMSIgeG1sbnM9Imh0dHA6Ly93d3cudzMub3JnLzIwMDAvc3ZnIiB4bWxuczp4bGluaz0iaHR0cDovL3d3dy53My5vcmcvMTk5OS94bGluayI+CiAgICA8IS0tIEdlbmVyYXRvcjogU2tldGNoIDU0LjEgKDc2NDkwKSAtIGh0dHBzOi8vc2tldGNoYXBwLmNvbSAtLT4KICAgIDx0aXRsZT5Hcm91cCAzPC90aXRsZT4KICAgIDxkZXNjPkNyZWF0ZWQgd2l0aCBTa2V0Y2guPC9kZXNjPgogICAgPGcgaWQ9IkxhbmRpbmciIHN0cm9rZT0ibm9uZSIgc3Ryb2tlLXdpZHRoPSIxIiBmaWxsPSJub25lIiBmaWxsLXJ1bGU9ImV2ZW5vZGQiPgogICAgICAgIDxnIGlkPSJBcnRib2FyZCIgdHJhbnNmb3JtPSJ0cmFuc2xhdGUoLTEyMzUuMDAwMDAwLCAtNzkuMDAwMDAwKSI+CiAgICAgICAgICAgIDxnIGlkPSJHcm91cC0zIiB0cmFuc2Zvcm09InRyYW5zbGF0ZSgxMjM1LjAwMDAwMCwgNzkuMDAwMDAwKSI+CiAgICAgICAgICAgICAgICA8cG9seWdvbiBpZD0iUGF0aC0yMCIgZmlsbD0iIzAyNjVCNCIgcG9pbnRzPSIyLjM3NjIzNzYyIDgwIDM4LjA0NzY2NjcgODAgNTcuODIxNzgyMiA3My44MDU3NTkyIDU3LjgyMTc4MjIgMzIuNzU5MjczOSAzOS4xNDAyMjc4IDMxLjY4MzE2ODMiPjwvcG9seWdvbj4KICAgICAgICAgICAgICAgIDxwYXRoIGQ9Ik0zNS4wMDc3MTgsODAgQzQyLjkwNjIwMDcsNzYuNDU0OTM1OCA0Ny41NjQ5MTY3LDcxLjU0MjI2NzEgNDguOTgzODY2LDY1LjI2MTk5MzkgQzUxLjExMjI4OTksNTUuODQxNTg0MiA0MS42NzcxNzk1LDQ5LjIxMjIyODQgMjUuNjIzOTg0Niw0OS4yMTIyMjg0IEMyNS40ODQ5Mjg5LDQ5LjEyNjg0NDggMjkuODI2MTI5Niw0My4yODM4MjQ4IDM4LjY0NzU4NjksMzEuNjgzMTY4MyBMNzIuODcxMjg3MSwzMi41NTQ0MjUgTDY1LjI4MDk3Myw2Ny42NzYzNDIxIEw1MS4xMTIyODk5LDc3LjM3NjE0NCBMMzUuMDA3NzE4LDgwIFoiIGlkPSJQYXRoLTIyIiBmaWxsPSIjMDAyODY4Ij48L3BhdGg+CiAgICAgICAgICAgICAgICA8cGF0aCBkPSJNMCwzNy43MzA0NDA1IEwyNy4xMTQ1MzcsMC4yNTcxMTE0MzYgQzYyLjM3MTUxMjMsLTEuOTkwNzE3MDEgODAsMTAuNTAwMzkyNyA4MCwzNy43MzA0NDA1IEM4MCw2NC45NjA0ODgyIDY0Ljc3NjUwMzgsNzkuMDUwMzQxNCAzNC4zMjk1MTEzLDgwIEM0Ny4wNTUzNDg5LDc3LjU2NzA4MDggNTMuNDE4MjY3Nyw3MC4zMTM2MTAzIDUzLjQxODI2NzcsNTguMjM5NTg4NSBDNTMuNDE4MjY3Nyw0MC4xMjg1NTU3IDM2LjMwMzk1NDQsMzcuNzMwNDQwNSAyNS4yMjc0MTcsMzcuNzMwNDQwNSBDMTcuODQzMDU4NiwzNy43MzA0NDA1IDkuNDMzOTE5NjYsMzcuNzMwNDQwNSAwLDM3LjczMDQ0MDUgWiIgaWQ9IlBhdGgtMTkiIGZpbGw9IiMzNzkzRUYiPjwvcGF0aD4KICAgICAgICAgICAgPC9nPgogICAgICAgIDwvZz4KICAgIDwvZz4KPC9zdmc+' > </img>\nCreated in <span style='font-weight:600;margin-left:4px;'>Deepnote</span></a>",
   "metadata": {
    "tags": [],
    "created_in_deepnote_cell": true,
    "deepnote_cell_type": "markdown"
   }
  }
 ],
 "nbformat": 4,
 "nbformat_minor": 2,
 "metadata": {
  "orig_nbformat": 2,
  "deepnote": {
   "is_reactive": false
  },
  "deepnote_notebook_id": "48fa07a6-360f-44ec-9caa-0337fe19209a",
  "deepnote_execution_queue": []
 }
}