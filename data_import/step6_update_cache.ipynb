{
 "cells": [
  {
   "cell_type": "code",
   "metadata": {
    "tags": [],
    "cell_id": "6533c759-9263-4e53-82b4-262f1e62e9ea",
    "deepnote_to_be_reexecuted": false,
    "source_hash": "849a9b3e",
    "execution_start": 1644899454389,
    "execution_millis": 1937,
    "deepnote_cell_type": "code"
   },
   "source": "# Start wr# Start writing cod# load init moudle file\n\n$data_import = true\nload \"/work/pannote/panbot_note.rb\"\nnil",
   "execution_count": 5,
   "outputs": []
  },
  {
   "cell_type": "code",
   "metadata": {
    "cell_id": "8651c8b2-2afa-4939-99aa-5cefd3d6f126",
    "tags": [],
    "deepnote_cell_type": "code"
   },
   "source": "# Count\nputs \"Count\"\nCache.all.map {|x| x.delete}\nnil",
   "execution_count": null,
   "outputs": []
  },
  {
   "cell_type": "code",
   "metadata": {
    "cell_id": "5afcb083-eea2-41ec-9d82-cfe1f628384f",
    "tags": [],
    "deepnote_to_be_reexecuted": false,
    "source_hash": "dcc88a27",
    "execution_start": 1644899509373,
    "execution_millis": 3,
    "deepnote_output_heights": [
     21.1875,
     21.1875
    ],
    "deepnote_cell_type": "code"
   },
   "source": "code = <<~'TASKCODE'\n\n# save to main-db\nrequire 'active_record'\nrequire 'faraday'\nrequire 'ethereum.rb'\nrequire 'faraday'\nrequire 'parallel'\nrequire 'resolv-replace'\n\nconnect_str = __PARAMS__CONNECT_STR__\n\nActiveRecord::Base.establish_connection(connect_str)\n\n\n## load data model from github\nmodels = [\"application_record\",\"address\",\"cache\",\"block\",\"epoch\",\"epoch_detail\",\"event\",\"transfer\",\"tx\",\"log\"]\nmodels.each do |model| \n  url = \"https://raw.githubusercontent.com/adam429/panscan/main/panscan/app/models/#{model}.rb\"\n  body = Faraday.get(url).body\n  f = open(\"load.rb\",\"w\")\n  f.write(body)\n  f.close\n  load './load.rb'\nend\n\n__PARAMS__CMD__\n\nTASKCODE\n\n\nupdate_cache = %w(\n  Block.count\n  Tx.count\n  Event.count\n  Epoch.count\n  EpochDetail.count\n  Address.count\n  Transfer.count \n  Transfer.top_transaction\n  Transfer.top_transfer\n)\n\nupdate_cache.map {|x| \n  task_name = \"update cache - #{x}\"\n  puts task_name\n  task_code = code.gsub(/__PARAMS__CONNECT_STR__/,'\"'+ENV[\"DB_CONNECT_STR\"]+'\"')\n                  .gsub(/__PARAMS__CMD__/,x)\n  Task.create_task(task_name, task_code)\n  \n}\n\n\n\n\n",
   "execution_count": 7,
   "outputs": [
    {
     "name": "stdout",
     "text": "update cache - Block.count\nupdate cache - Tx.count\nupdate cache - Event.count\nupdate cache - Epoch.count\nupdate cache - EpochDetail.count\nupdate cache - Address.count\nupdate cache - Transfer.count\nupdate cache - Transfer.top_transaction\nupdate cache - Transfer.top_transfer\n",
     "output_type": "stream"
    },
    {
     "output_type": "execute_result",
     "execution_count": 7,
     "data": {
      "text/plain": "[true, true, true, true, true, true, true, true, true]"
     },
     "metadata": {}
    }
   ]
  },
  {
   "cell_type": "code",
   "metadata": {
    "cell_id": "481a8dfc-2d98-4f9f-8f4a-e3b06aef66e6",
    "tags": [],
    "deepnote_cell_type": "code"
   },
   "source": "",
   "execution_count": null,
   "outputs": []
  },
  {
   "cell_type": "markdown",
   "source": "<a style='text-decoration:none;line-height:16px;display:flex;color:#5B5B62;padding:10px;justify-content:end;' href='https://deepnote.com?utm_source=created-in-deepnote-cell&projectId=ebde59c2-d67b-4e31-ad3b-1bdd07014691' target=\"_blank\">\n<img alt='Created in deepnote.com' style='display:inline;max-height:16px;margin:0px;margin-right:7.5px;' src='data:image/svg+xml;base64,PD94bWwgdmVyc2lvbj0iMS4wIiBlbmNvZGluZz0iVVRGLTgiPz4KPHN2ZyB3aWR0aD0iODBweCIgaGVpZ2h0PSI4MHB4IiB2aWV3Qm94PSIwIDAgODAgODAiIHZlcnNpb249IjEuMSIgeG1sbnM9Imh0dHA6Ly93d3cudzMub3JnLzIwMDAvc3ZnIiB4bWxuczp4bGluaz0iaHR0cDovL3d3dy53My5vcmcvMTk5OS94bGluayI+CiAgICA8IS0tIEdlbmVyYXRvcjogU2tldGNoIDU0LjEgKDc2NDkwKSAtIGh0dHBzOi8vc2tldGNoYXBwLmNvbSAtLT4KICAgIDx0aXRsZT5Hcm91cCAzPC90aXRsZT4KICAgIDxkZXNjPkNyZWF0ZWQgd2l0aCBTa2V0Y2guPC9kZXNjPgogICAgPGcgaWQ9IkxhbmRpbmciIHN0cm9rZT0ibm9uZSIgc3Ryb2tlLXdpZHRoPSIxIiBmaWxsPSJub25lIiBmaWxsLXJ1bGU9ImV2ZW5vZGQiPgogICAgICAgIDxnIGlkPSJBcnRib2FyZCIgdHJhbnNmb3JtPSJ0cmFuc2xhdGUoLTEyMzUuMDAwMDAwLCAtNzkuMDAwMDAwKSI+CiAgICAgICAgICAgIDxnIGlkPSJHcm91cC0zIiB0cmFuc2Zvcm09InRyYW5zbGF0ZSgxMjM1LjAwMDAwMCwgNzkuMDAwMDAwKSI+CiAgICAgICAgICAgICAgICA8cG9seWdvbiBpZD0iUGF0aC0yMCIgZmlsbD0iIzAyNjVCNCIgcG9pbnRzPSIyLjM3NjIzNzYyIDgwIDM4LjA0NzY2NjcgODAgNTcuODIxNzgyMiA3My44MDU3NTkyIDU3LjgyMTc4MjIgMzIuNzU5MjczOSAzOS4xNDAyMjc4IDMxLjY4MzE2ODMiPjwvcG9seWdvbj4KICAgICAgICAgICAgICAgIDxwYXRoIGQ9Ik0zNS4wMDc3MTgsODAgQzQyLjkwNjIwMDcsNzYuNDU0OTM1OCA0Ny41NjQ5MTY3LDcxLjU0MjI2NzEgNDguOTgzODY2LDY1LjI2MTk5MzkgQzUxLjExMjI4OTksNTUuODQxNTg0MiA0MS42NzcxNzk1LDQ5LjIxMjIyODQgMjUuNjIzOTg0Niw0OS4yMTIyMjg0IEMyNS40ODQ5Mjg5LDQ5LjEyNjg0NDggMjkuODI2MTI5Niw0My4yODM4MjQ4IDM4LjY0NzU4NjksMzEuNjgzMTY4MyBMNzIuODcxMjg3MSwzMi41NTQ0MjUgTDY1LjI4MDk3Myw2Ny42NzYzNDIxIEw1MS4xMTIyODk5LDc3LjM3NjE0NCBMMzUuMDA3NzE4LDgwIFoiIGlkPSJQYXRoLTIyIiBmaWxsPSIjMDAyODY4Ij48L3BhdGg+CiAgICAgICAgICAgICAgICA8cGF0aCBkPSJNMCwzNy43MzA0NDA1IEwyNy4xMTQ1MzcsMC4yNTcxMTE0MzYgQzYyLjM3MTUxMjMsLTEuOTkwNzE3MDEgODAsMTAuNTAwMzkyNyA4MCwzNy43MzA0NDA1IEM4MCw2NC45NjA0ODgyIDY0Ljc3NjUwMzgsNzkuMDUwMzQxNCAzNC4zMjk1MTEzLDgwIEM0Ny4wNTUzNDg5LDc3LjU2NzA4MDggNTMuNDE4MjY3Nyw3MC4zMTM2MTAzIDUzLjQxODI2NzcsNTguMjM5NTg4NSBDNTMuNDE4MjY3Nyw0MC4xMjg1NTU3IDM2LjMwMzk1NDQsMzcuNzMwNDQwNSAyNS4yMjc0MTcsMzcuNzMwNDQwNSBDMTcuODQzMDU4NiwzNy43MzA0NDA1IDkuNDMzOTE5NjYsMzcuNzMwNDQwNSAwLDM3LjczMDQ0MDUgWiIgaWQ9IlBhdGgtMTkiIGZpbGw9IiMzNzkzRUYiPjwvcGF0aD4KICAgICAgICAgICAgPC9nPgogICAgICAgIDwvZz4KICAgIDwvZz4KPC9zdmc+' > </img>\nCreated in <span style='font-weight:600;margin-left:4px;'>Deepnote</span></a>",
   "metadata": {
    "tags": [],
    "created_in_deepnote_cell": true,
    "deepnote_cell_type": "markdown"
   }
  }
 ],
 "nbformat": 4,
 "nbformat_minor": 2,
 "metadata": {
  "orig_nbformat": 2,
  "deepnote": {
   "is_reactive": false
  },
  "deepnote_notebook_id": "a8afae11-bfc9-47af-a39f-bd03f0b74426",
  "deepnote_execution_queue": []
 }
}