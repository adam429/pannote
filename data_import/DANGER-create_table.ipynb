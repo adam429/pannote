{
 "cells": [
  {
   "cell_type": "markdown",
   "source": "## 危险！这个文件是创建数据库表格，可能会让所有数据丢失",
   "metadata": {
    "cell_id": "41469e0c-5e34-4478-a196-f534f0d2d09e",
    "tags": [],
    "deepnote_cell_type": "markdown"
   }
  },
  {
   "cell_type": "code",
   "metadata": {
    "cell_id": "f57206d7-fc3c-4e0b-9851-99ff6d9743a4",
    "tags": [],
    "deepnote_cell_type": "code"
   },
   "source": "raise \"Danger! Stop\"",
   "execution_count": null,
   "outputs": []
  },
  {
   "cell_type": "code",
   "metadata": {
    "cell_id": "00002-60e17b01-e2e6-41fb-a3ce-6b900e0e2297",
    "deepnote_to_be_reexecuted": false,
    "source_hash": "c878314b",
    "execution_start": 1644820203918,
    "deepnote_cell_type": "code"
   },
   "source": "ActiveRecord::Base.connection.execute(\"SELECT datname FROM pg_database;\").map do |x| x end",
   "execution_count": null,
   "outputs": [
    {
     "output_type": "error",
     "ename": "NameError",
     "evalue": "uninitialized constant ActiveRecord",
     "traceback": [
      "\u001b[31mNameError\u001b[0m: uninitialized constant ActiveRecord",
      "(irb):in `irb_binding'"
     ]
    }
   ]
  },
  {
   "cell_type": "code",
   "metadata": {
    "cell_id": "00003-56ad20a0-945f-486c-bc6f-1692467be596",
    "deepnote_output_heights": [
     null,
     1
    ],
    "deepnote_cell_type": "code"
   },
   "source": "ActiveRecord::Schema.define do\n  create_table(:blocks, force: true) do |t|\n    t.integer      :block_number,       null: false\n    t.integer      :difficulty\n    t.integer      :total_difficulty\n    t.integer      :gas_limit       \n    t.integer      :gas_used         \n    t.string       :miner          \n    t.string       :block_hash\n    t.string       :parent_hash\n    t.integer      :block_size   \n    t.timestamp    :block_time   \n    t.timestamp    :created_at   \n    t.timestamp    :updated_at   \n  end\n\n  add_index :blocks, :block_number, unique: true\n  add_index :blocks, :block_time\n\n  \n  create_table(:txes, force: true) do |t|\n    t.string :block_hash\n    t.string :tx_hash,       null: false\n\n    t.string :from\n    t.string :to\n    t.string :method_name\n    t.text :input_data\n    t.string :contract_address\n\n    t.integer :tx_type\n    t.boolean :tx_status\n\n    t.timestamp :block_time\n    t.integer :block_number\n    t.integer :gas\n    t.integer :gas_price\n    t.integer :nonce\n    t.integer :tx_index\n    t.decimal :amount, :precision => 36\n    t.integer :cumulative_gas_used\n    t.integer :gas_used\n\n    t.timestamp    :created_at   \n    t.timestamp    :updated_at   \n  end\n\n  add_index :txes, :tx_hash, unique: true\n  add_index :txes, :from\n  add_index :txes, :to\n  add_index :txes, :method_name\n  add_index :txes, :block_number\n\n\n  create_table(:events, force: true) do |t|  \n    t.string :event_key,       null: false\n    \n    t.string :name\n    t.string :params\n    t.string :event_abi \n    t.string :input_type\n    t.string :input_name\n\n    t.integer :log_index\n    t.integer :tx_index\n    t.string :block_hash \n    t.string :tx_hash\n    t.integer :block_number\n\n    t.timestamp    :created_at   \n    t.timestamp    :updated_at   \n  end\n\n  add_index :events, :event_key, unique: true\n\n  add_index :events, :name \n  add_index :events, :block_number \n  add_index :events, :tx_hash\n  \nend",
   "execution_count": null,
   "outputs": [
    {
     "name": "stdout",
     "output_type": "stream",
     "text": "-- create_table(:blocks, {:force=>true})\n   -> 0.4700s\n-- add_index(:blocks, :block_number, {:unique=>true})\n   -> 0.4298s\n-- add_index(:blocks, :block_time)\n   -> 0.2168s\n-- create_table(:txes, {:force=>true})\n   -> 0.4424s\n-- add_index(:txes, :tx_hash, {:unique=>true})\n   -> 0.2172s\n-- add_index(:txes, :from)\n   -> 0.2196s\n-- add_index(:txes, :to)\n   -> 0.2165s\n-- add_index(:txes, :method_name)\n   -> 0.2166s\n-- add_index(:txes, :block_number)\n   -> 0.2208s\n-- create_table(:events, {:force=>true})\n   -> 0.4378s\n-- add_index(:events, :event_key, {:unique=>true})\n   -> 0.2168s\n-- add_index(:events, :name)\n   -> 0.2178s\n-- add_index(:events, :block_number)\n   -> 0.2177s\n-- add_index(:events, :tx_hash)\n   -> 0.2168s\n"
    },
    {
     "data": {
      "text/plain": "\"default_env\""
     },
     "execution_count": 5,
     "metadata": {},
     "output_type": "execute_result"
    }
   ]
  },
  {
   "cell_type": "code",
   "metadata": {
    "cell_id": "00004-498c41be-7074-4278-b3e1-d202f1b2a35c",
    "deepnote_output_heights": [
     null,
     1
    ],
    "deepnote_cell_type": "code"
   },
   "source": "ActiveRecord::Schema.define do\n  create_table(:epoches, force: true) do |t|\n    t.integer      :epoch, null:false\n    t.timestamp    :start_timestamp\n    t.timestamp    :lock_timestamp\n    t.timestamp    :close_timestamp\n    t.float        :lock_price       \n    t.float        :close_price         \n    t.float        :total_amount          \n    t.float        :bull_amount\n    t.float        :bear_amount\n    t.float        :reward_base_cal_amount\n    t.float        :reward_amount\n    t.float        :bull_payout\n    t.float        :bear_payout\n    t.timestamp    :created_at   \n    t.timestamp    :updated_at   \n  end\n\n  add_index :epoches, :epoch, unique: true\nend\n",
   "execution_count": null,
   "outputs": [
    {
     "name": "stdout",
     "output_type": "stream",
     "text": "-- create_table(:epoches, {:force=>true})\n   -> 0.4338s\n-- add_index(:epoches, :epoch, {:unique=>true})\n   -> 0.2196s\n"
    },
    {
     "data": {
      "text/plain": "\"default_env\""
     },
     "execution_count": 6,
     "metadata": {},
     "output_type": "execute_result"
    }
   ]
  },
  {
   "cell_type": "code",
   "metadata": {
    "cell_id": "00005-1f9f4de0-2889-4d2a-bebc-f8de333c2442",
    "deepnote_cell_type": "code"
   },
   "source": "class Change < ActiveRecord::Migration[7.0]\n  def up\n    change_table :epoches do |t|\n      add_column :epoches, :total_count, :integer \n      add_column :epoches, :start_block_number, :integer \n      add_column :epoches, :lock_block_number, :integer \n    end\n  end\n  \n  def down\n    change_table :epoches do |t|\n      remove_column :epoches, :total_count\n      remove_column :epoches, :start_block_number\n      remove_column :epoches, :lock_block_number\n    end\n  end\nend\n\nChange.new.up\n",
   "execution_count": null,
   "outputs": [
    {
     "name": "stdout",
     "output_type": "stream",
     "text": "-- change_table(:epoches)\n-- add_column(:epoches, :total_count, :integer)\n   -> 0.4258s\n-- add_column(:epoches, :start_block_number, :integer)\n   -> 0.2163s\n-- add_column(:epoches, :lock_block_number, :integer)\n   -> 0.2138s\n   -> 0.8582s\n"
    }
   ]
  },
  {
   "cell_type": "code",
   "metadata": {
    "cell_id": "00006-a39d1b22-b9d7-48bd-a5a1-7d8fc73dd6db",
    "deepnote_output_heights": [
     null,
     1
    ],
    "deepnote_cell_type": "code"
   },
   "source": "ActiveRecord::Schema.define do\n  create_table(:epoch_details, force: true) do |t|\n    t.integer      :epoch\n    t.integer      :block_number\n    t.integer      :bet_count\n    t.float        :bull_amount\n    t.float        :bear_amount\n    t.float        :bull_payout\n    t.float        :bear_payout\n    \n    t.timestamp    :block_time\n    t.timestamp    :created_at   \n    t.timestamp    :updated_at   \n  end\n \n   add_index :epoch_details, [:epoch,:block_number],unique: true\n\nend\n",
   "execution_count": null,
   "outputs": [
    {
     "name": "stdout",
     "output_type": "stream",
     "text": "-- create_table(:epoch_details, {:force=>true})\n   -> 0.4378s\n-- add_index(:epoch_details, [:epoch, :block_number], {:unique=>true})\n   -> 0.2226s\n"
    },
    {
     "data": {
      "text/plain": "\"default_env\""
     },
     "execution_count": 8,
     "metadata": {},
     "output_type": "execute_result"
    }
   ]
  },
  {
   "cell_type": "code",
   "metadata": {
    "cell_id": "00007-e350a9fc-172c-4743-ab08-c78ec618db26",
    "deepnote_output_heights": [
     null,
     1
    ],
    "deepnote_cell_type": "code"
   },
   "source": "ActiveRecord::Schema.define do\n  create_table(:caches, force: true) do |t|\n    t.string       :key\n    t.string       :value_type    \n    t.string       :value_s\n    t.integer      :value_i\n    t.float        :value_f\n    t.timestamp    :value_t\n    t.boolean      :value_b\n    \n    t.timestamp    :created_at   \n    t.timestamp    :updated_at   \n  end\n\n  add_index :caches, :key, unique: true\nend\n",
   "execution_count": null,
   "outputs": [
    {
     "name": "stdout",
     "output_type": "stream",
     "text": "-- create_table(:caches, {:force=>true})\n   -> 0.4400s\n-- add_index(:caches, :key, {:unique=>true})\n   -> 0.2169s\n"
    },
    {
     "data": {
      "text/plain": "\"default_env\""
     },
     "execution_count": 9,
     "metadata": {},
     "output_type": "execute_result"
    }
   ]
  },
  {
   "cell_type": "code",
   "metadata": {
    "cell_id": "00008-7d82eb61-f3b8-43af-9ab7-7d09d781967e",
    "deepnote_output_heights": [
     null,
     1
    ],
    "deepnote_cell_type": "code"
   },
   "source": "class Change < ActiveRecord::Migration[7.0]\n  def up\n    change_table :blocks do |t|\n      add_column :blocks, :epoch, :integer \n    end\n    add_index :blocks, :epoch\n    \n  end\n  \n  def down\n    change_table :blocks do |t|\n      remove_column :blocks, :epoch\n    end    \n  end\nend\n\n\nChange.new.up\n",
   "execution_count": null,
   "outputs": [
    {
     "name": "stdout",
     "output_type": "stream",
     "text": "-- change_table(:blocks)\n-- add_column(:blocks, :epoch, :integer)\n   -> 0.4261s\n   -> 0.4270s\n-- add_index(:blocks, :epoch)\n   -> 0.2179s\n"
    },
    {
     "data": {
      "text/plain": "#<PG::Result:0x00005650ae75ec70 status=PGRES_COMMAND_OK ntuples=0 nfields=0 cmd_tuples=0>"
     },
     "execution_count": 10,
     "metadata": {},
     "output_type": "execute_result"
    }
   ]
  },
  {
   "cell_type": "code",
   "metadata": {
    "cell_id": "00009-5b0c77a7-7d3d-479c-b28f-755818ddc9b9",
    "deepnote_output_heights": [
     null,
     1
    ],
    "deepnote_cell_type": "code"
   },
   "source": "ActiveRecord::Schema.define do\n  create_table(:addresses, force: true) do |t|\n    t.string       :addr\n    t.boolean      :is_contract\n    t.text         :contract_abi\n\n    t.boolean      :is_panbot\n    t.string       :bet_cnt_daily   # 按天的下注的局数\n    t.integer      :bet_epoch_cnt   # 下注的局数           -->  bet_ratio\n    t.integer      :invest_cnt      # 成功下注的次数(局数)  -->  bet_success_rate\n    \n    t.integer      :bet_cnt         # 下注的总次数\n    t.integer      :bet_bull_cnt    # 下注bull的次数  --> bet_bull_ratio\n    t.integer      :bet_bear_cnt    # 下注bear的次数\n\n    t.float        :avg_bet_amt     # 平均下注的金额\n    t.string       :bet_amt         # 下注的金额\n    \n    t.float        :right_bet_ratio # 成功下注里面，下注方向正确（payout大的方向）的比例\n    t.float        :win_bet_ratio   # 成功下注里面，下注方向获胜的比例\n    \n    t.float        :invest_amt      # 成功下注的金额\n    t.float        :return_amt      # 下注后的回报 --> total_roi / round_return\n      \n    t.timestamp    :created_at   \n    t.timestamp    :updated_at   \n  end\n\n  add_index :addresses, :addr, unique: true\nend\n",
   "execution_count": null,
   "outputs": [
    {
     "name": "stdout",
     "output_type": "stream",
     "text": "-- create_table(:addresses, {:force=>true})\n   -> 0.4367s\n-- add_index(:addresses, :addr, {:unique=>true})\n   -> 0.2181s\n"
    },
    {
     "data": {
      "text/plain": "\"default_env\""
     },
     "execution_count": 11,
     "metadata": {},
     "output_type": "execute_result"
    }
   ]
  },
  {
   "cell_type": "code",
   "metadata": {
    "cell_id": "00010-b7953dbe-ed5c-44f0-8a27-03d36beb210e",
    "deepnote_output_heights": [
     null,
     1
    ],
    "deepnote_cell_type": "code"
   },
   "source": "ActiveRecord::Schema.define do\n  create_table(:transfers, force: true) do |t|\n    t.string       :from\n    t.string       :to\n    t.decimal      :amount, :precision => 36\n    t.string       :method_name\n    t.text         :method_params\n\n    t.integer      :block_number\n    t.timestamp    :block_time\n    t.string       :tx_hash\n\n    \n    t.timestamp    :created_at   \n    t.timestamp    :updated_at   \n  end\n\n  add_index :transfers, :tx_hash, unique: true\n  add_index :transfers, :from\n  add_index :transfers, :to\n  add_index :transfers, :method_name\n  add_index :transfers, :block_number\nend\n",
   "execution_count": null,
   "outputs": [
    {
     "name": "stdout",
     "output_type": "stream",
     "text": "-- create_table(:transfers, {:force=>true})\n   -> 0.4341s\n-- add_index(:transfers, :tx_hash, {:unique=>true})\n   -> 0.2161s\n-- add_index(:transfers, :from)\n   -> 0.2168s\n-- add_index(:transfers, :to)\n   -> 0.2165s\n-- add_index(:transfers, :method_name)\n   -> 0.2166s\n-- add_index(:transfers, :block_number)\n   -> 0.2197s\n"
    },
    {
     "data": {
      "text/plain": "\"default_env\""
     },
     "execution_count": 12,
     "metadata": {},
     "output_type": "execute_result"
    }
   ]
  },
  {
   "cell_type": "code",
   "metadata": {
    "cell_id": "00011-b45acbf1-9603-455f-85d4-7ba4dec7360c",
    "deepnote_output_heights": [
     null,
     1
    ],
    "deepnote_cell_type": "code"
   },
   "source": "ActiveRecord::Schema.define do\n  create_table(:logs, force: true) do |t|\n    t.integer      :pid\n    t.string       :log    \n    t.timestamp    :created_at   \n    t.timestamp    :updated_at   \n  end\n  add_index :logs, :pid\nend\n",
   "execution_count": null,
   "outputs": [
    {
     "name": "stdout",
     "output_type": "stream",
     "text": "-- create_table(:logs, {:force=>true})\n   -> 0.4373s\n-- add_index(:logs, :pid)\n   -> 0.2170s\n"
    },
    {
     "data": {
      "text/plain": "\"default_env\""
     },
     "execution_count": 13,
     "metadata": {},
     "output_type": "execute_result"
    }
   ]
  },
  {
   "cell_type": "code",
   "metadata": {
    "cell_id": "00012-e8a5b91d-5214-411d-8137-6347138e440a",
    "deepnote_cell_type": "code"
   },
   "source": "class Change < ActiveRecord::Migration[7.0]\n  def up\n    change_table :addresses do |t|\n      add_column :addresses, :tag, :string \n    end    \n  end\n  \n  def down\n    change_table :blocks do |t|\n      remove_column :addresses, :tag\n    end    \n  end\nend\n\n\nChange.new.up\n",
   "execution_count": null,
   "outputs": [
    {
     "name": "stdout",
     "output_type": "stream",
     "text": "-- change_table(:addresses)\n-- add_column(:addresses, :tag, :string)\n   -> 0.4265s\n   -> 0.4273s\n"
    }
   ]
  },
  {
   "cell_type": "code",
   "metadata": {
    "cell_id": "00013-1def5820-a298-4b5b-8b2c-485954b59169",
    "deepnote_output_heights": [
     null,
     21.1875
    ],
    "deepnote_cell_type": "code"
   },
   "source": "ActiveRecord::Schema.define do\n  create_table(:tasks, force: true) do |t|\n    t.string       :name\n    t.string       :status\n    t.text         :code\n    t.text         :output\n    t.string       :runner\n    t.timestamp    :created_at   \n    t.timestamp    :updated_at   \n  end\nend\n",
   "execution_count": null,
   "outputs": [
    {
     "name": "stdout",
     "output_type": "stream",
     "text": "-- create_table(:tasks, {:force=>true})\n   -> 0.4638s\n"
    },
    {
     "data": {
      "text/plain": "\"default_env\""
     },
     "execution_count": 15,
     "metadata": {},
     "output_type": "execute_result"
    }
   ]
  },
  {
   "cell_type": "code",
   "metadata": {
    "cell_id": "00014-2b52b139-75e2-4ad3-9e22-5024e54e8cee",
    "deepnote_cell_type": "code"
   },
   "source": "class Change < ActiveRecord::Migration[7.0]\n  def up\n    change_table :addresses do |t|\n      add_column :addresses, :avg_last_block_order, :float \n    end    \n  end\n  \n  def down\n    change_table :blocks do |t|\n      remove_column :addresses, :avg_last_block_order\n    end    \n  end\nend\n\n\nChange.new.up\n\n",
   "execution_count": null,
   "outputs": [
    {
     "name": "stdout",
     "output_type": "stream",
     "text": "-- change_table(:addresses)\n-- add_column(:addresses, :avg_last_block_order, :float)\n   -> 0.4297s\n   -> 0.4305s\n"
    }
   ]
  },
  {
   "cell_type": "code",
   "metadata": {
    "cell_id": "00015-6b9815a7-8b90-4a80-b242-0cbde991eb10",
    "deepnote_cell_type": "code"
   },
   "source": "class Change < ActiveRecord::Migration[7.0]\n  def up\n    change_table :tasks do |t|\n      add_column :tasks, :run_timestamp, :string \n    end    \n  end\n  \n  def down\n    change_table :blocks do |t|\n      remove_column :tasks, :run_timestamp\n    end    \n  end\nend\n\n\nChange.new.up\n\n",
   "execution_count": null,
   "outputs": []
  },
  {
   "cell_type": "code",
   "source": "class Change < ActiveRecord::Migration[7.0]\n  def up\n    change_table :logs do |t|\n      add_column :logs, :runner, :timestamp \n    end    \n  end\n  \n  def down\n    change_table :blocks do |t|\n      remove_column :logs, :runner\n    end    \n  end\nend\n\n\nChange.new.up\n\n",
   "metadata": {
    "cell_id": "f929e2ac-49d2-4a9b-a7f6-213579adb5a2",
    "tags": [],
    "deepnote_cell_type": "code"
   },
   "outputs": [],
   "execution_count": null
  },
  {
   "cell_type": "markdown",
   "source": "<a style='text-decoration:none;line-height:16px;display:flex;color:#5B5B62;padding:10px;justify-content:end;' href='https://deepnote.com?utm_source=created-in-deepnote-cell&projectId=ebde59c2-d67b-4e31-ad3b-1bdd07014691' target=\"_blank\">\n<img alt='Created in deepnote.com' style='display:inline;max-height:16px;margin:0px;margin-right:7.5px;' src='data:image/svg+xml;base64,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' > </img>\nCreated in <span style='font-weight:600;margin-left:4px;'>Deepnote</span></a>",
   "metadata": {
    "tags": [],
    "created_in_deepnote_cell": true,
    "deepnote_cell_type": "markdown"
   }
  }
 ],
 "nbformat": 4,
 "nbformat_minor": 5,
 "metadata": {
  "kernelspec": {
   "display_name": "Ruby 2.7.5",
   "language": "ruby",
   "name": "ruby"
  },
  "language_info": {
   "file_extension": ".rb",
   "mimetype": "application/x-ruby",
   "name": "ruby",
   "version": "2.7.5"
  },
  "deepnote_notebook_id": "95c63e8a-c0fc-4577-9ba2-c9edab9b16a1",
  "deepnote": {},
  "deepnote_execution_queue": []
 }
}