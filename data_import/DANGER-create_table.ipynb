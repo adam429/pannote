{
 "cells": [
  {
   "cell_type": "markdown",
   "source": "## 危险！这个文件是创建数据库表格，可能会让所有数据丢失",
   "metadata": {
    "cell_id": "41469e0c-5e34-4478-a196-f534f0d2d09e",
    "tags": [],
    "deepnote_cell_type": "markdown",
    "deepnote_cell_height": 70
   }
  },
  {
   "cell_type": "code",
   "source": "$data_import = true\nload \"/work/pannote/panbot_note.rb\"\nnil",
   "metadata": {
    "cell_id": "965211c5176144e2b91f799fa191906c",
    "tags": [],
    "deepnote_to_be_reexecuted": false,
    "source_hash": "672ed1fb",
    "execution_start": 1651878077682,
    "execution_millis": 1885,
    "deepnote_cell_type": "code",
    "deepnote_cell_height": 117
   },
   "outputs": [],
   "execution_count": 2
  },
  {
   "cell_type": "code",
   "metadata": {
    "cell_id": "f57206d7-fc3c-4e0b-9851-99ff6d9743a4",
    "tags": [],
    "deepnote_to_be_reexecuted": false,
    "source_hash": "70df2277",
    "execution_start": 1645326956079,
    "execution_millis": 39467890,
    "deepnote_cell_type": "code",
    "deepnote_cell_height": 144.1875
   },
   "source": "raise \"Danger! Stop\"",
   "execution_count": null,
   "outputs": [
    {
     "output_type": "error",
     "ename": "RuntimeError",
     "evalue": "Danger! Stop",
     "traceback": [
      "\u001b[31mRuntimeError\u001b[0m: Danger! Stop",
      "(irb):in `irb_binding'"
     ]
    }
   ]
  },
  {
   "cell_type": "code",
   "metadata": {
    "cell_id": "00002-60e17b01-e2e6-41fb-a3ce-6b900e0e2297",
    "deepnote_to_be_reexecuted": false,
    "source_hash": "c878314b",
    "execution_start": 1651877749778,
    "execution_millis": 49,
    "deepnote_cell_type": "code",
    "deepnote_cell_height": 118.1875,
    "deepnote_output_heights": [
     21.1875
    ]
   },
   "source": "ActiveRecord::Base.connection.execute(\"SELECT datname FROM pg_database;\").map do |x| x end",
   "outputs": [
    {
     "output_type": "execute_result",
     "execution_count": 3,
     "data": {
      "text/plain": "[{\"datname\"=>\"template0\"}, {\"datname\"=>\"postgres\"}, {\"datname\"=>\"template1\"}, {\"datname\"=>\"dfknjjv4a1of2h\"}]"
     },
     "metadata": {}
    }
   ],
   "execution_count": null
  },
  {
   "cell_type": "code",
   "metadata": {
    "cell_id": "00003-56ad20a0-945f-486c-bc6f-1692467be596",
    "deepnote_to_be_reexecuted": false,
    "source_hash": "610d0549",
    "execution_start": 1645326956089,
    "execution_millis": 39467797,
    "deepnote_cell_type": "code",
    "deepnote_cell_height": 1566.1875
   },
   "source": "ActiveRecord::Schema.define do\n  create_table(:blocks, force: true) do |t|\n    t.integer      :block_number,       null: false\n    t.integer      :difficulty\n    t.integer      :total_difficulty\n    t.integer      :gas_limit       \n    t.integer      :gas_used         \n    t.string       :miner          \n    t.string       :block_hash\n    t.string       :parent_hash\n    t.integer      :block_size   \n    t.timestamp    :block_time   \n    t.timestamp    :created_at   \n    t.timestamp    :updated_at   \n  end\n\n  add_index :blocks, :block_number, unique: true\n  add_index :blocks, :block_time\n\n  \n  create_table(:txes, force: true) do |t|\n    t.string :block_hash\n    t.string :tx_hash,       null: false\n\n    t.string :from\n    t.string :to\n    t.string :method_name\n    t.text :input_data\n    t.string :contract_address\n\n    t.integer :tx_type\n    t.boolean :tx_status\n\n    t.timestamp :block_time\n    t.integer :block_number\n    t.integer :gas\n    t.integer :gas_price\n    t.integer :nonce\n    t.integer :tx_index\n    t.decimal :amount, :precision => 36\n    t.integer :cumulative_gas_used\n    t.integer :gas_used\n\n    t.timestamp    :created_at   \n    t.timestamp    :updated_at   \n  end\n\n  add_index :txes, :tx_hash, unique: true\n  add_index :txes, :from\n  add_index :txes, :to\n  add_index :txes, :method_name\n  add_index :txes, :block_number\n\n\n  create_table(:events, force: true) do |t|  \n    t.string :event_key,       null: false\n    \n    t.string :name\n    t.string :params\n    t.string :event_abi \n    t.string :input_type\n    t.string :input_name\n\n    t.integer :log_index\n    t.integer :tx_index\n    t.string :block_hash \n    t.string :tx_hash\n    t.integer :block_number\n\n    t.timestamp    :created_at   \n    t.timestamp    :updated_at   \n  end\n\n  add_index :events, :event_key, unique: true\n\n  add_index :events, :name \n  add_index :events, :block_number \n  add_index :events, :tx_hash\n  \nend",
   "execution_count": null,
   "outputs": [
    {
     "output_type": "error",
     "ename": "NameError",
     "evalue": "uninitialized constant ActiveRecord",
     "traceback": [
      "\u001b[31mNameError\u001b[0m: uninitialized constant ActiveRecord",
      "(irb):in `irb_binding'"
     ]
    }
   ]
  },
  {
   "cell_type": "code",
   "metadata": {
    "cell_id": "00004-498c41be-7074-4278-b3e1-d202f1b2a35c",
    "deepnote_to_be_reexecuted": false,
    "source_hash": "339b8c57",
    "execution_start": 1645326956107,
    "execution_millis": 39467779,
    "deepnote_cell_type": "code",
    "deepnote_cell_height": 522.1875
   },
   "source": "ActiveRecord::Schema.define do\n  create_table(:epoches, force: true) do |t|\n    t.integer      :epoch, null:false\n    t.timestamp    :start_timestamp\n    t.timestamp    :lock_timestamp\n    t.timestamp    :close_timestamp\n    t.float        :lock_price       \n    t.float        :close_price         \n    t.float        :total_amount          \n    t.float        :bull_amount\n    t.float        :bear_amount\n    t.float        :reward_base_cal_amount\n    t.float        :reward_amount\n    t.float        :bull_payout\n    t.float        :bear_payout\n    t.timestamp    :created_at   \n    t.timestamp    :updated_at   \n  end\n\n  add_index :epoches, :epoch, unique: true\nend\n",
   "execution_count": null,
   "outputs": [
    {
     "output_type": "error",
     "ename": "NameError",
     "evalue": "uninitialized constant ActiveRecord",
     "traceback": [
      "\u001b[31mNameError\u001b[0m: uninitialized constant ActiveRecord",
      "(irb):in `irb_binding'"
     ]
    }
   ]
  },
  {
   "cell_type": "code",
   "metadata": {
    "cell_id": "00005-1f9f4de0-2889-4d2a-bebc-f8de333c2442",
    "deepnote_to_be_reexecuted": false,
    "source_hash": "baf29d15",
    "execution_start": 1645326956108,
    "execution_millis": 39467740,
    "deepnote_cell_type": "code",
    "deepnote_cell_height": 486.1875
   },
   "source": "class Change < ActiveRecord::Migration[7.0]\n  def up\n    change_table :epoches do |t|\n      add_column :epoches, :total_count, :integer \n      add_column :epoches, :start_block_number, :integer \n      add_column :epoches, :lock_block_number, :integer \n    end\n  end\n  \n  def down\n    change_table :epoches do |t|\n      remove_column :epoches, :total_count\n      remove_column :epoches, :start_block_number\n      remove_column :epoches, :lock_block_number\n    end\n  end\nend\n\nChange.new.up\n",
   "execution_count": null,
   "outputs": [
    {
     "output_type": "error",
     "ename": "NameError",
     "evalue": "uninitialized constant ActiveRecord",
     "traceback": [
      "\u001b[31mNameError\u001b[0m: uninitialized constant ActiveRecord",
      "(irb):in `irb_binding'"
     ]
    }
   ]
  },
  {
   "cell_type": "code",
   "metadata": {
    "cell_id": "00006-a39d1b22-b9d7-48bd-a5a1-7d8fc73dd6db",
    "deepnote_to_be_reexecuted": false,
    "source_hash": "2b98f6fd",
    "execution_start": 1645326956112,
    "execution_millis": 39467734,
    "deepnote_cell_type": "code",
    "deepnote_cell_height": 468.1875
   },
   "source": "ActiveRecord::Schema.define do\n  create_table(:epoch_details, force: true) do |t|\n    t.integer      :epoch\n    t.integer      :block_number\n    t.integer      :bet_count\n    t.float        :bull_amount\n    t.float        :bear_amount\n    t.float        :bull_payout\n    t.float        :bear_payout\n    \n    t.timestamp    :block_time\n    t.timestamp    :created_at   \n    t.timestamp    :updated_at   \n  end\n \n   add_index :epoch_details, [:epoch,:block_number],unique: true\n\nend\n",
   "execution_count": null,
   "outputs": [
    {
     "output_type": "error",
     "ename": "NameError",
     "evalue": "uninitialized constant ActiveRecord",
     "traceback": [
      "\u001b[31mNameError\u001b[0m: uninitialized constant ActiveRecord",
      "(irb):in `irb_binding'"
     ]
    }
   ]
  },
  {
   "cell_type": "code",
   "metadata": {
    "cell_id": "00007-e350a9fc-172c-4743-ab08-c78ec618db26",
    "deepnote_to_be_reexecuted": false,
    "source_hash": "b8f0ff5d",
    "execution_start": 1645326956117,
    "execution_millis": 39467710,
    "deepnote_cell_type": "code",
    "deepnote_cell_height": 432.1875
   },
   "source": "ActiveRecord::Schema.define do\n  create_table(:caches, force: true) do |t|\n    t.string       :key\n    t.string       :value_type    \n    t.string       :value_s\n    t.integer      :value_i\n    t.float        :value_f\n    t.timestamp    :value_t\n    t.boolean      :value_b\n    \n    t.timestamp    :created_at   \n    t.timestamp    :updated_at   \n  end\n\n  add_index :caches, :key, unique: true\nend\n",
   "execution_count": null,
   "outputs": [
    {
     "output_type": "error",
     "ename": "NameError",
     "evalue": "uninitialized constant ActiveRecord",
     "traceback": [
      "\u001b[31mNameError\u001b[0m: uninitialized constant ActiveRecord",
      "(irb):in `irb_binding'"
     ]
    }
   ]
  },
  {
   "cell_type": "code",
   "metadata": {
    "cell_id": "00008-7d82eb61-f3b8-43af-9ab7-7d09d781967e",
    "deepnote_to_be_reexecuted": false,
    "source_hash": "26bb560a",
    "execution_start": 1645326956120,
    "execution_millis": 39467717,
    "deepnote_cell_type": "code",
    "deepnote_cell_height": 468.1875
   },
   "source": "class Change < ActiveRecord::Migration[7.0]\n  def up\n    change_table :blocks do |t|\n      add_column :blocks, :epoch, :integer \n    end\n    add_index :blocks, :epoch\n    \n  end\n  \n  def down\n    change_table :blocks do |t|\n      remove_column :blocks, :epoch\n    end    \n  end\nend\n\n\nChange.new.up\n",
   "execution_count": null,
   "outputs": [
    {
     "output_type": "error",
     "ename": "NameError",
     "evalue": "uninitialized constant ActiveRecord",
     "traceback": [
      "\u001b[31mNameError\u001b[0m: uninitialized constant ActiveRecord",
      "(irb):in `irb_binding'"
     ]
    }
   ]
  },
  {
   "cell_type": "code",
   "metadata": {
    "cell_id": "00009-5b0c77a7-7d3d-479c-b28f-755818ddc9b9",
    "deepnote_to_be_reexecuted": false,
    "source_hash": "311eaa3b",
    "execution_start": 1645326956130,
    "execution_millis": 39467714,
    "deepnote_cell_type": "code",
    "deepnote_cell_height": 684.1875
   },
   "source": "ActiveRecord::Schema.define do\n  create_table(:addresses, force: true) do |t|\n    t.string       :addr\n    t.boolean      :is_contract\n    t.text         :contract_abi\n\n    t.boolean      :is_panbot\n    t.string       :bet_cnt_daily   # 按天的下注的局数\n    t.integer      :bet_epoch_cnt   # 下注的局数           -->  bet_ratio\n    t.integer      :invest_cnt      # 成功下注的次数(局数)  -->  bet_success_rate\n    \n    t.integer      :bet_cnt         # 下注的总次数\n    t.integer      :bet_bull_cnt    # 下注bull的次数  --> bet_bull_ratio\n    t.integer      :bet_bear_cnt    # 下注bear的次数\n\n    t.float        :avg_bet_amt     # 平均下注的金额\n    t.string       :bet_amt         # 下注的金额\n    \n    t.float        :right_bet_ratio # 成功下注里面，下注方向正确（payout大的方向）的比例\n    t.float        :win_bet_ratio   # 成功下注里面，下注方向获胜的比例\n    \n    t.float        :invest_amt      # 成功下注的金额\n    t.float        :return_amt      # 下注后的回报 --> total_roi / round_return\n      \n    t.timestamp    :created_at   \n    t.timestamp    :updated_at   \n  end\n\n  add_index :addresses, :addr, unique: true\nend\n",
   "execution_count": null,
   "outputs": [
    {
     "output_type": "error",
     "ename": "NameError",
     "evalue": "uninitialized constant ActiveRecord",
     "traceback": [
      "\u001b[31mNameError\u001b[0m: uninitialized constant ActiveRecord",
      "(irb):in `irb_binding'"
     ]
    }
   ]
  },
  {
   "cell_type": "code",
   "metadata": {
    "cell_id": "00010-b7953dbe-ed5c-44f0-8a27-03d36beb210e",
    "deepnote_to_be_reexecuted": false,
    "source_hash": "1615f05d",
    "execution_start": 1645326956131,
    "execution_millis": 39467713,
    "deepnote_cell_type": "code",
    "deepnote_cell_height": 558.1875
   },
   "source": "ActiveRecord::Schema.define do\n  create_table(:transfers, force: true) do |t|\n    t.string       :from\n    t.string       :to\n    t.decimal      :amount, :precision => 36\n    t.string       :method_name\n    t.text         :method_params\n\n    t.integer      :block_number\n    t.timestamp    :block_time\n    t.string       :tx_hash\n\n    \n    t.timestamp    :created_at   \n    t.timestamp    :updated_at   \n  end\n\n  add_index :transfers, :tx_hash, unique: true\n  add_index :transfers, :from\n  add_index :transfers, :to\n  add_index :transfers, :method_name\n  add_index :transfers, :block_number\nend\n",
   "execution_count": null,
   "outputs": [
    {
     "output_type": "error",
     "ename": "NameError",
     "evalue": "uninitialized constant ActiveRecord",
     "traceback": [
      "\u001b[31mNameError\u001b[0m: uninitialized constant ActiveRecord",
      "(irb):in `irb_binding'"
     ]
    }
   ]
  },
  {
   "cell_type": "code",
   "metadata": {
    "cell_id": "00011-b45acbf1-9603-455f-85d4-7ba4dec7360c",
    "deepnote_to_be_reexecuted": false,
    "source_hash": "2cdf3417",
    "execution_start": 1645326956131,
    "execution_millis": 39467716,
    "deepnote_cell_type": "code",
    "deepnote_cell_height": 306.1875
   },
   "source": "ActiveRecord::Schema.define do\n  create_table(:logs, force: true) do |t|\n    t.integer      :pid\n    t.string       :log    \n    t.timestamp    :created_at   \n    t.timestamp    :updated_at   \n  end\n  add_index :logs, :pid\nend\n",
   "execution_count": null,
   "outputs": [
    {
     "output_type": "error",
     "ename": "NameError",
     "evalue": "uninitialized constant ActiveRecord",
     "traceback": [
      "\u001b[31mNameError\u001b[0m: uninitialized constant ActiveRecord",
      "(irb):in `irb_binding'"
     ]
    }
   ]
  },
  {
   "cell_type": "code",
   "metadata": {
    "cell_id": "00012-e8a5b91d-5214-411d-8137-6347138e440a",
    "deepnote_to_be_reexecuted": false,
    "source_hash": "3a650e54",
    "execution_start": 1645326956133,
    "execution_millis": 39467699,
    "deepnote_cell_type": "code",
    "deepnote_cell_height": 432.1875
   },
   "source": "class Change < ActiveRecord::Migration[7.0]\n  def up\n    change_table :addresses do |t|\n      add_column :addresses, :tag, :string \n    end    \n  end\n  \n  def down\n    change_table :blocks do |t|\n      remove_column :addresses, :tag\n    end    \n  end\nend\n\n\nChange.new.up\n",
   "execution_count": null,
   "outputs": [
    {
     "output_type": "error",
     "ename": "NameError",
     "evalue": "uninitialized constant ActiveRecord",
     "traceback": [
      "\u001b[31mNameError\u001b[0m: uninitialized constant ActiveRecord",
      "(irb):in `irb_binding'"
     ]
    }
   ]
  },
  {
   "cell_type": "code",
   "metadata": {
    "cell_id": "00013-1def5820-a298-4b5b-8b2c-485954b59169",
    "deepnote_to_be_reexecuted": false,
    "source_hash": "9839ea00",
    "execution_start": 1645326956147,
    "execution_millis": 39467698,
    "deepnote_cell_type": "code",
    "deepnote_cell_height": 342.1875
   },
   "source": "ActiveRecord::Schema.define do\n  create_table(:tasks, force: true) do |t|\n    t.string       :name\n    t.string       :status\n    t.text         :code\n    t.text         :output\n    t.string       :runner\n    t.timestamp    :created_at   \n    t.timestamp    :updated_at   \n  end\nend\n",
   "execution_count": null,
   "outputs": [
    {
     "output_type": "error",
     "ename": "NameError",
     "evalue": "uninitialized constant ActiveRecord",
     "traceback": [
      "\u001b[31mNameError\u001b[0m: uninitialized constant ActiveRecord",
      "(irb):in `irb_binding'"
     ]
    }
   ]
  },
  {
   "cell_type": "code",
   "metadata": {
    "cell_id": "00014-2b52b139-75e2-4ad3-9e22-5024e54e8cee",
    "deepnote_to_be_reexecuted": false,
    "source_hash": "e628a9b0",
    "execution_start": 1645326956148,
    "execution_millis": 39467702,
    "deepnote_cell_type": "code",
    "deepnote_cell_height": 450.1875
   },
   "source": "class Change < ActiveRecord::Migration[7.0]\n  def up\n    change_table :addresses do |t|\n      add_column :addresses, :avg_last_block_order, :float \n    end    \n  end\n  \n  def down\n    change_table :blocks do |t|\n      remove_column :addresses, :avg_last_block_order\n    end    \n  end\nend\n\n\nChange.new.up\n\n",
   "execution_count": null,
   "outputs": [
    {
     "output_type": "error",
     "ename": "NameError",
     "evalue": "uninitialized constant ActiveRecord",
     "traceback": [
      "\u001b[31mNameError\u001b[0m: uninitialized constant ActiveRecord",
      "(irb):in `irb_binding'"
     ]
    }
   ]
  },
  {
   "cell_type": "code",
   "metadata": {
    "cell_id": "f929e2ac-49d2-4a9b-a7f6-213579adb5a2",
    "tags": [],
    "deepnote_to_be_reexecuted": false,
    "source_hash": "7744a9d3",
    "execution_start": 1645326956150,
    "execution_millis": 39467696,
    "deepnote_cell_type": "code",
    "deepnote_cell_height": 486.1875
   },
   "source": "\nclass Change < ActiveRecord::Migration[7.0]\n  def up\n    change_table :logs do |t|\n      add_column :logs, :worker, :string \n      add_column :logs, :hostname, :string \n      add_column :logs, :ip_addr, :string \n    end    \n  end\n  \n  def down\n    change_table :blocks do |t|\n      remove_column :logs, :worker\n      remove_column :logs, :hostname\n      remove_column :logs, :ip_addr\n    end    \n  end\nend\n\nChange.new.up",
   "execution_count": null,
   "outputs": [
    {
     "output_type": "error",
     "ename": "NameError",
     "evalue": "uninitialized constant ActiveRecord",
     "traceback": [
      "\u001b[31mNameError\u001b[0m: uninitialized constant ActiveRecord",
      "(irb):1:in `irb_binding'"
     ]
    }
   ]
  },
  {
   "cell_type": "code",
   "metadata": {
    "cell_id": "8056fdf2-90d6-47b0-a232-5f48c0d50f22",
    "tags": [],
    "deepnote_to_be_reexecuted": false,
    "source_hash": "b571af0",
    "execution_start": 1645326956151,
    "execution_millis": 39467640,
    "deepnote_cell_type": "code",
    "deepnote_cell_height": 180.1875
   },
   "source": "ActiveRecord::Schema.define do\n  add_index :tasks, :status\nend",
   "execution_count": null,
   "outputs": [
    {
     "output_type": "error",
     "ename": "NameError",
     "evalue": "uninitialized constant ActiveRecord",
     "traceback": [
      "\u001b[31mNameError\u001b[0m: uninitialized constant ActiveRecord",
      "(irb):in `irb_binding'"
     ]
    }
   ]
  },
  {
   "cell_type": "code",
   "metadata": {
    "cell_id": "6b1e9263-dc19-4d10-8abf-844829b0d436",
    "tags": [],
    "deepnote_to_be_reexecuted": false,
    "source_hash": "c7a6dcc6",
    "execution_start": 1645495076639,
    "execution_millis": 22,
    "deepnote_cell_type": "code",
    "deepnote_cell_height": 740.375
   },
   "source": "\nclass Change < ActiveRecord::Migration[7.0]\n  def up\n    change_table :tasks do |t|\n      add_column :tasks, :return, :text \n      add_column :tasks, :tid, :string \n      add_column :tasks, :params, :string \n      add_column :tasks, :save_timestamp, :timestamp \n      add_column :tasks, :run_timestamp,  :timestamp \n      \n    end    \n  end\n  \n  def down\n    change_table :tasks do |t|\n      remove_column :tasks, :return\n      remove_column :tasks, :tid\n      remove_column :tasks, :params\n      remove_column :tasks, :run_timestamp\n    end    \n  end\nend\n\nChange.new.up",
   "execution_count": null,
   "outputs": [
    {
     "name": "stdout",
     "text": "-- change_table(:tasks)\n-- add_column(:tasks, :return, :text)\n   -> 0.0040s\n-- add_column(:tasks, :tid, :string)\n   -> 0.0020s\n-- add_column(:tasks, :params, :string)\n   -> 0.0021s\n-- add_column(:tasks, :save_timestamp, :timestamp)\n   -> 0.0022s\n-- add_column(:tasks, :run_timestamp, :timestamp)\n   -> 0.0022s\n   -> 0.0187s\n",
     "output_type": "stream"
    }
   ]
  },
  {
   "cell_type": "code",
   "metadata": {
    "cell_id": "0b6674d8-03e9-49e5-ba59-e9e94b30d133",
    "tags": [],
    "deepnote_to_be_reexecuted": false,
    "source_hash": "ecc8e42b",
    "execution_start": 1645691210678,
    "execution_millis": 113,
    "deepnote_cell_type": "code",
    "deepnote_cell_height": 510.3125,
    "deepnote_output_heights": [
     null,
     21.1875
    ]
   },
   "source": "ActiveRecord::Schema.define do\n  create_table(:vaults, force: true) do |t|\n    t.string       :key\n    t.string       :value_type    \n    t.string       :value_s\n    t.integer      :value_i\n    t.float        :value_f\n    t.timestamp    :value_t\n    t.boolean      :value_b\n    \n    t.timestamp    :created_at   \n    t.timestamp    :updated_at   \n  end\n\n  add_index :vaults, :key, unique: true\nend\n",
   "execution_count": null,
   "outputs": [
    {
     "name": "stdout",
     "text": "-- create_table(:vaults, {:force=>true})\n   -> 0.1252s\n-- add_index(:vaults, :key, {:unique=>true})\n   -> 0.0063s\n",
     "output_type": "stream"
    },
    {
     "output_type": "execute_result",
     "execution_count": 2,
     "data": {
      "text/plain": "\"default_env\""
     },
     "metadata": {}
    }
   ]
  },
  {
   "cell_type": "code",
   "metadata": {
    "cell_id": "0b1c9772-fd58-41e9-9aa2-c2d00df2c9db",
    "tags": [],
    "deepnote_to_be_reexecuted": false,
    "source_hash": "443ba258",
    "execution_start": 1645886992294,
    "execution_millis": 66,
    "deepnote_cell_type": "code",
    "deepnote_cell_height": 339.84375
   },
   "source": "ActiveRecord::Schema.define do\n  add_index :tasks, :name\n  add_index :tasks, :save_timestamp\n  add_index :tasks, :tid\nend",
   "execution_count": null,
   "outputs": [
    {
     "name": "stdout",
     "text": "-- add_index(:tasks, :name)\n   -> 0.0484s\n-- add_index(:tasks, :save_timestamp)\n   -> 0.0112s\n-- add_index(:tasks, :tid)\n",
     "output_type": "stream"
    },
    {
     "output_type": "error",
     "ename": "ActiveRecord::StatementInvalid",
     "evalue": "PG::DuplicateTable: ERROR:  relation \"index_tasks_on_tid\" already exists\n",
     "traceback": [
      "\u001b[31mActiveRecord::StatementInvalid\u001b[0m: PG::DuplicateTable: ERROR:  relation \"index_tasks_on_tid\" already exists\n",
      "/usr/local/bundle/gems/activerecord-7.0.2.2/lib/active_record/connection_adapters/postgresql/database_statements.rb:48:in `exec'",
      "/usr/local/bundle/gems/activerecord-7.0.2.2/lib/active_record/connection_adapters/postgresql/database_statements.rb:48:in `block (2 levels) in execute'",
      "/usr/local/bundle/gems/activesupport-7.0.2.2/lib/active_support/concurrency/share_lock.rb:187:in `yield_shares'",
      "/usr/local/bundle/gems/activesupport-7.0.2.2/lib/active_support/dependencies/interlock.rb:41:in `permit_concurrent_loads'",
      "/usr/local/bundle/gems/activerecord-7.0.2.2/lib/active_record/connection_adapters/postgresql/database_statements.rb:47:in `block in execute'",
      "/usr/local/bundle/gems/activesupport-7.0.2.2/lib/active_support/concurrency/load_interlock_aware_monitor.rb:25:in `handle_interrupt'",
      "/usr/local/bundle/gems/activesupport-7.0.2.2/lib/active_support/concurrency/load_interlock_aware_monitor.rb:25:in `block in synchronize'",
      "/usr/local/bundle/gems/activesupport-7.0.2.2/lib/active_support/concurrency/load_interlock_aware_monitor.rb:21:in `handle_interrupt'",
      "/usr/local/bundle/gems/activesupport-7.0.2.2/lib/active_support/concurrency/load_interlock_aware_monitor.rb:21:in `synchronize'",
      "/usr/local/bundle/gems/activerecord-7.0.2.2/lib/active_record/connection_adapters/abstract_adapter.rb:765:in `block in log'",
      "/usr/local/bundle/gems/activesupport-7.0.2.2/lib/active_support/notifications/instrumenter.rb:24:in `instrument'",
      "/usr/local/bundle/gems/activerecord-7.0.2.2/lib/active_record/connection_adapters/abstract_adapter.rb:756:in `log'",
      "/usr/local/bundle/gems/activerecord-7.0.2.2/lib/active_record/connection_adapters/postgresql/database_statements.rb:46:in `execute'",
      "/usr/local/bundle/gems/activerecord-7.0.2.2/lib/active_record/connection_adapters/postgresql/schema_statements.rb:448:in `add_index'",
      "/usr/local/bundle/gems/activerecord-7.0.2.2/lib/active_record/migration.rb:931:in `block in method_missing'",
      "/usr/local/bundle/gems/activerecord-7.0.2.2/lib/active_record/migration.rb:899:in `block in say_with_time'",
      "/usr/local/lib/ruby/2.7.0/benchmark.rb:293:in `measure'",
      "/usr/local/bundle/gems/activerecord-7.0.2.2/lib/active_record/migration.rb:899:in `say_with_time'",
      "/usr/local/bundle/gems/activerecord-7.0.2.2/lib/active_record/migration.rb:920:in `method_missing'",
      "(irb):3:in `block in irb_binding'",
      "/usr/local/bundle/gems/activerecord-7.0.2.2/lib/active_record/schema.rb:55:in `instance_eval'",
      "/usr/local/bundle/gems/activerecord-7.0.2.2/lib/active_record/schema.rb:55:in `define'",
      "/usr/local/bundle/gems/activerecord-7.0.2.2/lib/active_record/schema.rb:50:in `define'",
      "(irb):in `irb_binding'"
     ]
    }
   ]
  },
  {
   "cell_type": "code",
   "metadata": {
    "cell_id": "af055c84-fe08-48f7-87df-1c6c45f1a937",
    "tags": [],
    "deepnote_to_be_reexecuted": false,
    "source_hash": "ff3bdee8",
    "execution_start": 1646206745086,
    "execution_millis": 7,
    "deepnote_cell_type": "code",
    "deepnote_cell_height": 458.125
   },
   "source": "\nclass Change < ActiveRecord::Migration[7.0]\n  def up\n    change_table :tasks do |t|\n      add_column :tasks, :schedule_at,  :timestamp \n      \n    end    \n  end\n  \n  def down\n    change_table :tasks do |t|\n      remove_column :tasks, :schedule_at\n    end    \n  end\nend\n\nChange.new.up",
   "execution_count": null,
   "outputs": [
    {
     "name": "stdout",
     "text": "-- change_table(:tasks)\n-- add_column(:tasks, :schedule_at, :timestamp)\n   -> 0.0380s\n   -> 0.0392s\n",
     "output_type": "stream"
    }
   ]
  },
  {
   "cell_type": "code",
   "metadata": {
    "cell_id": "80f7f2f5-23a7-42ad-acc3-c356ae9afb3d",
    "tags": [],
    "deepnote_to_be_reexecuted": false,
    "source_hash": "956c7f38",
    "execution_start": 1651877822942,
    "execution_millis": 78,
    "deepnote_cell_type": "code",
    "deepnote_cell_height": 603.375,
    "deepnote_output_heights": [
     21.1875,
     21.1875
    ]
   },
   "source": "\nclass Change < ActiveRecord::Migration[7.0]\n  def up\n    change_table :tasks do |t|\n      add_column :tasks, :env,  :string\n      \n    end    \n\n    add_index :tasks, :env\n  end\n  \n  def down\n    change_table :tasks do |t|\n      remove_column :tasks, :env\n    end    \n  end\n\nend\n\nChange.new.up",
   "outputs": [
    {
     "name": "stdout",
     "text": "-- change_table(:tasks)\n-- add_column(:tasks, :env, :string)\n   -> 0.0090s\n   -> 0.0095s\n-- add_index(:tasks, :env)\n   -> 0.0662s\n",
     "output_type": "stream"
    },
    {
     "output_type": "execute_result",
     "execution_count": 5,
     "data": {
      "text/plain": "#<PG::Result:0x000055e6d1ac0720 status=PGRES_COMMAND_OK ntuples=0 nfields=0 cmd_tuples=0>"
     },
     "metadata": {}
    }
   ],
   "execution_count": null
  },
  {
   "cell_type": "code",
   "metadata": {
    "cell_id": "7485a8a3-85eb-4db1-82d9-23d7a5944016",
    "tags": [],
    "deepnote_to_be_reexecuted": false,
    "source_hash": "d0bb201a",
    "execution_start": 1651878164233,
    "execution_millis": 2175,
    "deepnote_cell_type": "code",
    "deepnote_cell_height": 118.1875,
    "deepnote_output_heights": [
     21.1875
    ]
   },
   "source": "Task.in_batches.update_all(env: 'base')",
   "execution_count": 4,
   "outputs": [
    {
     "output_type": "execute_result",
     "execution_count": 4,
     "data": {
      "text/plain": "33791"
     },
     "metadata": {}
    }
   ]
  },
  {
   "cell_type": "code",
   "source": "Task.first",
   "metadata": {
    "cell_id": "fbe82aa88f694249973ee43587361601",
    "tags": [],
    "deepnote_to_be_reexecuted": false,
    "source_hash": "e3c0a3a9",
    "execution_start": 1651878169379,
    "execution_millis": 3,
    "deepnote_cell_type": "code",
    "deepnote_cell_height": 118.1875,
    "deepnote_output_heights": [
     21.1875
    ]
   },
   "outputs": [
    {
     "output_type": "execute_result",
     "execution_count": 5,
     "data": {
      "text/plain": "#<Task id: 9757, name: \"demo/load/demo_load_sum\", status: \"close\", code: \"__TASK_NAME__ = \\\"demo/load/demo_load_sum\\\"\\n\\ndef sum...\", output: \"2022-04-01 22:33:31 +0800 runner local_runner take...\", runner: \"local_runner\", created_at: \"2022-02-22 10:32:02.378833000 +0000\", updated_at: \"2022-04-01 14:33:33.179222000 +0000\", return: \"{\\\"raw_ret\\\":3,\\\"html\\\":\\\"3\\\",\\\"schedule_at\\\":null}\", tid: \"483b1606ec7406cf\", params: \"{}\", save_timestamp: \"2022-04-01 14:33:30.208614000 +0000\", run_timestamp: \"2022-04-01 14:33:31.162351000 +0000\", schedule_at: nil, env: \"base\">"
     },
     "metadata": {}
    }
   ],
   "execution_count": 5
  },
  {
   "cell_type": "code",
   "source": "",
   "metadata": {
    "cell_id": "273209e8c9a14a26bc53f98e4805eb53",
    "tags": [],
    "owner_user_id": "d2e137b8-edb6-4552-b46d-1d64722d3ed2",
    "deepnote_cell_type": "code",
    "deepnote_cell_height": 66
   },
   "outputs": [],
   "execution_count": null
  },
  {
   "cell_type": "markdown",
   "source": "<a style='text-decoration:none;line-height:16px;display:flex;color:#5B5B62;padding:10px;justify-content:end;' href='https://deepnote.com?utm_source=created-in-deepnote-cell&projectId=ebde59c2-d67b-4e31-ad3b-1bdd07014691' target=\"_blank\">\n<img alt='Created in deepnote.com' style='display:inline;max-height:16px;margin:0px;margin-right:7.5px;' src='data:image/svg+xml;base64,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' > </img>\nCreated in <span style='font-weight:600;margin-left:4px;'>Deepnote</span></a>",
   "metadata": {
    "tags": [],
    "created_in_deepnote_cell": true,
    "deepnote_cell_type": "markdown"
   }
  }
 ],
 "nbformat": 4,
 "nbformat_minor": 5,
 "metadata": {
  "kernelspec": {
   "display_name": "Ruby 2.7.5",
   "language": "ruby",
   "name": "ruby"
  },
  "language_info": {
   "file_extension": ".rb",
   "mimetype": "application/x-ruby",
   "name": "ruby",
   "version": "2.7.5"
  },
  "deepnote_notebook_id": "95c63e8a-c0fc-4577-9ba2-c9edab9b16a1",
  "deepnote": {},
  "deepnote_execution_queue": []
 }
}