{
 "cells": [
  {
   "cell_type": "code",
   "metadata": {
    "tags": [],
    "cell_id": "24072523-66c6-4fbe-8e26-157a99285981",
    "deepnote_to_be_reexecuted": false,
    "source_hash": "e23933e5",
    "execution_start": 1644806616414,
    "execution_millis": 1496,
    "deepnote_cell_type": "code"
   },
   "source": "# load init moudle file\n\nload \"/work/pannote/panbot_note.rb\"\nnil",
   "execution_count": null,
   "outputs": []
  },
  {
   "cell_type": "code",
   "metadata": {
    "cell_id": "efe44c80-654d-4236-940b-fa1f05fef003",
    "tags": [],
    "deepnote_to_be_reexecuted": false,
    "source_hash": "92697016",
    "execution_start": 1644807872832,
    "execution_millis": 4,
    "deepnote_cell_type": "code",
    "deepnote_output_heights": [
     21.1875
    ]
   },
   "source": "endpoint = [\n    [\"chainstack-sg\",\"https://nd-655-401-702.p2pify.com/31f68016997c5a3c4808f9be6bdaeaeb\"],\n    [\"chainstack-us\",\"https://nd-945-619-721.p2pify.com/b3ad097ddddd0e049d63d877439f4408\"],\n    [\"chainstack-fullnode\",\"https://nd-899-804-114.p2pify.com/cd02e4da86fbd699f58552da80e8f1ec\"],\n]\n\nrepeat_time_read = 30\n",
   "execution_count": null,
   "outputs": [
    {
     "output_type": "execute_result",
     "execution_count": 37,
     "data": {
      "text/plain": "30"
     },
     "metadata": {}
    }
   ]
  },
  {
   "cell_type": "code",
   "metadata": {
    "cell_id": "86dc3c00-7cb5-4d8f-8a39-1a6c27b3c300",
    "tags": [],
    "deepnote_to_be_reexecuted": false,
    "source_hash": "8450d155",
    "execution_start": 1644803912224,
    "execution_millis": 3,
    "deepnote_cell_type": "code",
    "deepnote_output_heights": [
     21.1875
    ]
   },
   "source": "def read_test(contract)\n    time = Time.now()\n    contract.call.rounds(36545)\n    time = Time.now()-time\n    return time\nend\n",
   "execution_count": null,
   "outputs": [
    {
     "output_type": "execute_result",
     "execution_count": 27,
     "data": {
      "text/plain": ":read_test"
     },
     "metadata": {}
    }
   ]
  },
  {
   "cell_type": "markdown",
   "source": "从DeepNote美国服务器，访问ChainStack节点读数据的网络延迟情况\n\n- [\"chainstack-sg\", \"https://nd-655-401-702.p2pify.com/31f68016997c5a3c4808f9be6bdaeaeb\"] avg time 0.64047529 latency\n- [\"chainstack-us\", \"https://nd-945-619-721.p2pify.com/b3ad097ddddd0e049d63d877439f4408\"] avg time 0.02369665 latency\n- [\"chainstack-fullnode\", \"https://nd-899-804-114.p2pify.com/cd02e4da86fbd699f58552da80e8f1ec\"] avg time 0.21744277 latency",
   "metadata": {
    "cell_id": "0bdc0440-a3e1-4a8a-8758-137e8fda1cea",
    "tags": [],
    "deepnote_cell_type": "markdown"
   }
  },
  {
   "cell_type": "code",
   "metadata": {
    "cell_id": "69b9db3b-b27d-497f-8320-b214ed58611d",
    "tags": [],
    "deepnote_to_be_reexecuted": false,
    "source_hash": "49266706",
    "execution_start": 1644804091051,
    "execution_millis": 27515,
    "deepnote_cell_type": "code",
    "deepnote_output_heights": [
     null,
     21.1875
    ]
   },
   "source": "endpoint.each do |url|\n    # init client and contract\n    client = Ethereum::HttpClient.new(url[1])\n\n    contract = Ethereum::Contract.create(\n        client: client, \n        name:\"PancakePredictionV2\", \n        address: \"0x18B2A687610328590Bc8F2e5fEdDe3b582A49cdA\", \n        abi: JSON.parse(open(\"/work/pannote/PancakePredictionV2.json\").read)\n    )\n\n    total_time = 0\n    total_count = 0\n\n    repeat_time_read.times do |i| \n        time = read_test(contract)\n        total_count=total_count+1\n        total_time=total_time+time\n    end\n\n    puts \"#{url} avg time #{ (total_time.to_f / total_count).round(8)} latency\"\nend",
   "execution_count": null,
   "outputs": [
    {
     "name": "stdout",
     "text": "[\"chainstack-sg\", \"https://nd-655-401-702.p2pify.com/31f68016997c5a3c4808f9be6bdaeaeb\"] avg time 0.64047529 latency\n[\"chainstack-us\", \"https://nd-945-619-721.p2pify.com/b3ad097ddddd0e049d63d877439f4408\"] avg time 0.02369665 latency\n[\"chainstack-fullnode\", \"https://nd-899-804-114.p2pify.com/cd02e4da86fbd699f58552da80e8f1ec\"] avg time 0.21744277 latency\n",
     "output_type": "stream"
    },
    {
     "output_type": "execute_result",
     "execution_count": 29,
     "data": {
      "text/plain": "[[\"chainstack-sg\", \"https://nd-655-401-702.p2pify.com/31f68016997c5a3c4808f9be6bdaeaeb\"], [\"chainstack-us\", \"https://nd-945-619-721.p2pify.com/b3ad097ddddd0e049d63d877439f4408\"], [\"chainstack-fullnode\", \"https://nd-899-804-114.p2pify.com/cd02e4da86fbd699f58552da80e8f1ec\"]]"
     },
     "metadata": {}
    }
   ]
  },
  {
   "cell_type": "markdown",
   "source": "从DeepNote美国服务器，访问ChainStack节点读数据的区块延迟（aka，区块生成之后，要隔多少秒才能取到这个区块）\n\n- [\"chainstack-sg\", \"https://nd-655-401-702.p2pify.com/31f68016997c5a3c4808f9be6bdaeaeb\"] avg time 0.8217141822s\n- [\"chainstack-us\", \"https://nd-945-619-721.p2pify.com/b3ad097ddddd0e049d63d877439f4408\"] avg time 0.3589499855s\n- [\"chainstack-fullnode\", \"https://nd-899-804-114.p2pify.com/cd02e4da86fbd699f58552da80e8f1ec\"] avg time 18.200209495s\n\n可以看到，全节点的区块同步不是实时的。\n\n在同样的时间来取，fullnode要比shared node慢1-50个block(甚至更多)\n\n- [\"chainstack-sg\", \"https://nd-655-401-702.p2pify.com/31f68016997c5a3c4808f9be6bdaeaeb\"] block_number: 15236560  block_time: 2022-02-14 02:14:42.0.0 \n- [\"chainstack-us\", \"https://nd-945-619-721.p2pify.com/b3ad097ddddd0e049d63d877439f4408\"] block_number: 15236560  block_time: 2022-02-14 02:14:42.0.0 \n- [\"chainstack-fullnode\", \"https://nd-899-804-114.p2pify.com/cd02e4da86fbd699f58552da80e8f1ec\"] block_number: 15236558  block_time: 2022-02-14 02:14:36.0.0 \n",
   "metadata": {
    "cell_id": "3a008671-4a50-4bcc-9f6c-bcda118ab6a7",
    "tags": [],
    "deepnote_cell_type": "markdown"
   }
  },
  {
   "cell_type": "code",
   "metadata": {
    "cell_id": "c046d725-c3d3-4868-941f-8465cc93a085",
    "tags": [],
    "deepnote_to_be_reexecuted": false,
    "source_hash": "e3d222cf",
    "execution_start": 1644804627895,
    "execution_millis": 91009,
    "deepnote_cell_type": "code",
    "deepnote_output_heights": [
     null,
     21.1875
    ]
   },
   "source": "# 测试服务器读延迟\nendpoint.each do |url|\n    # init client and contract\n    client = Ethereum::HttpClient.new(url[1])\n\n    puts \"#{url}\"\n    time = Time.now\n    save_block_number = 0\n    count = 0\n    latenct = 0\n\n    while Time.now-time<30 do\n\n    last_block = client.eth_get_block_by_number(\"latest\",false)\n    block_number = last_block[\"result\"][\"number\"].to_i(16)\n    block_time = Time.at(last_block[\"result\"][\"timestamp\"].to_i(16))\n    now = Time.now\n    \n    if block_number !=save_block_number then\n        if save_block_number!=0 then\n        puts \"block_number: #{block_number} latenct: #{now-block_time}  block_time: #{block_time.to_formatted_s(:db)}.#{block_time.subsec.to_f} \"\n        count = count+1\n        latenct = latenct+(now-block_time)\n        end\n        save_block_number = block_number\n    end\n    \n    sleep(0.01)\n    end\n        \n    puts \"avg latenct #{latenct/count} s\"\nend",
   "execution_count": null,
   "outputs": [
    {
     "name": "stdout",
     "text": "[\"chainstack-sg\", \"https://nd-655-401-702.p2pify.com/31f68016997c5a3c4808f9be6bdaeaeb\"]\nblock_number: 15236476 latenct: 0.499896804  block_time: 2022-02-14 02:10:30.0.0 \nblock_number: 15236477 latenct: 0.75729934  block_time: 2022-02-14 02:10:33.0.0 \nblock_number: 15236478 latenct: 1.685361493  block_time: 2022-02-14 02:10:36.0.0 \nblock_number: 15236479 latenct: 0.655959327  block_time: 2022-02-14 02:10:39.0.0 \nblock_number: 15236480 latenct: 0.909522813  block_time: 2022-02-14 02:10:42.0.0 \nblock_number: 15236481 latenct: 0.508273376  block_time: 2022-02-14 02:10:45.0.0 \nblock_number: 15236482 latenct: 0.743280833  block_time: 2022-02-14 02:10:48.0.0 \nblock_number: 15236483 latenct: 0.978751563  block_time: 2022-02-14 02:10:51.0.0 \nblock_number: 15236484 latenct: 0.620362281  block_time: 2022-02-14 02:10:54.0.0 \nblock_number: 15236485 latenct: 0.858433992  block_time: 2022-02-14 02:10:57.0.0 \navg latenct 0.8217141822 s\n[\"chainstack-us\", \"https://nd-945-619-721.p2pify.com/b3ad097ddddd0e049d63d877439f4408\"]\nblock_number: 15236486 latenct: 0.664514271  block_time: 2022-02-14 02:11:00.0.0 \nblock_number: 15236487 latenct: 0.446859504  block_time: 2022-02-14 02:11:03.0.0 \nblock_number: 15236488 latenct: 0.406906927  block_time: 2022-02-14 02:11:06.0.0 \nblock_number: 15236489 latenct: 0.294320351  block_time: 2022-02-14 02:11:09.0.0 \nblock_number: 15236490 latenct: 0.271672766  block_time: 2022-02-14 02:11:12.0.0 \nblock_number: 15236491 latenct: 0.376760343  block_time: 2022-02-14 02:11:15.0.0 \nblock_number: 15236492 latenct: 0.212806785  block_time: 2022-02-14 02:11:18.0.0 \nblock_number: 15236493 latenct: 0.278020034  block_time: 2022-02-14 02:11:21.0.0 \nblock_number: 15236494 latenct: 0.33132041  block_time: 2022-02-14 02:11:24.0.0 \nblock_number: 15236495 latenct: 0.306318464  block_time: 2022-02-14 02:11:27.0.0 \navg latenct 0.3589499855 s\n[\"chainstack-fullnode\", \"https://nd-899-804-114.p2pify.com/cd02e4da86fbd699f58552da80e8f1ec\"]\nblock_number: 15236486 latenct: 31.708464531  block_time: 2022-02-14 02:11:00.0.0 \nblock_number: 15236487 latenct: 29.171811116  block_time: 2022-02-14 02:11:03.0.0 \nblock_number: 15236488 latenct: 26.402316365  block_time: 2022-02-14 02:11:06.0.0 \nblock_number: 15236489 latenct: 23.633437014  block_time: 2022-02-14 02:11:09.0.0 \nblock_number: 15236490 latenct: 20.871165675  block_time: 2022-02-14 02:11:12.0.0 \nblock_number: 15236491 latenct: 18.337080943  block_time: 2022-02-14 02:11:15.0.0 \nblock_number: 15236492 latenct: 15.544345658  block_time: 2022-02-14 02:11:18.0.0 \nblock_number: 15236493 latenct: 12.758488793  block_time: 2022-02-14 02:11:21.0.0 \nblock_number: 15236494 latenct: 9.982282467  block_time: 2022-02-14 02:11:24.0.0 \nblock_number: 15236495 latenct: 7.186001963  block_time: 2022-02-14 02:11:27.0.0 \nblock_number: 15236496 latenct: 4.60690992  block_time: 2022-02-14 02:11:30.0.0 \navg latenct 18.200209495 s\n",
     "output_type": "stream"
    },
    {
     "output_type": "execute_result",
     "execution_count": 32,
     "data": {
      "text/plain": "[[\"chainstack-sg\", \"https://nd-655-401-702.p2pify.com/31f68016997c5a3c4808f9be6bdaeaeb\"], [\"chainstack-us\", \"https://nd-945-619-721.p2pify.com/b3ad097ddddd0e049d63d877439f4408\"], [\"chainstack-fullnode\", \"https://nd-899-804-114.p2pify.com/cd02e4da86fbd699f58552da80e8f1ec\"]]"
     },
     "metadata": {}
    }
   ]
  },
  {
   "cell_type": "code",
   "metadata": {
    "cell_id": "6f7fad8a-238f-4933-95f7-bf2ec18696a7",
    "tags": [],
    "deepnote_to_be_reexecuted": false,
    "source_hash": "99225b02",
    "execution_start": 1644805042292,
    "execution_millis": 982,
    "deepnote_cell_type": "code",
    "deepnote_output_heights": [
     null,
     21.1875
    ]
   },
   "source": "# 测试服务器读延迟\nendpoint.each do |url|\n    # init client and contract\n    client = Ethereum::HttpClient.new(url[1])\n\n    last_block = client.eth_get_block_by_number(\"latest\",false)\n    block_number = last_block[\"result\"][\"number\"].to_i(16)\n    block_time = Time.at(last_block[\"result\"][\"timestamp\"].to_i(16))\n    puts \"#{url} block_number: #{block_number}  block_time: #{block_time.to_formatted_s(:db)}.#{block_time.subsec.to_f} \"\nend",
   "execution_count": null,
   "outputs": [
    {
     "name": "stdout",
     "text": "[\"chainstack-sg\", \"https://nd-655-401-702.p2pify.com/31f68016997c5a3c4808f9be6bdaeaeb\"] block_number: 15236613  block_time: 2022-02-14 02:17:21.0.0 \n[\"chainstack-us\", \"https://nd-945-619-721.p2pify.com/b3ad097ddddd0e049d63d877439f4408\"] block_number: 15236613  block_time: 2022-02-14 02:17:21.0.0 \n[\"chainstack-fullnode\", \"https://nd-899-804-114.p2pify.com/cd02e4da86fbd699f58552da80e8f1ec\"] block_number: 15236558  block_time: 2022-02-14 02:14:36.0.0 \n",
     "output_type": "stream"
    },
    {
     "output_type": "execute_result",
     "execution_count": 48,
     "data": {
      "text/plain": "[[\"chainstack-sg\", \"https://nd-655-401-702.p2pify.com/31f68016997c5a3c4808f9be6bdaeaeb\"], [\"chainstack-us\", \"https://nd-945-619-721.p2pify.com/b3ad097ddddd0e049d63d877439f4408\"], [\"chainstack-fullnode\", \"https://nd-899-804-114.p2pify.com/cd02e4da86fbd699f58552da80e8f1ec\"]]"
     },
     "metadata": {}
    }
   ]
  },
  {
   "cell_type": "markdown",
   "source": "# 测试服务器写延迟\n\n#### align_time 对齐时间 2.5s\n\n- [\"chainstack-us\", \"https://nd-945-619-721.p2pify.com/b3ad097ddddd0e049d63d877439f4408\"] 2个区块\n- [\"chainstack-fullnode\", \"https://nd-899-804-114.p2pify.com/cd02e4da86fbd699f58552da80e8f1ec\"] 2.6个区块\n\n#### align_time 对齐时间 0.5s\n\n- [\"chainstack-us\", \"https://nd-945-619-721.p2pify.com/b3ad097ddddd0e049d63d877439f4408\"] 1.8个区块\n- [\"chainstack-fullnode\", \"https://nd-899-804-114.p2pify.com/cd02e4da86fbd699f58552da80e8f1ec\"] 1.9个区块\n\n",
   "metadata": {
    "cell_id": "f3c09807-010a-4dff-8253-f11a948fcba4",
    "tags": [],
    "deepnote_cell_type": "markdown"
   }
  },
  {
   "cell_type": "code",
   "metadata": {
    "cell_id": "aec93754-b0ad-4f41-a5d0-d9f61bd1758c",
    "tags": [],
    "deepnote_to_be_reexecuted": false,
    "source_hash": "95cec9fb",
    "execution_start": 1644808124968,
    "execution_millis": 404562,
    "deepnote_cell_type": "code",
    "deepnote_output_heights": [
     21.1875
    ]
   },
   "source": "def write_test(client,read_client,contract,align_time)\n    last_block = nil\n    last_block_time = nil\n    last_block_number = nil\n    \n    save_last_block_number = nil\n\n    loop do\n        last_block = read_client.eth_get_block_by_number('latest', false) # get latest block details\n        last_block_time = Time.at(last_block[\"result\"][\"timestamp\"].to_i(16))\n        last_block_number = last_block[\"result\"][\"number\"].to_i(16)\n        if not(save_last_block_number==last_block_number) then\n            save_last_block_number = last_block_number\n            $count = $count+1\n            puts \"pass time since last block mined #{Time.now()-last_block_time} save_last_block_numbe #{save_last_block_number}  last_block_number #{last_block_number}  compare #{save_last_block_number==last_block_number}\"\n        end\n        next if Time.now()-last_block_time>=align_time\n\n        # align to shift of block interval(s)\n        loop do\n            break if Time.now()-last_block_time>=align_time\n        end\n        break\n    end\n    time = Time.now()\n    puts \"[align time shift] last_block_number #{last_block_number} - time #{Time.now()-last_block_time} \"        \n\n\n    tx = contract.transact.claim([36545])\n    loop do\n        tx_eth = read_client.eth_get_transaction_by_hash(tx.id)\n        break if !tx_eth.nil? && !tx_eth[\"result\"].nil? && tx_eth[\"result\"][\"blockNumber\"].present?\n        sleep 1\n    end    \n    tx_hash = tx.address\n    tx_detail = read_client.eth_get_transaction_by_hash(tx_hash)\n    tx_block_number = tx_detail[\"result\"][\"blockNumber\"].to_i(16)\n    tx_block_time = Time.at(read_client.eth_get_block_by_number(tx_block_number,false)[\"result\"][\"timestamp\"].to_i(16))\n\n\n\n    puts \"latency #{tx_block_number-last_block_number} = tx_block_number #{tx_block_number} - last_block_number #{last_block_number}\"    \n    return tx_block_number-last_block_number\nend",
   "execution_count": null,
   "outputs": [
    {
     "output_type": "execute_result",
     "execution_count": 44,
     "data": {
      "text/plain": ":write_test"
     },
     "metadata": {}
    }
   ]
  },
  {
   "cell_type": "code",
   "metadata": {
    "cell_id": "5a5e2de8-b335-449a-8f3e-2c270bc681c6",
    "tags": [],
    "deepnote_to_be_reexecuted": false,
    "source_hash": "7fc828f0",
    "execution_start": 1644808517754,
    "execution_millis": 163650,
    "deepnote_cell_type": "code",
    "deepnote_output_heights": [
     null,
     21.1875
    ]
   },
   "source": "# 测试服务器写延迟\n\nendpoint = [\n    [\"chainstack-us\",\"https://nd-945-619-721.p2pify.com/b3ad097ddddd0e049d63d877439f4408\"],\n    [\"chainstack-fullnode\",\"https://nd-899-804-114.p2pify.com/cd02e4da86fbd699f58552da80e8f1ec\"],\n]\n\nrepeat_time_write = 10\n\nread_client = Ethereum::HttpClient.new(endpoint.to_h[\"chainstack-us\"])\n\n\n\nalign_time = 0.5 # send txn 1s after last block\n\nendpoint.each do |url|\n    # init client and contract\n    client = Ethereum::HttpClient.new(url[1])\n\n    puts \"#{url}\"\n\n    contract = Ethereum::Contract.create(\n        client: client, \n        name:\"PancakePredictionV2\", \n        address: \"0x18B2A687610328590Bc8F2e5fEdDe3b582A49cdA\", \n        abi: JSON.parse(open(\"/work/pannote/PancakePredictionV2.json\").read)\n    )\n\n    bot_prviate_key = \"639712feb7c4598b3a8b8f51d53b240bc3e01e8e2d2044063017c26214bb2920\"\n\n    gas_premium = 1\n\n    ## config chain_id for EIP-155\n    Eth.configure { |c| c.chain_id = client.net_version[\"result\"].to_i }\n    \n    # update gas prices with gas_premium\n    gas_price = client.eth_gas_price[\"result\"].to_i(16)\n    client.gas_price = ((gas_price / 1e9 * gas_premium).round()*1e9).to_i\n    contract.gas_price = ((gas_price / 1e9 * gas_premium).round()*1e9).to_i\n\n    # create key from private_key\n    bot_key = Eth::Key.new priv: bot_prviate_key\n    bot_address = bot_key.address\n    contract.key = bot_key\n\n    current_epoch = contract.call.current_epoch\n\n\n    total_time = 0\n    total_count = 0\n    $count =0\n    repeat_time_write.times do |i| 0\n        time = write_test(client,read_client,contract,align_time)\n        total_count=total_count+1\n        total_time=total_time+time\n    end\n    $count = $count - repeat_time_write\n\n    puts \"#{url} - align_time #{align_time} - write avg  #{ (total_time.to_f / total_count).round(2)} latency\"\n    puts \"------------------------------------------\"\nend\n",
   "execution_count": null,
   "outputs": [
    {
     "name": "stdout",
     "text": "[\"chainstack-us\", \"https://nd-945-619-721.p2pify.com/b3ad097ddddd0e049d63d877439f4408\"]\npass time since last block mined 3.209117438 save_last_block_numbe 15237771  last_block_number 15237771  compare true\npass time since last block mined 0.310357419 save_last_block_numbe 15237772  last_block_number 15237772  compare true\n[align time shift] last_block_number 15237772 - time 0.500017992 \nlatency 2 = tx_block_number 15237774 - last_block_number 15237772\npass time since last block mined 0.725430807 save_last_block_numbe 15237774  last_block_number 15237774  compare true\npass time since last block mined 0.288378632 save_last_block_numbe 15237775  last_block_number 15237775  compare true\n[align time shift] last_block_number 15237775 - time 0.500039403 \nlatency 2 = tx_block_number 15237777 - last_block_number 15237775\npass time since last block mined 0.870427839 save_last_block_numbe 15237777  last_block_number 15237777  compare true\npass time since last block mined 0.305391776 save_last_block_numbe 15237778  last_block_number 15237778  compare true\n[align time shift] last_block_number 15237778 - time 0.500012801 \nlatency 2 = tx_block_number 15237780 - last_block_number 15237778\npass time since last block mined 1.724802278 save_last_block_numbe 15237780  last_block_number 15237780  compare true\npass time since last block mined 0.292246105 save_last_block_numbe 15237781  last_block_number 15237781  compare true\n[align time shift] last_block_number 15237781 - time 0.500017457 \nlatency 2 = tx_block_number 15237783 - last_block_number 15237781\npass time since last block mined 0.754374742 save_last_block_numbe 15237783  last_block_number 15237783  compare true\npass time since last block mined 0.340794477 save_last_block_numbe 15237784  last_block_number 15237784  compare true\n[align time shift] last_block_number 15237784 - time 0.500014096 \nlatency 2 = tx_block_number 15237786 - last_block_number 15237784\npass time since last block mined 0.728271001 save_last_block_numbe 15237786  last_block_number 15237786  compare true\npass time since last block mined 0.505096453 save_last_block_numbe 15237787  last_block_number 15237787  compare true\npass time since last block mined 0.300317238 save_last_block_numbe 15237788  last_block_number 15237788  compare true\n[align time shift] last_block_number 15237788 - time 0.500013948 \nlatency 2 = tx_block_number 15237790 - last_block_number 15237788\npass time since last block mined 0.79915224 save_last_block_numbe 15237790  last_block_number 15237790  compare true\npass time since last block mined 0.378829272 save_last_block_numbe 15237791  last_block_number 15237791  compare true\n[align time shift] last_block_number 15237791 - time 0.500010392 \nlatency 2 = tx_block_number 15237793 - last_block_number 15237791\npass time since last block mined 0.828511602 save_last_block_numbe 15237793  last_block_number 15237793  compare true\npass time since last block mined 0.241584677 save_last_block_numbe 15237794  last_block_number 15237794  compare true\n[align time shift] last_block_number 15237794 - time 0.500052924 \nlatency 2 = tx_block_number 15237796 - last_block_number 15237794\npass time since last block mined 0.699152447 save_last_block_numbe 15237796  last_block_number 15237796  compare true\npass time since last block mined 0.333986456 save_last_block_numbe 15237797  last_block_number 15237797  compare true\n[align time shift] last_block_number 15237797 - time 0.500035162 \nlatency 1 = tx_block_number 15237798 - last_block_number 15237797\npass time since last block mined 0.683568333 save_last_block_numbe 15237798  last_block_number 15237798  compare true\npass time since last block mined 0.324011168 save_last_block_numbe 15237799  last_block_number 15237799  compare true\n[align time shift] last_block_number 15237799 - time 0.50001079 \nlatency 1 = tx_block_number 15237800 - last_block_number 15237799\n[\"chainstack-us\", \"https://nd-945-619-721.p2pify.com/b3ad097ddddd0e049d63d877439f4408\"] - align_time 0.5 - write avg  1.8 latency\n------------------------------------------\n[\"chainstack-fullnode\", \"https://nd-899-804-114.p2pify.com/cd02e4da86fbd699f58552da80e8f1ec\"]\npass time since last block mined 1.78724186 save_last_block_numbe 15237800  last_block_number 15237800  compare true\npass time since last block mined 0.206600903 save_last_block_numbe 15237801  last_block_number 15237801  compare true\n[align time shift] last_block_number 15237801 - time 0.500042542 \nlatency 2 = tx_block_number 15237803 - last_block_number 15237801\npass time since last block mined 0.414901655 save_last_block_numbe 15237803  last_block_number 15237803  compare true\n[align time shift] last_block_number 15237803 - time 0.500014655 \nlatency 2 = tx_block_number 15237805 - last_block_number 15237803\npass time since last block mined 0.355242849 save_last_block_numbe 15237805  last_block_number 15237805  compare true\n[align time shift] last_block_number 15237805 - time 0.500011761 \nlatency 2 = tx_block_number 15237807 - last_block_number 15237805\npass time since last block mined 1.354857749 save_last_block_numbe 15237807  last_block_number 15237807  compare true\npass time since last block mined 0.435612127 save_last_block_numbe 15237808  last_block_number 15237808  compare true\n[align time shift] last_block_number 15237808 - time 0.500036171 \nlatency 1 = tx_block_number 15237809 - last_block_number 15237808\npass time since last block mined 1.300503602 save_last_block_numbe 15237809  last_block_number 15237809  compare true\npass time since last block mined 0.274209279 save_last_block_numbe 15237810  last_block_number 15237810  compare true\n[align time shift] last_block_number 15237810 - time 0.500014909 \nlatency 2 = tx_block_number 15237812 - last_block_number 15237810\npass time since last block mined 1.401994205 save_last_block_numbe 15237812  last_block_number 15237812  compare true\npass time since last block mined 0.198833181 save_last_block_numbe 15237813  last_block_number 15237813  compare true\n[align time shift] last_block_number 15237813 - time 0.500010686 \nlatency 2 = tx_block_number 15237815 - last_block_number 15237813\npass time since last block mined 0.381210372 save_last_block_numbe 15237815  last_block_number 15237815  compare true\n[align time shift] last_block_number 15237815 - time 0.500011155 \nlatency 2 = tx_block_number 15237817 - last_block_number 15237815\npass time since last block mined 1.362468746 save_last_block_numbe 15237817  last_block_number 15237817  compare true\npass time since last block mined 0.603372035 save_last_block_numbe 15237818  last_block_number 15237818  compare true\npass time since last block mined 0.284188828 save_last_block_numbe 15237819  last_block_number 15237819  compare true\n[align time shift] last_block_number 15237819 - time 0.500012791 \nlatency 2 = tx_block_number 15237821 - last_block_number 15237819\npass time since last block mined 1.33838477 save_last_block_numbe 15237821  last_block_number 15237821  compare true\npass time since last block mined 0.191534934 save_last_block_numbe 15237822  last_block_number 15237822  compare true\n[align time shift] last_block_number 15237822 - time 0.500015835 \nlatency 2 = tx_block_number 15237824 - last_block_number 15237822\npass time since last block mined 0.333370814 save_last_block_numbe 15237824  last_block_number 15237824  compare true\n[align time shift] last_block_number 15237824 - time 0.500256993 \nlatency 2 = tx_block_number 15237826 - last_block_number 15237824\n[\"chainstack-fullnode\", \"https://nd-899-804-114.p2pify.com/cd02e4da86fbd699f58552da80e8f1ec\"] - align_time 0.5 - write avg  1.9 latency\n------------------------------------------\n",
     "output_type": "stream"
    },
    {
     "output_type": "execute_result",
     "execution_count": 47,
     "data": {
      "text/plain": "[[\"chainstack-us\", \"https://nd-945-619-721.p2pify.com/b3ad097ddddd0e049d63d877439f4408\"], [\"chainstack-fullnode\", \"https://nd-899-804-114.p2pify.com/cd02e4da86fbd699f58552da80e8f1ec\"]]"
     },
     "metadata": {}
    }
   ]
  },
  {
   "cell_type": "code",
   "metadata": {
    "cell_id": "a9fbd93a-4194-4be8-b266-f88d0dea68e4",
    "tags": [],
    "deepnote_to_be_reexecuted": false,
    "source_hash": "e23933e5",
    "execution_start": 1645886594770,
    "execution_millis": 1868,
    "deepnote_cell_type": "code"
   },
   "source": "# load init moudle file\n\nload \"/work/pannote/panbot_note.rb\"\nnil",
   "execution_count": null,
   "outputs": []
  },
  {
   "cell_type": "code",
   "metadata": {
    "cell_id": "b195f730-9163-4974-8c3d-05dc7e857caf",
    "tags": [],
    "deepnote_cell_type": "code"
   },
   "source": "",
   "execution_count": null,
   "outputs": []
  },
  {
   "cell_type": "markdown",
   "source": "<a style='text-decoration:none;line-height:16px;display:flex;color:#5B5B62;padding:10px;justify-content:end;' href='https://deepnote.com?utm_source=created-in-deepnote-cell&projectId=ebde59c2-d67b-4e31-ad3b-1bdd07014691' target=\"_blank\">\n<img alt='Created in deepnote.com' style='display:inline;max-height:16px;margin:0px;margin-right:7.5px;' src='data:image/svg+xml;base64,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' > </img>\nCreated in <span style='font-weight:600;margin-left:4px;'>Deepnote</span></a>",
   "metadata": {
    "tags": [],
    "created_in_deepnote_cell": true,
    "deepnote_cell_type": "markdown"
   }
  }
 ],
 "nbformat": 4,
 "nbformat_minor": 2,
 "metadata": {
  "orig_nbformat": 2,
  "deepnote": {
   "is_reactive": false
  },
  "deepnote_notebook_id": "a0cae4aa-9c7b-42d2-881a-a12784cf24c2",
  "deepnote_execution_queue": []
 }
}