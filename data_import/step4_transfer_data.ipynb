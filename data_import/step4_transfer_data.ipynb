{
 "cells": [
  {
   "cell_type": "code",
   "metadata": {
    "tags": [],
    "cell_id": "5aa0202d-08fd-414c-9e66-0f21cf6934f7",
    "deepnote_to_be_reexecuted": false,
    "source_hash": "c1c06a2b",
    "execution_start": 1644878588318,
    "execution_millis": 2380,
    "deepnote_cell_type": "code"
   },
   "source": "# load init moudle file\n\n$data_import = true\nload \"/work/pannote/panbot_note.rb\"\nnil",
   "execution_count": 2,
   "outputs": []
  },
  {
   "cell_type": "code",
   "metadata": {
    "cell_id": "347deeb6-daed-47de-881c-29a1f2de8058",
    "tags": [],
    "deepnote_to_be_reexecuted": false,
    "source_hash": "4dca220",
    "execution_start": 1644878716631,
    "execution_millis": 46,
    "deepnote_output_heights": [
     1
    ],
    "deepnote_cell_type": "code"
   },
   "source": "code = <<~'TASKCODE'\n\n# save to main-db\nrequire 'active_record'\nrequire 'faraday'\nrequire 'ethereum.rb'\nrequire 'faraday'\nrequire 'parallel'\nrequire 'resolv-replace'\n\nconnect_str = __PARAMS__CONNECT_STR__\nhttp_endpoint = __PARAMS__HTTP_ENDPOINT__\nblock_numbers = __PARAMS__BEGIN__..__PARAMS__END__\n\nActiveRecord::Base.establish_connection(connect_str)\n\n\n## load data model from github\nmodels = [\"application_record\",\"address\",\"cache\",\"block\",\"epoch\",\"epoch_detail\",\"event\",\"transfer\",\"tx\",\"log\"]\nmodels.each do |model| \n  url = \"https://raw.githubusercontent.com/adam429/panscan/main/panscan/app/models/#{model}.rb\"\n  body = Faraday.get(url).body\n  f = open(\"load.rb\",\"w\")\n  f.write(body)\n  f.close\n  load './load.rb'\nend\n\n## 数据准备\n\n\ncontract_name = \"PancakePredictionV2\"\ncontract_addr = \"0x18B2A687610328590Bc8F2e5fEdDe3b582A49cdA\".downcase\nbscscan_apikey = \"HIFNPQFV6MY755QMVPFIAY7F25RUTHI26Z\"\n\nclient = Ethereum::HttpClient.new(http_endpoint)\n\napi_url = \"https://api.bscscan.com/api?module=contract&action=getabi&address=#{contract_addr}&apikey=#{bscscan_apikey}\"\nabi = JSON.parse(JSON.parse(response = Faraday.get(api_url).body)[\"result\"])\n\ncontract = Ethereum::Contract.create(\n        client: client, \n        name: contract_name, \n        address: contract_addr, \n        abi: abi)\n\n\n\nget_abi = -> (contract_addr) {\n  api_url = \"https://api.bscscan.com/api?module=contract&action=getabi&address=#{contract_addr}&apikey=#{bscscan_apikey}\"\n  \n  begin\n    abi = JSON.parse(response = Faraday.get(api_url).body)[\"result\"]\n\n    while abi==\"Max rate limit reached\" do\n      sleep(0.2)\n      abi = JSON.parse(response = Faraday.get(api_url).body)[\"result\"]\n    end\n  rescue Faraday::TimeoutError\n    sleep(1)\n    retry\n  end\n    \n  return abi\n}\n\ndecoder = Ethereum::Decoder.new\nencoder = Ethereum::Encoder.new\n\nAddress.client = client\nAddress.get_abi = get_abi\nAddress.decoder = decoder\n\n\ntime = Time.now()\n\nall_address = Tx.select(:from).distinct.all.map {|x| x.from}\naddr_hash = all_address.map {|x| [x,true]}.to_h\nAddress.panbot_address = addr_hash\n\nnil\n\nputs \"time #{Time.now-time} s\"\n\n\ndef data_import_transfer(block_number,client,addr_hash)\n  ## get block\n  block = client.eth_get_block_by_number(block_number,true)[\"result\"]\n  block[\"block_number\"] = block[\"number\"].to_i(16)\n  block[\"block_time\"] = Time.at(block[\"timestamp\"].to_i(16))\n\n  ## get tx receipt\n  transactions = block[\"transactions\"].filter {|x| addr_hash[x[\"from\"]] or addr_hash[x[\"to\"]] }.map {|tx|  tx[\"block_number\"]=block[\"block_number\"]; tx[\"block_time\"]=block[\"block_time\"]; tx}\n\n  transactions.map {|x| Address.load(x[\"from\"]); nil }\n  transactions.map {|x| Address.load(x[\"to\"]); nil }\n\n  transactions = Parallel.map(transactions,in_threads: 10) do |tx|\n    tx[\"receipt\"] = client.eth_get_transaction_receipt(tx[\"hash\"])[\"result\"]\n    tx\n  end\n\n  ## process tx\n  transactions.map! do |tx|\n    size = tx[\"input\"].size\n\n    if tx[\"to\"]!=nil then\n      to = Address.find_by_addr(tx[\"to\"])\n      if to.is_contract then\n        tx[\"method_name\"],tx[\"method_params\"] = to.decode_params(tx[\"input\"])\n      else\n        tx[\"method_name\"],tx[\"method_params\"] = \"Transfer\",\"\"\n      end\n    else\n      tx[\"method_name\"],tx[\"method_params\"] = \"CreateContract\",\"\"\n      tx[\"to\"] = tx[\"receipt\"][\"contractAddress\"]\n    end\n\n    tx[\"amount\"] = tx[\"value\"].to_i(16)/1e18\n    tx[\"block_number\"] = tx[\"blockNumber\"].to_i(16)\n    tx[\"gas_price\"] = tx[\"gasPrice\"].to_i(16)/1e9\n    tx[\"gas\"] = tx[\"gas\"].to_i(16)\n    tx[\"nonce\"] = tx[\"nonce\"].to_i(16)\n\n    tx[\"status\"] = tx[\"receipt\"][\"status\"]==\"0x1\" ? true : false\n\n    tx    \n  end\n        \n  transactions.filter {|x| x[\"status\"]==true}.map do |tx|\n    ar = Transfer.new()  \n    ar.from = tx[\"from\"]\n    ar.to = tx[\"to\"]\n    ar.amount = tx[\"value\"].to_i(16)\n    ar.method_name = tx[\"method_name\"]\n      \n    begin\n      ar.method_params = JSON.dump(tx[\"method_params\"])\n    rescue\n    end\n    ar.tx_hash = tx[\"hash\"]\n    ar.block_time = tx[\"block_time\"]\n    ar.block_number = tx[\"blockNumber\"].to_i(16)\n      \n    begin\n      ar.save!\n    rescue ActiveRecord::RecordNotUnique \n    end\n  end\n  \nend\n\ntime = Time.now()\n\nputs \"== data import transfer - start ==\"\nLog.log \"== data import transfer - start ==\"\n\n\n\nParallel.map(block_numbers.to_a,in_threads: 10) do |block_number|  \n  puts \"#{Time.now} blocks: #{block_number}\" if block_number%10000==0\n  Log.log \"#{Time.now} blocks: #{block_number}\" if block_number%10000==0\n  data_import_transfer(block_number,client,addr_hash)  \nend\n\nputs \"== data import transfer - end ==\"\nLog.log \"== data import transfer - end ==\"\nputs \"time #{Time.now-time} s\"\nLog.log \"time #{Time.now-time} s\"\n\nTASKCODE\n",
   "execution_count": 3,
   "outputs": [
    {
     "output_type": "execute_result",
     "execution_count": 3,
     "data": {
      "text/plain": "\"\\n# save to main-db\\nrequire 'active_record'\\nrequire 'faraday'\\nrequire 'ethereum.rb'\\nrequire 'faraday'\\nrequire 'parallel'\\nrequire 'resolv-replace'\\n\\nconnect_str = __PARAMS__CONNECT_STR__\\nhttp_endpoint = __PARAMS__HTTP_ENDPOINT__\\nblock_numbers = __PARAMS__BEGIN__..__PARAMS__END__\\n\\nActiveRecord::Base.establish_connection(connect_str)\\n\\n\\n## load data model from github\\nmodels = [\\\"application_record\\\",\\\"address\\\",\\\"cache\\\",\\\"block\\\",\\\"epoch\\\",\\\"epoch_detail\\\",\\\"event\\\",\\\"transfer\\\",\\\"tx\\\",\\\"log\\\"]\\nmodels.each do |model| \\n  url = \\\"https://raw.githubusercontent.com/adam429/panscan/main/panscan/app/models/\\#{model}.rb\\\"\\n  body = Faraday.get(url).body\\n  f = open(\\\"load.rb\\\",\\\"w\\\")\\n  f.write(body)\\n  f.close\\n  load './load.rb'\\nend\\n\\n## 数据准备\\n\\n\\ncontract_name = \\\"PancakePredictionV2\\\"\\ncontract_addr = \\\"0x18B2A687610328590Bc8F2e5fEdDe3b582A49cdA\\\".downcase\\nbscscan_apikey = \\\"HIFNPQFV6MY755QMVPFIAY7F25RUTHI26Z\\\"\\n\\nclient = Ethereum::HttpClient.new(http_endpoint)\\n\\napi_url = \\\"https://api.bscscan.com/api?module=contract&action=getabi&address=\\#{contract_addr}&apikey=\\#{bscscan_apikey}\\\"\\nabi = JSON.parse(JSON.parse(response = Faraday.get(api_url).body)[\\\"result\\\"])\\n\\ncontract = Ethereum::Contract.create(\\n        client: client, \\n        name: contract_name, \\n        address: contract_addr, \\n        abi: abi)\\n\\n\\n\\nget_abi = -> (contract_addr) {\\n  api_url = \\\"https://api.bscscan.com/api?module=contract&action=getabi&address=\\#{contract_addr}&apikey=\\#{bscscan_apikey}\\\"\\n  \\n  begin\\n    abi = JSON.parse(response = Faraday.get(api_url).body)[\\\"result\\\"]\\n\\n    while abi==\\\"Max rate limit reached\\\" do\\n      sleep(0.2)\\n      abi = JSON.parse(response = Faraday.get(api_url).body)[\\\"result\\\"]\\n    end\\n  rescue Faraday::TimeoutError\\n    sleep(1)\\n    retry\\n  end\\n    \\n  return abi\\n}\\n\\ndecoder = Ethereum::Decoder.new\\nencoder = Ethereum::Encoder.new\\n\\nAddress.client = client\\nAddress.get_abi = get_abi\\nAddress.decoder = decoder\\n\\n\\ntime = Time.now()\\n\\nall_address = Tx.select(:from).distinct.all.map {|x| x.from}\\naddr_hash = all_address.map {|x| [x,true]}.to_h\\nAddress.panbot_address = addr_hash\\n\\nnil\\n\\nputs \\\"time \\#{Time.now-time} s\\\"\\n\\n\\ndef data_import_transfer(block_number,client,addr_hash)\\n  ## get block\\n  block = client.eth_get_block_by_number(block_number,true)[\\\"result\\\"]\\n  block[\\\"block_number\\\"] = block[\\\"number\\\"].to_i(16)\\n  block[\\\"block_time\\\"] = Time.at(block[\\\"timestamp\\\"].to_i(16))\\n\\n  ## get tx receipt\\n  transactions = block[\\\"transactions\\\"].filter {|x| addr_hash[x[\\\"from\\\"]] or addr_hash[x[\\\"to\\\"]] }.map {|tx|  tx[\\\"block_number\\\"]=block[\\\"block_number\\\"]; tx[\\\"block_time\\\"]=block[\\\"block_time\\\"]; tx}\\n\\n  transactions.map {|x| Address.load(x[\\\"from\\\"]); nil }\\n  transactions.map {|x| Address.load(x[\\\"to\\\"]); nil }\\n\\n  transactions = Parallel.map(transactions,in_threads: 10) do |tx|\\n    tx[\\\"receipt\\\"] = client.eth_get_transaction_receipt(tx[\\\"hash\\\"])[\\\"result\\\"]\\n    tx\\n  end\\n\\n  ## process tx\\n  transactions.map! do |tx|\\n    size = tx[\\\"input\\\"].size\\n\\n    if tx[\\\"to\\\"]!=nil then\\n      to = Address.find_by_addr(tx[\\\"to\\\"])\\n      if to.is_contract then\\n        tx[\\\"method_name\\\"],tx[\\\"method_params\\\"] = to.decode_params(tx[\\\"input\\\"])\\n      else\\n        tx[\\\"method_name\\\"],tx[\\\"method_params\\\"] = \\\"Transfer\\\",\\\"\\\"\\n      end\\n    else\\n      tx[\\\"method_name\\\"],tx[\\\"method_params\\\"] = \\\"CreateContract\\\",\\\"\\\"\\n      tx[\\\"to\\\"] = tx[\\\"receipt\\\"][\\\"contractAddress\\\"]\\n    end\\n\\n    tx[\\\"amount\\\"] = tx[\\\"value\\\"].to_i(16)/1e18\\n    tx[\\\"block_number\\\"] = tx[\\\"blockNumber\\\"].to_i(16)\\n    tx[\\\"gas_price\\\"] = tx[\\\"gasPrice\\\"].to_i(16)/1e9\\n    tx[\\\"gas\\\"] = tx[\\\"gas\\\"].to_i(16)\\n    tx[\\\"nonce\\\"] = tx[\\\"nonce\\\"].to_i(16)\\n\\n    tx[\\\"status\\\"] = tx[\\\"receipt\\\"][\\\"status\\\"]==\\\"0x1\\\" ? true : false\\n\\n    tx    \\n  end\\n        \\n  transactions.filter {|x| x[\\\"status\\\"]==true}.map do |tx|\\n    ar = Transfer.new()  \\n    ar.from = tx[\\\"from\\\"]\\n    ar.to = tx[\\\"to\\\"]\\n    ar.amount = tx[\\\"value\\\"].to_i(16)\\n    ar.method_name = tx[\\\"method_name\\\"]\\n      \\n    begin\\n      ar.method_params = JSON.dump(tx[\\\"method_params\\\"])\\n    rescue\\n    end\\n    ar.tx_hash = tx[\\\"hash\\\"]\\n    ar.block_time = tx[\\\"block_time\\\"]\\n    ar.block_number = tx[\\\"blockNumber\\\"].to_i(16)\\n      \\n    begin\\n      ar.save!\\n    rescue ActiveRecord::RecordNotUnique \\n    end\\n  end\\n  \\nend\\n\\ntime = Time.now()\\n\\nputs \\\"== data import transfer - start ==\\\"\\nLog.log \\\"== data import transfer - start ==\\\"\\n\\n\\n\\nParallel.map(block_numbers.to_a,in_threads: 10) do |block_number|  \\n  puts \\\"\\#{Time.now} blocks: \\#{block_number}\\\" if block_number%10000==0\\n  Log.log \\\"\\#{Time.now} blocks: \\#{block_number}\\\" if block_number%10000==0\\n  data_import_transfer(block_number,client,addr_hash)  \\nend\\n\\nputs \\\"== data import transfer - end ==\\\"\\nLog.log \\\"== data import transfer - end ==\\\"\\nputs \\\"time \\#{Time.now-time} s\\\"\\nLog.log \\\"time \\#{Time.now-time} s\\\"\\n\\n\""
     },
     "metadata": {}
    }
   ]
  },
  {
   "cell_type": "code",
   "metadata": {
    "cell_id": "1c88bb56-5d87-4caa-9857-798c918be2ad",
    "tags": [],
    "deepnote_to_be_reexecuted": false,
    "source_hash": "632dc000",
    "execution_start": 1644878912142,
    "execution_millis": 27,
    "deepnote_output_heights": [
     21.1875
    ],
    "deepnote_cell_type": "code"
   },
   "source": "\ndb_last_transfer_block = Transfer.order(:block_number).last.block_number\nlast_block = $client.eth_get_block_by_number(\"latest\",false)[\"result\"][\"number\"].to_i(16)\n\ndb_last_block = Block.order(:block_number).last.block_number\ndb_last_epoch = Epoch.order(:epoch).last.epoch\nlast_epoch = $contract.call.current_epoch\nlast_block = $client.eth_get_block_by_number(\"latest\",false)[\"result\"][\"number\"].to_i(16)\n\nputs \"last_epoch = #{last_epoch}\"\nputs \"db_last_epoch = #{db_last_epoch}\"\nputs \"-----------------------\"\nputs \"last_block = #{last_block}\"\nputs \"db_last_block = #{db_last_block}\"\nputs \"-----------------------\"\nputs \"last_transfer_block = #{db_last_transfer_block}\"\nputs \"db_last_block = #{db_last_block}\"\nputs \"-----------------------\"\n\nputs \"epochs #{last_epoch-db_last_epoch} - blocks #{last_block-db_last_block} - transfer #{last_block-db_last_transfer_block}\"\nnil\n",
   "execution_count": 10,
   "outputs": [
    {
     "name": "stdout",
     "text": "last_epoch = 45126\ndb_last_epoch = 45124\n-----------------------\nlast_block = 15261199\ndb_last_block = 14958036\n-----------------------\nlast_transfer_block = 15244265\ndb_last_block = 14958036\n-----------------------\nepochs 2 - blocks 303163 - transfer 16934\n",
     "output_type": "stream"
    }
   ]
  },
  {
   "cell_type": "code",
   "metadata": {
    "cell_id": "85d348af-bd25-4047-a777-2a816c059a1c",
    "tags": [],
    "deepnote_to_be_reexecuted": false,
    "source_hash": "d5d381f9",
    "execution_start": 1644879059972,
    "execution_millis": 64,
    "deepnote_cell_type": "code"
   },
   "source": "begin_block = db_last_transfer_block\nend_block = last_block\nstep = 10000\n\nloop do\n  task_end_block = [(begin_block+step)/10000*10000,begin_block+step,end_block].min\n  task_name = \"data-import-transfer #{begin_block} - #{task_end_block}\"\n  task_code = code.gsub(/__PARAMS__BEGIN__/,begin_block.to_s)\n                  .gsub(/__PARAMS__END__/,task_end_block.to_s)\n                  .gsub(/__PARAMS__CONNECT_STR__/,'\"'+ENV[\"DB_CONNECT_STR\"]+'\"')\n                  .gsub(/__PARAMS__HTTP_ENDPOINT__/,'\"'+ENV[\"HTTP_ENDPOINT\"]+'\"')\n  puts task_name\n  Task.create_task(task_name, task_code)\n\n  begin_block = [(begin_block+step)/10000*10000,begin_block+step].min\n  break if begin_block > end_block\nend\n\n",
   "execution_count": 15,
   "outputs": [
    {
     "name": "stdout",
     "text": "data-import-transfer 15244265 - 15250000\ndata-import-transfer 15250000 - 15260000\ndata-import-transfer 15260000 - 15261199\n",
     "output_type": "stream"
    }
   ]
  },
  {
   "cell_type": "code",
   "metadata": {
    "cell_id": "c81ff73d-df52-45cb-9591-4402ea469ca1",
    "tags": [],
    "deepnote_cell_type": "code"
   },
   "source": "",
   "execution_count": null,
   "outputs": [
    {
     "name": "stdout",
     "text": "postgres://u3jro090e4mjir:p5bb01e1f1e7a8b34936331f0c30e417234be2722c97001ea82818ca4a700ebc9@ec2-34-198-50-175.compute-1.amazonaws.com:5432/dfknjjv4a1of2h?pool=20\n",
     "output_type": "stream"
    }
   ]
  },
  {
   "cell_type": "code",
   "metadata": {
    "cell_id": "ccd8a943-1931-4b8f-8039-33bd45960d67",
    "tags": [],
    "deepnote_cell_type": "code"
   },
   "source": "",
   "execution_count": null,
   "outputs": []
  },
  {
   "cell_type": "markdown",
   "source": "<a style='text-decoration:none;line-height:16px;display:flex;color:#5B5B62;padding:10px;justify-content:end;' href='https://deepnote.com?utm_source=created-in-deepnote-cell&projectId=ebde59c2-d67b-4e31-ad3b-1bdd07014691' target=\"_blank\">\n<img alt='Created in deepnote.com' style='display:inline;max-height:16px;margin:0px;margin-right:7.5px;' src='data:image/svg+xml;base64,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' > </img>\nCreated in <span style='font-weight:600;margin-left:4px;'>Deepnote</span></a>",
   "metadata": {
    "tags": [],
    "created_in_deepnote_cell": true,
    "deepnote_cell_type": "markdown"
   }
  }
 ],
 "nbformat": 4,
 "nbformat_minor": 2,
 "metadata": {
  "orig_nbformat": 2,
  "deepnote": {
   "is_reactive": false
  },
  "deepnote_notebook_id": "f6bc9e21-0e12-44a5-b83a-fd9cc3dade6d",
  "deepnote_execution_queue": []
 }
}