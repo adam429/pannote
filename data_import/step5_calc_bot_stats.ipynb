{
 "cells": [
  {
   "cell_type": "code",
   "metadata": {
    "tags": [],
    "cell_id": "d5c68487-96e2-49c7-8c6e-4e8579c1099c",
    "deepnote_to_be_reexecuted": false,
    "source_hash": "f9765597",
    "execution_start": 1644896756650,
    "execution_millis": 289,
    "deepnote_output_heights": [
     21.1875
    ],
    "deepnote_cell_height": 190.140625,
    "deepnote_cell_type": "code"
   },
   "source": "# Start writing cod# load init moudle file\n\n$data_import = true\nload \"/work/pannote/panbot_note.rb\"\n",
   "execution_count": null,
   "outputs": [
    {
     "output_type": "execute_result",
     "execution_count": 32,
     "data": {
      "text/plain": "true"
     },
     "metadata": {}
    }
   ]
  },
  {
   "cell_type": "code",
   "metadata": {
    "cell_id": "4751d3be-71bb-4c7a-aefe-06c8dc2ddd32",
    "tags": [],
    "deepnote_to_be_reexecuted": false,
    "source_hash": "4d1b204",
    "execution_start": 1644897642465,
    "execution_millis": 153748,
    "deepnote_output_heights": [
     21.1875
    ],
    "deepnote_cell_height": 2476.140625,
    "deepnote_cell_type": "code"
   },
   "source": "code = <<~'TASKCODE'\n\n# save to main-db\nrequire 'active_record'\nrequire 'faraday'\nrequire 'ethereum.rb'\nrequire 'faraday'\nrequire 'parallel'\nrequire 'resolv-replace'\n\nconnect_str = __PARAMS__CONNECT_STR__\nActiveRecord::Base.establish_connection(connect_str)\n\n\n## load data model from github\nmodels = [\"application_record\",\"address\",\"cache\",\"block\",\"epoch\",\"epoch_detail\",\"event\",\"transfer\",\"tx\",\"log\"]\nmodels.each do |model| \n  url = \"https://raw.githubusercontent.com/adam429/panscan/main/panscan/app/models/#{model}.rb\"\n  body = Faraday.get(url).body\n  f = open(\"load.rb\",\"w\")\n  f.write(body)\n  f.close\n  load './load.rb'\nend\n\n## 数据准备\n\n\ndef calc_bot_stats(address)\n  ar_addr = Address.find_by_addr(address)\n  return if ar_addr.bet_cnt!=nil\n  \n  txes = Tx.where('\"from\" = ?',address).where(\"method_name=? or method_name=?\",'betBull','betBear').order(:block_number)\n\n  tx_map = {}\n  Event.where(tx_hash:txes.map {|x| x.tx_hash}).each {|event|\n      amount = JSON.parse(event.params)[\"amount\"]\n      tx_map[event.tx_hash] = [\n         event.name,\n         amount,\n         event.block_number\n     ]\n  }        \n\n  epoch_map = {}\n\n  tx_block_map = txes.map {|x| [x.tx_hash,x.block_number]}.to_h\n  block_epoch_map = Block.where(block_number:txes.map {|x| x.block_number}).map {|x| [x.block_number,x.epoch]}.to_h\n  epoch_ar_map = Epoch.where(epoch:block_epoch_map.to_a.map{|x| x[1]}).map {|x| [x.epoch,x]}.to_h\n\n  tx_block_map.each { |k,v| \n      epoch_map[k] = epoch_ar_map[block_epoch_map[v]]\n  }\n\n    avg_last_block_order = []\n    wrong_bet_list =[]\n    win_bet_list = []\n    avg_amount = []\n    invest_cnt = 0\n    invest_amt = 0\n    return_amt = 0\n\n    Parallel.map(txes,in_threads: 10) do |tx|\n      round_ret = 0\n      x = tx_map[tx.tx_hash]\n      avg_amount.push(x[1]) if x!=nil\n\n      epoch = epoch_map[tx.tx_hash]\n      next if epoch==nil\n\n      last_block_order = epoch.get_last_block_order(tx.block_number)\n\n      next if last_block_order==nil\n      avg_last_block_order.push(last_block_order) if tx.tx_status \n      try_count = 3\n\nbegin\n      wrong_bet = epoch.get_wrong_bet(tx.method_name,tx.block_number);\n      try_count = try_count-1\nrescue NoMethodError=>e\n  sleep(1)\n  retry if try_count>0\n  puts tx.inspect\n  raise NoMethodError\nend\n\n      wrong_bet_list.push wrong_bet\n      win_bet = tx.method_name[-4,4].downcase == epoch.bet_result \n      win_bet_list.push win_bet\n\n      if tx.tx_status then\n        invest_cnt = invest_cnt +1\n        bet_amt = (tx_map[tx.tx_hash] or [0,0,0])[1]\n        invest_amt = invest_amt + bet_amt\n\n        round_ret =  - bet_amt\n        if tx.method_name==\"betBear\" and epoch.bet_result==\"bear\" then\n          round_ret = round_ret+ bet_amt * epoch.bear_payout\n        end\n        if tx.method_name==\"betBull\" and epoch.bet_result==\"bull\" then\n          round_ret = round_ret+bet_amt * epoch.bull_payout\n        end\n        return_amt = return_amt + round_ret\n\n      end\n  end\n  ar_addr.bet_epoch_cnt = txes.map {|x| x.block ? x.block.epoch : 0}.uniq.size\n  ar_addr.invest_cnt = txes.where(tx_status:true).size\n  ar_addr.bet_cnt = txes.size\n  ar_addr.bet_bull_cnt = txes.where(method_name:\"betBull\").size\n  ar_addr.bet_bear_cnt = txes.where(method_name:\"betBear\").size\n  ar_addr.avg_bet_amt = avg_amount.sum / avg_amount.size.to_f\n  ar_addr.bet_amt = JSON.dump(avg_amount)\n  ar_addr.avg_last_block_order = avg_last_block_order.sum / avg_last_block_order.size.to_f\n  ar_addr.right_bet_ratio = wrong_bet_list.filter{|x| x==false}.size / wrong_bet_list.size.to_f\n  ar_addr.win_bet_ratio = win_bet_list.filter{|x| x==true}.size / win_bet_list.size.to_f\n  ar_addr.invest_amt = invest_amt\n  ar_addr.return_amt = return_amt\n  ar_addr.save\nend\n\nputs \"#{Time.now} start\"\naddr_list = __PARAMS__ADDR_LIST__\naddr_list.map do |address|\n  calc_bot_stats(address)\nend\n\nputs \"#{Time.now} end\"\n\nTASKCODE\n\n",
   "execution_count": null,
   "outputs": [
    {
     "output_type": "execute_result",
     "execution_count": 55,
     "data": {
      "text/plain": "\"\\n# save to main-db\\nrequire 'active_record'\\nrequire 'faraday'\\nrequire 'ethereum.rb'\\nrequire 'faraday'\\nrequire 'parallel'\\nrequire 'resolv-replace'\\n\\nconnect_str = __PARAMS__CONNECT_STR__\\nActiveRecord::Base.establish_connection(connect_str)\\n\\n\\n## load data model from github\\nmodels = [\\\"application_record\\\",\\\"address\\\",\\\"cache\\\",\\\"block\\\",\\\"epoch\\\",\\\"epoch_detail\\\",\\\"event\\\",\\\"transfer\\\",\\\"tx\\\",\\\"log\\\"]\\nmodels.each do |model| \\n  url = \\\"https://raw.githubusercontent.com/adam429/panscan/main/panscan/app/models/\\#{model}.rb\\\"\\n  body = Faraday.get(url).body\\n  f = open(\\\"load.rb\\\",\\\"w\\\")\\n  f.write(body)\\n  f.close\\n  load './load.rb'\\nend\\n\\n## 数据准备\\n\\n\\ndef calc_bot_stats(address)\\n  ar_addr = Address.find_by_addr(address)\\n  return if ar_addr.bet_cnt!=nil\\n  \\n  txes = Tx.where('\\\"from\\\" = ?',address).where(\\\"method_name=? or method_name=?\\\",'betBull','betBear').order(:block_number)\\n\\n  tx_map = {}\\n  Event.where(tx_hash:txes.map {|x| x.tx_hash}).each {|event|\\n      amount = JSON.parse(event.params)[\\\"amount\\\"]\\n      tx_map[event.tx_hash] = [\\n         event.name,\\n         amount,\\n         event.block_number\\n     ]\\n  }        \\n\\n  epoch_map = {}\\n\\n  tx_block_map = txes.map {|x| [x.tx_hash,x.block_number]}.to_h\\n  block_epoch_map = Block.where(block_number:txes.map {|x| x.block_number}).map {|x| [x.block_number,x.epoch]}.to_h\\n  epoch_ar_map = Epoch.where(epoch:block_epoch_map.to_a.map{|x| x[1]}).map {|x| [x.epoch,x]}.to_h\\n\\n  tx_block_map.each { |k,v| \\n      epoch_map[k] = epoch_ar_map[block_epoch_map[v]]\\n  }\\n\\n    avg_last_block_order = []\\n    wrong_bet_list =[]\\n    win_bet_list = []\\n    avg_amount = []\\n    invest_cnt = 0\\n    invest_amt = 0\\n    return_amt = 0\\n\\n    Parallel.map(txes,in_threads: 10) do |tx|\\n      round_ret = 0\\n      x = tx_map[tx.tx_hash]\\n      avg_amount.push(x[1]) if x!=nil\\n\\n      epoch = epoch_map[tx.tx_hash]\\n      next if epoch==nil\\n\\n      last_block_order = epoch.get_last_block_order(tx.block_number)\\n\\n      next if last_block_order==nil\\n      avg_last_block_order.push(last_block_order) if tx.tx_status \\n      try_count = 3\\n\\nbegin\\n      wrong_bet = epoch.get_wrong_bet(tx.method_name,tx.block_number);\\n      try_count = try_count-1\\nrescue NoMethodError=>e\\n  sleep(1)\\n  retry if try_count>0\\n  puts tx.inspect\\n  raise NoMethodError\\nend\\n\\n      wrong_bet_list.push wrong_bet\\n      win_bet = tx.method_name[-4,4].downcase == epoch.bet_result \\n      win_bet_list.push win_bet\\n\\n      if tx.tx_status then\\n        invest_cnt = invest_cnt +1\\n        bet_amt = (tx_map[tx.tx_hash] or [0,0,0])[1]\\n        invest_amt = invest_amt + bet_amt\\n\\n        round_ret =  - bet_amt\\n        if tx.method_name==\\\"betBear\\\" and epoch.bet_result==\\\"bear\\\" then\\n          round_ret = round_ret+ bet_amt * epoch.bear_payout\\n        end\\n        if tx.method_name==\\\"betBull\\\" and epoch.bet_result==\\\"bull\\\" then\\n          round_ret = round_ret+bet_amt * epoch.bull_payout\\n        end\\n        return_amt = return_amt + round_ret\\n\\n      end\\n  end\\n  ar_addr.bet_epoch_cnt = txes.map {|x| x.block ? x.block.epoch : 0}.uniq.size\\n  ar_addr.invest_cnt = txes.where(tx_status:true).size\\n  ar_addr.bet_cnt = txes.size\\n  ar_addr.bet_bull_cnt = txes.where(method_name:\\\"betBull\\\").size\\n  ar_addr.bet_bear_cnt = txes.where(method_name:\\\"betBear\\\").size\\n  ar_addr.avg_bet_amt = avg_amount.sum / avg_amount.size.to_f\\n  ar_addr.bet_amt = JSON.dump(avg_amount)\\n  ar_addr.avg_last_block_order = avg_last_block_order.sum / avg_last_block_order.size.to_f\\n  ar_addr.right_bet_ratio = wrong_bet_list.filter{|x| x==false}.size / wrong_bet_list.size.to_f\\n  ar_addr.win_bet_ratio = win_bet_list.filter{|x| x==true}.size / wrong_bet_list.size.to_f\\n  ar_addr.invest_amt = invest_amt\\n  ar_addr.return_amt = return_amt\\n  ar_addr.save\\nend\\n\\nputs \\\"\\#{Time.now} start\\\"\\naddr_list = __PARAMS__ADDR_LIST__\\naddr_list.map do |address|\\n  calc_bot_stats(address)\\nend\\n\\nputs \\\"\\#{Time.now} end\\\"\\n\\n\""
     },
     "metadata": {}
    }
   ]
  },
  {
   "cell_type": "code",
   "metadata": {
    "cell_id": "3115cc21-cba6-4b28-8a68-21ad49c3bd23",
    "tags": [],
    "deepnote_to_be_reexecuted": false,
    "source_hash": "2e0ef05e",
    "execution_start": 1644898066664,
    "execution_millis": 3951,
    "deepnote_output_heights": [
     21.1875
    ],
    "deepnote_cell_height": 154.140625,
    "deepnote_cell_type": "code"
   },
   "source": "addr_list = Address.where(is_panbot:true).order(:id).select(:addr,:id,:bet_cnt).map {|x| [x.id,x.addr,x.bet_cnt] }\naddr_list = addr_list.filter {|x| x[2]==nil}\naddr_list = addr_list.map.with_index.to_a.map {|x| [x[0][0],x[0][1],x[0][2],x[1]] }",
   "execution_count": null,
   "outputs": [
    {
     "output_type": "execute_result",
     "execution_count": 58,
     "data": {
      "text/plain": "[]"
     },
     "metadata": {}
    }
   ]
  },
  {
   "cell_type": "code",
   "metadata": {
    "cell_id": "25b3ba60-ea6e-4efd-ac5b-474e40764990",
    "tags": [],
    "deepnote_to_be_reexecuted": false,
    "source_hash": "d8528e00",
    "execution_start": 1644897672154,
    "execution_millis": 478,
    "deepnote_output_heights": [
     21.1875
    ],
    "deepnote_cell_height": 988.9375,
    "deepnote_cell_type": "code"
   },
   "source": "begin_id = addr_list.first[3]\nend_id = addr_list.last[3]\nstep = 1000\n\nloop do\n  task_end_id = [(begin_id+step)/1000*1000,begin_id+step,end_id].min\n  task_name = \"calc_bot_stats #{begin_id} - #{task_end_id}\"\n\n  puts task_name\n  task_code = code.gsub(/__PARAMS__CONNECT_STR__/,'\"'+ENV[\"DB_CONNECT_STR\"]+'\"')\n                  .gsub(/__PARAMS__ADDR_LIST__/,\"[#{ addr_list[begin_id,task_end_id-begin_id+1].map{|x| '\\''+x[1]+'\\''}.join(',') } ]\" )\n  Task.create_task(task_name, task_code)\n\n  begin_id = [(begin_id+step)/1000*1000,begin_id+step].min\n  break if begin_id > end_id\nend\n",
   "execution_count": null,
   "outputs": [
    {
     "name": "stdout",
     "text": "calc_bot_stats 0 - 100\ncalc_bot_stats 100 - 200\ncalc_bot_stats 200 - 300\ncalc_bot_stats 300 - 400\ncalc_bot_stats 400 - 500\ncalc_bot_stats 500 - 600\ncalc_bot_stats 600 - 700\ncalc_bot_stats 700 - 800\ncalc_bot_stats 800 - 900\ncalc_bot_stats 900 - 1000\ncalc_bot_stats 1000 - 1100\ncalc_bot_stats 1100 - 1200\ncalc_bot_stats 1200 - 1300\ncalc_bot_stats 1300 - 1400\ncalc_bot_stats 1400 - 1500\ncalc_bot_stats 1500 - 1600\ncalc_bot_stats 1600 - 1700\ncalc_bot_stats 1700 - 1800\ncalc_bot_stats 1800 - 1900\ncalc_bot_stats 1900 - 2000\ncalc_bot_stats 2000 - 2100\ncalc_bot_stats 2100 - 2200\ncalc_bot_stats 2200 - 2300\ncalc_bot_stats 2300 - 2400\ncalc_bot_stats 2400 - 2500\ncalc_bot_stats 2500 - 2600\ncalc_bot_stats 2600 - 2700\ncalc_bot_stats 2700 - 2800\ncalc_bot_stats 2800 - 2900\ncalc_bot_stats 2900 - 3000\ncalc_bot_stats 3000 - 3100\ncalc_bot_stats 3100 - 3200\ncalc_bot_stats 3200 - 3300\ncalc_bot_stats 3300 - 3400\ncalc_bot_stats 3400 - 3500\ncalc_bot_stats 3500 - 3600\ncalc_bot_stats 3600 - 3700\ncalc_bot_stats 3700 - 3800\ncalc_bot_stats 3800 - 3900\ncalc_bot_stats 3900 - 4000\ncalc_bot_stats 4000 - 4100\ncalc_bot_stats 4100 - 4200\ncalc_bot_stats 4200 - 4300\ncalc_bot_stats 4300 - 4400\ncalc_bot_stats 4400 - 4500\ncalc_bot_stats 4500 - 4600\ncalc_bot_stats 4600 - 4700\ncalc_bot_stats 4700 - 4800\ncalc_bot_stats 4800 - 4900\ncalc_bot_stats 4900 - 5000\ncalc_bot_stats 5000 - 5100\ncalc_bot_stats 5100 - 5200\ncalc_bot_stats 5200 - 5300\ncalc_bot_stats 5300 - 5400\ncalc_bot_stats 5400 - 5500\ncalc_bot_stats 5500 - 5600\ncalc_bot_stats 5600 - 5700\ncalc_bot_stats 5700 - 5765\n",
     "output_type": "stream"
    }
   ]
  },
  {
   "cell_type": "code",
   "metadata": {
    "cell_id": "abd33ebc-f54e-4332-9d7e-a0184bb787b6",
    "tags": [],
    "deepnote_to_be_reexecuted": false,
    "source_hash": "c1630078",
    "execution_start": 1644896780828,
    "execution_millis": 6,
    "deepnote_output_heights": [
     21.1875
    ],
    "deepnote_cell_height": 118.140625,
    "deepnote_cell_type": "code"
   },
   "source": "Address.find_by_addr(\"0x81789ce3db8e4eb0cd084e055c90da4f37843c55\")",
   "execution_count": null,
   "outputs": [
    {
     "output_type": "execute_result",
     "execution_count": 36,
     "data": {
      "text/plain": "#<Address id: 916225, addr: \"0x81789ce3db8e4eb0cd084e055c90da4f37843c55\", is_contract: false, contract_abi: nil, is_panbot: true, bet_cnt_daily: nil, bet_epoch_cnt: 9, invest_cnt: 9, bet_cnt: 9, bet_bull_cnt: 6, bet_bear_cnt: 3, avg_bet_amt: 0.07, bet_amt: \"[0.05,0.05,0.05,0.05,0.1,0.2,0.05,0.03,0.05]\", right_bet_ratio: 0.2222222222222222, win_bet_ratio: 0.4444444444444444, invest_amt: 0.6300000000000001, return_amt: -0.26074671789579507, created_at: \"2022-02-15 00:14:27.716693000 +0000\", updated_at: \"2022-02-15 03:24:58.066399000 +0000\", tag: nil, avg_last_block_order: 33.333333333333336>"
     },
     "metadata": {}
    }
   ]
  },
  {
   "cell_type": "code",
   "metadata": {
    "cell_id": "3537349c-9711-48a4-b39b-07fa90e6d29e",
    "tags": [],
    "deepnote_cell_height": 65.953125,
    "deepnote_cell_type": "code"
   },
   "source": "",
   "execution_count": null,
   "outputs": []
  },
  {
   "cell_type": "markdown",
   "source": "<a style='text-decoration:none;line-height:16px;display:flex;color:#5B5B62;padding:10px;justify-content:end;' href='https://deepnote.com?utm_source=created-in-deepnote-cell&projectId=ebde59c2-d67b-4e31-ad3b-1bdd07014691' target=\"_blank\">\n<img alt='Created in deepnote.com' style='display:inline;max-height:16px;margin:0px;margin-right:7.5px;' src='data:image/svg+xml;base64,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' > </img>\nCreated in <span style='font-weight:600;margin-left:4px;'>Deepnote</span></a>",
   "metadata": {
    "tags": [],
    "created_in_deepnote_cell": true,
    "deepnote_cell_type": "markdown"
   }
  }
 ],
 "nbformat": 4,
 "nbformat_minor": 2,
 "metadata": {
  "orig_nbformat": 2,
  "deepnote": {
   "is_reactive": false
  },
  "deepnote_notebook_id": "98fc42b2-faa3-477e-aa23-a606d089396c",
  "deepnote_execution_queue": []
 }
}