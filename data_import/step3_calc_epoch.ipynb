{
 "cells": [
  {
   "cell_type": "code",
   "metadata": {
    "tags": [],
    "cell_id": "fdd473f6-5115-43a9-b703-f30517dfdeb4",
    "deepnote_to_be_reexecuted": false,
    "source_hash": "f9765597",
    "execution_start": 1646294575758,
    "execution_millis": 3818,
    "deepnote_cell_type": "code",
    "deepnote_output_heights": [
     21.1875
    ]
   },
   "source": "# Start writing cod# load init moudle file\n\n$data_import = true\nload \"/work/pannote/panbot_note.rb\"\n",
   "execution_count": null,
   "outputs": [
    {
     "output_type": "execute_result",
     "execution_count": 1,
     "data": {
      "text/plain": "true"
     },
     "metadata": {}
    }
   ]
  },
  {
   "cell_type": "code",
   "metadata": {
    "cell_id": "e92a5bf7-0dac-46d1-87ac-5b3ad7eafc2b",
    "tags": [],
    "deepnote_to_be_reexecuted": false,
    "source_hash": "b3d260bb",
    "execution_start": 1644882960739,
    "execution_millis": 511,
    "deepnote_cell_type": "code"
   },
   "source": "\ndb_last_transfer_block = Transfer.order(:block_number).last.block_number\nlast_block = $client.eth_get_block_by_number(\"latest\",false)[\"result\"][\"number\"].to_i(16)\n\ndb_last_block = Block.order(:block_number).last.block_number\ndb_last_epoch = Epoch.order(:epoch).last.epoch\nlast_epoch = $contract.call.current_epoch\nlast_block = $client.eth_get_block_by_number(\"latest\",false)[\"result\"][\"number\"].to_i(16)\n\nputs \"last_epoch = #{last_epoch}\"\nputs \"db_last_epoch = #{db_last_epoch}\"\nputs \"-----------------------\"\nputs \"last_block = #{last_block}\"\nputs \"db_last_block = #{db_last_block}\"\nputs \"-----------------------\"\nputs \"last_transfer_block = #{db_last_transfer_block}\"\nputs \"db_last_block = #{db_last_block}\"\nputs \"-----------------------\"\n\nputs \"epochs #{last_epoch-db_last_epoch} - blocks #{last_block-db_last_block} - transfer #{last_block-db_last_transfer_block}\"\nnil",
   "execution_count": null,
   "outputs": [
    {
     "name": "stdout",
     "text": "last_epoch = 45139\ndb_last_epoch = 45124\n-----------------------\nlast_block = 15262548\ndb_last_block = 15261803\n-----------------------\nlast_transfer_block = 15261199\ndb_last_block = 15261803\n-----------------------\nepochs 15 - blocks 745 - transfer 1349\n",
     "output_type": "stream"
    }
   ]
  },
  {
   "cell_type": "code",
   "metadata": {
    "cell_id": "b5d84eac-41c6-4a53-a017-f193f1a24cf5",
    "tags": [],
    "deepnote_to_be_reexecuted": false,
    "source_hash": "8c2dbcad",
    "execution_start": 1644884102074,
    "execution_millis": 47924,
    "deepnote_cell_type": "code"
   },
   "source": "# Calc Epoch\nputs \"Epoch\"\n\ntime = Time.now\n\nepoch_start = Epoch.where(total_count:nil).select(:epoch).map {|x| x.epoch}.min\nepoch_end = Epoch.where(total_count:nil).select(:epoch).map {|x| x.epoch}.max\n# epoch_start = Epoch.first_epoch\n# epoch_end = Epoch.last_epoch\n# epoch_start = db_last_epoch+1\n# epoch_end = last_epoch - 1\n\nParallel.map((epoch_start..epoch_end).to_a,in_threads: 10) do |epoch_number|\n  puts \"time:#{Time.now} epoch_number: #{epoch_number}\" if epoch_number%1000==0\n\n  e = Epoch.find_by_epoch(epoch_number)\n  next if e.total_count!=nil\n\n  e.total_count = e._event.where(\"name = ? or name = ?\",\"BetBear\",\"BetBull\").count\n\n  start_block = e._block.where(\"? <= block_time and block_time < ?\",e.start_timestamp,e.start_timestamp+30).order(:block_time).first\n  e.start_block_number = start_block ? start_block.block_number : 0\n\n  lock_block = e._block.where(\"? <= block_time and block_time < ?\",e.lock_timestamp,e.lock_timestamp+30).order(:block_time).first\n  e.lock_block_number = lock_block ? lock_block.block_number : 0\n  e.save!\n\n  # block belong to epoch\n  local_epoch = Epoch.find_by_epoch(epoch_number)  \n  local_block = local_epoch._block\n  local_block.in_batches.update_all(epoch: local_epoch.epoch)\n  nil\nend\nnil\nputs \"calc #{ Time.now-time }\"\n",
   "execution_count": null,
   "outputs": [
    {
     "name": "stdout",
     "text": "Epoch\ntime:2022-02-15 00:15:07 +0000 epoch_number: 43000\ntime:2022-02-15 00:15:15 +0000 epoch_number: 44000\ntime:2022-02-15 00:15:24 +0000 epoch_number: 45000\ncalc 47.961483822\n",
     "output_type": "stream"
    }
   ]
  },
  {
   "cell_type": "code",
   "metadata": {
    "cell_id": "6ac6a1f1-a57d-4bfd-8397-750a8783628c",
    "tags": [],
    "deepnote_to_be_reexecuted": false,
    "source_hash": "eb7b5637",
    "execution_start": 1644884261718,
    "execution_millis": 265,
    "deepnote_cell_type": "code",
    "deepnote_output_heights": [
     21.1875
    ]
   },
   "source": "puts \"[epoch null] -- Block #{Block.where(\"epoch is null\").count}  \"",
   "execution_count": null,
   "outputs": [
    {
     "name": "stdout",
     "text": "[epoch null] -- Block 51859  \n",
     "output_type": "stream"
    }
   ]
  },
  {
   "cell_type": "code",
   "metadata": {
    "cell_id": "aacde66c-8bf8-471e-9bdb-f0de7fac5e1a",
    "tags": [],
    "deepnote_to_be_reexecuted": false,
    "source_hash": "4ce9690e",
    "execution_start": 1644884859866,
    "execution_millis": 2432,
    "deepnote_cell_type": "code"
   },
   "source": "# Calc Epoch-Tx\nrequire 'parallel'\nputs \"epoch_detail\"\n\ntime = Time.now\n\n# epoch_start = Epoch.first_epoch\n# epoch_end = Epoch.last_epoch\n# epoch_start = db_last_epoch+1\n# epoch_end = last_epoch - 1\n\n\nParallel.map((epoch_start..epoch_end).to_a,in_threads: 10) do |epoch_number|\n    puts \"time:#{Time.now} epoch_number: #{epoch_number}\" if epoch_number%1000==0\n    local_epoch = Epoch.find_by_epoch(epoch_number)\n    next if local_epoch.detail.size!=0\n  \n    event_map = {}\n    local_epoch.event.each {|event|\n        amount = JSON.parse(event.params)[\"amount\"]\n        if event.name==\"BetBull\" or event.name==\"BetBear\" then\n          event_map[event.tx_hash] = [\n              event.name,\n              amount,\n              event.block_number\n          ]\n        end\n    }            \n    bull_amount = 0\n    bear_amount = 0\n    count =0\n\n    local_epoch.block.each {|block|\n        tx = event_map.to_a.map {|x| x.flatten}.filter {|x| x[3]==block.block_number}\n        tx.each do |x|\n          if x[1]==\"BetBull\" then\n              bull_amount=bull_amount+x[2]\n          end\n          if x[1]==\"BetBear\" then\n              bear_amount=bear_amount+x[2]\n          end\n        end\n        count = count +tx.size\n        \n        ed = EpochDetail.new()\n        ed.block_number = block.block_number\n        ed.block_time = block.block_time\n        ed.epoch = local_epoch.epoch\n        ed.bet_count = count\n        ed.bull_amount = bull_amount\n        ed.bear_amount = bear_amount\n        ed.bull_payout = bull_amount==0?0:(bull_amount+bear_amount)/bull_amount\n        ed.bear_payout = bear_amount==0?0:(bull_amount+bear_amount)/bear_amount\n        ed.save\n            \n    }            \nend\nputs \"calc #{ Time.now-time }\"\n                  \n",
   "execution_count": null,
   "outputs": [
    {
     "name": "stdout",
     "text": "epoch_detail\ntime:2022-02-15 00:27:40 +0000 epoch_number: 43000\ntime:2022-02-15 00:27:41 +0000 epoch_number: 44000\ntime:2022-02-15 00:27:42 +0000 epoch_number: 45000\ncalc 2.429251007\n",
     "output_type": "stream"
    }
   ]
  },
  {
   "cell_type": "code",
   "metadata": {
    "cell_id": "691495d3-1026-4f55-82ad-91fff6d74795",
    "tags": [],
    "deepnote_to_be_reexecuted": false,
    "source_hash": "c791f0e0",
    "execution_start": 1646285341817,
    "execution_millis": 74,
    "deepnote_cell_type": "code"
   },
   "source": "Block.where(\"block_number > ?\",15600000).each {|x| x.delete}\nTx.where(\"block_number > ?\",15600000).each {|x| x.delete}\nEvent.where(\"block_number > ?\",15600000).each {|x| x.delete}\nEpochDetail.where(\"block_number > ?\",15600000).each {|x| x.delete}\nEpoch.where(\"epoch >= ?\",Epoch.where(\"lock_block_number > ?\",15600000).order(:epoch).first.epoch-1).each {|x| x.delete}\n",
   "execution_count": null,
   "outputs": [
    {
     "output_type": "error",
     "ename": "NoMethodError",
     "evalue": "undefined method `epoch' for nil:NilClass",
     "traceback": [
      "\u001b[31mNoMethodError\u001b[0m: undefined method `epoch' for nil:NilClass",
      "(irb):4:in `irb_binding'"
     ]
    }
   ]
  },
  {
   "cell_type": "code",
   "metadata": {
    "cell_id": "3ba61dad-2569-47ed-a0fe-e20b43d06e57",
    "tags": [],
    "deepnote_to_be_reexecuted": false,
    "source_hash": "aac3ff85",
    "execution_start": 1645951739882,
    "execution_millis": 139,
    "deepnote_cell_type": "code"
   },
   "source": "puts Block.where(\"block_number > ?\",15600000).count\nputs Tx.where(\"block_number > ?\",15600000).count\nputs Event.where(\"block_number > ?\",15600000).count\nputs EpochDetail.where(\"block_number > ?\",15600000).count\nputs Epoch.where(\"lock_block_number > ?\",15600000).count",
   "execution_count": null,
   "outputs": [
    {
     "name": "stdout",
     "text": "0\n0\n0\n0\n0\n",
     "output_type": "stream"
    }
   ]
  },
  {
   "cell_type": "code",
   "metadata": {
    "cell_id": "6a54966d-537c-4551-a91b-9784a882df81",
    "tags": [],
    "deepnote_to_be_reexecuted": false,
    "source_hash": "6a2cb597",
    "execution_start": 1646295201425,
    "execution_millis": 36,
    "deepnote_cell_type": "code"
   },
   "source": "puts Task.where(status:\"abort\").map {|x| x.status=\"open\"; x.save}",
   "execution_count": null,
   "outputs": [
    {
     "name": "stdout",
     "text": "true\ntrue\ntrue\ntrue\n",
     "output_type": "stream"
    }
   ]
  },
  {
   "cell_type": "code",
   "metadata": {
    "cell_id": "69fea8db-872c-40da-bb88-6df9b3a665fc",
    "tags": [],
    "deepnote_cell_type": "code"
   },
   "source": "",
   "execution_count": null,
   "outputs": []
  },
  {
   "cell_type": "markdown",
   "source": "<a style='text-decoration:none;line-height:16px;display:flex;color:#5B5B62;padding:10px;justify-content:end;' href='https://deepnote.com?utm_source=created-in-deepnote-cell&projectId=ebde59c2-d67b-4e31-ad3b-1bdd07014691' target=\"_blank\">\n<img alt='Created in deepnote.com' style='display:inline;max-height:16px;margin:0px;margin-right:7.5px;' src='data:image/svg+xml;base64,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' > </img>\nCreated in <span style='font-weight:600;margin-left:4px;'>Deepnote</span></a>",
   "metadata": {
    "tags": [],
    "created_in_deepnote_cell": true,
    "deepnote_cell_type": "markdown"
   }
  }
 ],
 "nbformat": 4,
 "nbformat_minor": 2,
 "metadata": {
  "orig_nbformat": 2,
  "deepnote": {
   "is_reactive": false
  },
  "deepnote_notebook_id": "d8fad67d-bd59-4456-bc63-d1922663dab2",
  "deepnote_execution_queue": []
 }
}