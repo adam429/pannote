{
 "cells": [
  {
   "cell_type": "code",
   "metadata": {
    "tags": [],
    "deepnote_to_be_reexecuted": false,
    "source_hash": "b0d559b9",
    "execution_start": 1647940692240,
    "execution_millis": 1063,
    "cell_id": "5eae04a9-40f6-4b3f-bbbe-67ee01dd8433",
    "deepnote_cell_type": "code",
    "deepnote_cell_height": 152.96875
   },
   "source": "# load init moudle file\nrequire 'erb'\n\nload \"/work/pannote/panbot_note.rb\"\nnil",
   "execution_count": null,
   "outputs": []
  },
  {
   "cell_type": "code",
   "metadata": {
    "tags": [],
    "deepnote_to_be_reexecuted": false,
    "source_hash": "ba4f1a1e",
    "execution_start": 1647941155353,
    "execution_millis": 1,
    "cell_id": "00001-355dd751-e9fe-4e34-934d-4cc9a4297abf",
    "deepnote_cell_type": "code",
    "deepnote_cell_height": 351.9375,
    "deepnote_output_heights": [
     21
    ]
   },
   "source": "\nepoch = [32630,54632]\n# epoch = [54632-288*14,54632]\n\nepoch = [32630,32640]\n\nepoch = Epoch.where(\" ? <= epoch and epoch <= ? \",epoch[0],epoch[1])\n\ndef calc_velocity(l,ll,lll)\n  ((l-ll) + (ll-lll))/2.0\nend\n\ncalc_velocity(8,2,0.5)\n",
   "execution_count": null,
   "outputs": [
    {
     "output_type": "execute_result",
     "execution_count": 14,
     "data": {
      "text/plain": "3.75"
     },
     "metadata": {}
    }
   ]
  },
  {
   "cell_type": "code",
   "metadata": {
    "tags": [],
    "deepnote_to_be_reexecuted": false,
    "source_hash": "fbc5fc44",
    "execution_start": 1647940773252,
    "execution_millis": 177,
    "cell_id": "00002-f43beae7-5a3c-401f-b8c3-3107036c6891",
    "deepnote_cell_type": "code",
    "deepnote_cell_height": 656.953125
   },
   "source": "## 观测局面 -> 最终payout\n## 观测局面 -> 最终win\n## 最终payout -> 最终win\n\n    epoch = Parallel.map(epoch, in_threads: 10) {|x| \n    if x.block.last!=nil then\n        last_block_number = x.block.last.block_number\n\n        last_block_number = last_block_number + x.get_last_block_order(last_block_number) -1\n        \n        winner = \"bear\" if x.lock_price > x.close_price\n        winner = \"bull\" if x.lock_price < x.close_price\n        winner = \"draw\" if x.lock_price == x.close_price\n\n        {  \n            final_winner: winner,\n            final_lock_price: x.lock_price,\n            final_close_price: x.close_price,\n            final_bull_amount: x.get_bull_amount(last_block_number),\n            final_bear_amount: x.get_bear_amount(last_block_number),\n            ob_bull_amount: x.get_bull_amount(last_block_number-2),\n            ob_bear_amount: x.get_bear_amount(last_block_number-2),\n            ob_bull_velocity: calc_velocity(x.get_bull_amount(last_block_number-2),x.get_bull_amount(last_block_number-3),x.get_bull_amount(last_block_number-4),\n            ob_bear_velocity: calc_velocity(x.get_bear_amount(last_block_number-2),x.get_bear_amount(last_block_number-3),x.get_bear_amount(last_block_number-4),\n        }\n    else\n\n\n    end\n    }\n    epoch = epoch.filter {|x| x!=nil}\n\nnil",
   "execution_count": null,
   "outputs": []
  },
  {
   "cell_type": "code",
   "metadata": {
    "tags": [],
    "deepnote_to_be_reexecuted": false,
    "source_hash": "a06673c6",
    "execution_start": 1647940788372,
    "execution_millis": 3,
    "cell_id": "00003-b84e6118-6112-4524-8876-8c433959cd72",
    "deepnote_cell_type": "code",
    "deepnote_cell_height": 118.125,
    "deepnote_output_heights": [
     21.1875
    ]
   },
   "source": "epoch",
   "execution_count": null,
   "outputs": [
    {
     "output_type": "execute_result",
     "execution_count": 7,
     "data": {
      "text/plain": "[{:winner=>\"bear\", :lock_price=>513.68, :close_price=>513.29, :final=>[2.0140896071487777, 1.986106151715338, 7.69977064646265, 7.808257390006999], :ob=>[2.009498935045124, 1.9905904456999755, 5.786912219342692, 5.841881722626062]}, {:winner=>\"bull\", :lock_price=>513.29, :close_price=>513.75, :final=>[2.4106818099693936, 1.708877078397783, 4.514110046397337, 6.367972930652819], :ob=>[2.3147312063618752, 1.7606117472233738, 2.7265968321188083, 3.5847419423540288]}, {:winner=>\"bear\", :lock_price=>513.75, :close_price=>513.55, :final=>[1.963268261006407, 2.0381324086762875, 6.716259061837117, 6.469559186964361], :ob=>[1.866559790705508, 2.153988461876187, 5.339146060171182, 4.626689292448078]}, {:winner=>\"bull\", :lock_price=>513.55, :close_price=>514.03, :final=>[1.7786850952123723, 2.2842161820591524, 11.545616076837579, 8.990399154077766], :ob=>[2.042722645698391, 1.9590277952870425, 8.349338604054141, 8.706044439051047]}, {:winner=>\"bear\", :lock_price=>514.03, :close_price=>513.97, :final=>[2.4262909339943755, 1.7011192290197534, 7.4269928155321985, 10.593052519634933], :ob=>[3.7317217975405894, 1.3660694880790258, 2.9048936646978487, 7.935361343392678]}, {:winner=>\"bull\", :lock_price=>513.97, :close_price=>514.92, :final=>[3.4791048430644316, 1.4033714035118803, 6.031862248891816, 14.953618913925217], :ob=>[2.336730040559963, 1.7480942072500254, 3.9677217329810475, 5.303772833058403]}, {:winner=>\"bull\", :lock_price=>514.92, :close_price=>515.6, :final=>[2.0281048996305944, 1.972663392966328, 10.826510769643331, 11.130788768173705], :ob=>[4.0517379360227235, 1.3276821342343972, 3.556683136838007, 10.854064855100846]}, {:winner=>\"bull\", :lock_price=>515.6, :close_price=>516.5, :final=>[1.5569594580983313, 2.795462821323433, 21.03106777523726, 11.713452111325422], :ob=>[1.2588486914623134, 4.8632607889601545, 19.995018873001115, 5.175684471040596]}, {:winner=>\"bull\", :lock_price=>516.5, :close_price=>517.1543714, :final=>[1.7898427693364267, 2.266074766804707, 17.574391314844718, 13.881005905518995], :ob=>[1.5201939818427532, 2.922359802121442, 15.570374049378145, 8.099614875527092]}, {:winner=>\"bull\", :lock_price=>517.1543714, :close_price=>517.73, :final=>[2.720518945592719, 1.581219987470408, 15.790922714034899, 27.168581697887443], :ob=>[3.394687523937635, 1.4175910176187325, 10.955133956240621, 26.23412260807496]}, {:winner=>\"bear\", :lock_price=>517.73, :close_price=>516.79807447, :final=>[2.326253716436315, 1.7540035421631321, 18.038224445631787, 23.92326220893155], :ob=>[2.4069888659013636, 1.7107376783393144, 15.402877250302337, 21.671676794020797]}]"
     },
     "metadata": {}
    }
   ]
  },
  {
   "cell_type": "code",
   "metadata": {
    "tags": [],
    "deepnote_to_be_reexecuted": false,
    "source_hash": "b0d3b28b",
    "execution_start": 1647860622007,
    "execution_millis": 0,
    "cell_id": "00004-49f3c45a-2fdc-47de-a917-22d788abc38b",
    "deepnote_cell_type": "code",
    "deepnote_cell_height": 225.9375,
    "deepnote_output_heights": [
     21
    ]
   },
   "source": "def avg(arr)\n    arr = arr.filter {|x| x>-999 }\n\n    arr.sum / arr.count.to_f\n\nend\n",
   "execution_count": null,
   "outputs": [
    {
     "output_type": "execute_result",
     "execution_count": 125,
     "data": {
      "text/plain": ":avg"
     },
     "metadata": {}
    }
   ]
  },
  {
   "cell_type": "code",
   "metadata": {
    "tags": [],
    "deepnote_to_be_reexecuted": false,
    "source_hash": "92aac9e6",
    "execution_start": 1647860622751,
    "execution_millis": 19,
    "cell_id": "00005-758aac0d-5bdc-4545-9bd8-17696db62a22",
    "deepnote_cell_type": "code",
    "deepnote_cell_height": 1360.9375,
    "deepnote_output_heights": [
     184
    ]
   },
   "source": "## 最终payout -> 最终win\n\n## payout二分 (>2, <2)\n\nIRuby.html \"<h1> 最终payout - 最终win </h1>\"+(month_epoch.map.with_index do |epoch,i|\n\n    group = []\n    group.push [\"bull_payout >2\",epoch.filter {|x| x[:final][0]>2}]\n    group.push [\"bear_payout >2\",epoch.filter {|x| x[:final][1]>2}]\n\n    group = group.map {|x| \n        {\n            group:x[0],\n            count:x[1].count,\n            bull:x[1].filter{|x| x[:winner]==\"bull\"}.count,\n            bear:x[1].filter{|x| x[:winner]==\"bear\"}.count,\n            draw:x[1].filter{|x| x[:winner]==\"draw\"}.count,\n            bull_win_ratio: x[1].filter{|x| x[:winner]==\"bull\"}.count / x[1].count.to_f,\n            bear_win_ratio: x[1].filter{|x| x[:winner]==\"bear\"}.count / x[1].count.to_f,\n            bull_win_price: avg(x[1].filter{|x| x[:winner]==\"bull\"}.map {|x| x[:close_price]/x[:lock_price] - 1}),\n            bear_win_price: avg(x[1].filter{|x| x[:winner]==\"bear\"}.map {|x| x[:close_price]/x[:lock_price] - 1}),\n            avg_price: avg( x[1].map {|x| x[:close_price] / x[:lock_price] -1 } ),\n        }\n    }\n\n\n    html = \"\"\"\n    <h4>Month <%= i+1 %></h4>\n    <table>\n    <tr>\n    <th>group</th>\n    <th>count</th>\n    <th>bull</th>\n    <th>bear</th>\n    <th>draw</th>\n    <th>bull_win</th>\n    <th>bear_win</th>\n    <th>bull_win</th>\n    <th>bear_win</th>\n    <th>avg_price</th>\n    </tr>\n    <% group.each do |x| %>\n        <tr>\n    <td><%= x[:group] %></td>\n    <td><%= x[:count] %></td>\n    <td><%= x[:bull] %></td>\n    <td><%= x[:bear] %></td>\n    <td><%= x[:draw] %></td>\n    <td><%= (x[:bull_win_ratio]*100).round(4) %>%</td>\n    <td><%= (x[:bear_win_ratio]*100).round(4) %>%</td>\n    <td><%= (x[:bull_win_price]*100).round(4) %>%</td>\n    <td><%= (x[:bear_win_price]*100).round(4) %>%</td>\n    <td><%= (x[:avg_price]*100).round(4) %>%</td>\n    </tr>\n    <% end %>\n    </table>\n    \"\"\"\n\n   ERB.new(html).result(binding)\nend).join\n",
   "execution_count": null,
   "outputs": [
    {
     "output_type": "execute_result",
     "execution_count": 126,
     "data": {
      "text/plain": "\"<h1> 最终payout - 最终win </h1>\\n    <h4>Month 1</h4>\\n    <table>\\n    <tr>\\n    <th>group</th>\\n    <th>count</th>\\n    <th>bull</th>\\n    <th>bear</th>\\n    <th>draw</th>\\n    <th>bull_win</th>\\n    <th>bear_win</th>\\n    <th>bull_win</th>\\n    <th>bear_win</th>\\n    <th>avg_price</th>\\n    </tr>\\n    \\n        <tr>\\n    <td>bull_payout >2</td>\\n    <td>1755</td>\\n    <td>785</td>\\n    <td>963</td>\\n    <td>7</td>\\n    <td>44.7293%</td>\\n    <td>54.8718%</td>\\n    <td>0.096%</td>\\n    <td>-0.1264%</td>\\n    <td>-0.0264%</td>\\n    </tr>\\n    \\n        <tr>\\n    <td>bear_payout >2</td>\\n    <td>2270</td>\\n    <td>1270</td>\\n    <td>994</td>\\n    <td>6</td>\\n    <td>55.9471%</td>\\n    <td>43.7885%</td>\\n    <td>0.1197%</td>\\n    <td>-0.1017%</td>\\n    <td>0.0224%</td>\\n    </tr>\\n    \\n    </table>\\n    \"",
      "text/html": "<h1> 最终payout - 最终win </h1>\n    <h4>Month 1</h4>\n    <table>\n    <tr>\n    <th>group</th>\n    <th>count</th>\n    <th>bull</th>\n    <th>bear</th>\n    <th>draw</th>\n    <th>bull_win</th>\n    <th>bear_win</th>\n    <th>bull_win</th>\n    <th>bear_win</th>\n    <th>avg_price</th>\n    </tr>\n    \n        <tr>\n    <td>bull_payout >2</td>\n    <td>1755</td>\n    <td>785</td>\n    <td>963</td>\n    <td>7</td>\n    <td>44.7293%</td>\n    <td>54.8718%</td>\n    <td>0.096%</td>\n    <td>-0.1264%</td>\n    <td>-0.0264%</td>\n    </tr>\n    \n        <tr>\n    <td>bear_payout >2</td>\n    <td>2270</td>\n    <td>1270</td>\n    <td>994</td>\n    <td>6</td>\n    <td>55.9471%</td>\n    <td>43.7885%</td>\n    <td>0.1197%</td>\n    <td>-0.1017%</td>\n    <td>0.0224%</td>\n    </tr>\n    \n    </table>\n    "
     },
     "metadata": {}
    }
   ]
  },
  {
   "cell_type": "code",
   "metadata": {
    "tags": [],
    "deepnote_to_be_reexecuted": false,
    "source_hash": "8717f22e",
    "execution_start": 1647860624157,
    "execution_millis": 36,
    "cell_id": "00006-41afa6ee-5ef0-4c6b-8d33-e5490402e183",
    "deepnote_cell_type": "code",
    "deepnote_cell_height": 2093.9375,
    "deepnote_output_heights": [
     611
    ]
   },
   "source": "## 最终payout -> 最终win\n\n## payout二分 (>2, <2)\n\nIRuby.html \"<h1> 最终payout - 最终win </h1>\"+(month_epoch.map.with_index do |epoch,i|\n\n    group = []\n    group.push [\"bull_payout 2.0-2.1\",epoch.filter {|x| 2<x[:final][0] and x[:final][0]<=2.1}]\n    group.push [\"bull_payout 2.1-2.2\",epoch.filter {|x| 2.1<x[:final][0] and x[:final][0]<=2.2}]\n    group.push [\"bull_payout 2.2-2.3\",epoch.filter {|x| 2.2<x[:final][0] and x[:final][0]<=2.3}]\n    group.push [\"bull_payout 2.3-2.4\",epoch.filter {|x| 2.3<x[:final][0] and x[:final][0]<=2.4}]\n    group.push [\"bull_payout 2.4-2.5\",epoch.filter {|x| 2.4<x[:final][0] and x[:final][0]<=2.5}]\n    group.push [\"bull_payout 2.5-3.0\",epoch.filter {|x| 2.5<x[:final][0] and x[:final][0]<=3}]\n    group.push [\"bull_payout 3.0-3.5\",epoch.filter {|x| 3<x[:final][0] and x[:final][0]<=3.5}]\n    group.push [\"bull_payout 3.5-4.0\",epoch.filter {|x| 3.5<x[:final][0] and x[:final][0]<=4}]\n    group.push [\"bull_payout 4.0-inf\",epoch.filter {|x| 4<x[:final][0] and x[:final][0]<=999}]\n    group.push [\"bear_payout 2.0-2.1\",epoch.filter {|x| 2<x[:final][1] and x[:final][1]<=2.1}]\n    group.push [\"bear_payout 2.1-2.2\",epoch.filter {|x| 2.1<x[:final][1] and x[:final][1]<=2.2}]\n    group.push [\"bear_payout 2.2-2.3\",epoch.filter {|x| 2.2<x[:final][1] and x[:final][1]<=2.3}]\n    group.push [\"bear_payout 2.3-2.4\",epoch.filter {|x| 2.3<x[:final][1] and x[:final][1]<=2.4}]\n    group.push [\"bear_payout 2.4-2.5\",epoch.filter {|x| 2.4<x[:final][1] and x[:final][1]<=2.5}]\n    group.push [\"bear_payout 2.5-3.0\",epoch.filter {|x| 2.5<x[:final][1] and x[:final][1]<=3}]\n    group.push [\"bear_payout 3.0-3.5\",epoch.filter {|x| 3<x[:final][1] and x[:final][1]<=3.5}]\n    group.push [\"bear_payout 3.5-4.0\",epoch.filter {|x| 3.5<x[:final][1] and x[:final][1]<=4}]\n    group.push [\"bear_payout 4.0-inf\",epoch.filter {|x| 4<x[:final][1] and x[:final][1]<=999}]\n\n    group = group.map {|x| \n        {\n            group:x[0],\n            count:x[1].count,\n            bull:x[1].filter{|x| x[:winner]==\"bull\"}.count,\n            bear:x[1].filter{|x| x[:winner]==\"bear\"}.count,\n            draw:x[1].filter{|x| x[:winner]==\"draw\"}.count,\n            bull_win_ratio: x[1].filter{|x| x[:winner]==\"bull\"}.count / x[1].count.to_f,\n            bear_win_ratio: x[1].filter{|x| x[:winner]==\"bear\"}.count / x[1].count.to_f,\n            bull_win_price: avg(x[1].filter{|x| x[:winner]==\"bull\"}.map {|x| x[:close_price]/x[:lock_price] - 1}),\n            bear_win_price: avg(x[1].filter{|x| x[:winner]==\"bear\"}.map {|x| x[:close_price]/x[:lock_price] - 1}),\n            avg_price: avg(x[1].map {|x| x[:close_price]/x[:lock_price] - 1}),\n\n        }\n    }\n\n\n    html = \"\"\"\n    <h4>Month <%= i+1 %></h4>\n    <table>\n    <tr>\n    <th>group</th>\n    <th>count</th>\n    <th>bull</th>\n    <th>bear</th>\n    <th>draw</th>\n    <th>bull_win</th>\n    <th>bear_win</th>\n    <th>bull_win</th>\n    <th>bear_win</th>\n    <th>avg_price</th>\n    </tr>\n    <% group.each do |x| %>\n        <tr>\n    <td><%= x[:group] %></td>\n    <td><%= x[:count] %></td>\n    <td><%= x[:bull] %></td>\n    <td><%= x[:bear] %></td>\n    <td><%= x[:draw] %></td>\n    <td><%= (x[:bull_win_ratio]*100).round(4) %>%</td>\n    <td><%= (x[:bear_win_ratio]*100).round(4) %>%</td>\n    <td><%= (x[:bull_win_price]*100).round(4) %>%</td>\n    <td><%= (x[:bear_win_price]*100).round(4) %>%</td>\n    <td><%= (x[:avg_price]*100).round(4) %>%</td>\n    </tr>\n    <% end %>\n    </table>\n    \"\"\"\n\n   ERB.new(html).result(binding)\nend).join\n",
   "execution_count": null,
   "outputs": [
    {
     "output_type": "execute_result",
     "execution_count": 127,
     "data": {
      "text/plain": "\"<h1> 最终payout - 最终win </h1>\\n    <h4>Month 1</h4>\\n    <table>\\n    <tr>\\n    <th>group</th>\\n    <th>count</th>\\n    <th>bull</th>\\n    <th>bear</th>\\n    <th>draw</th>\\n    <th>bull_win</th>\\n    <th>bear_win</th>\\n    <th>bull_win</th>\\n    <th>bear_win</th>\\n    <th>avg_price</th>\\n    </tr>\\n    \\n        <tr>\\n    <td>bull_payout 2.0-2.1</td>\\n    <td>438</td>\\n    <td>226</td>\\n    <td>209</td>\\n    <td>3</td>\\n    <td>51.5982%</td>\\n    <td>47.7169%</td>\\n    <td>0.0918%</td>\\n    <td>-0.115%</td>\\n    <td>-0.0075%</td>\\n    </tr>\\n    \\n        <tr>\\n    <td>bull_payout 2.1-2.2</td>\\n    <td>341</td>\\n    <td>156</td>\\n    <td>185</td>\\n    <td>0</td>\\n    <td>45.7478%</td>\\n    <td>54.2522%</td>\\n    <td>0.0993%</td>\\n    <td>-0.1158%</td>\\n    <td>-0.0174%</td>\\n    </tr>\\n    \\n        <tr>\\n    <td>bull_payout 2.2-2.3</td>\\n    <td>289</td>\\n    <td>125</td>\\n    <td>163</td>\\n    <td>1</td>\\n    <td>43.2526%</td>\\n    <td>56.4014%</td>\\n    <td>0.0878%</td>\\n    <td>-0.1143%</td>\\n    <td>-0.0265%</td>\\n    </tr>\\n    \\n        <tr>\\n    <td>bull_payout 2.3-2.4</td>\\n    <td>215</td>\\n    <td>91</td>\\n    <td>123</td>\\n    <td>1</td>\\n    <td>42.3256%</td>\\n    <td>57.2093%</td>\\n    <td>0.0931%</td>\\n    <td>-0.1146%</td>\\n    <td>-0.0262%</td>\\n    </tr>\\n    \\n        <tr>\\n    <td>bull_payout 2.4-2.5</td>\\n    <td>137</td>\\n    <td>69</td>\\n    <td>68</td>\\n    <td>0</td>\\n    <td>50.365%</td>\\n    <td>49.635%</td>\\n    <td>0.1113%</td>\\n    <td>-0.1384%</td>\\n    <td>-0.0127%</td>\\n    </tr>\\n    \\n        <tr>\\n    <td>bull_payout 2.5-3.0</td>\\n    <td>251</td>\\n    <td>88</td>\\n    <td>161</td>\\n    <td>2</td>\\n    <td>35.0598%</td>\\n    <td>64.1434%</td>\\n    <td>0.0993%</td>\\n    <td>-0.129%</td>\\n    <td>-0.0479%</td>\\n    </tr>\\n    \\n        <tr>\\n    <td>bull_payout 3.0-3.5</td>\\n    <td>54</td>\\n    <td>25</td>\\n    <td>29</td>\\n    <td>0</td>\\n    <td>46.2963%</td>\\n    <td>53.7037%</td>\\n    <td>0.1124%</td>\\n    <td>-0.217%</td>\\n    <td>-0.0645%</td>\\n    </tr>\\n    \\n        <tr>\\n    <td>bull_payout 3.5-4.0</td>\\n    <td>15</td>\\n    <td>4</td>\\n    <td>11</td>\\n    <td>0</td>\\n    <td>26.6667%</td>\\n    <td>73.3333%</td>\\n    <td>0.0643%</td>\\n    <td>-0.237%</td>\\n    <td>-0.1566%</td>\\n    </tr>\\n    \\n        <tr>\\n    <td>bull_payout 4.0-inf</td>\\n    <td>15</td>\\n    <td>1</td>\\n    <td>14</td>\\n    <td>0</td>\\n    <td>6.6667%</td>\\n    <td>93.3333%</td>\\n    <td>0.1949%</td>\\n    <td>-0.3189%</td>\\n    <td>-0.2846%</td>\\n    </tr>\\n    \\n        <tr>\\n    <td>bear_payout 2.0-2.1</td>\\n    <td>430</td>\\n    <td>217</td>\\n    <td>213</td>\\n    <td>0</td>\\n    <td>50.4651%</td>\\n    <td>49.5349%</td>\\n    <td>0.1059%</td>\\n    <td>-0.1073%</td>\\n    <td>0.0003%</td>\\n    </tr>\\n    \\n        <tr>\\n    <td>bear_payout 2.1-2.2</td>\\n    <td>410</td>\\n    <td>218</td>\\n    <td>189</td>\\n    <td>3</td>\\n    <td>53.1707%</td>\\n    <td>46.0976%</td>\\n    <td>0.1003%</td>\\n    <td>-0.0989%</td>\\n    <td>0.0077%</td>\\n    </tr>\\n    \\n        <tr>\\n    <td>bear_payout 2.2-2.3</td>\\n    <td>375</td>\\n    <td>208</td>\\n    <td>166</td>\\n    <td>1</td>\\n    <td>55.4667%</td>\\n    <td>44.2667%</td>\\n    <td>0.1077%</td>\\n    <td>-0.1037%</td>\\n    <td>0.0138%</td>\\n    </tr>\\n    \\n        <tr>\\n    <td>bear_payout 2.3-2.4</td>\\n    <td>319</td>\\n    <td>173</td>\\n    <td>146</td>\\n    <td>0</td>\\n    <td>54.232%</td>\\n    <td>45.768%</td>\\n    <td>0.1119%</td>\\n    <td>-0.1018%</td>\\n    <td>0.0141%</td>\\n    </tr>\\n    \\n        <tr>\\n    <td>bear_payout 2.4-2.5</td>\\n    <td>189</td>\\n    <td>109</td>\\n    <td>79</td>\\n    <td>1</td>\\n    <td>57.672%</td>\\n    <td>41.7989%</td>\\n    <td>0.123%</td>\\n    <td>-0.0955%</td>\\n    <td>0.031%</td>\\n    </tr>\\n    \\n        <tr>\\n    <td>bear_payout 2.5-3.0</td>\\n    <td>382</td>\\n    <td>222</td>\\n    <td>159</td>\\n    <td>1</td>\\n    <td>58.1152%</td>\\n    <td>41.623%</td>\\n    <td>0.1318%</td>\\n    <td>-0.0963%</td>\\n    <td>0.0365%</td>\\n    </tr>\\n    \\n        <tr>\\n    <td>bear_payout 3.0-3.5</td>\\n    <td>97</td>\\n    <td>71</td>\\n    <td>26</td>\\n    <td>0</td>\\n    <td>73.1959%</td>\\n    <td>26.8041%</td>\\n    <td>0.1734%</td>\\n    <td>-0.0875%</td>\\n    <td>0.1035%</td>\\n    </tr>\\n    \\n        <tr>\\n    <td>bear_payout 3.5-4.0</td>\\n    <td>39</td>\\n    <td>29</td>\\n    <td>10</td>\\n    <td>0</td>\\n    <td>74.359%</td>\\n    <td>25.641%</td>\\n    <td>0.1451%</td>\\n    <td>-0.1594%</td>\\n    <td>0.067%</td>\\n    </tr>\\n    \\n        <tr>\\n    <td>bear_payout 4.0-inf</td>\\n    <td>29</td>\\n    <td>23</td>\\n    <td>6</td>\\n    <td>0</td>\\n    <td>79.3103%</td>\\n    <td>20.6897%</td>\\n    <td>0.2723%</td>\\n    <td>-0.1283%</td>\\n    <td>0.1894%</td>\\n    </tr>\\n    \\n    </table>\\n    \"",
      "text/html": "<h1> 最终payout - 最终win </h1>\n    <h4>Month 1</h4>\n    <table>\n    <tr>\n    <th>group</th>\n    <th>count</th>\n    <th>bull</th>\n    <th>bear</th>\n    <th>draw</th>\n    <th>bull_win</th>\n    <th>bear_win</th>\n    <th>bull_win</th>\n    <th>bear_win</th>\n    <th>avg_price</th>\n    </tr>\n    \n        <tr>\n    <td>bull_payout 2.0-2.1</td>\n    <td>438</td>\n    <td>226</td>\n    <td>209</td>\n    <td>3</td>\n    <td>51.5982%</td>\n    <td>47.7169%</td>\n    <td>0.0918%</td>\n    <td>-0.115%</td>\n    <td>-0.0075%</td>\n    </tr>\n    \n        <tr>\n    <td>bull_payout 2.1-2.2</td>\n    <td>341</td>\n    <td>156</td>\n    <td>185</td>\n    <td>0</td>\n    <td>45.7478%</td>\n    <td>54.2522%</td>\n    <td>0.0993%</td>\n    <td>-0.1158%</td>\n    <td>-0.0174%</td>\n    </tr>\n    \n        <tr>\n    <td>bull_payout 2.2-2.3</td>\n    <td>289</td>\n    <td>125</td>\n    <td>163</td>\n    <td>1</td>\n    <td>43.2526%</td>\n    <td>56.4014%</td>\n    <td>0.0878%</td>\n    <td>-0.1143%</td>\n    <td>-0.0265%</td>\n    </tr>\n    \n        <tr>\n    <td>bull_payout 2.3-2.4</td>\n    <td>215</td>\n    <td>91</td>\n    <td>123</td>\n    <td>1</td>\n    <td>42.3256%</td>\n    <td>57.2093%</td>\n    <td>0.0931%</td>\n    <td>-0.1146%</td>\n    <td>-0.0262%</td>\n    </tr>\n    \n        <tr>\n    <td>bull_payout 2.4-2.5</td>\n    <td>137</td>\n    <td>69</td>\n    <td>68</td>\n    <td>0</td>\n    <td>50.365%</td>\n    <td>49.635%</td>\n    <td>0.1113%</td>\n    <td>-0.1384%</td>\n    <td>-0.0127%</td>\n    </tr>\n    \n        <tr>\n    <td>bull_payout 2.5-3.0</td>\n    <td>251</td>\n    <td>88</td>\n    <td>161</td>\n    <td>2</td>\n    <td>35.0598%</td>\n    <td>64.1434%</td>\n    <td>0.0993%</td>\n    <td>-0.129%</td>\n    <td>-0.0479%</td>\n    </tr>\n    \n        <tr>\n    <td>bull_payout 3.0-3.5</td>\n    <td>54</td>\n    <td>25</td>\n    <td>29</td>\n    <td>0</td>\n    <td>46.2963%</td>\n    <td>53.7037%</td>\n    <td>0.1124%</td>\n    <td>-0.217%</td>\n    <td>-0.0645%</td>\n    </tr>\n    \n        <tr>\n    <td>bull_payout 3.5-4.0</td>\n    <td>15</td>\n    <td>4</td>\n    <td>11</td>\n    <td>0</td>\n    <td>26.6667%</td>\n    <td>73.3333%</td>\n    <td>0.0643%</td>\n    <td>-0.237%</td>\n    <td>-0.1566%</td>\n    </tr>\n    \n        <tr>\n    <td>bull_payout 4.0-inf</td>\n    <td>15</td>\n    <td>1</td>\n    <td>14</td>\n    <td>0</td>\n    <td>6.6667%</td>\n    <td>93.3333%</td>\n    <td>0.1949%</td>\n    <td>-0.3189%</td>\n    <td>-0.2846%</td>\n    </tr>\n    \n        <tr>\n    <td>bear_payout 2.0-2.1</td>\n    <td>430</td>\n    <td>217</td>\n    <td>213</td>\n    <td>0</td>\n    <td>50.4651%</td>\n    <td>49.5349%</td>\n    <td>0.1059%</td>\n    <td>-0.1073%</td>\n    <td>0.0003%</td>\n    </tr>\n    \n        <tr>\n    <td>bear_payout 2.1-2.2</td>\n    <td>410</td>\n    <td>218</td>\n    <td>189</td>\n    <td>3</td>\n    <td>53.1707%</td>\n    <td>46.0976%</td>\n    <td>0.1003%</td>\n    <td>-0.0989%</td>\n    <td>0.0077%</td>\n    </tr>\n    \n        <tr>\n    <td>bear_payout 2.2-2.3</td>\n    <td>375</td>\n    <td>208</td>\n    <td>166</td>\n    <td>1</td>\n    <td>55.4667%</td>\n    <td>44.2667%</td>\n    <td>0.1077%</td>\n    <td>-0.1037%</td>\n    <td>0.0138%</td>\n    </tr>\n    \n        <tr>\n    <td>bear_payout 2.3-2.4</td>\n    <td>319</td>\n    <td>173</td>\n    <td>146</td>\n    <td>0</td>\n    <td>54.232%</td>\n    <td>45.768%</td>\n    <td>0.1119%</td>\n    <td>-0.1018%</td>\n    <td>0.0141%</td>\n    </tr>\n    \n        <tr>\n    <td>bear_payout 2.4-2.5</td>\n    <td>189</td>\n    <td>109</td>\n    <td>79</td>\n    <td>1</td>\n    <td>57.672%</td>\n    <td>41.7989%</td>\n    <td>0.123%</td>\n    <td>-0.0955%</td>\n    <td>0.031%</td>\n    </tr>\n    \n        <tr>\n    <td>bear_payout 2.5-3.0</td>\n    <td>382</td>\n    <td>222</td>\n    <td>159</td>\n    <td>1</td>\n    <td>58.1152%</td>\n    <td>41.623%</td>\n    <td>0.1318%</td>\n    <td>-0.0963%</td>\n    <td>0.0365%</td>\n    </tr>\n    \n        <tr>\n    <td>bear_payout 3.0-3.5</td>\n    <td>97</td>\n    <td>71</td>\n    <td>26</td>\n    <td>0</td>\n    <td>73.1959%</td>\n    <td>26.8041%</td>\n    <td>0.1734%</td>\n    <td>-0.0875%</td>\n    <td>0.1035%</td>\n    </tr>\n    \n        <tr>\n    <td>bear_payout 3.5-4.0</td>\n    <td>39</td>\n    <td>29</td>\n    <td>10</td>\n    <td>0</td>\n    <td>74.359%</td>\n    <td>25.641%</td>\n    <td>0.1451%</td>\n    <td>-0.1594%</td>\n    <td>0.067%</td>\n    </tr>\n    \n        <tr>\n    <td>bear_payout 4.0-inf</td>\n    <td>29</td>\n    <td>23</td>\n    <td>6</td>\n    <td>0</td>\n    <td>79.3103%</td>\n    <td>20.6897%</td>\n    <td>0.2723%</td>\n    <td>-0.1283%</td>\n    <td>0.1894%</td>\n    </tr>\n    \n    </table>\n    "
     },
     "metadata": {}
    }
   ]
  },
  {
   "cell_type": "code",
   "metadata": {
    "tags": [],
    "deepnote_to_be_reexecuted": false,
    "source_hash": "a1a422ed",
    "execution_start": 1647859978013,
    "execution_millis": 80,
    "cell_id": "00007-2c3d6dc8-96f4-4339-87b5-573e839ec8a2",
    "deepnote_cell_type": "code",
    "deepnote_cell_height": 1256.953125,
    "deepnote_output_heights": [
     188
    ]
   },
   "source": "## 最终payout -> 最终win\n\n## ob payout二分 (>2, <2)\n\nIRuby.html \"<h1> ob payout - 最终 </h1>\"+(month_epoch.map.with_index do |epoch,i|\n\n    group = []\n    group.push [\"bull_payout >2\",epoch.filter {|x| x[:ob][0]>2}]\n    group.push [\"bear_payout >2\",epoch.filter {|x| x[:ob][1]>2}]\n\n    group = group.map {|x| \n        {\n            group:x[0],\n            bull:x[1].filter{|x| x[:winner]==\"bull\"}.count,\n            bear:x[1].filter{|x| x[:winner]==\"bear\"}.count,\n            draw:x[1].filter{|x| x[:winner]==\"draw\"}.count,\n            bull_win_ratio: x[1].filter{|x| x[:winner]==\"bull\"}.count / x[1].count.to_f,\n            bear_win_ratio: x[1].filter{|x| x[:winner]==\"bear\"}.count / x[1].count.to_f,\n            final_bull_payout: x[1].map {|x| x[:final][0]}.sum / x[1].count.to_f,\n            final_bear_payout: x[1].map {|x| x[:final][1]}.sum / x[1].count.to_f,\n        }\n    }\n\n\n    html = \"\"\"\n    <h4>Month <%= i+1 %></h4>\n    <table>\n    <tr>\n    <th>group</th>\n    <th>bull</th>\n    <th>bear</th>\n    <th>draw</th>\n    <th>bull_win_ratio</th>\n    <th>bear_win_ratio</th>\n    <th>final_bull_payout</th>\n    <th>final_bear_payout</th>\n    </tr>\n    <% group.each do |x| %>\n        <tr>\n    <td><%= x[:group] %></td>\n    <td><%= x[:bull] %></td>\n    <td><%= x[:bear] %></td>\n    <td><%= x[:draw] %></td>\n    <td><%= x[:bull_win_ratio].round(4) %></td>\n    <td><%= x[:bear_win_ratio].round(4) %></td>\n    <td><%= x[:final_bull_payout].round(4) %></td>\n    <td><%= x[:final_bear_payout].round(4) %></td>\n    </tr>\n    <% end %>\n    </table>\n    \"\"\"\n\n   ERB.new(html).result(binding)\nend).join\n",
   "execution_count": null,
   "outputs": [
    {
     "output_type": "execute_result",
     "execution_count": 120,
     "data": {
      "text/plain": "\"<h1> ob payout - 最终 </h1>\\n    <h4>Month 1</h4>\\n    <table>\\n    <tr>\\n    <th>group</th>\\n    <th>bull</th>\\n    <th>bear</th>\\n    <th>draw</th>\\n    <th>bull_win_ratio</th>\\n    <th>bear_win_ratio</th>\\n    <th>final_bull_payout</th>\\n    <th>final_bear_payout</th>\\n    </tr>\\n    \\n        <tr>\\n    <td>bull_payout >2</td>\\n    <td>4533</td>\\n    <td>5035</td>\\n    <td>33</td>\\n    <td>0.4721</td>\\n    <td>0.5244</td>\\n    <td>2.2762</td>\\n    <td>1.8847</td>\\n    </tr>\\n    \\n        <tr>\\n    <td>bear_payout >2</td>\\n    <td>6571</td>\\n    <td>5764</td>\\n    <td>44</td>\\n    <td>0.5308</td>\\n    <td>0.4656</td>\\n    <td>1.878</td>\\n    <td>2.2747</td>\\n    </tr>\\n    \\n    </table>\\n    \"",
      "text/html": "<h1> ob payout - 最终 </h1>\n    <h4>Month 1</h4>\n    <table>\n    <tr>\n    <th>group</th>\n    <th>bull</th>\n    <th>bear</th>\n    <th>draw</th>\n    <th>bull_win_ratio</th>\n    <th>bear_win_ratio</th>\n    <th>final_bull_payout</th>\n    <th>final_bear_payout</th>\n    </tr>\n    \n        <tr>\n    <td>bull_payout >2</td>\n    <td>4533</td>\n    <td>5035</td>\n    <td>33</td>\n    <td>0.4721</td>\n    <td>0.5244</td>\n    <td>2.2762</td>\n    <td>1.8847</td>\n    </tr>\n    \n        <tr>\n    <td>bear_payout >2</td>\n    <td>6571</td>\n    <td>5764</td>\n    <td>44</td>\n    <td>0.5308</td>\n    <td>0.4656</td>\n    <td>1.878</td>\n    <td>2.2747</td>\n    </tr>\n    \n    </table>\n    "
     },
     "metadata": {}
    }
   ]
  },
  {
   "cell_type": "code",
   "metadata": {
    "tags": [],
    "deepnote_to_be_reexecuted": false,
    "source_hash": "51195540",
    "execution_start": 1647859979026,
    "execution_millis": 161,
    "cell_id": "00008-d06d8ac9-db79-445e-9b3d-11bf583273e6",
    "deepnote_cell_type": "code",
    "deepnote_cell_height": 1967.953125,
    "deepnote_output_heights": [
     611
    ]
   },
   "source": "## 最终payout -> 最终win\n\n## payout二分 (>2, <2)\n\nIRuby.html \"<h1> ob payout - 最终win </h1>\"+(month_epoch.map.with_index do |epoch,i|\n\n    group = []\n    group.push [\"bull_payout 2.0-2.1\",epoch.filter {|x| 2<x[:ob][0] and x[:ob][0]<=2.1}]\n    group.push [\"bull_payout 2.1-2.2\",epoch.filter {|x| 2.1<x[:ob][0] and x[:ob][0]<=2.2}]\n    group.push [\"bull_payout 2.2-2.3\",epoch.filter {|x| 2.2<x[:ob][0] and x[:ob][0]<=2.3}]\n    group.push [\"bull_payout 2.3-2.4\",epoch.filter {|x| 2.3<x[:ob][0] and x[:ob][0]<=2.4}]\n    group.push [\"bull_payout 2.4-2.5\",epoch.filter {|x| 2.4<x[:ob][0] and x[:ob][0]<=2.5}]\n    group.push [\"bull_payout 2.5-3.0\",epoch.filter {|x| 2.5<x[:ob][0] and x[:ob][0]<=3}]\n    group.push [\"bull_payout 3.0-3.5\",epoch.filter {|x| 3<x[:ob][0] and x[:ob][0]<=3.5}]\n    group.push [\"bull_payout 3.5-4.0\",epoch.filter {|x| 3.5<x[:ob][0] and x[:ob][0]<=4}]\n    group.push [\"bull_payout 4.0-inf\",epoch.filter {|x| 4<x[:ob][0] and x[:ob][0]<=999}]\n    group.push [\"bear_payout 2.0-2.1\",epoch.filter {|x| 2<x[:ob][1] and x[:ob][1]<=2.1}]\n    group.push [\"bear_payout 2.1-2.2\",epoch.filter {|x| 2.1<x[:ob][1] and x[:ob][1]<=2.2}]\n    group.push [\"bear_payout 2.2-2.3\",epoch.filter {|x| 2.2<x[:ob][1] and x[:ob][1]<=2.3}]\n    group.push [\"bear_payout 2.3-2.4\",epoch.filter {|x| 2.3<x[:ob][1] and x[:ob][1]<=2.4}]\n    group.push [\"bear_payout 2.4-2.5\",epoch.filter {|x| 2.4<x[:ob][1] and x[:ob][1]<=2.5}]\n    group.push [\"bear_payout 2.5-3.0\",epoch.filter {|x| 2.5<x[:ob][1] and x[:ob][1]<=3}]\n    group.push [\"bear_payout 3.0-3.5\",epoch.filter {|x| 3<x[:ob][1] and x[:ob][1]<=3.5}]\n    group.push [\"bear_payout 3.5-4.0\",epoch.filter {|x| 3.5<x[:ob][1] and x[:ob][1]<=4}]\n    group.push [\"bear_payout 4.0-inf\",epoch.filter {|x| 4<x[:ob][1] and x[:ob][1]<=999}]\n\n    group = group.map {|x| \n        {\n            group:x[0],\n            bull:x[1].filter{|x| x[:winner]==\"bull\"}.count,\n            bear:x[1].filter{|x| x[:winner]==\"bear\"}.count,\n            draw:x[1].filter{|x| x[:winner]==\"draw\"}.count,\n            bull_win_ratio: x[1].filter{|x| x[:winner]==\"bull\"}.count / x[1].count.to_f,\n            bear_win_ratio: x[1].filter{|x| x[:winner]==\"bear\"}.count / x[1].count.to_f,\n            final_bull_payout: x[1].map {|x| x[:final][0]}.sum / x[1].count.to_f,\n            final_bear_payout: x[1].map {|x| x[:final][1]}.sum / x[1].count.to_f,\n        }\n    }\n\n\n    html = \"\"\"\n    <h4>Month <%= i+1 %></h4>\n    <table>\n    <tr>\n    <th>group</th>\n    <th>bull</th>\n    <th>bear</th>\n    <th>draw</th>\n    <th>bull_win_ratio</th>\n    <th>bear_win_ratio</th>\n    <th>final_bull_payout</th>\n    <th>final_bear_payout</th>\n    </tr>\n    <% group.each do |x| %>\n        <tr>\n    <td><%= x[:group] %></td>\n    <td><%= x[:bull] %></td>\n    <td><%= x[:bear] %></td>\n    <td><%= x[:draw] %></td>\n    <td><%= x[:bull_win_ratio] %></td>\n    <td><%= x[:bear_win_ratio] %></td>\n    <td><%= x[:final_bull_payout].round(4) %></td>\n    <td><%= x[:final_bear_payout].round(4) %></td>\n    </tr>\n    <% end %>\n    </table>\n    \"\"\"\n\n   ERB.new(html).result(binding)\nend).join\n",
   "execution_count": null,
   "outputs": [
    {
     "output_type": "execute_result",
     "execution_count": 121,
     "data": {
      "text/plain": "\"<h1> ob payout - 最终win </h1>\\n    <h4>Month 1</h4>\\n    <table>\\n    <tr>\\n    <th>group</th>\\n    <th>bull</th>\\n    <th>bear</th>\\n    <th>draw</th>\\n    <th>bull_win_ratio</th>\\n    <th>bear_win_ratio</th>\\n    <th>final_bull_payout</th>\\n    <th>final_bear_payout</th>\\n    </tr>\\n    \\n        <tr>\\n    <td>bull_payout 2.0-2.1</td>\\n    <td>530</td>\\n    <td>570</td>\\n    <td>5</td>\\n    <td>0.4796380090497738</td>\\n    <td>0.5158371040723982</td>\\n    <td>2.0638</td>\\n    <td>2.023</td>\\n    </tr>\\n    \\n        <tr>\\n    <td>bull_payout 2.1-2.2</td>\\n    <td>453</td>\\n    <td>505</td>\\n    <td>3</td>\\n    <td>0.4713839750260146</td>\\n    <td>0.5254942767950052</td>\\n    <td>2.0946</td>\\n    <td>1.9936</td>\\n    </tr>\\n    \\n        <tr>\\n    <td>bull_payout 2.2-2.3</td>\\n    <td>475</td>\\n    <td>452</td>\\n    <td>2</td>\\n    <td>0.511302475780409</td>\\n    <td>0.4865446716899892</td>\\n    <td>2.132</td>\\n    <td>1.9654</td>\\n    </tr>\\n    \\n        <tr>\\n    <td>bull_payout 2.3-2.4</td>\\n    <td>379</td>\\n    <td>403</td>\\n    <td>3</td>\\n    <td>0.48280254777070064</td>\\n    <td>0.513375796178344</td>\\n    <td>2.1647</td>\\n    <td>1.9353</td>\\n    </tr>\\n    \\n        <tr>\\n    <td>bull_payout 2.4-2.5</td>\\n    <td>318</td>\\n    <td>310</td>\\n    <td>3</td>\\n    <td>0.5039619651347068</td>\\n    <td>0.49128367670364503</td>\\n    <td>2.1798</td>\\n    <td>1.9216</td>\\n    </tr>\\n    \\n        <tr>\\n    <td>bull_payout 2.5-3.0</td>\\n    <td>1081</td>\\n    <td>1199</td>\\n    <td>6</td>\\n    <td>0.47287839020122485</td>\\n    <td>0.5244969378827646</td>\\n    <td>2.228</td>\\n    <td>1.8928</td>\\n    </tr>\\n    \\n        <tr>\\n    <td>bull_payout 3.0-3.5</td>\\n    <td>548</td>\\n    <td>613</td>\\n    <td>5</td>\\n    <td>0.4699828473413379</td>\\n    <td>0.5257289879931389</td>\\n    <td>2.3292</td>\\n    <td>1.8252</td>\\n    </tr>\\n    \\n        <tr>\\n    <td>bull_payout 3.5-4.0</td>\\n    <td>268</td>\\n    <td>365</td>\\n    <td>2</td>\\n    <td>0.4220472440944882</td>\\n    <td>0.5748031496062992</td>\\n    <td>2.4405</td>\\n    <td>1.769</td>\\n    </tr>\\n    \\n        <tr>\\n    <td>bull_payout 4.0-inf</td>\\n    <td>481</td>\\n    <td>618</td>\\n    <td>4</td>\\n    <td>0.43608340888485947</td>\\n    <td>0.5602901178603807</td>\\n    <td>2.8524</td>\\n    <td>1.6393</td>\\n    </tr>\\n    \\n        <tr>\\n    <td>bear_payout 2.0-2.1</td>\\n    <td>541</td>\\n    <td>588</td>\\n    <td>4</td>\\n    <td>0.47749338040600176</td>\\n    <td>0.5189761694616064</td>\\n    <td>2.0215</td>\\n    <td>2.0737</td>\\n    </tr>\\n    \\n        <tr>\\n    <td>bear_payout 2.1-2.2</td>\\n    <td>575</td>\\n    <td>471</td>\\n    <td>6</td>\\n    <td>0.5465779467680608</td>\\n    <td>0.44771863117870725</td>\\n    <td>1.9695</td>\\n    <td>2.124</td>\\n    </tr>\\n    \\n        <tr>\\n    <td>bear_payout 2.2-2.3</td>\\n    <td>505</td>\\n    <td>453</td>\\n    <td>4</td>\\n    <td>0.524948024948025</td>\\n    <td>0.4708939708939709</td>\\n    <td>1.9468</td>\\n    <td>2.149</td>\\n    </tr>\\n    \\n        <tr>\\n    <td>bear_payout 2.3-2.4</td>\\n    <td>495</td>\\n    <td>442</td>\\n    <td>1</td>\\n    <td>0.5277185501066098</td>\\n    <td>0.47121535181236673</td>\\n    <td>1.9429</td>\\n    <td>2.1548</td>\\n    </tr>\\n    \\n        <tr>\\n    <td>bear_payout 2.4-2.5</td>\\n    <td>399</td>\\n    <td>399</td>\\n    <td>5</td>\\n    <td>0.49688667496886674</td>\\n    <td>0.49688667496886674</td>\\n    <td>1.9151</td>\\n    <td>2.1877</td>\\n    </tr>\\n    \\n        <tr>\\n    <td>bear_payout 2.5-3.0</td>\\n    <td>1566</td>\\n    <td>1348</td>\\n    <td>11</td>\\n    <td>0.5353846153846153</td>\\n    <td>0.46085470085470087</td>\\n    <td>1.8951</td>\\n    <td>2.2184</td>\\n    </tr>\\n    \\n        <tr>\\n    <td>bear_payout 3.0-3.5</td>\\n    <td>866</td>\\n    <td>787</td>\\n    <td>3</td>\\n    <td>0.5229468599033816</td>\\n    <td>0.4752415458937198</td>\\n    <td>1.8583</td>\\n    <td>2.2683</td>\\n    </tr>\\n    \\n        <tr>\\n    <td>bear_payout 3.5-4.0</td>\\n    <td>547</td>\\n    <td>482</td>\\n    <td>2</td>\\n    <td>0.530552861299709</td>\\n    <td>0.46750727449078566</td>\\n    <td>1.8033</td>\\n    <td>2.372</td>\\n    </tr>\\n    \\n        <tr>\\n    <td>bear_payout 4.0-inf</td>\\n    <td>1077</td>\\n    <td>794</td>\\n    <td>8</td>\\n    <td>0.5731772219265566</td>\\n    <td>0.42256519425226186</td>\\n    <td>1.6886</td>\\n    <td>2.6813</td>\\n    </tr>\\n    \\n    </table>\\n    \"",
      "text/html": "<h1> ob payout - 最终win </h1>\n    <h4>Month 1</h4>\n    <table>\n    <tr>\n    <th>group</th>\n    <th>bull</th>\n    <th>bear</th>\n    <th>draw</th>\n    <th>bull_win_ratio</th>\n    <th>bear_win_ratio</th>\n    <th>final_bull_payout</th>\n    <th>final_bear_payout</th>\n    </tr>\n    \n        <tr>\n    <td>bull_payout 2.0-2.1</td>\n    <td>530</td>\n    <td>570</td>\n    <td>5</td>\n    <td>0.4796380090497738</td>\n    <td>0.5158371040723982</td>\n    <td>2.0638</td>\n    <td>2.023</td>\n    </tr>\n    \n        <tr>\n    <td>bull_payout 2.1-2.2</td>\n    <td>453</td>\n    <td>505</td>\n    <td>3</td>\n    <td>0.4713839750260146</td>\n    <td>0.5254942767950052</td>\n    <td>2.0946</td>\n    <td>1.9936</td>\n    </tr>\n    \n        <tr>\n    <td>bull_payout 2.2-2.3</td>\n    <td>475</td>\n    <td>452</td>\n    <td>2</td>\n    <td>0.511302475780409</td>\n    <td>0.4865446716899892</td>\n    <td>2.132</td>\n    <td>1.9654</td>\n    </tr>\n    \n        <tr>\n    <td>bull_payout 2.3-2.4</td>\n    <td>379</td>\n    <td>403</td>\n    <td>3</td>\n    <td>0.48280254777070064</td>\n    <td>0.513375796178344</td>\n    <td>2.1647</td>\n    <td>1.9353</td>\n    </tr>\n    \n        <tr>\n    <td>bull_payout 2.4-2.5</td>\n    <td>318</td>\n    <td>310</td>\n    <td>3</td>\n    <td>0.5039619651347068</td>\n    <td>0.49128367670364503</td>\n    <td>2.1798</td>\n    <td>1.9216</td>\n    </tr>\n    \n        <tr>\n    <td>bull_payout 2.5-3.0</td>\n    <td>1081</td>\n    <td>1199</td>\n    <td>6</td>\n    <td>0.47287839020122485</td>\n    <td>0.5244969378827646</td>\n    <td>2.228</td>\n    <td>1.8928</td>\n    </tr>\n    \n        <tr>\n    <td>bull_payout 3.0-3.5</td>\n    <td>548</td>\n    <td>613</td>\n    <td>5</td>\n    <td>0.4699828473413379</td>\n    <td>0.5257289879931389</td>\n    <td>2.3292</td>\n    <td>1.8252</td>\n    </tr>\n    \n        <tr>\n    <td>bull_payout 3.5-4.0</td>\n    <td>268</td>\n    <td>365</td>\n    <td>2</td>\n    <td>0.4220472440944882</td>\n    <td>0.5748031496062992</td>\n    <td>2.4405</td>\n    <td>1.769</td>\n    </tr>\n    \n        <tr>\n    <td>bull_payout 4.0-inf</td>\n    <td>481</td>\n    <td>618</td>\n    <td>4</td>\n    <td>0.43608340888485947</td>\n    <td>0.5602901178603807</td>\n    <td>2.8524</td>\n    <td>1.6393</td>\n    </tr>\n    \n        <tr>\n    <td>bear_payout 2.0-2.1</td>\n    <td>541</td>\n    <td>588</td>\n    <td>4</td>\n    <td>0.47749338040600176</td>\n    <td>0.5189761694616064</td>\n    <td>2.0215</td>\n    <td>2.0737</td>\n    </tr>\n    \n        <tr>\n    <td>bear_payout 2.1-2.2</td>\n    <td>575</td>\n    <td>471</td>\n    <td>6</td>\n    <td>0.5465779467680608</td>\n    <td>0.44771863117870725</td>\n    <td>1.9695</td>\n    <td>2.124</td>\n    </tr>\n    \n        <tr>\n    <td>bear_payout 2.2-2.3</td>\n    <td>505</td>\n    <td>453</td>\n    <td>4</td>\n    <td>0.524948024948025</td>\n    <td>0.4708939708939709</td>\n    <td>1.9468</td>\n    <td>2.149</td>\n    </tr>\n    \n        <tr>\n    <td>bear_payout 2.3-2.4</td>\n    <td>495</td>\n    <td>442</td>\n    <td>1</td>\n    <td>0.5277185501066098</td>\n    <td>0.47121535181236673</td>\n    <td>1.9429</td>\n    <td>2.1548</td>\n    </tr>\n    \n        <tr>\n    <td>bear_payout 2.4-2.5</td>\n    <td>399</td>\n    <td>399</td>\n    <td>5</td>\n    <td>0.49688667496886674</td>\n    <td>0.49688667496886674</td>\n    <td>1.9151</td>\n    <td>2.1877</td>\n    </tr>\n    \n        <tr>\n    <td>bear_payout 2.5-3.0</td>\n    <td>1566</td>\n    <td>1348</td>\n    <td>11</td>\n    <td>0.5353846153846153</td>\n    <td>0.46085470085470087</td>\n    <td>1.8951</td>\n    <td>2.2184</td>\n    </tr>\n    \n        <tr>\n    <td>bear_payout 3.0-3.5</td>\n    <td>866</td>\n    <td>787</td>\n    <td>3</td>\n    <td>0.5229468599033816</td>\n    <td>0.4752415458937198</td>\n    <td>1.8583</td>\n    <td>2.2683</td>\n    </tr>\n    \n        <tr>\n    <td>bear_payout 3.5-4.0</td>\n    <td>547</td>\n    <td>482</td>\n    <td>2</td>\n    <td>0.530552861299709</td>\n    <td>0.46750727449078566</td>\n    <td>1.8033</td>\n    <td>2.372</td>\n    </tr>\n    \n        <tr>\n    <td>bear_payout 4.0-inf</td>\n    <td>1077</td>\n    <td>794</td>\n    <td>8</td>\n    <td>0.5731772219265566</td>\n    <td>0.42256519425226186</td>\n    <td>1.6886</td>\n    <td>2.6813</td>\n    </tr>\n    \n    </table>\n    "
     },
     "metadata": {}
    }
   ]
  },
  {
   "cell_type": "code",
   "metadata": {
    "tags": [],
    "cell_id": "00009-6afdfc87-f8d7-4e70-9692-e97b905b301f",
    "deepnote_cell_type": "code",
    "deepnote_cell_height": 65.953125
   },
   "source": "",
   "execution_count": null,
   "outputs": []
  },
  {
   "cell_type": "markdown",
   "source": "<a style='text-decoration:none;line-height:16px;display:flex;color:#5B5B62;padding:10px;justify-content:end;' href='https://deepnote.com?utm_source=created-in-deepnote-cell&projectId=ebde59c2-d67b-4e31-ad3b-1bdd07014691' target=\"_blank\">\n<img alt='Created in deepnote.com' style='display:inline;max-height:16px;margin:0px;margin-right:7.5px;' src='data:image/svg+xml;base64,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' > </img>\nCreated in <span style='font-weight:600;margin-left:4px;'>Deepnote</span></a>",
   "metadata": {
    "tags": [],
    "created_in_deepnote_cell": true,
    "deepnote_cell_type": "markdown"
   }
  }
 ],
 "nbformat": 4,
 "nbformat_minor": 2,
 "metadata": {
  "orig_nbformat": 2,
  "deepnote": {
   "is_reactive": false
  },
  "deepnote_notebook_id": "4548400f-aa12-451e-8354-91ba1694ace4",
  "deepnote_execution_queue": []
 }
}