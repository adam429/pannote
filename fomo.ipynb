{
 "cells": [
  {
   "cell_type": "code",
   "metadata": {
    "cell_id": "e01c46b6-08cc-4f4b-8816-e73c85c56131",
    "tags": [],
    "deepnote_to_be_reexecuted": false,
    "source_hash": "5448169c",
    "execution_start": 1647326589049,
    "execution_millis": 1,
    "deepnote_cell_type": "code",
    "deepnote_cell_height": 298.1875,
    "deepnote_output_heights": [
     21.1875
    ]
   },
   "source": "# npx hardhat node --fork https://eth-mainnet.alchemyapi.io/v2/xOu9KmQYmgmqBuYhhPW0naOB9YRY3foa\n# ngrok authtoken 1WA2UnsI5GHgexqADDhvw7v1Npd_dqSFiM3bX98ny1vjvx3a\n# ngrok http 8545\n\n# 初始化\nrequire 'ethereum.rb'\nrequire 'eth'\nrequire 'faraday'\nrequire 'parallel'\nrequire 'resolv-replace'\nrequire 'erb'",
   "execution_count": null,
   "outputs": [
    {
     "output_type": "execute_result",
     "execution_count": 21,
     "data": {
      "text/plain": "false"
     },
     "metadata": {}
    }
   ]
  },
  {
   "cell_type": "code",
   "metadata": {
    "tags": [],
    "cell_id": "be4e124a-d0e6-4403-b4b5-96ae1980fc26",
    "deepnote_to_be_reexecuted": false,
    "source_hash": "3365f613",
    "execution_start": 1647326188844,
    "execution_millis": 2731,
    "deepnote_cell_type": "code",
    "deepnote_cell_height": 1071
   },
   "source": "#configure\netherscan_apikey = \"545QYEP8TJKJWMZ7QP41QYXZNMJDVCJUI9\"\n\n# 参数设置\nfomo_name = \"FOMOFast\"\nfomo_addr = \"0x324b50cAA2b95df219e78e016A3014E9B70EF5a2\".downcase\n\nplayerbook_name = \"PlayerBook\"\nplayerbook_addr = \"0x18A586F55DA3C95Fe1bD79A4E54F9a37987b688A\".downcase\n\n\n# 定义账户\nsender_account = \"0xaCC961474eb17C103BBed96FC8f0E4eEac91c475\"\nsender_priv_key = \"6ac277496bb17f43074545db8e2e26e903aa014687448d8ed564d9881ce9bda9\"\nsender_key = Eth::Key.new priv: sender_priv_key\n\nimpersonate_account = \"0xf39fd6e51aad88f6f4ce6ab8827279cfffb92266\"\nimpersonate_priv_key = \"ac0974bec39a17e36ba4a6b4d238ff944bacb478cbed5efcae784d7bf4f2ff80\"\nimpersonate_key = Eth::Key.new priv: impersonate_priv_key\n\n\n# 创建Client\n$client = Ethereum::HttpClient.new(\"http://4ce1-211-154-194-206.ngrok.io\")\n$client.gas_limit = 2_000_000\n$client.gas_price = $client.eth_gas_price[\"result\"].to_i(16)\n\n# 创建Fomo Contract\nfomo_abi_url = \"https://api.etherscan.io/api?module=contract&action=getabi&address=#{fomo_addr}&apikey=#{etherscan_apikey}\"\nfomo_abi = JSON.parse(Faraday.get(fomo_abi_url).body)[\"result\"]\n\n$fomo_contract = Ethereum::Contract.create(\n        client: $client, \n        name: fomo_name, \n        address: fomo_addr, \n        abi: fomo_abi)\n\n$fomo_contract.key = sender_key\n$fomo_contract.gas_limit = 2_000_000\n$fomo_contract.gas_price = $client.eth_gas_price[\"result\"].to_i(16)\n\n\n# 创建PlayerBook Contract\nplayerbook_abi_url = \"https://api.etherscan.io/api?module=contract&action=getabi&address=#{playerbook_addr}&apikey=#{etherscan_apikey}\"\nplayerbook_abi = JSON.parse(Faraday.get(playerbook_abi_url).body)[\"result\"]\n\n$playerbook_contract = Ethereum::Contract.create(\n        client: $client, \n        name: playerbook_name, \n        address: playerbook_addr, \n        abi: playerbook_abi)\n\n$playerbook_contract.key = sender_key\n$playerbook_contract.gas_limit = 2_000_000\n$playerbook_contract.gas_price = $client.eth_gas_price[\"result\"].to_i(16)\n\nnil",
   "execution_count": null,
   "outputs": []
  },
  {
   "cell_type": "code",
   "metadata": {
    "cell_id": "e2fcb4fb-5fb8-4329-8b73-fa6fa6e90f0c",
    "tags": [],
    "deepnote_to_be_reexecuted": false,
    "source_hash": "bdb71107",
    "execution_start": 1647326191579,
    "execution_millis": 0,
    "deepnote_cell_type": "code",
    "deepnote_cell_height": 154.1875,
    "deepnote_output_heights": [
     21.1875
    ]
   },
   "source": "def get_balance(addr)\n    $client.eth_get_balance(addr)[\"result\"].to_i(16)/1e18.to_f\nend",
   "execution_count": null,
   "outputs": [
    {
     "output_type": "execute_result",
     "execution_count": 3,
     "data": {
      "text/plain": ":get_balance"
     },
     "metadata": {}
    }
   ]
  },
  {
   "cell_type": "code",
   "metadata": {
    "cell_id": "c3e1c486-b52a-4490-9444-99e1df79cba0",
    "tags": [],
    "deepnote_to_be_reexecuted": false,
    "source_hash": "45c4ea2",
    "execution_start": 1647326191583,
    "execution_millis": 812,
    "deepnote_cell_type": "code",
    "deepnote_cell_height": 275.1875
   },
   "source": "# ===== View Account Balance =======\n\naccounts = [sender_account,impersonate_account]\n\noutput = accounts.map do |addr|\n  [addr, get_balance(addr)].join(\" - \")\nend.join(\"\\n\")\n\nputs output",
   "execution_count": null,
   "outputs": [
    {
     "name": "stdout",
     "text": "0xaCC961474eb17C103BBed96FC8f0E4eEac91c475 - 100.0\n0xf39fd6e51aad88f6f4ce6ab8827279cfffb92266 - 9900.00028990281\n",
     "output_type": "stream"
    }
   ]
  },
  {
   "cell_type": "code",
   "metadata": {
    "cell_id": "b16c3627-82ca-42ec-94f2-98403a0e19fc",
    "tags": [],
    "deepnote_to_be_reexecuted": false,
    "source_hash": "b589eab9",
    "execution_start": 1647326193486,
    "execution_millis": 1024,
    "deepnote_cell_type": "code",
    "deepnote_cell_height": 171
   },
   "source": "## 操作账户转账到Sender account = 100 ETH\nsender_balance = get_balance(sender_account)\nimpersonate_balance =  get_balance(impersonate_account)\nsender_balance = amount = 100.to_i-sender_balance\n$client.transfer(impersonate_key, sender_account, amount) if amount>0\n",
   "execution_count": null,
   "outputs": []
  },
  {
   "cell_type": "code",
   "metadata": {
    "cell_id": "907034cd-46b3-4e6b-ac3b-dbde05ff9a52",
    "tags": [],
    "deepnote_to_be_reexecuted": false,
    "source_hash": "40837496",
    "execution_start": 1647326195090,
    "execution_millis": 3,
    "deepnote_cell_type": "code",
    "deepnote_cell_height": 882.796875
   },
   "source": "# === Inspect PlayerBook ===\n\n\nputs \"==Read==\"\nputs $playerbook_contract.abi.filter{ |x| x[\"constant\"]==true }\n    .filter{ |x| x[\"type\"]==\"function\" }\n    .map {|x| [x[\"type\"],x[\"name\"],x[\"inputs\"].to_s,x[\"outputs\"].to_s].join(\" - \") }.join(\"\\n\")\n\nputs \"==Write==\"\nputs $playerbook_contract.abi.filter{ |x| x[\"constant\"]==false }\n    .filter{ |x| x[\"type\"]==\"function\" }\n    .map {|x| [x[\"type\"],x[\"name\"],x[\"inputs\"].to_s,x[\"outputs\"].to_s].join(\" - \") }.join(\"\\n\")",
   "execution_count": null,
   "outputs": [
    {
     "name": "stdout",
     "text": "==Read==\nfunction - pIDxAddr_ - [{\"name\"=>\"\", \"type\"=>\"address\"}] - [{\"name\"=>\"\", \"type\"=>\"uint256\"}]\nfunction - registrationFee_ - [] - [{\"name\"=>\"\", \"type\"=>\"uint256\"}]\nfunction - getNameFee - [] - [{\"name\"=>\"\", \"type\"=>\"uint256\"}]\nfunction - plyrNames_ - [{\"name\"=>\"\", \"type\"=>\"uint256\"}, {\"name\"=>\"\", \"type\"=>\"bytes32\"}] - [{\"name\"=>\"\", \"type\"=>\"bool\"}]\nfunction - gameNames_ - [{\"name\"=>\"\", \"type\"=>\"address\"}] - [{\"name\"=>\"\", \"type\"=>\"bytes32\"}]\nfunction - pIDxName_ - [{\"name\"=>\"\", \"type\"=>\"bytes32\"}] - [{\"name\"=>\"\", \"type\"=>\"uint256\"}]\nfunction - pID_ - [] - [{\"name\"=>\"\", \"type\"=>\"uint256\"}]\nfunction - getPlayerAddr - [{\"name\"=>\"_pID\", \"type\"=>\"uint256\"}] - [{\"name\"=>\"\", \"type\"=>\"address\"}]\nfunction - checkIfNameValid - [{\"name\"=>\"_nameStr\", \"type\"=>\"string\"}] - [{\"name\"=>\"\", \"type\"=>\"bool\"}]\nfunction - getPlayerName - [{\"name\"=>\"_pID\", \"type\"=>\"uint256\"}] - [{\"name\"=>\"\", \"type\"=>\"bytes32\"}]\nfunction - plyrNameList_ - [{\"name\"=>\"\", \"type\"=>\"uint256\"}, {\"name\"=>\"\", \"type\"=>\"uint256\"}] - [{\"name\"=>\"\", \"type\"=>\"bytes32\"}]\nfunction - gID_ - [] - [{\"name\"=>\"\", \"type\"=>\"uint256\"}]\nfunction - games_ - [{\"name\"=>\"\", \"type\"=>\"uint256\"}] - [{\"name\"=>\"\", \"type\"=>\"address\"}]\nfunction - gameIDs_ - [{\"name\"=>\"\", \"type\"=>\"address\"}] - [{\"name\"=>\"\", \"type\"=>\"uint256\"}]\nfunction - plyr_ - [{\"name\"=>\"\", \"type\"=>\"uint256\"}] - [{\"name\"=>\"addr\", \"type\"=>\"address\"}, {\"name\"=>\"name\", \"type\"=>\"bytes32\"}, {\"name\"=>\"laff\", \"type\"=>\"uint256\"}, {\"name\"=>\"names\", \"type\"=>\"uint256\"}]\nfunction - getPlayerLAff - [{\"name\"=>\"_pID\", \"type\"=>\"uint256\"}] - [{\"name\"=>\"\", \"type\"=>\"uint256\"}]\n==Write==\nfunction - addMeToAllGames - [] - []\nfunction - registerNameXaddr - [{\"name\"=>\"_nameString\", \"type\"=>\"string\"}, {\"name\"=>\"_affCode\", \"type\"=>\"address\"}, {\"name\"=>\"_all\", \"type\"=>\"bool\"}] - []\nfunction - addGame - [{\"name\"=>\"_gameAddress\", \"type\"=>\"address\"}, {\"name\"=>\"_gameNameStr\", \"type\"=>\"string\"}] - []\nfunction - registerNameXname - [{\"name\"=>\"_nameString\", \"type\"=>\"string\"}, {\"name\"=>\"_affCode\", \"type\"=>\"bytes32\"}, {\"name\"=>\"_all\", \"type\"=>\"bool\"}] - []\nfunction - registerNameXnameFromDapp - [{\"name\"=>\"_addr\", \"type\"=>\"address\"}, {\"name\"=>\"_name\", \"type\"=>\"bytes32\"}, {\"name\"=>\"_affCode\", \"type\"=>\"bytes32\"}, {\"name\"=>\"_all\", \"type\"=>\"bool\"}] - [{\"name\"=>\"\", \"type\"=>\"bool\"}, {\"name\"=>\"\", \"type\"=>\"uint256\"}]\nfunction - addMeToGame - [{\"name\"=>\"_gameID\", \"type\"=>\"uint256\"}] - []\nfunction - registerNameXID - [{\"name\"=>\"_nameString\", \"type\"=>\"string\"}, {\"name\"=>\"_affCode\", \"type\"=>\"uint256\"}, {\"name\"=>\"_all\", \"type\"=>\"bool\"}] - []\nfunction - registerNameXaddrFromDapp - [{\"name\"=>\"_addr\", \"type\"=>\"address\"}, {\"name\"=>\"_name\", \"type\"=>\"bytes32\"}, {\"name\"=>\"_affCode\", \"type\"=>\"address\"}, {\"name\"=>\"_all\", \"type\"=>\"bool\"}] - [{\"name\"=>\"\", \"type\"=>\"bool\"}, {\"name\"=>\"\", \"type\"=>\"uint256\"}]\nfunction - useMyOldName - [{\"name\"=>\"_nameString\", \"type\"=>\"string\"}] - []\nfunction - registerNameXIDFromDapp - [{\"name\"=>\"_addr\", \"type\"=>\"address\"}, {\"name\"=>\"_name\", \"type\"=>\"bytes32\"}, {\"name\"=>\"_affCode\", \"type\"=>\"uint256\"}, {\"name\"=>\"_all\", \"type\"=>\"bool\"}] - [{\"name\"=>\"\", \"type\"=>\"bool\"}, {\"name\"=>\"\", \"type\"=>\"uint256\"}]\nfunction - setRegistrationFee - [{\"name\"=>\"_fee\", \"type\"=>\"uint256\"}] - []\nfunction - getPlayerID - [{\"name\"=>\"_addr\", \"type\"=>\"address\"}] - [{\"name\"=>\"\", \"type\"=>\"uint256\"}]\n",
     "output_type": "stream"
    }
   ]
  },
  {
   "cell_type": "code",
   "metadata": {
    "cell_id": "5993244a-1b5d-49e3-81fe-46624bf372a9",
    "tags": [],
    "deepnote_to_be_reexecuted": false,
    "source_hash": "6c47c4e7",
    "execution_start": 1647326195862,
    "execution_millis": 10646,
    "deepnote_cell_type": "code",
    "deepnote_cell_height": 316.1875,
    "deepnote_output_heights": [
     21.1875
    ]
   },
   "source": "gID_ = $playerbook_contract.call.g_id_\npID_ = $playerbook_contract.call.p_id_\nregistrationFee_ = $playerbook_contract.call.registration_fee_\ngetNameFee = $playerbook_contract.call.get_name_fee\n\naddrs = (1..pID_).map do |i|\n    {pid:i,addr:$playerbook_contract.call.get_player_addr(i)}\nend\n\ngames = (1..gID_).map do |i|\n    {gid:i, addr:$playerbook_contract.call.games_(i)}\nend",
   "execution_count": null,
   "outputs": [
    {
     "output_type": "execute_result",
     "execution_count": 7,
     "data": {
      "text/plain": "[{:gid=>1, :addr=>\"324b50caa2b95df219e78e016a3014e9b70ef5a2\"}, {:gid=>2, :addr=>\"78d4883aece4a783a201a39c69d79dd605b18895\"}]"
     },
     "metadata": {}
    }
   ]
  },
  {
   "cell_type": "code",
   "metadata": {
    "cell_id": "e513b005-f0dc-480d-ba7f-c7c2e145bb88",
    "tags": [],
    "deepnote_to_be_reexecuted": false,
    "source_hash": "6a4e871f",
    "execution_start": 1647326206508,
    "execution_millis": 10458,
    "deepnote_cell_type": "code",
    "deepnote_cell_height": 901.1875
   },
   "source": "# 查询合约情况\n\nputs \"gID_ = #{gID_}\"\nputs \"pID_ = #{pID_}\"\nputs \"registrationFee_ = #{registrationFee_}\"\nputs \"getNameFee = #{getNameFee}\"\n\n\n\nputs\nputs \"player addr:\"\nputs addrs.map {|x| \n    [x[:addr],\n     $playerbook_contract.call.get_player_name(x[:pid]),\n     $playerbook_contract.call.get_player_l_aff(x[:pid]) \n     ]\n     .join(\" - \") }.join(\"\\n\")\nputs \"\\n\"\nputs \"game addr:\"\nputs games.map {|x| \n    [x[:addr],\n     $playerbook_contract.call.game_names_(x[:addr]),\n     get_balance(\"0x\"+x[:addr])]\n    .join(\" - \")}.join(\"\\n\")\n",
   "execution_count": null,
   "outputs": [
    {
     "name": "stdout",
     "text": "gID_ = 2\npID_ = 9\nregistrationFee_ = 15792089237316195423570985008687907853269984665640564039457584007913129639936\ngetNameFee = 15792089237316195423570985008687907853269984665640564039457584007913129639936\n\nplayer addr:\nacc961474eb17c103bbed96fc8f0e4eeac91c475 - masto - 0\nb74c54ebc1b94dfe93711780f9087f2ba360b70f - admino - 0\n718b6aca52548416e27ab38699cbc4c0ed304b95 - tothemoon - 0\n838939a62daf9594fe955a9a2ccd735a35e153a1 -  - 0\n50d625fcffc6ffb42f10e6b8b87f107f5d9a2e30 - kevingy - 0\na41d1a5d21cc616b52ae2e3e2224768eba3f81ff -  - 0\n7f2f933ee22b802935449911fc8c7f35fb00409c -  - 0\n663c9a828a7b5d7821e709714c29357506102e49 -  - 0\ne50ac0d497db44ffaaeb7d98cb57c420992e1d9d -  - 0\n\ngame addr:\n324b50caa2b95df219e78e016a3014e9b70ef5a2 - fomofast - 0.05611162315356991\n78d4883aece4a783a201a39c69d79dd605b18895 - agent232attack - 0.0\n",
     "output_type": "stream"
    }
   ]
  },
  {
   "cell_type": "code",
   "metadata": {
    "cell_id": "adbdcb84-6fef-428e-97fd-a74dad41bf79",
    "tags": [],
    "deepnote_to_be_reexecuted": false,
    "source_hash": "8fd209a7",
    "execution_start": 1647326216967,
    "execution_millis": 3,
    "deepnote_cell_type": "code",
    "deepnote_cell_height": 899
   },
   "source": "# === Inspect Fomo ===\n\n\nputs \"==Read==\"\nputs $fomo_contract.abi.filter{ |x| x[\"constant\"]==true }\n    .filter{ |x| x[\"type\"]==\"function\" }\n    .map {|x| [x[\"type\"],x[\"name\"],x[\"inputs\"].to_s,x[\"outputs\"].to_s].join(\" - \") }.join(\"\\n\")\n\nputs \"==Write==\"\nputs $fomo_contract.abi.filter{ |x| x[\"constant\"]==false }\n    .filter{ |x| x[\"type\"]==\"function\" }\n    .map {|x| [x[\"type\"],x[\"name\"],x[\"inputs\"].to_s,x[\"outputs\"].to_s].join(\" - \") }.join(\"\\n\")",
   "execution_count": null,
   "outputs": [
    {
     "name": "stdout",
     "text": "==Read==\nfunction - getBuyPrice - [] - [{\"name\"=>\"\", \"type\"=>\"uint256\"}]\nfunction - name - [] - [{\"name\"=>\"\", \"type\"=>\"string\"}]\nfunction - pIDxAddr_ - [{\"name\"=>\"\", \"type\"=>\"address\"}] - [{\"name\"=>\"\", \"type\"=>\"uint256\"}]\nfunction - airDropTracker_ - [] - [{\"name\"=>\"\", \"type\"=>\"uint256\"}]\nfunction - round_ - [{\"name\"=>\"\", \"type\"=>\"uint256\"}] - [{\"name\"=>\"plyr\", \"type\"=>\"uint256\"}, {\"name\"=>\"team\", \"type\"=>\"uint256\"}, {\"name\"=>\"end\", \"type\"=>\"uint256\"}, {\"name\"=>\"ended\", \"type\"=>\"bool\"}, {\"name\"=>\"strt\", \"type\"=>\"uint256\"}, {\"name\"=>\"keys\", \"type\"=>\"uint256\"}, {\"name\"=>\"eth\", \"type\"=>\"uint256\"}, {\"name\"=>\"pot\", \"type\"=>\"uint256\"}, {\"name\"=>\"mask\", \"type\"=>\"uint256\"}, {\"name\"=>\"ico\", \"type\"=>\"uint256\"}, {\"name\"=>\"icoGen\", \"type\"=>\"uint256\"}, {\"name\"=>\"icoAvg\", \"type\"=>\"uint256\"}]\nfunction - plyrNames_ - [{\"name\"=>\"\", \"type\"=>\"uint256\"}, {\"name\"=>\"\", \"type\"=>\"bytes32\"}] - [{\"name\"=>\"\", \"type\"=>\"bool\"}]\nfunction - fees_ - [{\"name\"=>\"\", \"type\"=>\"uint256\"}] - [{\"name\"=>\"gen\", \"type\"=>\"uint256\"}, {\"name\"=>\"p3d\", \"type\"=>\"uint256\"}]\nfunction - pIDxName_ - [{\"name\"=>\"\", \"type\"=>\"bytes32\"}] - [{\"name\"=>\"\", \"type\"=>\"uint256\"}]\nfunction - rndTmEth_ - [{\"name\"=>\"\", \"type\"=>\"uint256\"}, {\"name\"=>\"\", \"type\"=>\"uint256\"}] - [{\"name\"=>\"\", \"type\"=>\"uint256\"}]\nfunction - rID_ - [] - [{\"name\"=>\"\", \"type\"=>\"uint256\"}]\nfunction - getPlayerVaults - [{\"name\"=>\"_pID\", \"type\"=>\"uint256\"}] - [{\"name\"=>\"\", \"type\"=>\"uint256\"}, {\"name\"=>\"\", \"type\"=>\"uint256\"}, {\"name\"=>\"\", \"type\"=>\"uint256\"}]\nfunction - getCurrentRoundInfo - [] - [{\"name\"=>\"\", \"type\"=>\"uint256\"}, {\"name\"=>\"\", \"type\"=>\"uint256\"}, {\"name\"=>\"\", \"type\"=>\"uint256\"}, {\"name\"=>\"\", \"type\"=>\"uint256\"}, {\"name\"=>\"\", \"type\"=>\"uint256\"}, {\"name\"=>\"\", \"type\"=>\"uint256\"}, {\"name\"=>\"\", \"type\"=>\"uint256\"}, {\"name\"=>\"\", \"type\"=>\"address\"}, {\"name\"=>\"\", \"type\"=>\"bytes32\"}, {\"name\"=>\"\", \"type\"=>\"uint256\"}, {\"name\"=>\"\", \"type\"=>\"uint256\"}, {\"name\"=>\"\", \"type\"=>\"uint256\"}, {\"name\"=>\"\", \"type\"=>\"uint256\"}, {\"name\"=>\"\", \"type\"=>\"uint256\"}]\nfunction - symbol - [] - [{\"name\"=>\"\", \"type\"=>\"string\"}]\nfunction - plyrRnds_ - [{\"name\"=>\"\", \"type\"=>\"uint256\"}, {\"name\"=>\"\", \"type\"=>\"uint256\"}] - [{\"name\"=>\"eth\", \"type\"=>\"uint256\"}, {\"name\"=>\"keys\", \"type\"=>\"uint256\"}, {\"name\"=>\"mask\", \"type\"=>\"uint256\"}, {\"name\"=>\"ico\", \"type\"=>\"uint256\"}]\nfunction - potSplit_ - [{\"name\"=>\"\", \"type\"=>\"uint256\"}] - [{\"name\"=>\"gen\", \"type\"=>\"uint256\"}, {\"name\"=>\"p3d\", \"type\"=>\"uint256\"}]\nfunction - getTimeLeft - [] - [{\"name\"=>\"\", \"type\"=>\"uint256\"}]\nfunction - calcKeysReceived - [{\"name\"=>\"_rID\", \"type\"=>\"uint256\"}, {\"name\"=>\"_eth\", \"type\"=>\"uint256\"}] - [{\"name\"=>\"\", \"type\"=>\"uint256\"}]\nfunction - iWantXKeys - [{\"name\"=>\"_keys\", \"type\"=>\"uint256\"}] - [{\"name\"=>\"\", \"type\"=>\"uint256\"}]\nfunction - activated_ - [] - [{\"name\"=>\"\", \"type\"=>\"bool\"}]\nfunction - airDropPot_ - [] - [{\"name\"=>\"\", \"type\"=>\"uint256\"}]\nfunction - plyr_ - [{\"name\"=>\"\", \"type\"=>\"uint256\"}] - [{\"name\"=>\"addr\", \"type\"=>\"address\"}, {\"name\"=>\"name\", \"type\"=>\"bytes32\"}, {\"name\"=>\"win\", \"type\"=>\"uint256\"}, {\"name\"=>\"gen\", \"type\"=>\"uint256\"}, {\"name\"=>\"aff\", \"type\"=>\"uint256\"}, {\"name\"=>\"lrnd\", \"type\"=>\"uint256\"}, {\"name\"=>\"laff\", \"type\"=>\"uint256\"}]\nfunction - getPlayerInfoByAddress - [{\"name\"=>\"_addr\", \"type\"=>\"address\"}] - [{\"name\"=>\"\", \"type\"=>\"uint256\"}, {\"name\"=>\"\", \"type\"=>\"bytes32\"}, {\"name\"=>\"\", \"type\"=>\"uint256\"}, {\"name\"=>\"\", \"type\"=>\"uint256\"}, {\"name\"=>\"\", \"type\"=>\"uint256\"}, {\"name\"=>\"\", \"type\"=>\"uint256\"}, {\"name\"=>\"\", \"type\"=>\"uint256\"}]\n==Write==\nfunction - reLoadXname - [{\"name\"=>\"_affCode\", \"type\"=>\"bytes32\"}, {\"name\"=>\"_team\", \"type\"=>\"uint256\"}, {\"name\"=>\"_eth\", \"type\"=>\"uint256\"}] - []\nfunction - activate - [] - []\nfunction - reLoadXid - [{\"name\"=>\"_affCode\", \"type\"=>\"uint256\"}, {\"name\"=>\"_team\", \"type\"=>\"uint256\"}, {\"name\"=>\"_eth\", \"type\"=>\"uint256\"}] - []\nfunction - withdraw - [] - []\nfunction - registerNameXaddr - [{\"name\"=>\"_nameString\", \"type\"=>\"string\"}, {\"name\"=>\"_affCode\", \"type\"=>\"address\"}, {\"name\"=>\"_all\", \"type\"=>\"bool\"}] - []\nfunction - receivePlayerInfo - [{\"name\"=>\"_pID\", \"type\"=>\"uint256\"}, {\"name\"=>\"_addr\", \"type\"=>\"address\"}, {\"name\"=>\"_name\", \"type\"=>\"bytes32\"}, {\"name\"=>\"_laff\", \"type\"=>\"uint256\"}] - []\nfunction - registerNameXname - [{\"name\"=>\"_nameString\", \"type\"=>\"string\"}, {\"name\"=>\"_affCode\", \"type\"=>\"bytes32\"}, {\"name\"=>\"_all\", \"type\"=>\"bool\"}] - []\nfunction - reLoadXaddr - [{\"name\"=>\"_affCode\", \"type\"=>\"address\"}, {\"name\"=>\"_team\", \"type\"=>\"uint256\"}, {\"name\"=>\"_eth\", \"type\"=>\"uint256\"}] - []\nfunction - buyXid - [{\"name\"=>\"_affCode\", \"type\"=>\"uint256\"}, {\"name\"=>\"_team\", \"type\"=>\"uint256\"}] - []\nfunction - receivePlayerNameList - [{\"name\"=>\"_pID\", \"type\"=>\"uint256\"}, {\"name\"=>\"_name\", \"type\"=>\"bytes32\"}] - []\nfunction - registerNameXID - [{\"name\"=>\"_nameString\", \"type\"=>\"string\"}, {\"name\"=>\"_affCode\", \"type\"=>\"uint256\"}, {\"name\"=>\"_all\", \"type\"=>\"bool\"}] - []\nfunction - buyXaddr - [{\"name\"=>\"_affCode\", \"type\"=>\"address\"}, {\"name\"=>\"_team\", \"type\"=>\"uint256\"}] - []\nfunction - buyXname - [{\"name\"=>\"_affCode\", \"type\"=>\"bytes32\"}, {\"name\"=>\"_team\", \"type\"=>\"uint256\"}] - []\nfunction - potSwap - [] - []\n",
     "output_type": "stream"
    }
   ]
  },
  {
   "cell_type": "code",
   "metadata": {
    "cell_id": "d509dab3-937b-4281-8269-e415040b2a43",
    "tags": [],
    "deepnote_to_be_reexecuted": false,
    "source_hash": "947f2542",
    "execution_start": 1647326216974,
    "execution_millis": 4803,
    "deepnote_cell_type": "code",
    "deepnote_cell_height": 400.796875
   },
   "source": "$fomo_contract.abi.filter{ |x| x[\"constant\"]==true }\n    .filter{ |x| x[\"type\"]==\"function\" }\n    .filter{ |x| x[\"inputs\"]==[]}.map {|x| x[\"name\"]}.map { |x| \n        puts \"#{x} = #{$fomo_contract.call.send(x.underscore)}\"\n    }\n\nputs",
   "execution_count": null,
   "outputs": [
    {
     "name": "stdout",
     "text": "getBuyPrice = 75000000000000\nname = FOMO Fast\nairDropTracker_ = 0\nrID_ = 9\ngetCurrentRoundInfo = [0, 9, 0, 1533126208, 1533122608, 287426290807430, 0, \"0000000000000000000000000000000000000000\", \"\", 0, 0, 0, 0, 4096196959362189000]\nsymbol = Fast\ngetTimeLeft = 0\nactivated_ = true\nairDropPot_ = 4096196959362189\n\n",
     "output_type": "stream"
    }
   ]
  },
  {
   "cell_type": "code",
   "metadata": {
    "cell_id": "64242f2d-1346-4e9c-830d-5bca54665511",
    "tags": [],
    "deepnote_to_be_reexecuted": false,
    "source_hash": "ae5ad2d8",
    "execution_start": 1647326255807,
    "execution_millis": 10919,
    "deepnote_cell_type": "code",
    "deepnote_cell_height": 723.59375,
    "deepnote_output_heights": [
     21.1875,
     293
    ]
   },
   "source": "puts \"player addr:\"\ntable = addrs.map {|x| \n     a=$fomo_contract.call.get_player_info_by_address(x[:addr])\n     b=$fomo_contract.call.get_player_vaults(x[:pid])\n     c=$fomo_contract.call.plyr_(x[:pid]) \n\n    [x[:addr],a[1],a[2],a[3],a[4],a[5],a[6],b[0],b[1],b[2],c[5],c[6]\n    ].map {|y| \"<td>#{y}</td>\"}.join }.map {|y| \"<tr>#{y}</tr>\"}.join(\"\\n\")\n\nheader = %w(addr name keys  winnings  general  affiliate  round_eth winnings  general  affiliate lrnd laff).map { |x|\n    \"<td>#{x}</td>\"\n}.join\n\ntable = \"<table><tr>#{header}</tr>#{table}</table>\"\n\nIRuby.html table\n",
   "execution_count": null,
   "outputs": [
    {
     "name": "stdout",
     "text": "player addr:\n",
     "output_type": "stream"
    },
    {
     "output_type": "execute_result",
     "execution_count": 13,
     "data": {
      "text/plain": "\"<table><tr><td>addr</td><td>name</td><td>keys</td><td>winnings</td><td>general</td><td>affiliate</td><td>round_eth</td><td>winnings</td><td>general</td><td>affiliate</td><td>lrnd</td><td>laff</td></tr><tr><td>acc961474eb17c103bbed96fc8f0e4eeac91c475</td><td>masto</td><td>0</td><td>230400000000002</td><td>549999999999993</td><td>0</td><td>0</td><td>230400000000002</td><td>549999999999993</td><td>0</td><td>1</td><td>0</td></tr>\\n<tr><td>b74c54ebc1b94dfe93711780f9087f2ba360b70f</td><td>admino</td><td>0</td><td>0</td><td>0</td><td>0</td><td>0</td><td>0</td><td>0</td><td>0</td><td>0</td><td>0</td></tr>\\n<tr><td>718b6aca52548416e27ab38699cbc4c0ed304b95</td><td>tothemoon</td><td>0</td><td>0</td><td>75000000000100</td><td>0</td><td>0</td><td>0</td><td>75000000000100</td><td>0</td><td>5</td><td>0</td></tr>\\n<tr><td>838939a62daf9594fe955a9a2ccd735a35e153a1</td><td></td><td>0</td><td>0</td><td>0</td><td>0</td><td>0</td><td>0</td><td>0</td><td>0</td><td>5</td><td>0</td></tr>\\n<tr><td>50d625fcffc6ffb42f10e6b8b87f107f5d9a2e30</td><td>kevingy</td><td>0</td><td>0</td><td>602337554205766</td><td>0</td><td>0</td><td>0</td><td>602337554205766</td><td>0</td><td>2</td><td>0</td></tr>\\n<tr><td>a41d1a5d21cc616b52ae2e3e2224768eba3f81ff</td><td></td><td>0</td><td>0</td><td>0</td><td>0</td><td>0</td><td>0</td><td>0</td><td>0</td><td>5</td><td>0</td></tr>\\n<tr><td>7f2f933ee22b802935449911fc8c7f35fb00409c</td><td></td><td>0</td><td>0</td><td>0</td><td>0</td><td>0</td><td>0</td><td>0</td><td>0</td><td>8</td><td>0</td></tr>\\n<tr><td>663c9a828a7b5d7821e709714c29357506102e49</td><td></td><td>0</td><td>5475384783502422</td><td>6279518822969440</td><td>0</td><td>0</td><td>5475384783502422</td><td>6279518822969440</td><td>0</td><td>7</td><td>0</td></tr>\\n<tr><td>e50ac0d497db44ffaaeb7d98cb57c420992e1d9d</td><td></td><td>0</td><td>0</td><td>22582054687500100</td><td>0</td><td>0</td><td>0</td><td>22582054687500100</td><td>0</td><td>0</td><td>0</td></tr></table>\"",
      "text/html": "<table><tr><td>addr</td><td>name</td><td>keys</td><td>winnings</td><td>general</td><td>affiliate</td><td>round_eth</td><td>winnings</td><td>general</td><td>affiliate</td><td>lrnd</td><td>laff</td></tr><tr><td>acc961474eb17c103bbed96fc8f0e4eeac91c475</td><td>masto</td><td>0</td><td>230400000000002</td><td>549999999999993</td><td>0</td><td>0</td><td>230400000000002</td><td>549999999999993</td><td>0</td><td>1</td><td>0</td></tr>\n<tr><td>b74c54ebc1b94dfe93711780f9087f2ba360b70f</td><td>admino</td><td>0</td><td>0</td><td>0</td><td>0</td><td>0</td><td>0</td><td>0</td><td>0</td><td>0</td><td>0</td></tr>\n<tr><td>718b6aca52548416e27ab38699cbc4c0ed304b95</td><td>tothemoon</td><td>0</td><td>0</td><td>75000000000100</td><td>0</td><td>0</td><td>0</td><td>75000000000100</td><td>0</td><td>5</td><td>0</td></tr>\n<tr><td>838939a62daf9594fe955a9a2ccd735a35e153a1</td><td></td><td>0</td><td>0</td><td>0</td><td>0</td><td>0</td><td>0</td><td>0</td><td>0</td><td>5</td><td>0</td></tr>\n<tr><td>50d625fcffc6ffb42f10e6b8b87f107f5d9a2e30</td><td>kevingy</td><td>0</td><td>0</td><td>602337554205766</td><td>0</td><td>0</td><td>0</td><td>602337554205766</td><td>0</td><td>2</td><td>0</td></tr>\n<tr><td>a41d1a5d21cc616b52ae2e3e2224768eba3f81ff</td><td></td><td>0</td><td>0</td><td>0</td><td>0</td><td>0</td><td>0</td><td>0</td><td>0</td><td>5</td><td>0</td></tr>\n<tr><td>7f2f933ee22b802935449911fc8c7f35fb00409c</td><td></td><td>0</td><td>0</td><td>0</td><td>0</td><td>0</td><td>0</td><td>0</td><td>0</td><td>8</td><td>0</td></tr>\n<tr><td>663c9a828a7b5d7821e709714c29357506102e49</td><td></td><td>0</td><td>5475384783502422</td><td>6279518822969440</td><td>0</td><td>0</td><td>5475384783502422</td><td>6279518822969440</td><td>0</td><td>7</td><td>0</td></tr>\n<tr><td>e50ac0d497db44ffaaeb7d98cb57c420992e1d9d</td><td></td><td>0</td><td>0</td><td>22582054687500100</td><td>0</td><td>0</td><td>0</td><td>22582054687500100</td><td>0</td><td>0</td><td>0</td></tr></table>"
     },
     "metadata": {}
    }
   ]
  },
  {
   "cell_type": "code",
   "metadata": {
    "cell_id": "17247fae-48c9-49db-9b90-c3335cc03c9b",
    "tags": [],
    "deepnote_to_be_reexecuted": false,
    "source_hash": "f78f9f4d",
    "execution_start": 1647327379824,
    "execution_millis": 36190,
    "deepnote_cell_type": "code",
    "deepnote_cell_height": 171,
    "deepnote_output_heights": [
     64.390625
    ]
   },
   "source": "rID_ = $fomo_contract.call.r_id_\nround = (1..rID_).map do |i|\n    $fomo_contract.call.round_(i)\nend\n\nnil",
   "execution_count": null,
   "outputs": []
  },
  {
   "cell_type": "code",
   "metadata": {
    "cell_id": "3734bd71-f412-4096-80fb-66f37bb0a633",
    "tags": [],
    "deepnote_to_be_reexecuted": false,
    "source_hash": "4862a107",
    "execution_start": 1647329171324,
    "execution_millis": 22219,
    "deepnote_cell_type": "code",
    "deepnote_cell_height": 153
   },
   "source": "round_team = (1..rID_).map do |i|\n    [$fomo_contract.call.rnd_tm_eth_(i,0),$fomo_contract.call.rnd_tm_eth_(i,1),$fomo_contract.call.rnd_tm_eth_(i,2),$fomo_contract.call.rnd_tm_eth_(i,3)]\nend\n\nnil",
   "execution_count": null,
   "outputs": []
  },
  {
   "cell_type": "code",
   "metadata": {
    "cell_id": "cd978757-6221-42b4-9f79-59878ea9661a",
    "tags": [],
    "deepnote_to_be_reexecuted": false,
    "source_hash": "db8a0175",
    "execution_start": 1647329225318,
    "execution_millis": 11530,
    "deepnote_cell_type": "code",
    "deepnote_cell_height": 136.1875,
    "deepnote_output_heights": [
     21.1875
    ]
   },
   "source": "round_team\n# puts round_team.map do |x| x.join(\" - \") end.join(\"\\n\")",
   "execution_count": null,
   "outputs": [
    {
     "output_type": "execute_result",
     "execution_count": 58,
     "data": {
      "text/plain": "[[0, 1000000000000000, 0, 0], [37725150625000404, 0, 53439894843750201, 0], [7575789062500100, 0, 0, 0], [158118438279967717, 0, 0, 0], [136382219531250504, 0, 0, 0], [0, 0, 75000000000000, 0], [15228203593750100, 0, 0, 0], [0, 0, 75000000000000, 0], [0, 0, 0, 0]]"
     },
     "metadata": {}
    }
   ]
  },
  {
   "cell_type": "code",
   "metadata": {
    "cell_id": "0029abb9-c4c4-44de-bb4e-4966037711ba",
    "tags": [],
    "deepnote_to_be_reexecuted": false,
    "source_hash": "81a2df97",
    "execution_start": 1647329365044,
    "execution_millis": 2,
    "deepnote_cell_type": "code",
    "deepnote_cell_height": 1020,
    "deepnote_output_heights": [
     293,
     355.390625
    ]
   },
   "source": "html = \"\"\"\n  <table>\n    <tr>\n<% %w(plyr team team0 team1 team2 team3  end  ended strt duration keys eth keys_per_eth pot mask ico icoGen icoAvg).each do |x| %>\n        <th><%= x %></th>\n<% end %>\n    </tr>\n    <% acc_eth = 0\n       round.each_with_index do |rnd,i| \n       %>\n    <tr>\n            <td> <%= rnd[0] %> </td>\n            <td> <%= rnd[1] %> </td>\n            <td> <%= round_team[i][0]/1e18 %> </td>\n            <td> <%= round_team[i][1]/1e18 %> </td>\n            <td> <%= round_team[i][2]/1e18 %> </td>\n            <td> <%= round_team[i][3]/1e18 %> </td>\n            <td> <%= Time.at(rnd[2]).to_fs(:db) %> </td>\n            <td> <%= rnd[3] %> </td>\n            <td> <%= Time.at(rnd[4]).to_fs(:db) %> </td>\n            <td> <%= ActiveSupport::Duration.build(rnd[2]-rnd[4]).inspect %> </td>\n            <td> <%= rnd[5]/1e18 %> </td>\n            <td> <%= rnd[6]/1e18 %> </td>\n            <td> <%= rnd[6]==0 ? 0 : rnd[5]/rnd[6] %> </td>\n            <td> <%= rnd[7]/1e18 %> </td>\n            <td> <%= rnd[8] %> </td>\n            <td> <%= rnd[9] %> </td>\n            <td> <%= rnd[10] %> </td>\n            <td> <%= rnd[11] %> </td>\n    </tr>\n    <% \n       end %>\n  </table>\n\"\"\"\n\nIRuby.html ERB.new(html).result(binding)",
   "execution_count": null,
   "outputs": [
    {
     "output_type": "execute_result",
     "execution_count": 60,
     "data": {
      "text/plain": "\"\\n  <table>\\n    <tr>\\n\\n        <th>plyr</th>\\n\\n        <th>team</th>\\n\\n        <th>team0</th>\\n\\n        <th>team1</th>\\n\\n        <th>team2</th>\\n\\n        <th>team3</th>\\n\\n        <th>end</th>\\n\\n        <th>ended</th>\\n\\n        <th>strt</th>\\n\\n        <th>duration</th>\\n\\n        <th>keys</th>\\n\\n        <th>eth</th>\\n\\n        <th>keys_per_eth</th>\\n\\n        <th>pot</th>\\n\\n        <th>mask</th>\\n\\n        <th>ico</th>\\n\\n        <th>icoGen</th>\\n\\n        <th>icoAvg</th>\\n\\n    </tr>\\n    \\n    <tr>\\n            <td> 1 </td>\\n            <td> 1 </td>\\n            <td> 0.0 </td>\\n            <td> 0.001 </td>\\n            <td> 0.0 </td>\\n            <td> 0.0 </td>\\n            <td> 2018-07-23 01:05:14 </td>\\n            <td> true </td>\\n            <td> 2018-07-22 16:20:30 </td>\\n            <td> 8 hours, 44 minutes, and 44 seconds </td>\\n            <td> 13.333162041616681 </td>\\n            <td> 0.001 </td>\\n            <td> 13333 </td>\\n            <td> 0.000480000000000005 </td>\\n            <td> 41250529940556 </td>\\n            <td> 0 </td>\\n            <td> 0 </td>\\n            <td> 0 </td>\\n    </tr>\\n    \\n    <tr>\\n            <td> 3 </td>\\n            <td> 0 </td>\\n            <td> 0.0377251506250004 </td>\\n            <td> 0.0 </td>\\n            <td> 0.0534398948437502 </td>\\n            <td> 0.0 </td>\\n            <td> 2018-07-23 08:20:53 </td>\\n            <td> true </td>\\n            <td> 2018-07-23 05:21:45 </td>\\n            <td> 2 hours, 59 minutes, and 8 seconds </td>\\n            <td> 1214.0000000000082 </td>\\n            <td> 0.09116504546875061 </td>\\n            <td> 13316 </td>\\n            <td> 0.039934183606409934 </td>\\n            <td> 58188305037109 </td>\\n            <td> 0 </td>\\n            <td> 0 </td>\\n            <td> 0 </td>\\n    </tr>\\n    \\n    <tr>\\n            <td> 3 </td>\\n            <td> 0 </td>\\n            <td> 0.0075757890625001 </td>\\n            <td> 0.0 </td>\\n            <td> 0.0 </td>\\n            <td> 0.0 </td>\\n            <td> 2018-07-23 09:44:29 </td>\\n            <td> true </td>\\n            <td> 2018-07-23 08:27:39 </td>\\n            <td> 1 hour, 16 minutes, and 50 seconds </td>\\n            <td> 101.00000000000132 </td>\\n            <td> 0.0075757890625001 </td>\\n            <td> 13331 </td>\\n            <td> 0.014597201440665824 </td>\\n            <td> 43149021883897 </td>\\n            <td> 0 </td>\\n            <td> 0 </td>\\n            <td> 0 </td>\\n    </tr>\\n    \\n    <tr>\\n            <td> 4 </td>\\n            <td> 0 </td>\\n            <td> 0.15811843827996772 </td>\\n            <td> 0.0 </td>\\n            <td> 0.0 </td>\\n            <td> 0.0 </td>\\n            <td> 2018-07-23 14:31:31 </td>\\n            <td> true </td>\\n            <td> 2018-07-23 12:18:35 </td>\\n            <td> 2 hours, 12 minutes, and 56 seconds </td>\\n            <td> 2103.6383534373826 </td>\\n            <td> 0.15811843827996772 </td>\\n            <td> 13304 </td>\\n            <td> 0.09994342927267007 </td>\\n            <td> 51973224498368 </td>\\n            <td> 0 </td>\\n            <td> 0 </td>\\n            <td> 0 </td>\\n    </tr>\\n    \\n    <tr>\\n            <td> 4 </td>\\n            <td> 0 </td>\\n            <td> 0.1363822195312505 </td>\\n            <td> 0.0 </td>\\n            <td> 0.0 </td>\\n            <td> 0.0 </td>\\n            <td> 2018-07-23 18:10:42 </td>\\n            <td> true </td>\\n            <td> 2018-07-23 14:49:47 </td>\\n            <td> 3 hours, 20 minutes, and 55 seconds </td>\\n            <td> 1815.0000000000068 </td>\\n            <td> 0.1363822195312505 </td>\\n            <td> 13308 </td>\\n            <td> 0.10804262901270416 </td>\\n            <td> 55507865772549 </td>\\n            <td> 0 </td>\\n            <td> 0 </td>\\n            <td> 0 </td>\\n    </tr>\\n    \\n    <tr>\\n            <td> 7 </td>\\n            <td> 2 </td>\\n            <td> 0.0 </td>\\n            <td> 0.0 </td>\\n            <td> 7.5e-05 </td>\\n            <td> 0.0 </td>\\n            <td> 2018-07-26 11:46:10 </td>\\n            <td> true </td>\\n            <td> 2018-07-24 02:02:39 </td>\\n            <td> 2 days, 9 hours, 43 minutes, and 31 seconds </td>\\n            <td> 1.0 </td>\\n            <td> 7.5e-05 </td>\\n            <td> 13333 </td>\\n            <td> 0.028321629027138192 </td>\\n            <td> 5191387095843308 </td>\\n            <td> 0 </td>\\n            <td> 0 </td>\\n            <td> 0 </td>\\n    </tr>\\n    \\n    <tr>\\n            <td> 8 </td>\\n            <td> 0 </td>\\n            <td> 0.0152282035937501 </td>\\n            <td> 0.0 </td>\\n            <td> 0.0 </td>\\n            <td> 0.0 </td>\\n            <td> 2018-07-27 15:16:18 </td>\\n            <td> true </td>\\n            <td> 2018-07-26 12:05:07 </td>\\n            <td> 1 day, 3 hours, 11 minutes, and 11 seconds </td>\\n            <td> 203.00000000000134 </td>\\n            <td> 0.0152282035937501 </td>\\n            <td> 13330 </td>\\n            <td> 0.011977404213911549 </td>\\n            <td> 30933590260933 </td>\\n            <td> 0 </td>\\n            <td> 0 </td>\\n            <td> 0 </td>\\n    </tr>\\n    \\n    <tr>\\n            <td> 7 </td>\\n            <td> 2 </td>\\n            <td> 0.0 </td>\\n            <td> 0.0 </td>\\n            <td> 7.5e-05 </td>\\n            <td> 0.0 </td>\\n            <td> 2018-08-01 11:22:26 </td>\\n            <td> true </td>\\n            <td> 2018-07-28 05:06:15 </td>\\n            <td> 4 days, 6 hours, 16 minutes, and 11 seconds </td>\\n            <td> 1.0 </td>\\n            <td> 7.5e-05 </td>\\n            <td> 13333 </td>\\n            <td> 0.003161689198881704 </td>\\n            <td> 616852581614855 </td>\\n            <td> 0 </td>\\n            <td> 0 </td>\\n            <td> 0 </td>\\n    </tr>\\n    \\n    <tr>\\n            <td> 0 </td>\\n            <td> 0 </td>\\n            <td> 0.0 </td>\\n            <td> 0.0 </td>\\n            <td> 0.0 </td>\\n            <td> 0.0 </td>\\n            <td> 2018-08-01 12:23:28 </td>\\n            <td> false </td>\\n            <td> 2018-08-01 11:23:28 </td>\\n            <td> 1 hour </td>\\n            <td> 0.0 </td>\\n            <td> 0.0 </td>\\n            <td> 0 </td>\\n            <td> 0.00028742629080743 </td>\\n            <td> 0 </td>\\n            <td> 0 </td>\\n            <td> 0 </td>\\n            <td> 0 </td>\\n    </tr>\\n    \\n  </table>\\n\"",
      "text/html": "\n  <table>\n    <tr>\n\n        <th>plyr</th>\n\n        <th>team</th>\n\n        <th>team0</th>\n\n        <th>team1</th>\n\n        <th>team2</th>\n\n        <th>team3</th>\n\n        <th>end</th>\n\n        <th>ended</th>\n\n        <th>strt</th>\n\n        <th>duration</th>\n\n        <th>keys</th>\n\n        <th>eth</th>\n\n        <th>keys_per_eth</th>\n\n        <th>pot</th>\n\n        <th>mask</th>\n\n        <th>ico</th>\n\n        <th>icoGen</th>\n\n        <th>icoAvg</th>\n\n    </tr>\n    \n    <tr>\n            <td> 1 </td>\n            <td> 1 </td>\n            <td> 0.0 </td>\n            <td> 0.001 </td>\n            <td> 0.0 </td>\n            <td> 0.0 </td>\n            <td> 2018-07-23 01:05:14 </td>\n            <td> true </td>\n            <td> 2018-07-22 16:20:30 </td>\n            <td> 8 hours, 44 minutes, and 44 seconds </td>\n            <td> 13.333162041616681 </td>\n            <td> 0.001 </td>\n            <td> 13333 </td>\n            <td> 0.000480000000000005 </td>\n            <td> 41250529940556 </td>\n            <td> 0 </td>\n            <td> 0 </td>\n            <td> 0 </td>\n    </tr>\n    \n    <tr>\n            <td> 3 </td>\n            <td> 0 </td>\n            <td> 0.0377251506250004 </td>\n            <td> 0.0 </td>\n            <td> 0.0534398948437502 </td>\n            <td> 0.0 </td>\n            <td> 2018-07-23 08:20:53 </td>\n            <td> true </td>\n            <td> 2018-07-23 05:21:45 </td>\n            <td> 2 hours, 59 minutes, and 8 seconds </td>\n            <td> 1214.0000000000082 </td>\n            <td> 0.09116504546875061 </td>\n            <td> 13316 </td>\n            <td> 0.039934183606409934 </td>\n            <td> 58188305037109 </td>\n            <td> 0 </td>\n            <td> 0 </td>\n            <td> 0 </td>\n    </tr>\n    \n    <tr>\n            <td> 3 </td>\n            <td> 0 </td>\n            <td> 0.0075757890625001 </td>\n            <td> 0.0 </td>\n            <td> 0.0 </td>\n            <td> 0.0 </td>\n            <td> 2018-07-23 09:44:29 </td>\n            <td> true </td>\n            <td> 2018-07-23 08:27:39 </td>\n            <td> 1 hour, 16 minutes, and 50 seconds </td>\n            <td> 101.00000000000132 </td>\n            <td> 0.0075757890625001 </td>\n            <td> 13331 </td>\n            <td> 0.014597201440665824 </td>\n            <td> 43149021883897 </td>\n            <td> 0 </td>\n            <td> 0 </td>\n            <td> 0 </td>\n    </tr>\n    \n    <tr>\n            <td> 4 </td>\n            <td> 0 </td>\n            <td> 0.15811843827996772 </td>\n            <td> 0.0 </td>\n            <td> 0.0 </td>\n            <td> 0.0 </td>\n            <td> 2018-07-23 14:31:31 </td>\n            <td> true </td>\n            <td> 2018-07-23 12:18:35 </td>\n            <td> 2 hours, 12 minutes, and 56 seconds </td>\n            <td> 2103.6383534373826 </td>\n            <td> 0.15811843827996772 </td>\n            <td> 13304 </td>\n            <td> 0.09994342927267007 </td>\n            <td> 51973224498368 </td>\n            <td> 0 </td>\n            <td> 0 </td>\n            <td> 0 </td>\n    </tr>\n    \n    <tr>\n            <td> 4 </td>\n            <td> 0 </td>\n            <td> 0.1363822195312505 </td>\n            <td> 0.0 </td>\n            <td> 0.0 </td>\n            <td> 0.0 </td>\n            <td> 2018-07-23 18:10:42 </td>\n            <td> true </td>\n            <td> 2018-07-23 14:49:47 </td>\n            <td> 3 hours, 20 minutes, and 55 seconds </td>\n            <td> 1815.0000000000068 </td>\n            <td> 0.1363822195312505 </td>\n            <td> 13308 </td>\n            <td> 0.10804262901270416 </td>\n            <td> 55507865772549 </td>\n            <td> 0 </td>\n            <td> 0 </td>\n            <td> 0 </td>\n    </tr>\n    \n    <tr>\n            <td> 7 </td>\n            <td> 2 </td>\n            <td> 0.0 </td>\n            <td> 0.0 </td>\n            <td> 7.5e-05 </td>\n            <td> 0.0 </td>\n            <td> 2018-07-26 11:46:10 </td>\n            <td> true </td>\n            <td> 2018-07-24 02:02:39 </td>\n            <td> 2 days, 9 hours, 43 minutes, and 31 seconds </td>\n            <td> 1.0 </td>\n            <td> 7.5e-05 </td>\n            <td> 13333 </td>\n            <td> 0.028321629027138192 </td>\n            <td> 5191387095843308 </td>\n            <td> 0 </td>\n            <td> 0 </td>\n            <td> 0 </td>\n    </tr>\n    \n    <tr>\n            <td> 8 </td>\n            <td> 0 </td>\n            <td> 0.0152282035937501 </td>\n            <td> 0.0 </td>\n            <td> 0.0 </td>\n            <td> 0.0 </td>\n            <td> 2018-07-27 15:16:18 </td>\n            <td> true </td>\n            <td> 2018-07-26 12:05:07 </td>\n            <td> 1 day, 3 hours, 11 minutes, and 11 seconds </td>\n            <td> 203.00000000000134 </td>\n            <td> 0.0152282035937501 </td>\n            <td> 13330 </td>\n            <td> 0.011977404213911549 </td>\n            <td> 30933590260933 </td>\n            <td> 0 </td>\n            <td> 0 </td>\n            <td> 0 </td>\n    </tr>\n    \n    <tr>\n            <td> 7 </td>\n            <td> 2 </td>\n            <td> 0.0 </td>\n            <td> 0.0 </td>\n            <td> 7.5e-05 </td>\n            <td> 0.0 </td>\n            <td> 2018-08-01 11:22:26 </td>\n            <td> true </td>\n            <td> 2018-07-28 05:06:15 </td>\n            <td> 4 days, 6 hours, 16 minutes, and 11 seconds </td>\n            <td> 1.0 </td>\n            <td> 7.5e-05 </td>\n            <td> 13333 </td>\n            <td> 0.003161689198881704 </td>\n            <td> 616852581614855 </td>\n            <td> 0 </td>\n            <td> 0 </td>\n            <td> 0 </td>\n    </tr>\n    \n    <tr>\n            <td> 0 </td>\n            <td> 0 </td>\n            <td> 0.0 </td>\n            <td> 0.0 </td>\n            <td> 0.0 </td>\n            <td> 0.0 </td>\n            <td> 2018-08-01 12:23:28 </td>\n            <td> false </td>\n            <td> 2018-08-01 11:23:28 </td>\n            <td> 1 hour </td>\n            <td> 0.0 </td>\n            <td> 0.0 </td>\n            <td> 0 </td>\n            <td> 0.00028742629080743 </td>\n            <td> 0 </td>\n            <td> 0 </td>\n            <td> 0 </td>\n            <td> 0 </td>\n    </tr>\n    \n  </table>\n"
     },
     "metadata": {}
    }
   ]
  },
  {
   "cell_type": "code",
   "metadata": {
    "cell_id": "eb79bf2a-483e-4c50-bc5a-a2950ca9a5ab",
    "tags": [],
    "deepnote_to_be_reexecuted": false,
    "source_hash": "886f1f2c",
    "execution_start": 1647331159713,
    "execution_millis": 34338,
    "deepnote_cell_type": "code",
    "deepnote_cell_height": 935,
    "deepnote_output_heights": [
     21.1875
    ]
   },
   "source": "#   eth \n#   keys \n#   mask \n#   ico  \n\nplayer_round = (1..rID_).map do |r|\n    player_round = (1..pID_).map do |p|\n        $fomo_contract.call.plyr_rnds_(p,r)\n    end\n    puts \"== round #{r} ==\"\n    puts player_round.map {|x| x.map {|y| y/1e18}.join(\" - \")}.join(\"\\n\")\nend\n\nnil",
   "execution_count": null,
   "outputs": [
    {
     "name": "stdout",
     "text": "== round 1 ==\n0.001 - 13.333162041616681 - 0.0 - 0.0\n0.0 - 0.0 - 0.0 - 0.0\n0.0 - 0.0 - 0.0 - 0.0\n0.0 - 0.0 - 0.0 - 0.0\n0.0 - 0.0 - 0.0 - 0.0\n0.0 - 0.0 - 0.0 - 0.0\n0.0 - 0.0 - 0.0 - 0.0\n0.0 - 0.0 - 0.0 - 0.0\n0.0 - 0.0 - 0.0 - 0.0\n== round 2 ==\n0.0 - 0.0 - 0.0 - 0.0\n0.0 - 0.0 - 0.0 - 0.0\n0.07606488906250031 - 1013.0000000000041 - 0.058944753002591645 - 0.0\n0.011343308750000202 - 151.0000000000027 - 0.008786434060603615 - 0.0\n0.003756847656250101 - 50.00000000000134 - 0.002307077697649762 - 0.0\n0.0 - 0.0 - 0.0 - 0.0\n0.0 - 0.0 - 0.0 - 0.0\n0.0 - 0.0 - 0.0 - 0.0\n0.0 - 0.0 - 0.0 - 0.0\n== round 3 ==\n0.0 - 0.0 - 0.0 - 0.0\n0.0 - 0.0 - 0.0 - 0.0\n0.0075757890625001 - 101.00000000000132 - 0.004358051210273654 - 0.0\n0.0 - 0.0 - 0.0 - 0.0\n0.0 - 0.0 - 0.0 - 0.0\n0.0 - 0.0 - 0.0 - 0.0\n0.0 - 0.0 - 0.0 - 0.0\n0.0 - 0.0 - 0.0 - 0.0\n0.0 - 0.0 - 0.0 - 0.0\n== round 4 ==\n0.0 - 0.0 - 0.0 - 0.0\n0.0 - 0.0 - 0.0 - 0.0\n0.0451031718750001 - 601.0000000000014 - 0.031235907923519237 - 0.0\n0.11301526640496762 - 1502.6383534373813 - 0.07809696048305907 - 0.0\n0.0 - 0.0 - 0.0 - 0.0\n0.0 - 0.0 - 0.0 - 0.0\n0.0 - 0.0 - 0.0 - 0.0\n0.0 - 0.0 - 0.0 - 0.0\n0.0 - 0.0 - 0.0 - 0.0\n== round 5 ==\n0.0 - 0.0 - 0.0 - 0.0\n0.0 - 0.0 - 0.0 - 0.0\n0.037594570312500096 - 501.0000000000013 - 0.02780944075204712 - 0.0\n0.0234056170312501 - 311.0000000000013 - 0.017262946255262812 - 0.0\n0.0 - 0.0 - 0.0 - 0.0\n0.07538203218750031 - 1003.0000000000041 - 0.05567438936986687 - 0.0\n0.0 - 0.0 - 0.0 - 0.0\n0.0 - 0.0 - 0.0 - 0.0\n0.0 - 0.0 - 0.0 - 0.0\n== round 6 ==\n0.0 - 0.0 - 0.0 - 0.0\n0.0 - 0.0 - 0.0 - 0.0\n0.0 - 0.0 - 0.0 - 0.0\n0.0 - 0.0 - 0.0 - 0.0\n0.0 - 0.0 - 0.0 - 0.0\n0.0 - 0.0 - 0.0 - 0.0\n7.5e-05 - 1.0 - 0.005191387095843308 - 0.0\n0.0 - 0.0 - 0.0 - 0.0\n0.0 - 0.0 - 0.0 - 0.0\n== round 7 ==\n0.0 - 0.0 - 0.0 - 0.0\n0.0 - 0.0 - 0.0 - 0.0\n0.0 - 0.0 - 0.0 - 0.0\n0.0 - 0.0 - 0.0 - 0.0\n0.0 - 0.0 - 0.0 - 0.0\n0.0 - 0.0 - 0.0 - 0.0\n0.0 - 0.0 - 0.0 - 0.0\n0.0152282035937501 - 203.00000000000134 - 0.0 - 0.0\n0.0 - 0.0 - 0.0 - 0.0\n== round 8 ==\n0.0 - 0.0 - 0.0 - 0.0\n0.0 - 0.0 - 0.0 - 0.0\n0.0 - 0.0 - 0.0 - 0.0\n0.0 - 0.0 - 0.0 - 0.0\n0.0 - 0.0 - 0.0 - 0.0\n0.0 - 0.0 - 0.0 - 0.0\n7.5e-05 - 1.0 - 0.000616852581614855 - 0.0\n0.0 - 0.0 - 0.0 - 0.0\n0.0 - 0.0 - 0.0 - 0.0\n== round 9 ==\n0.0 - 0.0 - 0.0 - 0.0\n0.0 - 0.0 - 0.0 - 0.0\n0.0 - 0.0 - 0.0 - 0.0\n0.0 - 0.0 - 0.0 - 0.0\n0.0 - 0.0 - 0.0 - 0.0\n0.0 - 0.0 - 0.0 - 0.0\n0.0 - 0.0 - 0.0 - 0.0\n0.0 - 0.0 - 0.0 - 0.0\n0.0 - 0.0 - 0.0 - 0.0\n",
     "output_type": "stream"
    }
   ]
  },
  {
   "cell_type": "code",
   "metadata": {
    "cell_id": "cfc5fab5-72ed-4cfe-ad1c-765a91a5f85b",
    "tags": [],
    "deepnote_cell_type": "code",
    "deepnote_cell_height": 336
   },
   "source": "## fees_ and potSplit_\n\n# fees_[0] = F3Ddatasets.TeamFee(30,6);   //50% to pot, 10% to aff, 2% to com, 1% to pot swap, 1% to air drop pot\n# fees_[1] = F3Ddatasets.TeamFee(43,0);   //43% to pot, 10% to aff, 2% to com, 1% to pot swap, 1% to air drop pot\n# fees_[2] = F3Ddatasets.TeamFee(56,10);  //20% to pot, 10% to aff, 2% to com, 1% to pot swap, 1% to air drop pot\n# fees_[3] = F3Ddatasets.TeamFee(43,8);   //35% to pot, 10% to aff, 2% to com, 1% to pot swap, 1% to air drop pot\n\n# potSplit_[0] = F3Ddatasets.PotSplit(15,10);  //48% to winner, 25% to next round, 2% to com\n# potSplit_[1] = F3Ddatasets.PotSplit(25,0);   //48% to winner, 25% to next round, 2% to com\n# potSplit_[2] = F3Ddatasets.PotSplit(20,20);  //48% to winner, 10% to next round, 2% to com\n# potSplit_[3] = F3Ddatasets.PotSplit(30,10);  //48% to winner, 10% to next round, 2% to com\n\n## calc key and eth\n# iWantXKeys\n# calcKeysReceived\n",
   "execution_count": null,
   "outputs": []
  },
  {
   "cell_type": "code",
   "metadata": {
    "cell_id": "1249bc97-3d53-4a99-b50c-1c4721ec3beb",
    "tags": [],
    "deepnote_to_be_reexecuted": false,
    "source_hash": "d3dd57d2",
    "execution_start": 1647331359867,
    "execution_millis": 4,
    "deepnote_cell_type": "code",
    "deepnote_cell_height": 136.1875,
    "deepnote_output_heights": [
     21.1875
    ]
   },
   "source": "amount = 1000000000/1e18\n",
   "execution_count": null,
   "outputs": [
    {
     "output_type": "execute_result",
     "execution_count": 72,
     "data": {
      "text/plain": "1.0e-09"
     },
     "metadata": {}
    }
   ]
  },
  {
   "cell_type": "code",
   "metadata": {
    "cell_id": "d5ebaf61-ae0d-4d78-a688-9f3bc668b0b3",
    "tags": [],
    "deepnote_cell_type": "code",
    "deepnote_cell_height": 66
   },
   "source": "# =================. Withdraw =============",
   "execution_count": null,
   "outputs": []
  },
  {
   "cell_type": "code",
   "metadata": {
    "cell_id": "2fdd13ed-7c17-498b-aa82-6ee267942475",
    "tags": [],
    "deepnote_to_be_reexecuted": false,
    "source_hash": "467ea540",
    "execution_start": 1647099745414,
    "execution_millis": 5455,
    "deepnote_cell_type": "code",
    "deepnote_cell_height": 118.1875,
    "deepnote_output_heights": [
     21.1875
    ]
   },
   "source": "tx = $contract.transact_and_wait.withdraw",
   "execution_count": null,
   "outputs": [
    {
     "output_type": "execute_result",
     "execution_count": 84,
     "data": {
      "text/plain": "#<Ethereum::Transaction:0x000055a9b849b328 @mined=true, @connection=#<Ethereum::HttpClient:0x000055a9b8c66328 @id=0, @log=false, @batch=nil, @formatter=#<Ethereum::Formatter:0x000055a9b8c66300>, @gas_price=22000000000, @gas_limit=4000000, @host=\"a768-123-117-180-47.ngrok.io\", @port=80, @proxy=nil, @ssl=false, @uri=#<URI::HTTP http://a768-123-117-180-47.ngrok.io>, @default_account=\"0xf39fd6e51aad88f6f4ce6ab8827279cfffb92266\">, @id=\"0x9f2833c60bde8a589c4981ac81d65433978ca9619d51ea53df179c4f75d51f54\", @input=\"0x3ccfd60b0000000000000000000000000000000000000000000000000000000000000000\", @input_parameters=[]>"
     },
     "metadata": {}
    }
   ]
  },
  {
   "cell_type": "code",
   "metadata": {
    "cell_id": "41d0289c-b30c-4b58-9ac8-33eae25717dd",
    "tags": [],
    "deepnote_to_be_reexecuted": false,
    "source_hash": "6c3a9da3",
    "execution_start": 1647099796932,
    "execution_millis": 319,
    "deepnote_cell_type": "code",
    "deepnote_cell_height": 118.1875,
    "deepnote_output_heights": [
     21.1875
    ]
   },
   "source": "$client.eth_get_balance(\"0xaCC961474eb17C103BBed96FC8f0E4eEac91c475\")[\"result\"].to_i(16)",
   "execution_count": null,
   "outputs": [
    {
     "output_type": "execute_result",
     "execution_count": 85,
     "data": {
      "text/plain": "99998553855455157046"
     },
     "metadata": {}
    }
   ]
  },
  {
   "cell_type": "code",
   "metadata": {
    "cell_id": "6620bdfc-904d-4ad2-ba13-f7b9dc4c63d8",
    "tags": [],
    "deepnote_to_be_reexecuted": false,
    "source_hash": "e4249f47",
    "execution_start": 1647099913804,
    "execution_millis": 406,
    "deepnote_cell_type": "code",
    "deepnote_cell_height": 118.1875,
    "deepnote_output_heights": [
     21.1875
    ]
   },
   "source": "$client.eth_get_balance(contract_addr)[\"result\"].to_i(16)",
   "execution_count": null,
   "outputs": [
    {
     "output_type": "execute_result",
     "execution_count": 91,
     "data": {
      "text/plain": "55331223153569919"
     },
     "metadata": {}
    }
   ]
  },
  {
   "cell_type": "code",
   "metadata": {
    "cell_id": "ec0d9771-a2f7-4234-be55-13d79d99e19d",
    "tags": [],
    "deepnote_cell_type": "code",
    "deepnote_cell_height": 66
   },
   "source": "",
   "execution_count": null,
   "outputs": []
  },
  {
   "cell_type": "markdown",
   "source": "<a style='text-decoration:none;line-height:16px;display:flex;color:#5B5B62;padding:10px;justify-content:end;' href='https://deepnote.com?utm_source=created-in-deepnote-cell&projectId=ebde59c2-d67b-4e31-ad3b-1bdd07014691' target=\"_blank\">\n<img alt='Created in deepnote.com' style='display:inline;max-height:16px;margin:0px;margin-right:7.5px;' src='data:image/svg+xml;base64,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' > </img>\nCreated in <span style='font-weight:600;margin-left:4px;'>Deepnote</span></a>",
   "metadata": {
    "tags": [],
    "created_in_deepnote_cell": true,
    "deepnote_cell_type": "markdown"
   }
  }
 ],
 "nbformat": 4,
 "nbformat_minor": 2,
 "metadata": {
  "orig_nbformat": 2,
  "deepnote": {
   "is_reactive": false
  },
  "deepnote_notebook_id": "8da51324-b2dd-4466-8703-b4c888a77c61",
  "deepnote_execution_queue": []
 }
}