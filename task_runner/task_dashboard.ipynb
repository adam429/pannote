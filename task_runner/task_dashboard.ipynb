{
 "cells": [
  {
   "cell_type": "code",
   "metadata": {
    "tags": [],
    "cell_id": "b58a6800-45f5-4a8c-b689-849694b90d04",
    "deepnote_to_be_reexecuted": false,
    "source_hash": "e23933e5",
    "execution_start": 1644879078079,
    "execution_millis": 1489,
    "deepnote_cell_type": "code"
   },
   "source": "# load init moudle file\n\nload \"/work/pannote/panbot_note.rb\"\nnil",
   "execution_count": 2,
   "outputs": []
  },
  {
   "cell_type": "code",
   "metadata": {
    "cell_id": "e71e0168-60b0-438f-93f5-2c03258a2e29",
    "tags": [],
    "deepnote_to_be_reexecuted": false,
    "source_hash": "65e2e806",
    "execution_start": 1644881596493,
    "execution_millis": 10,
    "deepnote_output_heights": [
     21.1875,
     21.1875
    ],
    "deepnote_cell_type": "code"
   },
   "source": "puts \"==status count==\"\nputs Task.group(:status).count\nputs \"==running task==\"\n\nputs Task.where(status:\"run\").map {|x| [x.id,x.name,x.runner,Time.now-x.updated_at].join(\" | \")}.join(\"\\n\")\n",
   "execution_count": 28,
   "outputs": [
    {
     "name": "stdout",
     "text": "==status count==\n{\"open\"=>20, \"abort\"=>3, \"run\"=>4, \"close\"=>58}\n==running task==\n2742 | data-import-block 15030000 - 15040000 | deepnote-runner | 186.65579108\n2743 | data-import-block 15040000 - 15050000 | deepnote-runner | 92.885473912\n2744 | data-import-block 15050000 - 15060000 | deepnote-runner | 88.350671471\n2745 | data-import-block 15060000 - 15070000 | worker | 30.368151079\n",
     "output_type": "stream"
    }
   ]
  },
  {
   "cell_type": "code",
   "metadata": {
    "cell_id": "2a0c107d-3c68-4a01-9d97-403c35cf8a9a",
    "tags": [],
    "deepnote_to_be_reexecuted": false,
    "source_hash": "73a247f2",
    "execution_start": 1644855392934,
    "execution_millis": 26495619,
    "deepnote_output_heights": [
     21.1875
    ],
    "deepnote_cell_type": "code"
   },
   "source": "def abort_reset_to_open()\n  Task.where(status:\"abort\").map {|x| x.status=\"open\"; x.save}\nend\n\ndef task_clean()\n  Task.destroy_all\nend\n\ndef task_hello_task(count)\n  count.times {|x|\n    code = <<~TASKCODE\n\n    puts \"hello world!\"\n    _log \"hello world!\\n\"\n    \n    TASKCODE\n    Task.create_task(\"hello world task-#{x}\", code)\n  }\nend\n",
   "execution_count": null,
   "outputs": [
    {
     "output_type": "execute_result",
     "execution_count": 90,
     "data": {
      "text/plain": ":task_hello_task"
     },
     "metadata": {}
    }
   ]
  },
  {
   "cell_type": "code",
   "metadata": {
    "cell_id": "e76f01fb-c8c8-450f-a967-0c743bb3e73f",
    "tags": [],
    "deepnote_to_be_reexecuted": false,
    "source_hash": "317f84d",
    "execution_start": 1644855809711,
    "execution_millis": 11,
    "deepnote_output_heights": [
     21.1875
    ],
    "deepnote_cell_type": "code"
   },
   "source": "abort_reset_to_open",
   "execution_count": null,
   "outputs": [
    {
     "output_type": "execute_result",
     "execution_count": 98,
     "data": {
      "text/plain": "[true]"
     },
     "metadata": {}
    }
   ]
  },
  {
   "cell_type": "code",
   "metadata": {
    "cell_id": "579b5137-0f9c-41b7-93ea-d1b0928f0ae2",
    "tags": [],
    "deepnote_to_be_reexecuted": false,
    "source_hash": "d6fd2aef",
    "execution_start": 1644856251538,
    "execution_millis": 60,
    "deepnote_output_heights": [
     1
    ],
    "deepnote_cell_type": "code"
   },
   "source": "task_hello_task(10)",
   "execution_count": null,
   "outputs": [
    {
     "output_type": "execute_result",
     "execution_count": 116,
     "data": {
      "text/plain": "10"
     },
     "metadata": {}
    }
   ]
  },
  {
   "cell_type": "code",
   "source": "puts Task.where(status:\"abort\").last.output",
   "metadata": {
    "cell_id": "1cfe1426-46e1-4ff0-be5c-cef46922b7c4",
    "tags": [],
    "deepnote_to_be_reexecuted": false,
    "source_hash": "df191bbd",
    "execution_start": 1644881350326,
    "execution_millis": 5,
    "deepnote_output_heights": [
     21.1875
    ],
    "deepnote_cell_type": "code"
   },
   "outputs": [
    {
     "name": "stdout",
     "text": "2022-02-14 23:21:51 +0000 runner deepnote-runner take task 2738 : data-import-block 14990000 - 15000000\n2022-02-14 23:21:51 +0000 == begin run ==\nException Class: Errno::EPIPE\nException Message: Failed to open TCP connection to nd-945-619-721.p2pify.com:443 (Broken pipe)\nException Backtrace:\n/usr/local/lib/ruby/2.7.0/resolv.rb:914:in `write'\n/usr/local/lib/ruby/2.7.0/resolv.rb:914:in `print'\n/usr/local/lib/ruby/2.7.0/resolv.rb:914:in `send'\n/usr/local/lib/ruby/2.7.0/resolv.rb:665:in `request'\n/usr/local/lib/ruby/2.7.0/resolv.rb:531:in `block in fetch_resource'\n/usr/local/lib/ruby/2.7.0/resolv.rb:1124:in `block (3 levels) in resolv'\n/usr/local/lib/ruby/2.7.0/resolv.rb:1122:in `each'\n/usr/local/lib/ruby/2.7.0/resolv.rb:1122:in `block (2 levels) in resolv'\n/usr/local/lib/ruby/2.7.0/resolv.rb:1121:in `each'\n/usr/local/lib/ruby/2.7.0/resolv.rb:1121:in `block in resolv'\n/usr/local/lib/ruby/2.7.0/resolv.rb:1119:in `each'\n/usr/local/lib/ruby/2.7.0/resolv.rb:1119:in `resolv'\n/usr/local/lib/ruby/2.7.0/resolv.rb:521:in `fetch_resource'\n/usr/local/lib/ruby/2.7.0/resolv.rb:507:in `each_resource'\n/usr/local/lib/ruby/2.7.0/resolv.rb:402:in `each_address'\n/usr/local/lib/ruby/2.7.0/resolv.rb:116:in `block in each_address'\n/usr/local/lib/ruby/2.7.0/resolv.rb:115:in `each'\n/usr/local/lib/ruby/2.7.0/resolv.rb:115:in `each_address'\n/usr/local/lib/ruby/2.7.0/resolv.rb:93:in `getaddress'\n/usr/local/lib/ruby/2.7.0/resolv.rb:44:in `getaddress'\n/usr/local/lib/ruby/2.7.0/resolv-replace.rb:12:in `getaddress'\n/usr/local/lib/ruby/2.7.0/resolv-replace.rb:25:in `initialize'\n/usr/local/lib/ruby/2.7.0/net/http.rb:960:in `open'\n/usr/local/lib/ruby/2.7.0/net/http.rb:960:in `block in connect'\n/usr/local/lib/ruby/2.7.0/timeout.rb:95:in `block in timeout'\n/usr/local/lib/ruby/2.7.0/timeout.rb:105:in `timeout'\n/usr/local/lib/ruby/2.7.0/net/http.rb:958:in `connect'\n/usr/local/lib/ruby/2.7.0/net/http.rb:943:in `do_start'\n/usr/local/lib/ruby/2.7.0/net/http.rb:932:in `start'\n/usr/local/lib/ruby/2.7.0/net/http.rb:1483:in `request'\n/usr/local/bundle/gems/ethereum.rb-2.5/lib/ethereum/http_client.rb:33:in `send_single'\n/usr/local/bundle/gems/ethereum.rb-2.5/lib/ethereum/client.rb:126:in `send_command'\n/usr/local/bundle/gems/ethereum.rb-2.5/lib/ethereum/client.rb:137:in `block (2 levels) in <class:Client>'\n/task.rb:193:in `block in data_import_block'\n/usr/local/bundle/gems/parallel-1.21.0/lib/parallel.rb:515:in `call_with_index'\n/usr/local/bundle/gems/parallel-1.21.0/lib/parallel.rb:373:in `block (2 levels) in work_in_threads'\n/usr/local/bundle/gems/parallel-1.21.0/lib/parallel.rb:527:in `with_instrumentation'\n/usr/local/bundle/gems/parallel-1.21.0/lib/parallel.rb:372:in `block in work_in_threads'\n/usr/local/bundle/gems/parallel-1.21.0/lib/parallel.rb:222:in `block (4 levels) in in_threads'\n2022-02-14 23:26:42 +0000 == abort run ==\n",
     "output_type": "stream"
    }
   ],
   "execution_count": 26
  },
  {
   "cell_type": "code",
   "source": "",
   "metadata": {
    "cell_id": "014664af-4690-44a4-80d7-b6213efd929e",
    "tags": [],
    "deepnote_cell_type": "code"
   },
   "outputs": [],
   "execution_count": null
  },
  {
   "cell_type": "markdown",
   "source": "<a style='text-decoration:none;line-height:16px;display:flex;color:#5B5B62;padding:10px;justify-content:end;' href='https://deepnote.com?utm_source=created-in-deepnote-cell&projectId=ebde59c2-d67b-4e31-ad3b-1bdd07014691' target=\"_blank\">\n<img alt='Created in deepnote.com' style='display:inline;max-height:16px;margin:0px;margin-right:7.5px;' src='data:image/svg+xml;base64,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' > </img>\nCreated in <span style='font-weight:600;margin-left:4px;'>Deepnote</span></a>",
   "metadata": {
    "tags": [],
    "created_in_deepnote_cell": true,
    "deepnote_cell_type": "markdown"
   }
  }
 ],
 "nbformat": 4,
 "nbformat_minor": 2,
 "metadata": {
  "orig_nbformat": 2,
  "deepnote": {
   "is_reactive": false
  },
  "deepnote_notebook_id": "b5ab4f0e-8171-4983-b83b-c6ba91eedcc7",
  "deepnote_execution_queue": []
 }
}