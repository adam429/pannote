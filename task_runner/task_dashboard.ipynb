{
 "cells": [
  {
   "cell_type": "code",
   "metadata": {
    "tags": [],
    "cell_id": "b58a6800-45f5-4a8c-b689-849694b90d04",
    "deepnote_to_be_reexecuted": false,
    "source_hash": "e23933e5",
    "execution_start": 1645538815834,
    "execution_millis": 2830,
    "deepnote_cell_height": 134.953125,
    "deepnote_cell_type": "code"
   },
   "source": "# load init moudle file\n\nload \"/work/pannote/panbot_note.rb\"\nnil",
   "execution_count": 1,
   "outputs": []
  },
  {
   "cell_type": "code",
   "metadata": {
    "cell_id": "e71e0168-60b0-438f-93f5-2c03258a2e29",
    "tags": [],
    "deepnote_to_be_reexecuted": false,
    "source_hash": "38f5132a",
    "execution_start": 1645249084743,
    "execution_millis": 30,
    "deepnote_output_heights": [
     21.1875,
     21.1875
    ],
    "deepnote_cell_height": 296.578125,
    "deepnote_cell_type": "code"
   },
   "source": "puts \"==status count==\"\nputs Task.group(:status).count\nputs \"==running task==\"\n\n\n\nputs Task.where(status:\"run\").map {|x| [x.id,x.name,x.runner,Time.now-x.updated_at].join(\" | \")}.join(\"\\n\")\n",
   "execution_count": null,
   "outputs": [
    {
     "name": "stdout",
     "text": "==status count==\n{\"run\"=>1, \"close\"=>60}\n==running task==\n3147 | loop-1 | panworker-main2-13 | 25.275864442\n",
     "output_type": "stream"
    }
   ]
  },
  {
   "cell_type": "code",
   "metadata": {
    "cell_id": "2a0c107d-3c68-4a01-9d97-403c35cf8a9a",
    "tags": [],
    "deepnote_to_be_reexecuted": false,
    "source_hash": "73a247f2",
    "execution_start": 1645314689868,
    "execution_millis": 65872437,
    "deepnote_output_heights": [
     21.1875
    ],
    "deepnote_cell_height": 460.140625,
    "deepnote_cell_type": "code"
   },
   "source": "def abort_reset_to_open()\n  Task.where(status:\"abort\").map {|x| x.status=\"open\"; x.save}\nend\n\ndef task_clean()\n  Task.destroy_all\nend\n\ndef task_hello_task(count)\n  count.times {|x|\n    code = <<~TASKCODE\n\n    puts \"hello world!\"\n    _log \"hello world!\\n\"\n    \n    TASKCODE\n    Task.create_task(\"hello world task-#{x}\", code)\n  }\nend\n",
   "execution_count": null,
   "outputs": [
    {
     "output_type": "execute_result",
     "execution_count": 2,
     "data": {
      "text/plain": ":task_hello_task"
     },
     "metadata": {}
    }
   ]
  },
  {
   "cell_type": "code",
   "metadata": {
    "cell_id": "e76f01fb-c8c8-450f-a967-0c743bb3e73f",
    "tags": [],
    "deepnote_to_be_reexecuted": false,
    "source_hash": "317f84d",
    "execution_start": 1645106386140,
    "execution_millis": 52,
    "deepnote_output_heights": [
     21.1875
    ],
    "deepnote_cell_height": 118.140625,
    "deepnote_cell_type": "code"
   },
   "source": "abort_reset_to_open",
   "execution_count": null,
   "outputs": [
    {
     "output_type": "execute_result",
     "execution_count": 10,
     "data": {
      "text/plain": "[true, true, true, true, true, true, true, true]"
     },
     "metadata": {}
    }
   ]
  },
  {
   "cell_type": "code",
   "metadata": {
    "cell_id": "1cfe1426-46e1-4ff0-be5c-cef46922b7c4",
    "tags": [],
    "deepnote_to_be_reexecuted": false,
    "source_hash": "85c5ad8f",
    "execution_start": 1645106620504,
    "execution_millis": 2,
    "deepnote_output_heights": [
     21.1875
    ],
    "deepnote_cell_height": 131.25,
    "deepnote_cell_type": "code"
   },
   "source": "puts Task.where(status:\"abort\").order(:id).map {|x| [x.runner] }",
   "execution_count": null,
   "outputs": [
    {
     "name": "stdout",
     "text": "panworker-main2-28\npanworker-main2-13\n",
     "output_type": "stream"
    }
   ]
  },
  {
   "cell_type": "code",
   "metadata": {
    "cell_id": "014664af-4690-44a4-80d7-b6213efd929e",
    "tags": [],
    "deepnote_to_be_reexecuted": false,
    "source_hash": "370d8895",
    "execution_start": 1645106751302,
    "execution_millis": 6,
    "deepnote_output_heights": [
     21.1875
    ],
    "deepnote_cell_height": 700.9375,
    "deepnote_cell_type": "code"
   },
   "source": "puts Task.where(status:\"abort\").order(:id).map {|x| [x.name,x.runner,x.output] }",
   "execution_count": null,
   "outputs": [
    {
     "name": "stdout",
     "text": "data-import-block 15263213 - 15270000\npanworker-main2-28\n2022-02-17 13:59:47 +0000 runner panworker-main2-28 take task 2899 : data-import-block 15263213 - 15270000\n2022-02-17 13:59:47 +0000 == begin run ==\nException Class: Net::OpenTimeout\nException Message: Net::OpenTimeout\nException Backtrace:\n/usr/local/lib/ruby/2.7.0/net/protocol.rb:41:in `ssl_socket_connect'\n/usr/local/lib/ruby/2.7.0/net/http.rb:1009:in `connect'\n/usr/local/lib/ruby/2.7.0/net/http.rb:943:in `do_start'\n/usr/local/lib/ruby/2.7.0/net/http.rb:932:in `start'\n/usr/local/lib/ruby/2.7.0/net/http.rb:1483:in `request'\n/usr/local/bundle/gems/ethereum.rb-2.5/lib/ethereum/http_client.rb:33:in `send_single'\n/usr/local/bundle/gems/ethereum.rb-2.5/lib/ethereum/client.rb:126:in `send_command'\n/usr/local/bundle/gems/ethereum.rb-2.5/lib/ethereum/client.rb:137:in `block (2 levels) in <class:Client>'\n/panworker/task.rb:193:in `block in data_import_block'\n/usr/local/bundle/gems/parallel-1.21.0/lib/parallel.rb:515:in `call_with_index'\n/usr/local/bundle/gems/parallel-1.21.0/lib/parallel.rb:373:in `block (2 levels) in work_in_threads'\n/usr/local/bundle/gems/parallel-1.21.0/lib/parallel.rb:527:in `with_instrumentation'\n/usr/local/bundle/gems/parallel-1.21.0/lib/parallel.rb:372:in `block in work_in_threads'\n/usr/local/bundle/gems/parallel-1.21.0/lib/parallel.rb:222:in `block (4 levels) in in_threads'\n2022-02-17 14:03:07 +0000 == abort run ==\ndata-import-block 15270000 - 15280000\npanworker-main2-13\n2022-02-17 13:59:48 +0000 runner panworker-main2-13 take task 2900 : data-import-block 15270000 - 15280000\n2022-02-17 13:59:48 +0000 == begin run ==\nException Class: Net::OpenTimeout\nException Message: Net::OpenTimeout\nException Backtrace:\n/usr/local/lib/ruby/2.7.0/net/protocol.rb:41:in `ssl_socket_connect'\n/usr/local/lib/ruby/2.7.0/net/http.rb:1009:in `connect'\n/usr/local/lib/ruby/2.7.0/net/http.rb:943:in `do_start'\n/usr/local/lib/ruby/2.7.0/net/http.rb:932:in `start'\n/usr/local/lib/ruby/2.7.0/net/http.rb:1483:in `request'\n/usr/local/bundle/gems/ethereum.rb-2.5/lib/ethereum/http_client.rb:33:in `send_single'\n/usr/local/bundle/gems/ethereum.rb-2.5/lib/ethereum/client.rb:126:in `send_command'\n/usr/local/bundle/gems/ethereum.rb-2.5/lib/ethereum/client.rb:137:in `block (2 levels) in <class:Client>'\n/panworker/task.rb:193:in `block in data_import_block'\n/usr/local/bundle/gems/parallel-1.21.0/lib/parallel.rb:515:in `call_with_index'\n/usr/local/bundle/gems/parallel-1.21.0/lib/parallel.rb:373:in `block (2 levels) in work_in_threads'\n/usr/local/bundle/gems/parallel-1.21.0/lib/parallel.rb:527:in `with_instrumentation'\n/usr/local/bundle/gems/parallel-1.21.0/lib/parallel.rb:372:in `block in work_in_threads'\n/usr/local/bundle/gems/parallel-1.21.0/lib/parallel.rb:222:in `block (4 levels) in in_threads'\n2022-02-17 14:03:02 +0000 == abort run ==\ndata-import-block 15280000 - 15290000\npanworker-main2-13\n2022-02-17 14:03:03 +0000 runner panworker-main2-13 take task 2901 : data-import-block 15280000 - 15290000\n2022-02-17 14:03:03 +0000 == begin run ==\nException Class: Net::OpenTimeout\nException Message: Net::OpenTimeout\nException Backtrace:\n/usr/local/lib/ruby/2.7.0/net/protocol.rb:41:in `ssl_socket_connect'\n/usr/local/lib/ruby/2.7.0/net/http.rb:1009:in `connect'\n/usr/local/lib/ruby/2.7.0/net/http.rb:943:in `do_start'\n/usr/local/lib/ruby/2.7.0/net/http.rb:932:in `start'\n/usr/local/lib/ruby/2.7.0/net/http.rb:1483:in `request'\n/usr/local/bundle/gems/ethereum.rb-2.5/lib/ethereum/http_client.rb:33:in `send_single'\n/usr/local/bundle/gems/ethereum.rb-2.5/lib/ethereum/client.rb:126:in `send_command'\n/usr/local/bundle/gems/ethereum.rb-2.5/lib/ethereum/client.rb:137:in `block (2 levels) in <class:Client>'\n/panworker/task.rb:193:in `block in data_import_block'\n/usr/local/bundle/gems/parallel-1.21.0/lib/parallel.rb:515:in `call_with_index'\n/usr/local/bundle/gems/parallel-1.21.0/lib/parallel.rb:373:in `block (2 levels) in work_in_threads'\n/usr/local/bundle/gems/parallel-1.21.0/lib/parallel.rb:527:in `with_instrumentation'\n/usr/local/bundle/gems/parallel-1.21.0/lib/parallel.rb:372:in `block in work_in_threads'\n/usr/local/bundle/gems/parallel-1.21.0/lib/parallel.rb:222:in `block (4 levels) in in_threads'\n2022-02-17 14:05:15 +0000 == abort run ==\ndata-import-block 15290000 - 15300000\npanworker-main2-28\n2022-02-17 14:03:08 +0000 runner panworker-main2-28 take task 2902 : data-import-block 15290000 - 15300000\n2022-02-17 14:03:08 +0000 == begin run ==\nException Class: Net::OpenTimeout\nException Message: Net::OpenTimeout\nException Backtrace:\n/usr/local/lib/ruby/2.7.0/net/protocol.rb:41:in `ssl_socket_connect'\n/usr/local/lib/ruby/2.7.0/net/http.rb:1009:in `connect'\n/usr/local/lib/ruby/2.7.0/net/http.rb:943:in `do_start'\n/usr/local/lib/ruby/2.7.0/net/http.rb:932:in `start'\n/usr/local/lib/ruby/2.7.0/net/http.rb:1483:in `request'\n/usr/local/bundle/gems/ethereum.rb-2.5/lib/ethereum/http_client.rb:33:in `send_single'\n/usr/local/bundle/gems/ethereum.rb-2.5/lib/ethereum/client.rb:126:in `send_command'\n/usr/local/bundle/gems/ethereum.rb-2.5/lib/ethereum/client.rb:137:in `block (2 levels) in <class:Client>'\n/panworker/task.rb:193:in `block in data_import_block'\n/usr/local/bundle/gems/parallel-1.21.0/lib/parallel.rb:515:in `call_with_index'\n/usr/local/bundle/gems/parallel-1.21.0/lib/parallel.rb:373:in `block (2 levels) in work_in_threads'\n/usr/local/bundle/gems/parallel-1.21.0/lib/parallel.rb:527:in `with_instrumentation'\n/usr/local/bundle/gems/parallel-1.21.0/lib/parallel.rb:372:in `block in work_in_threads'\n/usr/local/bundle/gems/parallel-1.21.0/lib/parallel.rb:222:in `block (4 levels) in in_threads'\n2022-02-17 14:05:14 +0000 == abort run ==\n",
     "output_type": "stream"
    }
   ]
  },
  {
   "cell_type": "code",
   "metadata": {
    "cell_id": "eeb88549-4f95-41ef-b30d-6fd429834782",
    "tags": [],
    "deepnote_to_be_reexecuted": false,
    "source_hash": "27b505ee",
    "execution_start": 1645010116754,
    "execution_millis": 5,
    "deepnote_output_heights": [
     21.1875
    ],
    "deepnote_cell_height": 700.9375,
    "deepnote_cell_type": "code"
   },
   "source": "puts Task.where(status:\"close\").map {|x| x.output}",
   "execution_count": null,
   "outputs": [
    {
     "name": "stdout",
     "text": "2022-02-16 11:14:24 +0000 runner panworker-main2-13 take task 2892 : hello world task-3\n2022-02-16 11:14:24 +0000 == begin run ==\nhello world!\n2022-02-16 11:14:24 +0000 == end run ==\n2022-02-16 11:14:21 +0000 runner panworker-main2-13 take task 2889 : hello world task-0\n2022-02-16 11:14:21 +0000 == begin run ==\nhello world!\n2022-02-16 11:14:21 +0000 == end run ==\n2022-02-16 11:14:26 +0000 runner panworker-main2-28 take task 2893 : hello world task-4\n2022-02-16 11:14:26 +0000 == begin run ==\nhello world!\n2022-02-16 11:14:26 +0000 == end run ==\n2022-02-16 11:14:34 +0000 runner panworker-main2-13 take task 2896 : hello world task-7\n2022-02-16 11:14:34 +0000 == begin run ==\nhello world!\n2022-02-16 11:14:34 +0000 == end run ==\n2022-02-16 11:14:40 +0000 runner panworker-main2-28 take task 2898 : hello world task-9\n2022-02-16 11:14:40 +0000 == begin run ==\nhello world!\n2022-02-16 11:14:40 +0000 == end run ==\n2022-02-16 11:14:21 +0000 runner panworker-main2-28 take task 2890 : hello world task-1\n2022-02-16 11:14:21 +0000 == begin run ==\nhello world!\n2022-02-16 11:14:21 +0000 == end run ==\n2022-02-16 11:14:28 +0000 runner panworker-main2-13 take task 2894 : hello world task-5\n2022-02-16 11:14:28 +0000 == begin run ==\nhello world!\n2022-02-16 11:14:28 +0000 == end run ==\n2022-02-16 11:14:35 +0000 runner panworker-main2-28 take task 2897 : hello world task-8\n2022-02-16 11:14:35 +0000 == begin run ==\nhello world!\n2022-02-16 11:14:35 +0000 == end run ==\n2022-02-16 11:14:22 +0000 runner panworker-main2-13 take task 2891 : hello world task-2\n2022-02-16 11:14:22 +0000 == begin run ==\nhello world!\n2022-02-16 11:14:22 +0000 == end run ==\n2022-02-16 11:14:29 +0000 runner panworker-main2-13 take task 2895 : hello world task-6\n2022-02-16 11:14:29 +0000 == begin run ==\nhello world!\n2022-02-16 11:14:29 +0000 == end run ==\n",
     "output_type": "stream"
    }
   ]
  },
  {
   "cell_type": "code",
   "metadata": {
    "cell_id": "00198fae-b923-4c63-92de-c4a580b8ae78",
    "tags": [],
    "deepnote_to_be_reexecuted": false,
    "source_hash": "f7f1fa8a",
    "execution_start": 1645248862148,
    "execution_millis": 6,
    "deepnote_output_heights": [
     21.1875
    ],
    "deepnote_cell_height": 118.140625,
    "deepnote_cell_type": "code"
   },
   "source": "",
   "execution_count": null,
   "outputs": [
    {
     "output_type": "execute_result",
     "execution_count": 40,
     "data": {
      "text/plain": "[]"
     },
     "metadata": {}
    }
   ]
  },
  {
   "cell_type": "code",
   "metadata": {
    "cell_id": "e2a3408b-7d34-4550-b14e-fb8b7e8dc15c",
    "tags": [],
    "deepnote_to_be_reexecuted": false,
    "source_hash": "d6fd2aef",
    "execution_start": 1645248824604,
    "execution_millis": 59,
    "deepnote_output_heights": [
     21.1875
    ],
    "deepnote_cell_height": 118.140625,
    "deepnote_cell_type": "code"
   },
   "source": "task_hello_task(10)",
   "execution_count": null,
   "outputs": [
    {
     "output_type": "execute_result",
     "execution_count": 36,
     "data": {
      "text/plain": "10"
     },
     "metadata": {}
    }
   ]
  },
  {
   "cell_type": "code",
   "metadata": {
    "cell_id": "fe5a00d3-d99c-4d8a-bfc0-0b0e20d1976c",
    "tags": [],
    "deepnote_cell_height": 334.140625,
    "deepnote_to_be_reexecuted": false,
    "source_hash": "ef65cfc3",
    "execution_start": 1645249878344,
    "execution_millis": 348,
    "deepnote_output_heights": [
     21.1875
    ],
    "deepnote_cell_type": "code"
   },
   "source": "def task_ping(count)\n  count.times {|x|\n    code = <<~TASKCODE\n\n    puts \"ping\"\n    \n    TASKCODE\n    Task.create_task(\"ping task-#{x}\", code)\n  }\nend\n\nTask.where(\"name like ?\",\"ping task%\").destroy_all\ntask_ping(50)",
   "execution_count": null,
   "outputs": [
    {
     "output_type": "execute_result",
     "execution_count": 48,
     "data": {
      "text/plain": "50"
     },
     "metadata": {}
    }
   ]
  },
  {
   "cell_type": "code",
   "metadata": {
    "cell_id": "b746636d-d03e-4665-bad4-6482d05df7ea",
    "tags": [],
    "deepnote_cell_height": 681.71875,
    "deepnote_to_be_reexecuted": false,
    "source_hash": "64d1ff58",
    "execution_start": 1645248877864,
    "execution_millis": 12,
    "deepnote_output_heights": [
     21.1875
    ],
    "deepnote_cell_type": "code"
   },
   "source": "puts Task.all.map {|x| [x.status,x.name,x.runner]}.join(\"\\n\")",
   "execution_count": null,
   "outputs": [
    {
     "name": "stdout",
     "text": "close\nhello world task-0\npanworker-main2-28\nclose\nhello world task-6\npanworker-main2-13\nclose\nhello world task-9\npanworker-main2-28\nclose\nhello world task-8\npanworker-main2-13\nclose\nhello world task-1\npanworker-main2-28\nclose\nhello world task-3\npanworker-main2-13\nclose\nhello world task-5\npanworker-main2-28\nclose\nhello world task-7\npanworker-main2-28\nclose\nhello world task-2\npanworker-main2-28\nclose\nhello world task-4\npanworker-main2-28\n",
     "output_type": "stream"
    }
   ]
  },
  {
   "cell_type": "code",
   "metadata": {
    "cell_id": "42c66cb2-7155-479b-93ef-ec87bcc6a508",
    "tags": [],
    "deepnote_cell_height": 118.140625,
    "deepnote_to_be_reexecuted": false,
    "source_hash": "92270f2e",
    "execution_start": 1645248563940,
    "execution_millis": 2,
    "deepnote_output_heights": [
     21.1875
    ],
    "deepnote_cell_type": "code"
   },
   "source": "Task.where(\"name like ?\",\"ping task%\").where(status:\"close\").where(\"created_at >= ?\",Time.now()-300).select(:runner).distinct(:runner).map {|x| x.runner}",
   "execution_count": null,
   "outputs": [
    {
     "output_type": "execute_result",
     "execution_count": 26,
     "data": {
      "text/plain": "[\"panworker-main2-13\", \"panworker-main2-28\"]"
     },
     "metadata": {}
    }
   ]
  },
  {
   "cell_type": "code",
   "metadata": {
    "cell_id": "54053772-92a2-42d8-8b04-9ff49d257ad7",
    "tags": [],
    "deepnote_to_be_reexecuted": false,
    "source_hash": "7e4c2dd5",
    "execution_start": 1645316969150,
    "execution_millis": 66,
    "deepnote_cell_type": "code"
   },
   "source": "code = <<~TASKCODE\n    require 'method_source'\n\n    module LocalRunner\n        def _log(str)\n            print str\n        end\n    end\n\n    class JobBase\n        include LocalRunner\n        def self.main_source\n            self.instance_method(:main).source\n        end\n    end\n\n    class MyHelloJob < JobBase\n        def main()\n            _log (\"hello world\\n\")\n            return \"value\"\n        end\n    end\nTASKCODE\n\nfilename = \"job.rb\"\nfile = open(filename,\"w\")\nfile.write(code)\nfile.close\nload (filename)\n\n\njob = MyHelloJob.new()\njob.main()\n\nTask.create_task(\"MyHelloJob\", MyHelloJob.main_source)\n",
   "execution_count": null,
   "outputs": [
    {
     "name": "stdout",
     "text": "hello world\n",
     "output_type": "stream"
    },
    {
     "output_type": "execute_result",
     "execution_count": 2,
     "data": {
      "text/plain": "true"
     },
     "metadata": {}
    }
   ]
  },
  {
   "cell_type": "code",
   "metadata": {
    "cell_id": "d109c078-85ae-42bf-8e3a-bb8ee04eb861",
    "tags": [],
    "deepnote_to_be_reexecuted": false,
    "source_hash": "2f6120cd",
    "execution_start": 1645317342947,
    "execution_millis": 38,
    "deepnote_cell_type": "code"
   },
   "source": "Task.all",
   "execution_count": null,
   "outputs": [
    {
     "output_type": "execute_result",
     "execution_count": 18,
     "data": {
      "text/plain": "#<ActiveRecord::Relation [#<Task id: 7478, name: \"MyHelloJob\", status: \"close\", code: \"    def main()\\n        _log (\\\"hello world\\n\\\")\\n     ...\", output: \"2022-02-20 00:35:30 +0000 runner main take task 74...\", runner: \"main\", created_at: \"2022-02-20 00:29:29.207230000 +0000\", updated_at: \"2022-02-20 00:35:30.651661000 +0000\", run_timestamp: \"2022-02-20 00:35:30.607517000 +0000\", return: \"value\">]>"
     },
     "metadata": {}
    }
   ]
  },
  {
   "cell_type": "code",
   "metadata": {
    "cell_id": "017f9291-cd8c-4f44-8875-dff3240ab579",
    "tags": [],
    "deepnote_to_be_reexecuted": false,
    "source_hash": "e7ea3075",
    "execution_start": 1645316959580,
    "execution_millis": 11,
    "deepnote_cell_type": "code"
   },
   "source": "Task.destroy_all",
   "execution_count": null,
   "outputs": [
    {
     "output_type": "execute_result",
     "execution_count": 10,
     "data": {
      "text/plain": "[#<Task id: 7476, name: \"MyHelloJob\", status: \"open\", code: \"    def main()\\n        self._log (\\\"hello world\\n\\\")\\n...\", output: nil, runner: nil, created_at: \"2022-02-20 00:28:51.419154000 +0000\", updated_at: \"2022-02-20 00:28:51.419154000 +0000\", run_timestamp: nil, return: nil>, #<Task id: 7477, name: \"MyHelloJob\", status: \"open\", code: \"    def main()\\n        self._log (\\\"hello world\\n\\\")\\n...\", output: nil, runner: nil, created_at: \"2022-02-20 00:29:15.310541000 +0000\", updated_at: \"2022-02-20 00:29:15.310541000 +0000\", run_timestamp: nil, return: nil>]"
     },
     "metadata": {}
    }
   ]
  },
  {
   "cell_type": "code",
   "metadata": {
    "cell_id": "2d6d81a0-a283-4533-a65e-566ac0fbfd67",
    "tags": [],
    "deepnote_to_be_reexecuted": false,
    "source_hash": "bb79a4e5",
    "execution_start": 1645317244818,
    "execution_millis": 215,
    "deepnote_cell_type": "code"
   },
   "source": "eval(MyHelloJob.main_source + \"main()\")",
   "execution_count": null,
   "outputs": [
    {
     "output_type": "error",
     "ename": "NoMethodError",
     "evalue": "undefined method `_log' for #<Object:0x000055856cf1d258>",
     "traceback": [
      "\u001b[31mNoMethodError\u001b[0m: undefined method `_log' for #<Object:0x000055856cf1d258>",
      "(eval):2:in `main'",
      "(eval):6:in `irb_binding'",
      "(irb):in `eval'",
      "(irb):in `irb_binding'"
     ]
    }
   ]
  },
  {
   "cell_type": "code",
   "metadata": {
    "cell_id": "d6711922-7b13-4f6c-901f-17a975f40ec8",
    "tags": [],
    "deepnote_to_be_reexecuted": false,
    "source_hash": "aee1c17a",
    "execution_start": 1645317251224,
    "execution_millis": 1,
    "deepnote_cell_type": "code"
   },
   "source": "MyHelloJob.main_source + \"main()\"",
   "execution_count": null,
   "outputs": [
    {
     "output_type": "execute_result",
     "execution_count": 17,
     "data": {
      "text/plain": "\"    def main()\\n        _log (\\\"hello world\\n\\\")\\n        return \\\"value\\\"\\n    end\\nmain()\""
     },
     "metadata": {}
    }
   ]
  },
  {
   "cell_type": "code",
   "metadata": {
    "cell_id": "1fe8ea24-2172-4757-b8f2-68fdaad78c09",
    "tags": [],
    "deepnote_to_be_reexecuted": false,
    "source_hash": "d560879b",
    "execution_start": 1645317154520,
    "execution_millis": 2,
    "deepnote_cell_type": "code"
   },
   "source": "def a\n return 3\nend",
   "execution_count": null,
   "outputs": [
    {
     "output_type": "execute_result",
     "execution_count": 11,
     "data": {
      "text/plain": ":a"
     },
     "metadata": {}
    }
   ]
  },
  {
   "cell_type": "code",
   "metadata": {
    "cell_id": "82aed0f5-71c7-45a5-a543-370d47a3f80a",
    "tags": [],
    "deepnote_to_be_reexecuted": false,
    "source_hash": "91279298",
    "execution_start": 1645539190529,
    "execution_millis": 4,
    "deepnote_cell_type": "code"
   },
   "source": "puts Task.last.output",
   "execution_count": 10,
   "outputs": [
    {
     "name": "stdout",
     "text": "2022-02-22 14:12:40 +0000 runner panworker-1_72df take task 9908 : ping task-49\n2022-02-22 14:12:40 +0000 == begin run ==\nping\nException Class: NoMethodError\nException Message: undefined method `main' for #<Task::Runner:0x000055d42eced300>\nException Backtrace:\n(eval):13:in `_run'\n(eval):9:in `eval'\n(eval):9:in `_run'\n/panworker/task.rb:105:in `run'\n/panworker/task.rb:28:in `block in run_loop'\n/panworker/task.rb:26:in `loop'\n/panworker/task.rb:26:in `run_loop'\npanworker.rb:31:in `<main>'\n2022-02-22 14:12:40 +0000 == abort run ==\n",
     "output_type": "stream"
    }
   ]
  },
  {
   "cell_type": "code",
   "source": "puts Task.last.code",
   "metadata": {
    "cell_id": "7d4a38da-4695-46cd-916e-74be51ad39e1",
    "tags": [],
    "deepnote_to_be_reexecuted": false,
    "source_hash": "5883e974",
    "execution_start": 1645539248538,
    "execution_millis": 8,
    "deepnote_cell_type": "code"
   },
   "outputs": [
    {
     "name": "stdout",
     "text": "_log \"ping\n\"\n",
     "output_type": "stream"
    }
   ],
   "execution_count": 11
  },
  {
   "cell_type": "code",
   "source": "            code = <<~'TASKCODE'\n            def main\n                _log \"ping\\n\"\n            end\n            TASKCODE\n",
   "metadata": {
    "cell_id": "9f1a17c1-1784-4750-bb91-d369d80bb3eb",
    "tags": [],
    "deepnote_to_be_reexecuted": false,
    "source_hash": "e8c2702",
    "execution_start": 1645539259602,
    "execution_millis": 4,
    "deepnote_cell_type": "code"
   },
   "outputs": [
    {
     "output_type": "execute_result",
     "execution_count": 12,
     "data": {
      "text/plain": "\"def main\\n    _log \\\"ping\\\\n\\\"\\nend\\n\""
     },
     "metadata": {}
    }
   ],
   "execution_count": 12
  },
  {
   "cell_type": "code",
   "source": "puts code",
   "metadata": {
    "cell_id": "10ec527a-6343-4352-8173-7cbe98083471",
    "tags": [],
    "deepnote_to_be_reexecuted": false,
    "source_hash": "78778d6e",
    "execution_start": 1645539262573,
    "execution_millis": 4,
    "deepnote_cell_type": "code"
   },
   "outputs": [
    {
     "name": "stdout",
     "text": "def main\n    _log \"ping\\n\"\nend\n",
     "output_type": "stream"
    }
   ],
   "execution_count": 13
  },
  {
   "cell_type": "code",
   "source": "Task.where(\"tid is not null\").where(\"name not like ?\",\"%demo%\").destroy_all",
   "metadata": {
    "cell_id": "c9abf606-1592-4351-b0e2-e02dc3a4144a",
    "tags": [],
    "deepnote_to_be_reexecuted": false,
    "source_hash": "ca8fa3f6",
    "execution_start": 1645539432047,
    "execution_millis": 61,
    "deepnote_cell_type": "code"
   },
   "outputs": [
    {
     "output_type": "execute_result",
     "execution_count": 21,
     "data": {
      "text/plain": "[#<Task id: 9741, name: \"hello-task\", status: \"edit\", code: \"__TASK_NAME__ = \\\"hello-task\\\"\\n\\ndef main()\\n    time ...\", output: nil, runner: nil, created_at: \"2022-02-22 03:50:46.278510000 +0000\", updated_at: \"2022-02-22 03:50:46.278510000 +0000\", return: nil, tid: \"87c4c144bb74c524\", params: \"{}\", save_timestamp: nil, run_timestamp: nil>, #<Task id: 9742, name: \"hello-task\", status: \"edit\", code: \"__TASK_NAME__ = \\\"hello-task\\\"\\n\\ndef main()\\n    time ...\", output: nil, runner: nil, created_at: \"2022-02-22 03:50:50.560716000 +0000\", updated_at: \"2022-02-22 03:50:50.560716000 +0000\", return: nil, tid: \"9588269cc457df46\", params: \"{}\", save_timestamp: nil, run_timestamp: nil>, #<Task id: 9753, name: \"hello-task\", status: \"edit\", code: \"__TASK_NAME__ = \\\"hello-task\\\"\\n\\ndef main()\\n    time ...\", output: nil, runner: nil, created_at: \"2022-02-22 08:42:29.266752000 +0000\", updated_at: \"2022-02-22 08:42:29.266752000 +0000\", return: nil, tid: \"b98d4645652a7afb\", params: \"{}\", save_timestamp: \"2022-02-22 08:42:22.494954000 +0000\", run_timestamp: nil>, #<Task id: 9749, name: \"95746d95f3278770\", status: \"close\", code: \"__TASK_NAME__ = \\\"hello-task\\\"\\n\\ndef main()\\n    time ...\", output: \"2022-02-22 03:58:02 +0000 runner panworker-1_5056 ...\", runner: \"panworker-1_5056\", created_at: \"2022-02-22 03:58:00.971172000 +0000\", updated_at: \"2022-02-22 03:58:12.546768000 +0000\", return: \"takes <span style='color:red'>10.091773345</span> ...\", tid: \"95746d95f3278770\", params: \"{}\", save_timestamp: \"2022-02-22 03:58:00.674781000 +0000\", run_timestamp: \"2022-02-22 03:58:02.441495000 +0000\">, #<Task id: 9751, name: \"b7d3f24aeaf630c4\", status: \"close\", code: \"__TASK_NAME__ = \\\"hello-task\\\"\\n\\ndef main()\\n    time ...\", output: \"2022-02-22 04:02:32 +0000 runner panworker-1_5056 ...\", runner: \"panworker-1_5056\", created_at: \"2022-02-22 03:59:40.508533000 +0000\", updated_at: \"2022-02-22 04:02:42.295004000 +0000\", return: \"takes <span style='color:red'>10.05901469</span> s...\", tid: \"b7d3f24aeaf630c4\", params: \"{}\", save_timestamp: \"2022-02-22 04:02:31.265899000 +0000\", run_timestamp: \"2022-02-22 04:02:32.223143000 +0000\">, #<Task id: 9750, name: \"0f2831bc012063c1\", status: \"close\", code: \"__TASK_NAME__ = \\\"hello-task\\\"\\n\\ndef main()\\n    time ...\", output: \"2022-02-22 03:59:22 +0000 runner panworker-1_0fef ...\", runner: \"panworker-1_0fef\", created_at: \"2022-02-22 03:59:21.689905000 +0000\", updated_at: \"2022-02-22 03:59:33.063231000 +0000\", return: \"takes <span style='color:red'>10.058538512</span> ...\", tid: \"0f2831bc012063c1\", params: \"{}\", save_timestamp: \"2022-02-22 03:59:21.436530000 +0000\", run_timestamp: \"2022-02-22 03:59:22.991804000 +0000\">, #<Task id: 9754, name: \"hello-task\", status: \"edit\", code: \"__TASK_NAME__ = \\\"hello-task\\\"\\n\\ndef main()\\n    time ...\", output: nil, runner: nil, created_at: \"2022-02-22 08:42:32.131425000 +0000\", updated_at: \"2022-02-22 08:42:32.131425000 +0000\", return: nil, tid: \"7ae1521c00a74a26\", params: \"{}\", save_timestamp: \"2022-02-22 08:42:25.675168000 +0000\", run_timestamp: nil>, #<Task id: 9745, name: \"2ff861204cda8d2b\", status: \"close\", code: \"__TASK_NAME__ = \\\"hello-task\\\"\\n\\ndef main()\\n    time ...\", output: \"2022-02-22 03:52:04 +0000 runner panworker-1_5056 ...\", runner: \"panworker-1_5056\", created_at: \"2022-02-22 03:52:02.791357000 +0000\", updated_at: \"2022-02-22 03:52:14.294880000 +0000\", return: \"takes <span style='color:red'>10.094251943</span> ...\", tid: \"2ff861204cda8d2b\", params: \"{}\", save_timestamp: nil, run_timestamp: \"2022-02-22 03:52:04.185386000 +0000\">, #<Task id: 9743, name: \"hello-task\", status: \"edit\", code: \"__TASK_NAME__ = \\\"hello-task\\\"\\n\\ndef main()\\n    time ...\", output: nil, runner: nil, created_at: \"2022-02-22 03:51:04.210809000 +0000\", updated_at: \"2022-02-22 03:51:04.210809000 +0000\", return: nil, tid: \"7fed38dcd7e49472\", params: \"{}\", save_timestamp: nil, run_timestamp: nil>, #<Task id: 9746, name: \"hello-task\", status: \"edit\", code: \"__TASK_NAME__ = \\\"hello-task\\\"\\n\\ndef main()\\n    time ...\", output: nil, runner: nil, created_at: \"2022-02-22 03:52:19.693787000 +0000\", updated_at: \"2022-02-22 03:52:19.693787000 +0000\", return: nil, tid: \"fe599b9113b8b86c\", params: \"{}\", save_timestamp: nil, run_timestamp: nil>, #<Task id: 9744, name: \"fad2e0456ae6f5e8\", status: \"close\", code: \"__TASK_NAME__ = \\\"hello-task\\\"\\n\\ndef main()\\n    time ...\", output: \"2022-02-22 03:51:11 +0000 runner panworker-1_5056 ...\", runner: \"panworker-1_5056\", created_at: \"2022-02-22 03:51:10.865637000 +0000\", updated_at: \"2022-02-22 03:51:21.861325000 +0000\", return: \"takes <span style='color:red'>10.094241106</span> ...\", tid: \"fad2e0456ae6f5e8\", params: \"{}\", save_timestamp: nil, run_timestamp: \"2022-02-22 03:51:11.731156000 +0000\">, #<Task id: 9747, name: \"hello-task\", status: \"close\", code: \"__TASK_NAME__ = \\\"hello-task\\\"\\n\\ndef main()\\n    time ...\", output: \"2022-02-22 03:57:27 +0000 runner panworker-1_5056 ...\", runner: \"panworker-1_5056\", created_at: \"2022-02-22 03:52:26.207016000 +0000\", updated_at: \"2022-02-22 03:57:30.224587000 +0000\", return: \"takes <span style='color:blue'>3.01779495</span> s...\", tid: \"ef5ccca08eaa07eb\", params: \"{\\\"count\\\":\\\"3\\\",\\\"color\\\":\\\"blue\\\"}\", save_timestamp: \"2022-02-22 03:57:26.445394000 +0000\", run_timestamp: \"2022-02-22 03:57:27.193331000 +0000\">, #<Task id: 9755, name: \"hello-task\", status: \"edit\", code: \"__TASK_NAME__ = \\\"hello-task\\\"\\n\\ndef main()\\n    time ...\", output: nil, runner: nil, created_at: \"2022-02-22 08:42:33.854426000 +0000\", updated_at: \"2022-02-22 08:42:33.854426000 +0000\", return: nil, tid: \"476c758a4f9109ad\", params: \"{}\", save_timestamp: \"2022-02-22 08:42:27.486176000 +0000\", run_timestamp: nil>, #<Task id: 9756, name: \"hello-task\", status: \"close\", code: \"__TASK_NAME__ = \\\"hello-task\\\"\\n\\ndef main()\\n    time ...\", output: \"2022-02-22 08:47:24 +0000 runner panworker-1_9592 ...\", runner: \"panworker-1_9592\", created_at: \"2022-02-22 08:42:45.814263000 +0000\", updated_at: \"2022-02-22 08:47:27.936760000 +0000\", return: \"takes <span style='color:red'>3.024462471</span> s...\", tid: \"d89b6af5c295b653\", params: \"{}\", save_timestamp: \"2022-02-22 08:47:23.874524000 +0000\", run_timestamp: \"2022-02-22 08:47:24.872703000 +0000\">]"
     },
     "metadata": {}
    }
   ],
   "execution_count": 21
  },
  {
   "cell_type": "code",
   "source": "Task.where(tid:[\"4953d1fbc1192d56\",\"550afb426dade7b5\"]).destroy_all",
   "metadata": {
    "cell_id": "7928b895-9bfc-432a-863d-fc1c1eea50b2",
    "tags": [],
    "deepnote_to_be_reexecuted": false,
    "source_hash": "8459e34b",
    "execution_start": 1645539506739,
    "execution_millis": 15,
    "deepnote_cell_type": "code"
   },
   "outputs": [
    {
     "output_type": "execute_result",
     "execution_count": 22,
     "data": {
      "text/plain": "[#<Task id: 9748, name: nil, status: \"close\", code: \"__TASK_NAME__ = \\\"hello-task\\\"\\n\\ndef main()\\n    time ...\", output: \"2022-02-22 03:57:41 +0000 runner panworker-1_5056 ...\", runner: \"panworker-1_5056\", created_at: \"2022-02-22 03:57:34.663825000 +0000\", updated_at: \"2022-02-22 03:57:44.343072000 +0000\", return: \"takes <span style='color:blue'>3.040443627</span> ...\", tid: \"550afb426dade7b5\", params: \"{\\\"count\\\":\\\"3\\\",\\\"color\\\":\\\"blue\\\"}\", save_timestamp: \"2022-02-22 03:57:39.710114000 +0000\", run_timestamp: \"2022-02-22 03:57:41.289824000 +0000\">, #<Task id: 9752, name: nil, status: \"abort\", code: \"__TASK_NAME__ = \\\"foo.rb\\\"\\n\\n\", output: \"2022-02-22 07:11:43 +0000 runner panworker-1_4f58 ...\", runner: \"panworker-1_4f58\", created_at: \"2022-02-22 06:34:55.532701000 +0000\", updated_at: \"2022-02-22 07:11:43.794989000 +0000\", return: nil, tid: \"4953d1fbc1192d56\", params: \"{}\", save_timestamp: \"2022-02-22 07:11:42.071361000 +0000\", run_timestamp: \"2022-02-22 07:11:43.760123000 +0000\">]"
     },
     "metadata": {}
    }
   ],
   "execution_count": 22
  },
  {
   "cell_type": "code",
   "source": "",
   "metadata": {
    "cell_id": "6fd9165f-2bb4-4a32-9620-93c465c47526",
    "tags": [],
    "deepnote_cell_type": "code"
   },
   "outputs": [],
   "execution_count": null
  },
  {
   "cell_type": "markdown",
   "source": "<a style='text-decoration:none;line-height:16px;display:flex;color:#5B5B62;padding:10px;justify-content:end;' href='https://deepnote.com?utm_source=created-in-deepnote-cell&projectId=ebde59c2-d67b-4e31-ad3b-1bdd07014691' target=\"_blank\">\n<img alt='Created in deepnote.com' style='display:inline;max-height:16px;margin:0px;margin-right:7.5px;' src='data:image/svg+xml;base64,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' > </img>\nCreated in <span style='font-weight:600;margin-left:4px;'>Deepnote</span></a>",
   "metadata": {
    "tags": [],
    "created_in_deepnote_cell": true,
    "deepnote_cell_type": "markdown"
   }
  }
 ],
 "nbformat": 4,
 "nbformat_minor": 2,
 "metadata": {
  "orig_nbformat": 2,
  "deepnote": {
   "is_reactive": false
  },
  "deepnote_notebook_id": "b5ab4f0e-8171-4983-b83b-c6ba91eedcc7",
  "deepnote_execution_queue": []
 }
}