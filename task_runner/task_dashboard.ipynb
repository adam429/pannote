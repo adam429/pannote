{
 "cells": [
  {
   "cell_type": "code",
   "metadata": {
    "tags": [],
    "cell_id": "b58a6800-45f5-4a8c-b689-849694b90d04",
    "deepnote_to_be_reexecuted": false,
    "source_hash": "e23933e5",
    "execution_start": 1644879078079,
    "execution_millis": 1489,
    "deepnote_cell_type": "code"
   },
   "source": "# load init moudle file\n\nload \"/work/pannote/panbot_note.rb\"\nnil",
   "execution_count": 2,
   "outputs": []
  },
  {
   "cell_type": "code",
   "metadata": {
    "cell_id": "e71e0168-60b0-438f-93f5-2c03258a2e29",
    "tags": [],
    "deepnote_to_be_reexecuted": false,
    "source_hash": "38f5132a",
    "execution_start": 1644893747138,
    "execution_millis": 8,
    "deepnote_output_heights": [
     21.1875,
     21.1875
    ],
    "deepnote_cell_type": "code"
   },
   "source": "puts \"==status count==\"\nputs Task.group(:status).count\nputs \"==running task==\"\n\n\n\nputs Task.where(status:\"run\").map {|x| [x.id,x.name,x.runner,Time.now-x.updated_at].join(\" | \")}.join(\"\\n\")\n",
   "execution_count": 184,
   "outputs": [
    {
     "name": "stdout",
     "text": "==status count==\n{\"open\"=>11, \"run\"=>8, \"close\"=>102}\n==running task==\n2791 | data-import-transfer 15160000 - 15170000 | deepnote-runner | 1498.058326126\n2782 | data-import-transfer 15070000 - 15080000 | deepnote-runner-2 | 97.890464435\n2772 | data-import-transfer 14970000 - 14980000 | worker2 | 104.491857341\n2774 | data-import-transfer 14990000 - 15000000 | deepnote-runner-1 | 104.034197756\n2776 | data-import-transfer 15010000 - 15020000 | worker | 102.693513554\n2777 | data-import-transfer 15020000 - 15030000 | worker | 100.463027982\n2781 | data-import-transfer 15060000 - 15070000 | deepnote-runner-2 | 100.036177685\n2798 | data-import-transfer 15230000 - 15240000 | worker | 289.163469889\n",
     "output_type": "stream"
    }
   ]
  },
  {
   "cell_type": "code",
   "metadata": {
    "cell_id": "2a0c107d-3c68-4a01-9d97-403c35cf8a9a",
    "tags": [],
    "deepnote_to_be_reexecuted": false,
    "source_hash": "73a247f2",
    "execution_start": 1644882566979,
    "execution_millis": 27174045,
    "deepnote_output_heights": [
     1
    ],
    "deepnote_cell_type": "code"
   },
   "source": "def abort_reset_to_open()\n  Task.where(status:\"abort\").map {|x| x.status=\"open\"; x.save}\nend\n\ndef task_clean()\n  Task.destroy_all\nend\n\ndef task_hello_task(count)\n  count.times {|x|\n    code = <<~TASKCODE\n\n    puts \"hello world!\"\n    _log \"hello world!\\n\"\n    \n    TASKCODE\n    Task.create_task(\"hello world task-#{x}\", code)\n  }\nend\n",
   "execution_count": 52,
   "outputs": [
    {
     "output_type": "execute_result",
     "execution_count": 52,
     "data": {
      "text/plain": ":task_hello_task"
     },
     "metadata": {}
    }
   ]
  },
  {
   "cell_type": "code",
   "metadata": {
    "cell_id": "e76f01fb-c8c8-450f-a967-0c743bb3e73f",
    "tags": [],
    "deepnote_to_be_reexecuted": false,
    "source_hash": "317f84d",
    "execution_start": 1644893642576,
    "execution_millis": 77,
    "deepnote_output_heights": [
     1
    ],
    "deepnote_cell_type": "code"
   },
   "source": "abort_reset_to_open",
   "execution_count": 175,
   "outputs": [
    {
     "output_type": "execute_result",
     "execution_count": 175,
     "data": {
      "text/plain": "[true, true, true, true, true, true, true, true, true, true, true, true, true, true, true, true, true]"
     },
     "metadata": {}
    }
   ]
  },
  {
   "cell_type": "code",
   "metadata": {
    "cell_id": "579b5137-0f9c-41b7-93ea-d1b0928f0ae2",
    "tags": [],
    "deepnote_to_be_reexecuted": false,
    "source_hash": "d6fd2aef",
    "execution_start": 1644856251538,
    "execution_millis": 60,
    "deepnote_output_heights": [
     1
    ],
    "deepnote_cell_type": "code"
   },
   "source": "task_hello_task(10)",
   "execution_count": null,
   "outputs": [
    {
     "output_type": "execute_result",
     "execution_count": 116,
     "data": {
      "text/plain": "10"
     },
     "metadata": {}
    }
   ]
  },
  {
   "cell_type": "code",
   "source": "puts Task.where(status:\"abort\").order(:id).map {|x| [x.name,x.runner] }",
   "metadata": {
    "cell_id": "1cfe1426-46e1-4ff0-be5c-cef46922b7c4",
    "tags": [],
    "deepnote_to_be_reexecuted": false,
    "source_hash": "60681db2",
    "execution_start": 1644893489377,
    "execution_millis": 227,
    "deepnote_output_heights": [
     21.1875
    ],
    "deepnote_cell_type": "code"
   },
   "outputs": [
    {
     "name": "stdout",
     "text": "data-import-transfer 14970000 - 14980000\ndeepnote-runner-2\ndata-import-transfer 14990000 - 15000000\ndeepnote-runner-1\ndata-import-transfer 15010000 - 15020000\ndeepnote-runner\ndata-import-transfer 15020000 - 15030000\ndeepnote-runner-2\ndata-import-transfer 15060000 - 15070000\ndeepnote-runner-1\ndata-import-transfer 15070000 - 15080000\ndeepnote-runner-2\ndata-import-transfer 15090000 - 15100000\ndeepnote-runner-1\ndata-import-transfer 15100000 - 15110000\ndeepnote-runner-2\ndata-import-transfer 15130000 - 15140000\ndeepnote-runner-1\ndata-import-transfer 15140000 - 15150000\ndeepnote-runner-2\ndata-import-transfer 15190000 - 15200000\ndeepnote-runner-2\ndata-import-transfer 15200000 - 15210000\ndeepnote-runner-1\ndata-import-transfer 15210000 - 15220000\ndeepnote-runner-1\ndata-import-transfer 15220000 - 15230000\ndeepnote-runner-1\ndata-import-transfer 15240000 - 15250000\ndeepnote-runner-2\ndata-import-transfer 15250000 - 15260000\ndeepnote-runner-1\n",
     "output_type": "stream"
    }
   ],
   "execution_count": 172
  },
  {
   "cell_type": "code",
   "source": "# Count\nputs \"Count\"\nCache.all.map {|x| x.delete}\nnil\n\ndef count\n  Block.count\n  Tx.count\n  Event.count\n  Epoch.count\n  EpochDetail.count\n  Address.count\n  Transfer.count \nend\n\ntime = Time.now\ncount\nputs \"first #{ Time.now-time }\"\ntime = Time.now\ncount\nputs \"second #{ Time.now-time }\"\n",
   "metadata": {
    "cell_id": "014664af-4690-44a4-80d7-b6213efd929e",
    "tags": [],
    "deepnote_to_be_reexecuted": false,
    "source_hash": "19d5d790",
    "execution_start": 1644884656878,
    "execution_millis": 22034,
    "deepnote_output_heights": [
     21.1875
    ],
    "deepnote_cell_type": "code"
   },
   "outputs": [
    {
     "name": "stdout",
     "text": "Count\nfirst 21.970544707\nsecond 0.00828482\n",
     "output_type": "stream"
    }
   ],
   "execution_count": 94
  },
  {
   "cell_type": "code",
   "source": "ip_address = Socket.ip_address_list.find { |ai| ai.ipv4? && !ai.ipv4_loopback? }.ip_address",
   "metadata": {
    "cell_id": "95ef15c4-a10e-41a6-aa0b-8f790db1b63d",
    "tags": [],
    "deepnote_to_be_reexecuted": false,
    "source_hash": "9e9be3e1",
    "execution_start": 1644886038338,
    "execution_millis": 181,
    "deepnote_output_heights": [
     1
    ],
    "deepnote_cell_type": "code"
   },
   "outputs": [
    {
     "output_type": "execute_result",
     "execution_count": 112,
     "data": {
      "text/plain": "\"172.3.2.153\""
     },
     "metadata": {}
    }
   ],
   "execution_count": 112
  },
  {
   "cell_type": "code",
   "source": "Socket.ip_address_list",
   "metadata": {
    "cell_id": "4f01664c-95b6-49ed-a9f9-57833f03aef3",
    "tags": [],
    "deepnote_to_be_reexecuted": false,
    "source_hash": "54eed3",
    "execution_start": 1644886076701,
    "execution_millis": 1,
    "deepnote_output_heights": [
     21.1875
    ],
    "deepnote_cell_type": "code"
   },
   "outputs": [
    {
     "output_type": "execute_result",
     "execution_count": 113,
     "data": {
      "text/plain": "[#<Addrinfo: 127.0.0.1>, #<Addrinfo: 172.3.2.153>]"
     },
     "metadata": {}
    }
   ],
   "execution_count": 113
  },
  {
   "cell_type": "code",
   "source": "task = Task.find(2780)\ntask.status=\"open\"\ntask.save",
   "metadata": {
    "cell_id": "0c4e8a5f-87a8-4bf5-8d9f-0ef2195f2ce8",
    "tags": [],
    "deepnote_to_be_reexecuted": false,
    "source_hash": "30746ec9",
    "execution_start": 1644892875597,
    "execution_millis": 7,
    "deepnote_output_heights": [
     21.1875
    ],
    "deepnote_cell_type": "code"
   },
   "outputs": [
    {
     "output_type": "execute_result",
     "execution_count": 158,
     "data": {
      "text/plain": "true"
     },
     "metadata": {}
    }
   ],
   "execution_count": 158
  },
  {
   "cell_type": "code",
   "source": "node_name = \"deepnote-runner-#{ip_address}-#{rand(99)}\"\n",
   "metadata": {
    "cell_id": "4220c769-dcf2-4804-9b38-e04adf6cf47d",
    "tags": [],
    "deepnote_to_be_reexecuted": false,
    "source_hash": "e8469ad3",
    "execution_start": 1644893867877,
    "execution_millis": 4805,
    "deepnote_output_heights": [
     21.1875
    ],
    "deepnote_cell_type": "code"
   },
   "outputs": [
    {
     "output_type": "execute_result",
     "execution_count": 192,
     "data": {
      "text/plain": "\"deepnote-runner-172.3.2.153-26\""
     },
     "metadata": {}
    }
   ],
   "execution_count": 192
  },
  {
   "cell_type": "code",
   "source": "puts node_name",
   "metadata": {
    "cell_id": "57a64236-7aba-4ffc-8c85-f65c42041852",
    "tags": [],
    "deepnote_to_be_reexecuted": false,
    "source_hash": "763df39c",
    "execution_start": 1644893845603,
    "deepnote_cell_type": "code"
   },
   "outputs": [
    {
     "name": "stdout",
     "text": "deepnote-runner:172.3.2.153:81\n",
     "output_type": "stream"
    }
   ],
   "execution_count": 190
  },
  {
   "cell_type": "code",
   "source": "",
   "metadata": {
    "cell_id": "3bd74b86-3823-4bc1-81f8-cbffda5ea4b0",
    "tags": [],
    "deepnote_cell_type": "code"
   },
   "outputs": [],
   "execution_count": null
  },
  {
   "cell_type": "markdown",
   "source": "<a style='text-decoration:none;line-height:16px;display:flex;color:#5B5B62;padding:10px;justify-content:end;' href='https://deepnote.com?utm_source=created-in-deepnote-cell&projectId=ebde59c2-d67b-4e31-ad3b-1bdd07014691' target=\"_blank\">\n<img alt='Created in deepnote.com' style='display:inline;max-height:16px;margin:0px;margin-right:7.5px;' src='data:image/svg+xml;base64,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' > </img>\nCreated in <span style='font-weight:600;margin-left:4px;'>Deepnote</span></a>",
   "metadata": {
    "tags": [],
    "created_in_deepnote_cell": true,
    "deepnote_cell_type": "markdown"
   }
  }
 ],
 "nbformat": 4,
 "nbformat_minor": 2,
 "metadata": {
  "orig_nbformat": 2,
  "deepnote": {
   "is_reactive": false
  },
  "deepnote_notebook_id": "b5ab4f0e-8171-4983-b83b-c6ba91eedcc7",
  "deepnote_execution_queue": []
 }
}