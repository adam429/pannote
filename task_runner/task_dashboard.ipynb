{
 "cells": [
  {
   "cell_type": "code",
   "metadata": {
    "tags": [],
    "cell_id": "b58a6800-45f5-4a8c-b689-849694b90d04",
    "deepnote_to_be_reexecuted": false,
    "source_hash": "e23933e5",
    "execution_start": 1645316968012,
    "execution_millis": 1133,
    "deepnote_cell_height": 134.953125,
    "deepnote_cell_type": "code"
   },
   "source": "# load init moudle file\n\nload \"/work/pannote/panbot_note.rb\"\nnil",
   "execution_count": null,
   "outputs": []
  },
  {
   "cell_type": "code",
   "metadata": {
    "cell_id": "e71e0168-60b0-438f-93f5-2c03258a2e29",
    "tags": [],
    "deepnote_to_be_reexecuted": false,
    "source_hash": "38f5132a",
    "execution_start": 1645249084743,
    "execution_millis": 30,
    "deepnote_output_heights": [
     21.1875,
     21.1875
    ],
    "deepnote_cell_height": 296.578125,
    "deepnote_cell_type": "code"
   },
   "source": "puts \"==status count==\"\nputs Task.group(:status).count\nputs \"==running task==\"\n\n\n\nputs Task.where(status:\"run\").map {|x| [x.id,x.name,x.runner,Time.now-x.updated_at].join(\" | \")}.join(\"\\n\")\n",
   "execution_count": null,
   "outputs": [
    {
     "name": "stdout",
     "text": "==status count==\n{\"run\"=>1, \"close\"=>60}\n==running task==\n3147 | loop-1 | panworker-main2-13 | 25.275864442\n",
     "output_type": "stream"
    }
   ]
  },
  {
   "cell_type": "code",
   "metadata": {
    "cell_id": "2a0c107d-3c68-4a01-9d97-403c35cf8a9a",
    "tags": [],
    "deepnote_to_be_reexecuted": false,
    "source_hash": "73a247f2",
    "execution_start": 1645314689868,
    "execution_millis": 65872437,
    "deepnote_output_heights": [
     21.1875
    ],
    "deepnote_cell_height": 460.140625,
    "deepnote_cell_type": "code"
   },
   "source": "def abort_reset_to_open()\n  Task.where(status:\"abort\").map {|x| x.status=\"open\"; x.save}\nend\n\ndef task_clean()\n  Task.destroy_all\nend\n\ndef task_hello_task(count)\n  count.times {|x|\n    code = <<~TASKCODE\n\n    puts \"hello world!\"\n    _log \"hello world!\\n\"\n    \n    TASKCODE\n    Task.create_task(\"hello world task-#{x}\", code)\n  }\nend\n",
   "execution_count": null,
   "outputs": [
    {
     "output_type": "execute_result",
     "execution_count": 2,
     "data": {
      "text/plain": ":task_hello_task"
     },
     "metadata": {}
    }
   ]
  },
  {
   "cell_type": "code",
   "metadata": {
    "cell_id": "e76f01fb-c8c8-450f-a967-0c743bb3e73f",
    "tags": [],
    "deepnote_to_be_reexecuted": false,
    "source_hash": "317f84d",
    "execution_start": 1645106386140,
    "execution_millis": 52,
    "deepnote_output_heights": [
     21.1875
    ],
    "deepnote_cell_height": 118.140625,
    "deepnote_cell_type": "code"
   },
   "source": "abort_reset_to_open",
   "execution_count": null,
   "outputs": [
    {
     "output_type": "execute_result",
     "execution_count": 10,
     "data": {
      "text/plain": "[true, true, true, true, true, true, true, true]"
     },
     "metadata": {}
    }
   ]
  },
  {
   "cell_type": "code",
   "metadata": {
    "cell_id": "1cfe1426-46e1-4ff0-be5c-cef46922b7c4",
    "tags": [],
    "deepnote_to_be_reexecuted": false,
    "source_hash": "85c5ad8f",
    "execution_start": 1645106620504,
    "execution_millis": 2,
    "deepnote_output_heights": [
     21.1875
    ],
    "deepnote_cell_height": 131.25,
    "deepnote_cell_type": "code"
   },
   "source": "puts Task.where(status:\"abort\").order(:id).map {|x| [x.runner] }",
   "execution_count": null,
   "outputs": [
    {
     "name": "stdout",
     "text": "panworker-main2-28\npanworker-main2-13\n",
     "output_type": "stream"
    }
   ]
  },
  {
   "cell_type": "code",
   "metadata": {
    "cell_id": "014664af-4690-44a4-80d7-b6213efd929e",
    "tags": [],
    "deepnote_to_be_reexecuted": false,
    "source_hash": "370d8895",
    "execution_start": 1645106751302,
    "execution_millis": 6,
    "deepnote_output_heights": [
     21.1875
    ],
    "deepnote_cell_height": 700.9375,
    "deepnote_cell_type": "code"
   },
   "source": "puts Task.where(status:\"abort\").order(:id).map {|x| [x.name,x.runner,x.output] }",
   "execution_count": null,
   "outputs": [
    {
     "name": "stdout",
     "text": "data-import-block 15263213 - 15270000\npanworker-main2-28\n2022-02-17 13:59:47 +0000 runner panworker-main2-28 take task 2899 : data-import-block 15263213 - 15270000\n2022-02-17 13:59:47 +0000 == begin run ==\nException Class: Net::OpenTimeout\nException Message: Net::OpenTimeout\nException Backtrace:\n/usr/local/lib/ruby/2.7.0/net/protocol.rb:41:in `ssl_socket_connect'\n/usr/local/lib/ruby/2.7.0/net/http.rb:1009:in `connect'\n/usr/local/lib/ruby/2.7.0/net/http.rb:943:in `do_start'\n/usr/local/lib/ruby/2.7.0/net/http.rb:932:in `start'\n/usr/local/lib/ruby/2.7.0/net/http.rb:1483:in `request'\n/usr/local/bundle/gems/ethereum.rb-2.5/lib/ethereum/http_client.rb:33:in `send_single'\n/usr/local/bundle/gems/ethereum.rb-2.5/lib/ethereum/client.rb:126:in `send_command'\n/usr/local/bundle/gems/ethereum.rb-2.5/lib/ethereum/client.rb:137:in `block (2 levels) in <class:Client>'\n/panworker/task.rb:193:in `block in data_import_block'\n/usr/local/bundle/gems/parallel-1.21.0/lib/parallel.rb:515:in `call_with_index'\n/usr/local/bundle/gems/parallel-1.21.0/lib/parallel.rb:373:in `block (2 levels) in work_in_threads'\n/usr/local/bundle/gems/parallel-1.21.0/lib/parallel.rb:527:in `with_instrumentation'\n/usr/local/bundle/gems/parallel-1.21.0/lib/parallel.rb:372:in `block in work_in_threads'\n/usr/local/bundle/gems/parallel-1.21.0/lib/parallel.rb:222:in `block (4 levels) in in_threads'\n2022-02-17 14:03:07 +0000 == abort run ==\ndata-import-block 15270000 - 15280000\npanworker-main2-13\n2022-02-17 13:59:48 +0000 runner panworker-main2-13 take task 2900 : data-import-block 15270000 - 15280000\n2022-02-17 13:59:48 +0000 == begin run ==\nException Class: Net::OpenTimeout\nException Message: Net::OpenTimeout\nException Backtrace:\n/usr/local/lib/ruby/2.7.0/net/protocol.rb:41:in `ssl_socket_connect'\n/usr/local/lib/ruby/2.7.0/net/http.rb:1009:in `connect'\n/usr/local/lib/ruby/2.7.0/net/http.rb:943:in `do_start'\n/usr/local/lib/ruby/2.7.0/net/http.rb:932:in `start'\n/usr/local/lib/ruby/2.7.0/net/http.rb:1483:in `request'\n/usr/local/bundle/gems/ethereum.rb-2.5/lib/ethereum/http_client.rb:33:in `send_single'\n/usr/local/bundle/gems/ethereum.rb-2.5/lib/ethereum/client.rb:126:in `send_command'\n/usr/local/bundle/gems/ethereum.rb-2.5/lib/ethereum/client.rb:137:in `block (2 levels) in <class:Client>'\n/panworker/task.rb:193:in `block in data_import_block'\n/usr/local/bundle/gems/parallel-1.21.0/lib/parallel.rb:515:in `call_with_index'\n/usr/local/bundle/gems/parallel-1.21.0/lib/parallel.rb:373:in `block (2 levels) in work_in_threads'\n/usr/local/bundle/gems/parallel-1.21.0/lib/parallel.rb:527:in `with_instrumentation'\n/usr/local/bundle/gems/parallel-1.21.0/lib/parallel.rb:372:in `block in work_in_threads'\n/usr/local/bundle/gems/parallel-1.21.0/lib/parallel.rb:222:in `block (4 levels) in in_threads'\n2022-02-17 14:03:02 +0000 == abort run ==\ndata-import-block 15280000 - 15290000\npanworker-main2-13\n2022-02-17 14:03:03 +0000 runner panworker-main2-13 take task 2901 : data-import-block 15280000 - 15290000\n2022-02-17 14:03:03 +0000 == begin run ==\nException Class: Net::OpenTimeout\nException Message: Net::OpenTimeout\nException Backtrace:\n/usr/local/lib/ruby/2.7.0/net/protocol.rb:41:in `ssl_socket_connect'\n/usr/local/lib/ruby/2.7.0/net/http.rb:1009:in `connect'\n/usr/local/lib/ruby/2.7.0/net/http.rb:943:in `do_start'\n/usr/local/lib/ruby/2.7.0/net/http.rb:932:in `start'\n/usr/local/lib/ruby/2.7.0/net/http.rb:1483:in `request'\n/usr/local/bundle/gems/ethereum.rb-2.5/lib/ethereum/http_client.rb:33:in `send_single'\n/usr/local/bundle/gems/ethereum.rb-2.5/lib/ethereum/client.rb:126:in `send_command'\n/usr/local/bundle/gems/ethereum.rb-2.5/lib/ethereum/client.rb:137:in `block (2 levels) in <class:Client>'\n/panworker/task.rb:193:in `block in data_import_block'\n/usr/local/bundle/gems/parallel-1.21.0/lib/parallel.rb:515:in `call_with_index'\n/usr/local/bundle/gems/parallel-1.21.0/lib/parallel.rb:373:in `block (2 levels) in work_in_threads'\n/usr/local/bundle/gems/parallel-1.21.0/lib/parallel.rb:527:in `with_instrumentation'\n/usr/local/bundle/gems/parallel-1.21.0/lib/parallel.rb:372:in `block in work_in_threads'\n/usr/local/bundle/gems/parallel-1.21.0/lib/parallel.rb:222:in `block (4 levels) in in_threads'\n2022-02-17 14:05:15 +0000 == abort run ==\ndata-import-block 15290000 - 15300000\npanworker-main2-28\n2022-02-17 14:03:08 +0000 runner panworker-main2-28 take task 2902 : data-import-block 15290000 - 15300000\n2022-02-17 14:03:08 +0000 == begin run ==\nException Class: Net::OpenTimeout\nException Message: Net::OpenTimeout\nException Backtrace:\n/usr/local/lib/ruby/2.7.0/net/protocol.rb:41:in `ssl_socket_connect'\n/usr/local/lib/ruby/2.7.0/net/http.rb:1009:in `connect'\n/usr/local/lib/ruby/2.7.0/net/http.rb:943:in `do_start'\n/usr/local/lib/ruby/2.7.0/net/http.rb:932:in `start'\n/usr/local/lib/ruby/2.7.0/net/http.rb:1483:in `request'\n/usr/local/bundle/gems/ethereum.rb-2.5/lib/ethereum/http_client.rb:33:in `send_single'\n/usr/local/bundle/gems/ethereum.rb-2.5/lib/ethereum/client.rb:126:in `send_command'\n/usr/local/bundle/gems/ethereum.rb-2.5/lib/ethereum/client.rb:137:in `block (2 levels) in <class:Client>'\n/panworker/task.rb:193:in `block in data_import_block'\n/usr/local/bundle/gems/parallel-1.21.0/lib/parallel.rb:515:in `call_with_index'\n/usr/local/bundle/gems/parallel-1.21.0/lib/parallel.rb:373:in `block (2 levels) in work_in_threads'\n/usr/local/bundle/gems/parallel-1.21.0/lib/parallel.rb:527:in `with_instrumentation'\n/usr/local/bundle/gems/parallel-1.21.0/lib/parallel.rb:372:in `block in work_in_threads'\n/usr/local/bundle/gems/parallel-1.21.0/lib/parallel.rb:222:in `block (4 levels) in in_threads'\n2022-02-17 14:05:14 +0000 == abort run ==\n",
     "output_type": "stream"
    }
   ]
  },
  {
   "cell_type": "code",
   "metadata": {
    "cell_id": "eeb88549-4f95-41ef-b30d-6fd429834782",
    "tags": [],
    "deepnote_to_be_reexecuted": false,
    "source_hash": "27b505ee",
    "execution_start": 1645010116754,
    "execution_millis": 5,
    "deepnote_output_heights": [
     21.1875
    ],
    "deepnote_cell_height": 700.9375,
    "deepnote_cell_type": "code"
   },
   "source": "puts Task.where(status:\"close\").map {|x| x.output}",
   "execution_count": null,
   "outputs": [
    {
     "name": "stdout",
     "text": "2022-02-16 11:14:24 +0000 runner panworker-main2-13 take task 2892 : hello world task-3\n2022-02-16 11:14:24 +0000 == begin run ==\nhello world!\n2022-02-16 11:14:24 +0000 == end run ==\n2022-02-16 11:14:21 +0000 runner panworker-main2-13 take task 2889 : hello world task-0\n2022-02-16 11:14:21 +0000 == begin run ==\nhello world!\n2022-02-16 11:14:21 +0000 == end run ==\n2022-02-16 11:14:26 +0000 runner panworker-main2-28 take task 2893 : hello world task-4\n2022-02-16 11:14:26 +0000 == begin run ==\nhello world!\n2022-02-16 11:14:26 +0000 == end run ==\n2022-02-16 11:14:34 +0000 runner panworker-main2-13 take task 2896 : hello world task-7\n2022-02-16 11:14:34 +0000 == begin run ==\nhello world!\n2022-02-16 11:14:34 +0000 == end run ==\n2022-02-16 11:14:40 +0000 runner panworker-main2-28 take task 2898 : hello world task-9\n2022-02-16 11:14:40 +0000 == begin run ==\nhello world!\n2022-02-16 11:14:40 +0000 == end run ==\n2022-02-16 11:14:21 +0000 runner panworker-main2-28 take task 2890 : hello world task-1\n2022-02-16 11:14:21 +0000 == begin run ==\nhello world!\n2022-02-16 11:14:21 +0000 == end run ==\n2022-02-16 11:14:28 +0000 runner panworker-main2-13 take task 2894 : hello world task-5\n2022-02-16 11:14:28 +0000 == begin run ==\nhello world!\n2022-02-16 11:14:28 +0000 == end run ==\n2022-02-16 11:14:35 +0000 runner panworker-main2-28 take task 2897 : hello world task-8\n2022-02-16 11:14:35 +0000 == begin run ==\nhello world!\n2022-02-16 11:14:35 +0000 == end run ==\n2022-02-16 11:14:22 +0000 runner panworker-main2-13 take task 2891 : hello world task-2\n2022-02-16 11:14:22 +0000 == begin run ==\nhello world!\n2022-02-16 11:14:22 +0000 == end run ==\n2022-02-16 11:14:29 +0000 runner panworker-main2-13 take task 2895 : hello world task-6\n2022-02-16 11:14:29 +0000 == begin run ==\nhello world!\n2022-02-16 11:14:29 +0000 == end run ==\n",
     "output_type": "stream"
    }
   ]
  },
  {
   "cell_type": "code",
   "metadata": {
    "cell_id": "00198fae-b923-4c63-92de-c4a580b8ae78",
    "tags": [],
    "deepnote_to_be_reexecuted": false,
    "source_hash": "f7f1fa8a",
    "execution_start": 1645248862148,
    "execution_millis": 6,
    "deepnote_output_heights": [
     21.1875
    ],
    "deepnote_cell_height": 118.140625,
    "deepnote_cell_type": "code"
   },
   "source": "",
   "execution_count": null,
   "outputs": [
    {
     "output_type": "execute_result",
     "execution_count": 40,
     "data": {
      "text/plain": "[]"
     },
     "metadata": {}
    }
   ]
  },
  {
   "cell_type": "code",
   "metadata": {
    "cell_id": "e2a3408b-7d34-4550-b14e-fb8b7e8dc15c",
    "tags": [],
    "deepnote_to_be_reexecuted": false,
    "source_hash": "d6fd2aef",
    "execution_start": 1645248824604,
    "execution_millis": 59,
    "deepnote_output_heights": [
     21.1875
    ],
    "deepnote_cell_height": 118.140625,
    "deepnote_cell_type": "code"
   },
   "source": "task_hello_task(10)",
   "execution_count": null,
   "outputs": [
    {
     "output_type": "execute_result",
     "execution_count": 36,
     "data": {
      "text/plain": "10"
     },
     "metadata": {}
    }
   ]
  },
  {
   "cell_type": "code",
   "metadata": {
    "cell_id": "fe5a00d3-d99c-4d8a-bfc0-0b0e20d1976c",
    "tags": [],
    "deepnote_cell_height": 334.140625,
    "deepnote_to_be_reexecuted": false,
    "source_hash": "ef65cfc3",
    "execution_start": 1645249878344,
    "execution_millis": 348,
    "deepnote_output_heights": [
     21.1875
    ],
    "deepnote_cell_type": "code"
   },
   "source": "def task_ping(count)\n  count.times {|x|\n    code = <<~TASKCODE\n\n    puts \"ping\"\n    \n    TASKCODE\n    Task.create_task(\"ping task-#{x}\", code)\n  }\nend\n\nTask.where(\"name like ?\",\"ping task%\").destroy_all\ntask_ping(50)",
   "execution_count": null,
   "outputs": [
    {
     "output_type": "execute_result",
     "execution_count": 48,
     "data": {
      "text/plain": "50"
     },
     "metadata": {}
    }
   ]
  },
  {
   "cell_type": "code",
   "metadata": {
    "cell_id": "b746636d-d03e-4665-bad4-6482d05df7ea",
    "tags": [],
    "deepnote_cell_height": 681.71875,
    "deepnote_to_be_reexecuted": false,
    "source_hash": "64d1ff58",
    "execution_start": 1645248877864,
    "execution_millis": 12,
    "deepnote_output_heights": [
     21.1875
    ],
    "deepnote_cell_type": "code"
   },
   "source": "puts Task.all.map {|x| [x.status,x.name,x.runner]}.join(\"\\n\")",
   "execution_count": null,
   "outputs": [
    {
     "name": "stdout",
     "text": "close\nhello world task-0\npanworker-main2-28\nclose\nhello world task-6\npanworker-main2-13\nclose\nhello world task-9\npanworker-main2-28\nclose\nhello world task-8\npanworker-main2-13\nclose\nhello world task-1\npanworker-main2-28\nclose\nhello world task-3\npanworker-main2-13\nclose\nhello world task-5\npanworker-main2-28\nclose\nhello world task-7\npanworker-main2-28\nclose\nhello world task-2\npanworker-main2-28\nclose\nhello world task-4\npanworker-main2-28\n",
     "output_type": "stream"
    }
   ]
  },
  {
   "cell_type": "code",
   "metadata": {
    "cell_id": "42c66cb2-7155-479b-93ef-ec87bcc6a508",
    "tags": [],
    "deepnote_cell_height": 118.140625,
    "deepnote_to_be_reexecuted": false,
    "source_hash": "92270f2e",
    "execution_start": 1645248563940,
    "execution_millis": 2,
    "deepnote_output_heights": [
     21.1875
    ],
    "deepnote_cell_type": "code"
   },
   "source": "Task.where(\"name like ?\",\"ping task%\").where(status:\"close\").where(\"created_at >= ?\",Time.now()-300).select(:runner).distinct(:runner).map {|x| x.runner}",
   "execution_count": null,
   "outputs": [
    {
     "output_type": "execute_result",
     "execution_count": 26,
     "data": {
      "text/plain": "[\"panworker-main2-13\", \"panworker-main2-28\"]"
     },
     "metadata": {}
    }
   ]
  },
  {
   "cell_type": "code",
   "metadata": {
    "cell_id": "54053772-92a2-42d8-8b04-9ff49d257ad7",
    "tags": [],
    "deepnote_to_be_reexecuted": false,
    "source_hash": "7e4c2dd5",
    "execution_start": 1645316969150,
    "execution_millis": 66,
    "deepnote_cell_type": "code"
   },
   "source": "code = <<~TASKCODE\n    require 'method_source'\n\n    module LocalRunner\n        def _log(str)\n            print str\n        end\n    end\n\n    class JobBase\n        include LocalRunner\n        def self.main_source\n            self.instance_method(:main).source\n        end\n    end\n\n    class MyHelloJob < JobBase\n        def main()\n            _log (\"hello world\\n\")\n            return \"value\"\n        end\n    end\nTASKCODE\n\nfilename = \"job.rb\"\nfile = open(filename,\"w\")\nfile.write(code)\nfile.close\nload (filename)\n\n\njob = MyHelloJob.new()\njob.main()\n\nTask.create_task(\"MyHelloJob\", MyHelloJob.main_source)\n",
   "execution_count": null,
   "outputs": [
    {
     "name": "stdout",
     "text": "hello world\n",
     "output_type": "stream"
    },
    {
     "output_type": "execute_result",
     "execution_count": 2,
     "data": {
      "text/plain": "true"
     },
     "metadata": {}
    }
   ]
  },
  {
   "cell_type": "code",
   "metadata": {
    "cell_id": "d109c078-85ae-42bf-8e3a-bb8ee04eb861",
    "tags": [],
    "deepnote_to_be_reexecuted": false,
    "source_hash": "2f6120cd",
    "execution_start": 1645317342947,
    "execution_millis": 38,
    "deepnote_cell_type": "code"
   },
   "source": "Task.all",
   "execution_count": null,
   "outputs": [
    {
     "output_type": "execute_result",
     "execution_count": 18,
     "data": {
      "text/plain": "#<ActiveRecord::Relation [#<Task id: 7478, name: \"MyHelloJob\", status: \"close\", code: \"    def main()\\n        _log (\\\"hello world\\n\\\")\\n     ...\", output: \"2022-02-20 00:35:30 +0000 runner main take task 74...\", runner: \"main\", created_at: \"2022-02-20 00:29:29.207230000 +0000\", updated_at: \"2022-02-20 00:35:30.651661000 +0000\", run_timestamp: \"2022-02-20 00:35:30.607517000 +0000\", return: \"value\">]>"
     },
     "metadata": {}
    }
   ]
  },
  {
   "cell_type": "code",
   "metadata": {
    "cell_id": "017f9291-cd8c-4f44-8875-dff3240ab579",
    "tags": [],
    "deepnote_to_be_reexecuted": false,
    "source_hash": "e7ea3075",
    "execution_start": 1645316959580,
    "execution_millis": 11,
    "deepnote_cell_type": "code"
   },
   "source": "Task.destroy_all",
   "execution_count": null,
   "outputs": [
    {
     "output_type": "execute_result",
     "execution_count": 10,
     "data": {
      "text/plain": "[#<Task id: 7476, name: \"MyHelloJob\", status: \"open\", code: \"    def main()\\n        self._log (\\\"hello world\\n\\\")\\n...\", output: nil, runner: nil, created_at: \"2022-02-20 00:28:51.419154000 +0000\", updated_at: \"2022-02-20 00:28:51.419154000 +0000\", run_timestamp: nil, return: nil>, #<Task id: 7477, name: \"MyHelloJob\", status: \"open\", code: \"    def main()\\n        self._log (\\\"hello world\\n\\\")\\n...\", output: nil, runner: nil, created_at: \"2022-02-20 00:29:15.310541000 +0000\", updated_at: \"2022-02-20 00:29:15.310541000 +0000\", run_timestamp: nil, return: nil>]"
     },
     "metadata": {}
    }
   ]
  },
  {
   "cell_type": "code",
   "metadata": {
    "cell_id": "2d6d81a0-a283-4533-a65e-566ac0fbfd67",
    "tags": [],
    "deepnote_to_be_reexecuted": false,
    "source_hash": "bb79a4e5",
    "execution_start": 1645317244818,
    "execution_millis": 215,
    "deepnote_cell_type": "code"
   },
   "source": "eval(MyHelloJob.main_source + \"main()\")",
   "execution_count": null,
   "outputs": [
    {
     "output_type": "error",
     "ename": "NoMethodError",
     "evalue": "undefined method `_log' for #<Object:0x000055856cf1d258>",
     "traceback": [
      "\u001b[31mNoMethodError\u001b[0m: undefined method `_log' for #<Object:0x000055856cf1d258>",
      "(eval):2:in `main'",
      "(eval):6:in `irb_binding'",
      "(irb):in `eval'",
      "(irb):in `irb_binding'"
     ]
    }
   ]
  },
  {
   "cell_type": "code",
   "metadata": {
    "cell_id": "d6711922-7b13-4f6c-901f-17a975f40ec8",
    "tags": [],
    "deepnote_to_be_reexecuted": false,
    "source_hash": "aee1c17a",
    "execution_start": 1645317251224,
    "execution_millis": 1,
    "deepnote_cell_type": "code"
   },
   "source": "MyHelloJob.main_source + \"main()\"",
   "execution_count": null,
   "outputs": [
    {
     "output_type": "execute_result",
     "execution_count": 17,
     "data": {
      "text/plain": "\"    def main()\\n        _log (\\\"hello world\\n\\\")\\n        return \\\"value\\\"\\n    end\\nmain()\""
     },
     "metadata": {}
    }
   ]
  },
  {
   "cell_type": "code",
   "metadata": {
    "cell_id": "1fe8ea24-2172-4757-b8f2-68fdaad78c09",
    "tags": [],
    "deepnote_to_be_reexecuted": false,
    "source_hash": "d560879b",
    "execution_start": 1645317154520,
    "execution_millis": 2,
    "deepnote_cell_type": "code"
   },
   "source": "def a\n return 3\nend",
   "execution_count": null,
   "outputs": [
    {
     "output_type": "execute_result",
     "execution_count": 11,
     "data": {
      "text/plain": ":a"
     },
     "metadata": {}
    }
   ]
  },
  {
   "cell_type": "code",
   "metadata": {
    "cell_id": "82aed0f5-71c7-45a5-a543-370d47a3f80a",
    "tags": [],
    "deepnote_cell_type": "code"
   },
   "source": "",
   "execution_count": null,
   "outputs": []
  },
  {
   "cell_type": "markdown",
   "source": "<a style='text-decoration:none;line-height:16px;display:flex;color:#5B5B62;padding:10px;justify-content:end;' href='https://deepnote.com?utm_source=created-in-deepnote-cell&projectId=ebde59c2-d67b-4e31-ad3b-1bdd07014691' target=\"_blank\">\n<img alt='Created in deepnote.com' style='display:inline;max-height:16px;margin:0px;margin-right:7.5px;' src='data:image/svg+xml;base64,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' > </img>\nCreated in <span style='font-weight:600;margin-left:4px;'>Deepnote</span></a>",
   "metadata": {
    "tags": [],
    "created_in_deepnote_cell": true,
    "deepnote_cell_type": "markdown"
   }
  }
 ],
 "nbformat": 4,
 "nbformat_minor": 2,
 "metadata": {
  "orig_nbformat": 2,
  "deepnote": {
   "is_reactive": false
  },
  "deepnote_notebook_id": "b5ab4f0e-8171-4983-b83b-c6ba91eedcc7",
  "deepnote_execution_queue": []
 }
}