{
 "cells": [
  {
   "cell_type": "code",
   "metadata": {
    "tags": [],
    "cell_id": "b58a6800-45f5-4a8c-b689-849694b90d04",
    "deepnote_to_be_reexecuted": false,
    "source_hash": "e23933e5",
    "execution_start": 1644896646416,
    "execution_millis": 930,
    "deepnote_cell_type": "code"
   },
   "source": "# load init moudle file\n\nload \"/work/pannote/panbot_note.rb\"\nnil",
   "execution_count": 1,
   "outputs": []
  },
  {
   "cell_type": "code",
   "metadata": {
    "cell_id": "e71e0168-60b0-438f-93f5-2c03258a2e29",
    "tags": [],
    "deepnote_to_be_reexecuted": false,
    "source_hash": "38f5132a",
    "execution_start": 1644899727667,
    "execution_millis": 4,
    "deepnote_output_heights": [
     21.1875,
     21.1875
    ],
    "deepnote_cell_type": "code"
   },
   "source": "puts \"==status count==\"\nputs Task.group(:status).count\nputs \"==running task==\"\n\n\n\nputs Task.where(status:\"run\").map {|x| [x.id,x.name,x.runner,Time.now-x.updated_at].join(\" | \")}.join(\"\\n\")\n",
   "execution_count": 65,
   "outputs": [
    {
     "name": "stdout",
     "text": "==status count==\n{\"run\"=>2, \"close\"=>197}\n==running task==\n2887 | update cache - Transfer.top_transaction | worker | 209.161444146\n2888 | update cache - Transfer.top_transfer | worker2 | 208.312876547\n",
     "output_type": "stream"
    }
   ]
  },
  {
   "cell_type": "code",
   "metadata": {
    "cell_id": "2a0c107d-3c68-4a01-9d97-403c35cf8a9a",
    "tags": [],
    "deepnote_to_be_reexecuted": false,
    "source_hash": "73a247f2",
    "execution_start": 1644882566979,
    "execution_millis": 27174045,
    "deepnote_output_heights": [
     21.1875
    ],
    "deepnote_cell_type": "code"
   },
   "source": "def abort_reset_to_open()\n  Task.where(status:\"abort\").map {|x| x.status=\"open\"; x.save}\nend\n\ndef task_clean()\n  Task.destroy_all\nend\n\ndef task_hello_task(count)\n  count.times {|x|\n    code = <<~TASKCODE\n\n    puts \"hello world!\"\n    _log \"hello world!\\n\"\n    \n    TASKCODE\n    Task.create_task(\"hello world task-#{x}\", code)\n  }\nend\n",
   "outputs": [
    {
     "output_type": "execute_result",
     "execution_count": 52,
     "data": {
      "text/plain": ":task_hello_task"
     },
     "metadata": {}
    }
   ],
   "execution_count": null
  },
  {
   "cell_type": "code",
   "metadata": {
    "cell_id": "e76f01fb-c8c8-450f-a967-0c743bb3e73f",
    "tags": [],
    "deepnote_to_be_reexecuted": false,
    "source_hash": "317f84d",
    "execution_start": 1644895306098,
    "execution_millis": 33,
    "deepnote_output_heights": [
     21.1875
    ],
    "deepnote_cell_type": "code"
   },
   "source": "abort_reset_to_open",
   "outputs": [
    {
     "output_type": "execute_result",
     "execution_count": 226,
     "data": {
      "text/plain": "[true, true, true]"
     },
     "metadata": {}
    }
   ],
   "execution_count": null
  },
  {
   "cell_type": "code",
   "source": "puts Task.where(status:\"abort\").order(:id).map {|x| [x.runner] }",
   "metadata": {
    "cell_id": "1cfe1426-46e1-4ff0-be5c-cef46922b7c4",
    "tags": [],
    "deepnote_to_be_reexecuted": false,
    "source_hash": "85c5ad8f",
    "execution_start": 1644899472142,
    "execution_millis": 5,
    "deepnote_output_heights": [
     21.1875
    ],
    "deepnote_cell_type": "code"
   },
   "outputs": [
    {
     "name": "stdout",
     "text": "worker\nworker\nworker2\nworker\nworker\nworker\nworker2\nworker\nworker\n",
     "output_type": "stream"
    }
   ],
   "execution_count": 54
  },
  {
   "cell_type": "code",
   "source": "puts Task.where(status:\"abort\").order(:id).map {|x| [x.name,x.runner,x.output] }",
   "metadata": {
    "cell_id": "014664af-4690-44a4-80d7-b6213efd929e",
    "tags": [],
    "deepnote_to_be_reexecuted": false,
    "source_hash": "370d8895",
    "execution_start": 1644899473940,
    "execution_millis": 6,
    "deepnote_output_heights": [
     21.1875
    ],
    "deepnote_cell_type": "code"
   },
   "outputs": [
    {
     "name": "stdout",
     "text": "update cache - Block.count\nworker\n2022-02-15 04:30:58 +0000 runner worker take task 2871 : update cache - Block.count\n2022-02-15 04:30:58 +0000 == begin run ==\nException Class: NameError\nException Message: undefined local variable or method `__PARAMS__CONNECT_STR__' for #<Task::Runner:0x000055943c3d7108>\nException Backtrace:\n/panworker/task.rb:53:in `_run'\n/panworker/task.rb:44:in `eval'\n/panworker/task.rb:44:in `_run'\n/panworker/task.rb:53:in `run'\n/panworker/task.rb:71:in `block in run_loop'\n/panworker/task.rb:69:in `loop'\n/panworker/task.rb:69:in `run_loop'\npanworker.rb:7:in `<main>'\n2022-02-15 04:30:58 +0000 == abort run ==\nupdate cache - Tx.count\nworker\n2022-02-15 04:31:00 +0000 runner worker take task 2872 : update cache - Tx.count\n2022-02-15 04:31:00 +0000 == begin run ==\nException Class: NameError\nException Message: undefined local variable or method `__PARAMS__CONNECT_STR__' for #<Task::Runner:0x00007f077483d100>\nException Backtrace:\n/panworker/task.rb:53:in `_run'\n/panworker/task.rb:44:in `eval'\n/panworker/task.rb:44:in `_run'\n/panworker/task.rb:53:in `run'\n/panworker/task.rb:71:in `block in run_loop'\n/panworker/task.rb:69:in `loop'\n/panworker/task.rb:69:in `run_loop'\npanworker.rb:7:in `<main>'\n2022-02-15 04:31:00 +0000 == abort run ==\nupdate cache - Event.count\nworker2\n2022-02-15 04:31:00 +0000 runner worker2 take task 2873 : update cache - Event.count\n2022-02-15 04:31:00 +0000 == begin run ==\nException Class: NameError\nException Message: undefined local variable or method `__PARAMS__CONNECT_STR__' for #<Task::Runner:0x00007f501046f750>\nException Backtrace:\n/panworker/task.rb:53:in `_run'\n/panworker/task.rb:44:in `eval'\n/panworker/task.rb:44:in `_run'\n/panworker/task.rb:53:in `run'\n/panworker/task.rb:71:in `block in run_loop'\n/panworker/task.rb:69:in `loop'\n/panworker/task.rb:69:in `run_loop'\npanworker.rb:7:in `<main>'\n2022-02-15 04:31:00 +0000 == abort run ==\nupdate cache - Epoch.count\nworker\n2022-02-15 04:31:03 +0000 runner worker take task 2874 : update cache - Epoch.count\n2022-02-15 04:31:03 +0000 == begin run ==\nException Class: NameError\nException Message: undefined local variable or method `__PARAMS__CONNECT_STR__' for #<Task::Runner:0x000055943c39a118>\nException Backtrace:\n/panworker/task.rb:53:in `_run'\n/panworker/task.rb:44:in `eval'\n/panworker/task.rb:44:in `_run'\n/panworker/task.rb:53:in `run'\n/panworker/task.rb:71:in `block in run_loop'\n/panworker/task.rb:69:in `loop'\n/panworker/task.rb:69:in `run_loop'\npanworker.rb:7:in `<main>'\n2022-02-15 04:31:03 +0000 == abort run ==\nupdate cache - EpochDetail.count\nworker\n2022-02-15 04:31:03 +0000 runner worker take task 2875 : update cache - EpochDetail.count\n2022-02-15 04:31:03 +0000 == begin run ==\nException Class: NameError\nException Message: undefined local variable or method `__PARAMS__CONNECT_STR__' for #<Task::Runner:0x000055ec1887da48>\nException Backtrace:\n/panworker/task.rb:53:in `_run'\n/panworker/task.rb:44:in `eval'\n/panworker/task.rb:44:in `_run'\n/panworker/task.rb:53:in `run'\n/panworker/task.rb:71:in `block in run_loop'\n/panworker/task.rb:69:in `loop'\n/panworker/task.rb:69:in `run_loop'\npanworker.rb:7:in `<main>'\n2022-02-15 04:31:03 +0000 == abort run ==\nupdate cache - Address.count\nworker\n2022-02-15 04:31:04 +0000 runner worker take task 2876 : update cache - Address.count\n2022-02-15 04:31:04 +0000 == begin run ==\nException Class: NameError\nException Message: undefined local variable or method `__PARAMS__CONNECT_STR__' for #<Task::Runner:0x00007f0778fb7800>\nException Backtrace:\n/panworker/task.rb:53:in `_run'\n/panworker/task.rb:44:in `eval'\n/panworker/task.rb:44:in `_run'\n/panworker/task.rb:53:in `run'\n/panworker/task.rb:71:in `block in run_loop'\n/panworker/task.rb:69:in `loop'\n/panworker/task.rb:69:in `run_loop'\npanworker.rb:7:in `<main>'\n2022-02-15 04:31:04 +0000 == abort run ==\nupdate cache - Transfer.count\nworker2\n2022-02-15 04:31:04 +0000 runner worker2 take task 2877 : update cache - Transfer.count\n2022-02-15 04:31:04 +0000 == begin run ==\nException Class: NameError\nException Message: undefined local variable or method `__PARAMS__CONNECT_STR__' for #<Task::Runner:0x00007f4ff8ba45b0>\nException Backtrace:\n/panworker/task.rb:53:in `_run'\n/panworker/task.rb:44:in `eval'\n/panworker/task.rb:44:in `_run'\n/panworker/task.rb:53:in `run'\n/panworker/task.rb:71:in `block in run_loop'\n/panworker/task.rb:69:in `loop'\n/panworker/task.rb:69:in `run_loop'\npanworker.rb:7:in `<main>'\n2022-02-15 04:31:04 +0000 == abort run ==\nupdate cache - Transfer.top_transaction\nworker\n2022-02-15 04:31:05 +0000 runner worker take task 2878 : update cache - Transfer.top_transaction\n2022-02-15 04:31:05 +0000 == begin run ==\nException Class: NameError\nException Message: undefined local variable or method `__PARAMS__CONNECT_STR__' for #<Task::Runner:0x000055ec19b1b150>\nException Backtrace:\n/panworker/task.rb:53:in `_run'\n/panworker/task.rb:44:in `eval'\n/panworker/task.rb:44:in `_run'\n/panworker/task.rb:53:in `run'\n/panworker/task.rb:71:in `block in run_loop'\n/panworker/task.rb:69:in `loop'\n/panworker/task.rb:69:in `run_loop'\npanworker.rb:7:in `<main>'\n2022-02-15 04:31:05 +0000 == abort run ==\nupdate cache - Transfer.top_transfer\nworker\n2022-02-15 04:31:06 +0000 runner worker take task 2879 : update cache - Transfer.top_transfer\n2022-02-15 04:31:06 +0000 == begin run ==\nException Class: NameError\nException Message: undefined local variable or method `__PARAMS__CONNECT_STR__' for #<Task::Runner:0x000055943c34b4a0>\nException Backtrace:\n/panworker/task.rb:53:in `_run'\n/panworker/task.rb:44:in `eval'\n/panworker/task.rb:44:in `_run'\n/panworker/task.rb:53:in `run'\n/panworker/task.rb:71:in `block in run_loop'\n/panworker/task.rb:69:in `loop'\n/panworker/task.rb:69:in `run_loop'\npanworker.rb:7:in `<main>'\n2022-02-15 04:31:06 +0000 == abort run ==\n",
     "output_type": "stream"
    }
   ],
   "execution_count": 55
  },
  {
   "cell_type": "code",
   "source": "puts Task.where(status:\"close\").last.output",
   "metadata": {
    "cell_id": "eeb88549-4f95-41ef-b30d-6fd429834782",
    "tags": [],
    "deepnote_to_be_reexecuted": false,
    "source_hash": "a7f36015",
    "execution_start": 1644897809198,
    "execution_millis": 3,
    "deepnote_output_heights": [
     21.1875
    ],
    "deepnote_cell_type": "code"
   },
   "outputs": [
    {
     "name": "stdout",
     "text": "2022-02-15 04:03:14 +0000 runner worker take task 2831 : calc_bot_stats 1800 - 1900\n2022-02-15 04:03:14 +0000 == begin run ==\n2022-02-15 04:03:28 +0000 == end run ==\n",
     "output_type": "stream"
    }
   ],
   "execution_count": 38
  },
  {
   "cell_type": "code",
   "source": "",
   "metadata": {
    "cell_id": "3980e9a8-73ef-46e1-9142-12c2b68031b8",
    "tags": [],
    "deepnote_cell_type": "code"
   },
   "outputs": [],
   "execution_count": null
  },
  {
   "cell_type": "markdown",
   "source": "<a style='text-decoration:none;line-height:16px;display:flex;color:#5B5B62;padding:10px;justify-content:end;' href='https://deepnote.com?utm_source=created-in-deepnote-cell&projectId=ebde59c2-d67b-4e31-ad3b-1bdd07014691' target=\"_blank\">\n<img alt='Created in deepnote.com' style='display:inline;max-height:16px;margin:0px;margin-right:7.5px;' src='data:image/svg+xml;base64,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' > </img>\nCreated in <span style='font-weight:600;margin-left:4px;'>Deepnote</span></a>",
   "metadata": {
    "tags": [],
    "created_in_deepnote_cell": true,
    "deepnote_cell_type": "markdown"
   }
  }
 ],
 "nbformat": 4,
 "nbformat_minor": 2,
 "metadata": {
  "orig_nbformat": 2,
  "deepnote": {
   "is_reactive": false
  },
  "deepnote_notebook_id": "b5ab4f0e-8171-4983-b83b-c6ba91eedcc7",
  "deepnote_execution_queue": []
 }
}