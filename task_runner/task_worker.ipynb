{
 "cells": [
  {
   "cell_type": "code",
   "metadata": {
    "tags": [],
    "cell_id": "0fb41afa-04d5-4d09-acbc-d7fcddf2b6e3",
    "deepnote_to_be_reexecuted": false,
    "source_hash": "c1c06a2b",
    "execution_start": 1644885548658,
    "execution_millis": 1190,
    "deepnote_cell_type": "code"
   },
   "source": "# load init moudle file\n\n$data_import = true\nload \"/work/pannote/panbot_note.rb\"\nnil",
   "execution_count": null,
   "outputs": []
  },
  {
   "cell_type": "code",
   "metadata": {
    "cell_id": "f99ee83e-461f-4e06-92f0-e9c13a2352d7",
    "tags": [],
    "deepnote_to_be_reexecuted": false,
    "source_hash": "c2631550",
    "execution_start": 1644885549850,
    "execution_millis": 10871039,
    "deepnote_cell_type": "code"
   },
   "source": "node_name = \"deepnote-runner-#{rand(99)}\"\nTask.run_loop(node_name)",
   "execution_count": null,
   "outputs": [
    {
     "name": "stdout",
     "text": "time 2.206793429 s\n== data import transfer - start ==\n2022-02-15 00:39:12 +0000 blocks: 14970000\ntime 3.993556275 s\n== data import transfer - start ==\n2022-02-15 00:48:20 +0000 blocks: 15100000\ntime 2.327608599 s\n== data import transfer - start ==\n2022-02-15 00:48:29 +0000 blocks: 15140000\ntime 4.783200812 s\n== data import transfer - start ==\n2022-02-15 00:56:54 +0000 blocks: 15210000\ntime 30.82740356 s\n== data import transfer - start ==\n2022-02-15 02:15:29 +0000 blocks: 14990000\ntime 3.470190416 s\n== data import transfer - start ==\n2022-02-15 02:17:13 +0000 blocks: 15060000\ntime 13.479129546 s\n== data import transfer - start ==\n2022-02-15 02:24:40 +0000 blocks: 15090000\ntime 2.406323447 s\n== data import transfer - start ==\n2022-02-15 02:29:29 +0000 blocks: 15130000\ntime 23.059140312 s\n== data import transfer - start ==\n2022-02-15 02:39:38 +0000 blocks: 15200000\ntime 29.347845635 s\n== data import transfer - start ==\n2022-02-15 02:47:07 +0000 blocks: 15210000\ntime 3.594369951 s\n== data import transfer - start ==\n2022-02-15 02:48:48 +0000 blocks: 15220000\ntime 2.343389992 s\n== data import transfer - start ==\n2022-02-15 02:51:19 +0000 blocks: 15250000\ntime 2.710319513 s\n== data import transfer - start ==\n2022-02-15 02:54:10 +0000 blocks: 14990000\ntime 22.751799093 s\n== data import transfer - start ==\n2022-02-15 02:58:09 +0000 blocks: 15100000\ntime 3.189165472 s\n== data import transfer - start ==\n2022-02-15 03:12:50 +0000 blocks: 15210000\ntime 3.544019567 s\n== data import transfer - start ==\n2022-02-15 03:20:11 +0000 blocks: 15240000\ntime 2.9472603 s\n== data import transfer - start ==\n2022-02-15 03:20:29 +0000 blocks: 15260000\n== data import transfer - end ==\ntime 216.833192022 s\n",
     "output_type": "stream"
    },
    {
     "output_type": "error",
     "ename": "Interrupt",
     "evalue": "",
     "traceback": [
      "\u001b[31mInterrupt\u001b[0m: ",
      "/task.rb:72:in `sleep'",
      "/task.rb:72:in `block in run_loop'",
      "/task.rb:69:in `loop'",
      "/task.rb:69:in `run_loop'",
      "(irb):1:in `irb_binding'"
     ]
    }
   ]
  },
  {
   "cell_type": "code",
   "metadata": {
    "cell_id": "f5877d14-77fd-41b5-a71b-6f31679d0201",
    "tags": [],
    "deepnote_cell_type": "code"
   },
   "source": "",
   "execution_count": null,
   "outputs": []
  },
  {
   "cell_type": "markdown",
   "source": "<a style='text-decoration:none;line-height:16px;display:flex;color:#5B5B62;padding:10px;justify-content:end;' href='https://deepnote.com?utm_source=created-in-deepnote-cell&projectId=ebde59c2-d67b-4e31-ad3b-1bdd07014691' target=\"_blank\">\n<img alt='Created in deepnote.com' style='display:inline;max-height:16px;margin:0px;margin-right:7.5px;' src='data:image/svg+xml;base64,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' > </img>\nCreated in <span style='font-weight:600;margin-left:4px;'>Deepnote</span></a>",
   "metadata": {
    "tags": [],
    "created_in_deepnote_cell": true,
    "deepnote_cell_type": "markdown"
   }
  }
 ],
 "nbformat": 4,
 "nbformat_minor": 2,
 "metadata": {
  "orig_nbformat": 2,
  "deepnote": {
   "is_reactive": false
  },
  "deepnote_notebook_id": "7997f65d-f64b-444b-9e1f-af7d6a54f63f",
  "deepnote_execution_queue": []
 }
}