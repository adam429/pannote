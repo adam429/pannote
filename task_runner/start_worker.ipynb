{
 "cells": [
  {
   "cell_type": "code",
   "metadata": {
    "cell_id": "2ce1fc23-b7d2-430b-a321-d865257a40e0",
    "deepnote_output_heights": [
     21.1875
    ],
    "deepnote_cell_type": "code"
   },
   "source": "workers = 10\n\nworker = (1..workers).map {|x| \"panworker-#{x}\"}",
   "outputs": [
    {
     "data": {
      "text/plain": "[\"panworker-6\", \"panworker-7\", \"panworker-8\", \"panworker-9\", \"panworker-10\"]"
     },
     "execution_count": 36,
     "metadata": {},
     "output_type": "execute_result"
    }
   ],
   "execution_count": null
  },
  {
   "cell_type": "code",
   "metadata": {
    "cell_id": "00001-f8880ae2-38aa-4aef-87da-f28e44dca99b",
    "deepnote_cell_type": "code"
   },
   "source": "create_worker = \"aws lightsail create-instances --instance-names {#{worker.map{|x| \"'#{x}'\"}.join(',')}} --availability-zone 'ap-southeast-1a' --blueprint-id 'ubuntu_20_04' --bundle-id 'medium_2_0'\"\nputs create_worker\nsystem(create_worker)",
   "outputs": [
    {
     "name": "stdout",
     "output_type": "stream",
     "text": "aws lightsail create-instances --instance-names {'panworker-1','panworker-2','panworker-3','panworker-4','panworker-5'} --availability-zone 'ap-southeast-1a' --blueprint-id 'ubuntu_20_04' --bundle-id 'medium_2_0'\n"
    }
   ],
   "execution_count": null
  },
  {
   "cell_type": "code",
   "metadata": {
    "cell_id": "00002-640258cd-ef3f-4032-8453-feee971928bf",
    "deepnote_cell_type": "code"
   },
   "source": "get_public_ip = \"aws lightsail get-instances --region 'ap-southeast-1' --query 'instances[].{name:name,publicIpAddress:publicIpAddress}'\"\nputs get_public_ip\nsystem(get_public_ip)",
   "outputs": [
    {
     "name": "stdout",
     "output_type": "stream",
     "text": "aws lightsail get-instances --region 'ap-southeast-1' --query 'instances[].{name:name,publicIpAddress:publicIpAddress}'\n"
    }
   ],
   "execution_count": null
  },
  {
   "cell_type": "code",
   "metadata": {
    "cell_id": "00003-4cec2274-dcd3-4593-8cdd-0b397f364c55",
    "deepnote_output_heights": [
     21.1875
    ],
    "deepnote_cell_type": "code"
   },
   "source": "public_ips = JSON.parse('''\n\n[\n    {\n        \"name\": \"panworker-3\",\n        \"publicIpAddress\": \"54.169.245.225\"\n    },\n    {\n        \"name\": \"panworker-2\",\n        \"publicIpAddress\": \"54.169.2.13\"\n    },\n    {\n        \"name\": \"panworker-7\",\n        \"publicIpAddress\": \"13.212.208.128\"\n    },\n    {\n        \"name\": \"panworker-4\",\n        \"publicIpAddress\": \"13.212.211.5\"\n    },\n    {\n        \"name\": \"panworker-5\",\n        \"publicIpAddress\": \"13.229.217.135\"\n    },\n    {\n        \"name\": \"panworker-6\",\n        \"publicIpAddress\": \"13.229.53.237\"\n    },\n    {\n        \"name\": \"panworker-9\",\n        \"publicIpAddress\": \"13.229.111.153\"\n    },\n    {\n        \"name\": \"panworker-8\",\n        \"publicIpAddress\": \"54.255.213.21\"\n    },\n    {\n        \"name\": \"Develop\",\n        \"publicIpAddress\": \"13.250.244.138\"\n    },\n    {\n        \"name\": \"panworker-1\",\n        \"publicIpAddress\": \"13.229.51.103\"\n    },\n    {\n        \"name\": \"panworker-10\",\n        \"publicIpAddress\": \"54.179.119.166\"\n    },\n    {\n        \"name\": \"panana\",\n        \"publicIpAddress\": \"18.139.158.81\"\n    }\n]    \n\n''').map {|x| [x[\"name\"],x[\"publicIpAddress\"]]}.to_h",
   "outputs": [
    {
     "data": {
      "text/plain": "{\"panworker-3\"=>\"54.169.245.225\", \"panworker-2\"=>\"54.169.2.13\", \"panworker-7\"=>\"13.212.208.128\", \"panworker-4\"=>\"13.212.211.5\", \"panworker-5\"=>\"13.229.217.135\", \"panworker-6\"=>\"13.229.53.237\", \"panworker-9\"=>\"13.229.111.153\", \"panworker-8\"=>\"54.255.213.21\", \"Develop\"=>\"13.250.244.138\", \"panworker-1\"=>\"13.229.51.103\", \"panworker-10\"=>\"54.179.119.166\", \"panana\"=>\"18.139.158.81\"}"
     },
     "execution_count": 37,
     "metadata": {},
     "output_type": "execute_result"
    }
   ],
   "execution_count": null
  },
  {
   "cell_type": "code",
   "metadata": {
    "cell_id": "00004-f4ceff92-34f6-4bd9-912e-bffa44c45b76",
    "deepnote_output_heights": [
     21.1875
    ],
    "deepnote_cell_type": "code"
   },
   "source": "def run_cmd(ip,cmd)\n  puts \"====begin cmd #{time=Time.now} @#{ip}====\"\n  system(\"ssh -i ~/.ssh/LightsailDefaultKey-ap-southeast-1.pem -o 'StrictHostKeyChecking no' ubuntu@#{ip} '#{cmd}'\")\n  puts \"====end cmd #{Time.now} @#{ip} time #{Time.now-time} s====\"\nend\n\n\n\nrequire 'parallel'\n\ndef worker_run(worker,public_ips,cmd)\n  puts \"====worker_run begin cmd #{time=Time.now}====\"\n  Parallel.map(worker,in_threads: 5) { |w| run_cmd(public_ips[w],cmd) }\n  puts \"====worker_run end cmd #{Time.now} time #{Time.now-time} s====\"\nend\n\ndef worker_run_script(worker,public_ips,script)\n  cmd = script.split(\"\\n\")\n  cmd.map {|c|\n    worker_run(worker,public_ips,c)\n  }\nend",
   "outputs": [
    {
     "data": {
      "text/plain": ":worker_run_script"
     },
     "execution_count": 35,
     "metadata": {},
     "output_type": "execute_result"
    }
   ],
   "execution_count": null
  },
  {
   "cell_type": "code",
   "metadata": {
    "cell_id": "00005-13febe67-f11b-4f0b-9cb5-fbbe841c205e",
    "deepnote_output_heights": [
     21.1875
    ],
    "deepnote_cell_type": "code"
   },
   "source": "script = <<~CODE\nsudo apt-get update\nsudo apt-get install -y ca-certificates curl gnupg lsb-release\ncurl -fsSL https://download.docker.com/linux/ubuntu/gpg | sudo gpg --dearmor -o /usr/share/keyrings/docker-archive-keyring.gpg\necho \"deb [arch=$(dpkg --print-architecture) signed-by=/usr/share/keyrings/docker-archive-keyring.gpg] https://download.docker.com/linux/ubuntu $(lsb_release -cs) stable\" | sudo tee /etc/apt/sources.list.d/docker.list > /dev/null\nsudo apt-get update\nsudo apt-get install -y docker-ce docker-ce-cli containerd.io\nsudo usermod -aG docker $USER\nnewgrp docker \nsudo systemctl enable docker.service\nsudo systemctl enable containerd.service\nCODE\n",
   "outputs": [
    {
     "data": {
      "text/plain": "[\"sudo apt-get update\"]"
     },
     "execution_count": 34,
     "metadata": {},
     "output_type": "execute_result"
    }
   ],
   "execution_count": null
  },
  {
   "cell_type": "code",
   "metadata": {
    "cell_id": "00006-04fbe538-c62c-43e0-8469-3ba8280eeea6",
    "deepnote_cell_type": "code"
   },
   "source": "worker_run_script(worker,public_ips,script)\nworker_run_script(worker,public_ips,\"docker run hello-world\")\n\nscript = <<~CODE\ndocker container run -d -p 80:8888 --restart=always --name panana adam429/pan-repo:panana\ndocker logs panana >& panana.log\nCODE\nworker_run_script(worker,public_ips,script)\n\ncmd = \"cat panana.log\"\noutput = Parallel.map(worker,in_threads: 5) { |w| \n  output = [w,`#{\"ssh -i ~/.ssh/LightsailDefaultKey-ap-southeast-1.pem -o 'StrictHostKeyChecking no' ubuntu@#{public_ips[w]} '#{cmd}'\"}`]\n}\n\noutput.map {|x| \n  x[1].match /token=(.+)\\n/\n  \n  \"http://#{public_ips[x[0]]}/?token=#{$1}\"\n}\n",
   "execution_count": null,
   "outputs": []
  },
  {
   "cell_type": "markdown",
   "source": "<a style='text-decoration:none;line-height:16px;display:flex;color:#5B5B62;padding:10px;justify-content:end;' href='https://deepnote.com?utm_source=created-in-deepnote-cell&projectId=ebde59c2-d67b-4e31-ad3b-1bdd07014691' target=\"_blank\">\n<img alt='Created in deepnote.com' style='display:inline;max-height:16px;margin:0px;margin-right:7.5px;' src='data:image/svg+xml;base64,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' > </img>\nCreated in <span style='font-weight:600;margin-left:4px;'>Deepnote</span></a>",
   "metadata": {
    "tags": [],
    "created_in_deepnote_cell": true,
    "deepnote_cell_type": "markdown"
   }
  }
 ],
 "nbformat": 4,
 "nbformat_minor": 5,
 "metadata": {
  "kernelspec": {
   "display_name": "Ruby 2.7.5",
   "language": "ruby",
   "name": "ruby"
  },
  "language_info": {
   "file_extension": ".rb",
   "mimetype": "application/x-ruby",
   "name": "ruby",
   "version": "2.7.5"
  },
  "deepnote_notebook_id": "3ba9208f-c8a5-414a-99bf-cf6f9362446d",
  "deepnote": {},
  "deepnote_execution_queue": []
 }
}