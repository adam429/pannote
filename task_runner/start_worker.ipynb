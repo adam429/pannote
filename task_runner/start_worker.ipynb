{
 "cells": [
  {
   "cell_type": "code",
   "source": "def run_cmd(ip,cmd)\n  puts \"====begin cmd #{time=Time.now} @#{ip}====\"\n  system(\"ssh -i ~/.ssh/LightsailDefaultKey-us-east-1.pem -o 'StrictHostKeyChecking no' ubuntu@#{ip} '#{cmd}'\")\n  puts \"====end cmd #{Time.now} @#{ip} time #{Time.now-time} s====\"\nend\n\nrequire 'parallel'\n\ndef worker_run(worker,public_ips,cmd)\n  puts \"====worker_run begin cmd #{time=Time.now}====\"\n  Parallel.map(worker,in_threads: 10) { |w| run_cmd(public_ips[w],cmd) }\n  puts \"====worker_run end cmd #{Time.now} time #{Time.now-time} s====\"\nend\n\ndef worker_run_script(worker,public_ips,script)\n  cmd = script.split(\"\\n\")\n  cmd.map {|c|\n    worker_run(worker,public_ips,c)\n  }\nend\n\nworkers = 10\n\nworker = (1..workers).map {|x| \"panworker-#{x}\"}\n\ncreate_worker = \"aws lightsail create-instances --no-cli-pager --instance-names {#{worker.map{|x| \"'#{x}'\"}.join(',')}} --availability-zone 'us-east-1a' --blueprint-id 'ubuntu_20_04' --bundle-id 'medium_2_0'\"\nputs create_worker\nsystem(create_worker)",
   "metadata": {
    "cell_id": "0255d03f-9851-4673-9f24-597dd29720c4",
    "tags": [],
    "deepnote_to_be_reexecuted": false,
    "source_hash": "bc13e780",
    "execution_start": 1644855262187,
    "execution_millis": 2,
    "deepnote_output_heights": [
     null,
     21.1875
    ],
    "deepnote_cell_type": "code"
   },
   "outputs": [
    {
     "name": "stdout",
     "text": "aws lightsail create-instances --no-cli-pager --instance-names {'panworker-1','panworker-2','panworker-3','panworker-4','panworker-5','panworker-6','panworker-7','panworker-8','panworker-9','panworker-10'} --availability-zone 'us-east-1a' --blueprint-id 'ubuntu_20_04' --bundle-id 'medium_2_0'\n",
     "output_type": "stream"
    },
    {
     "output_type": "execute_result",
     "execution_count": 4,
     "data": {
      "text/plain": "false"
     },
     "metadata": {}
    }
   ],
   "execution_count": 4
  },
  {
   "cell_type": "code",
   "source": "require 'JSON'\n\nget_public_ip = \"aws lightsail get-instances --no-cli-pager --region 'us-east-1' --query 'instances[].{name:name,publicIpAddress:publicIpAddress}'\"\nputs get_public_ip\ndata = `#{get_public_ip}`\npublic_ips = JSON.parse(data).map {|x| [x[\"name\"],x[\"publicIpAddress\"]]}.to_h",
   "metadata": {
    "cell_id": "caeb90ea-95e5-4915-bd8c-7be4fcae4e50",
    "tags": [],
    "deepnote_cell_type": "code"
   },
   "outputs": [],
   "execution_count": null
  },
  {
   "cell_type": "code",
   "source": "script = <<~CODE\nsudo apt-get update\nsudo apt-get install -y ca-certificates curl gnupg lsb-release\ncurl -fsSL https://download.docker.com/linux/ubuntu/gpg | sudo gpg --dearmor -o /usr/share/keyrings/docker-archive-keyring.gpg\necho \"deb [arch=$(dpkg --print-architecture) signed-by=/usr/share/keyrings/docker-archive-keyring.gpg] https://download.docker.com/linux/ubuntu $(lsb_release -cs) stable\" | sudo tee /etc/apt/sources.list.d/docker.list > /dev/null\nsudo apt-get update\nsudo apt-get install -y docker-ce docker-ce-cli containerd.io\nsudo usermod -aG docker $USER\nnewgrp docker \nsudo systemctl enable docker.service\nsudo systemctl enable containerd.service\nCODE\n\nworker_run_script(worker,public_ips,script)\nworker_run_script(worker,public_ips,\"docker run hello-world\")\n",
   "metadata": {
    "cell_id": "6bca9f61-6547-4ba5-a885-740b0ce9928a",
    "tags": [],
    "deepnote_cell_type": "code"
   },
   "outputs": [],
   "execution_count": null
  },
  {
   "cell_type": "code",
   "source": "script = <<~CODE\ndocker container run -d --restart=always -e DB_CONNECT_STR='__PARAMS_CONNECT_STR__' -e WORKER_NAME='__WORKER__' --name panana adam429/pan-repo:panana\ndocker logs panana >& panana.log\nCODE\n\n\nworker_run_script(worker,public_ips,script)\n\ncmd = \"cat panana.log\"\noutput = Parallel.map(worker,in_threads: 10) { |w| \n  script = script.gsub(/__WORKER__/,w)\n                  .gsub(/__PARAMS_CONNECT_STR__/,'\"'+ENV[\"DB_CONNECT_STR\"]+'\"')\n\n  # output = [w,`#{\"ssh -i ~/.ssh/LightsailDefaultKey-us-east-1.pem -o 'StrictHostKeyChecking no' ubuntu@#{public_ips[w]} '#{cmd}'\"}`]\n}\n\n# output.map {|x| \n#   x[1].match /token=(.+)\\n/\n  \n#   \"http://#{public_ips[x[0]]}/?token=#{$1}\"\n# }\n",
   "metadata": {
    "cell_id": "3bc97f58-02c5-4075-bda7-d19c811709d8",
    "tags": [],
    "deepnote_cell_type": "code"
   },
   "outputs": [],
   "execution_count": null
  },
  {
   "cell_type": "code",
   "source": "# delete workers\n\nParallel.map(worker,in_threads: 10) { |w| \n  delete_worker = \"aws lightsail delete-instance --no-cli-pager --instance-name #{w}\" \n  puts delete_worker\n  system(delete_worker)\n}\n",
   "metadata": {
    "cell_id": "35e0b762-41cb-446c-ba5f-61ff78b47c6d",
    "tags": [],
    "deepnote_cell_type": "code"
   },
   "outputs": [],
   "execution_count": null
  },
  {
   "cell_type": "markdown",
   "source": "<a style='text-decoration:none;line-height:16px;display:flex;color:#5B5B62;padding:10px;justify-content:end;' href='https://deepnote.com?utm_source=created-in-deepnote-cell&projectId=ebde59c2-d67b-4e31-ad3b-1bdd07014691' target=\"_blank\">\n<img alt='Created in deepnote.com' style='display:inline;max-height:16px;margin:0px;margin-right:7.5px;' src='data:image/svg+xml;base64,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' > </img>\nCreated in <span style='font-weight:600;margin-left:4px;'>Deepnote</span></a>",
   "metadata": {
    "tags": [],
    "created_in_deepnote_cell": true,
    "deepnote_cell_type": "markdown"
   }
  }
 ],
 "nbformat": 4,
 "nbformat_minor": 5,
 "metadata": {
  "kernelspec": {
   "display_name": "Ruby 2.7.5",
   "language": "ruby",
   "name": "ruby"
  },
  "language_info": {
   "file_extension": ".rb",
   "mimetype": "application/x-ruby",
   "name": "ruby",
   "version": "2.7.5"
  },
  "deepnote_notebook_id": "3ba9208f-c8a5-414a-99bf-cf6f9362446d",
  "deepnote": {},
  "deepnote_execution_queue": []
 }
}