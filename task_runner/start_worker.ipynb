{
 "cells": [
  {
   "cell_type": "code",
   "metadata": {
    "cell_id": "0255d03f-9851-4673-9f24-597dd29720c4",
    "tags": [],
    "deepnote_to_be_reexecuted": false,
    "source_hash": "b6568d73",
    "execution_start": 1645488231448,
    "execution_millis": 623,
    "deepnote_output_heights": [
     null,
     21.1875
    ],
    "deepnote_cell_type": "code"
   },
   "source": "def run_cmd(ip,cmd)\n  puts \"====begin cmd #{time=Time.now} @#{ip}====\"\n  cmd = \"ssh -i ~/.ssh/LightsailDefaultKey-us-east-1.pem -o 'StrictHostKeyChecking no' ubuntu@#{ip} '#{cmd}'\"\n  puts cmd\n  system(cmd)\n  puts \"====end cmd #{Time.now} @#{ip} time #{Time.now-time} s====\"\nend\n\nrequire 'parallel'\n\ndef worker_run(worker,public_ips,cmd)\n  puts \"====worker_run begin cmd #{time=Time.now}====\"\n  Parallel.map(worker,in_threads: 10) { |w| run_cmd(public_ips[w],cmd) }\n  puts \"====worker_run end cmd #{Time.now} time #{Time.now-time} s====\"\nend\n\ndef worker_run_script(worker,public_ips,script)\n  cmd = script.split(\"\\n\")\n  cmd.map {|c|\n    worker_run(worker,public_ips,c)\n  }\nend\n\n",
   "execution_count": null,
   "outputs": [
    {
     "name": "stdout",
     "text": "aws lightsail create-instances --no-cli-pager --instance-names {'panworker-1'} --availability-zone 'us-east-1a' --blueprint-id 'ubuntu_20_04' --bundle-id 'medium_2_0'\n",
     "output_type": "stream"
    },
    {
     "output_type": "execute_result",
     "execution_count": 1,
     "data": {
      "text/plain": "false"
     },
     "metadata": {}
    }
   ]
  },
  {
   "cell_type": "code",
   "source": "workers = 1\n\nworker = (1..workers).map {|x| \"panworker-#{x}\"}\n\nif worker.size>1 then\n  create_worker = \"aws lightsail create-instances --no-cli-pager --instance-names {#{worker.map{|x| \"'#{x}'\"}.join(',')}} --availability-zone 'us-east-1a' --blueprint-id 'ubuntu_20_04' --bundle-id 'medium_2_0'\"\nelse\n  create_worker = \"aws lightsail create-instances --no-cli-pager --instance-names #{worker.map{|x| \"'#{x}'\"}.join(',')} --availability-zone 'us-east-1a' --blueprint-id 'ubuntu_20_04' --bundle-id 'medium_2_0'\"\nend\nputs create_worker\nsystem(create_worker)",
   "metadata": {
    "cell_id": "b2f5246d-cfa8-4509-ad92-96c683b68ca0",
    "tags": [],
    "deepnote_cell_type": "code"
   },
   "outputs": [],
   "execution_count": null
  },
  {
   "cell_type": "code",
   "metadata": {
    "cell_id": "caeb90ea-95e5-4915-bd8c-7be4fcae4e50",
    "tags": [],
    "deepnote_cell_type": "code"
   },
   "source": "require 'JSON'\n\nget_public_ip = \"aws lightsail get-instances --no-cli-pager --region 'us-east-1' --query 'instances[].{name:name,publicIpAddress:publicIpAddress}'\"\nputs get_public_ip\ndata = `#{get_public_ip}`\npublic_ips = JSON.parse(data).map {|x| [x[\"name\"],x[\"publicIpAddress\"]]}.to_h",
   "execution_count": null,
   "outputs": []
  },
  {
   "cell_type": "code",
   "metadata": {
    "cell_id": "6bca9f61-6547-4ba5-a885-740b0ce9928a",
    "tags": [],
    "deepnote_cell_type": "code"
   },
   "source": "script = <<~CODE\nsudo apt-get update\nsudo apt-get install -y ca-certificates curl gnupg lsb-release\ncurl -fsSL https://download.docker.com/linux/ubuntu/gpg | sudo gpg --dearmor -o /usr/share/keyrings/docker-archive-keyring.gpg\necho \"deb [arch=$(dpkg --print-architecture) signed-by=/usr/share/keyrings/docker-archive-keyring.gpg] https://download.docker.com/linux/ubuntu $(lsb_release -cs) stable\" | sudo tee /etc/apt/sources.list.d/docker.list > /dev/null\nsudo apt-get update\nsudo apt-get install -y docker-ce docker-ce-cli containerd.io\nsudo usermod -aG docker $USER\nnewgrp docker \nsudo systemctl enable docker.service\nsudo systemctl enable containerd.service\nCODE\n\nworker_run_script(worker,public_ips,script)\nworker_run_script(worker,public_ips,\"docker run hello-world\")\n",
   "execution_count": null,
   "outputs": []
  },
  {
   "cell_type": "code",
   "metadata": {
    "cell_id": "3bc97f58-02c5-4075-bda7-d19c811709d8",
    "tags": [],
    "deepnote_cell_type": "code"
   },
   "source": "script = <<~CODE\ndocker container run -d --restart=always -e DB_CONNECT_STR='__PARAMS_CONNECT_STR__' -e WORKER_NAME='__WORKER__' --name __WORKER__  adam429/pan-repo:panworker\nCODE\n\nrequire 'securerandom'\n\noutput = Parallel.map(worker,in_threads: 1) { |w| \n  script_a = script.gsub(/__WORKER__/,\"#{w}_#{SecureRandom.hex(2)}\").gsub(/__PARAMS_CONNECT_STR__/,+ENV[\"DB_CONNECT_STR\"])\n  worker_run_script([w],public_ips,script_a)\n\n  script_a = script.gsub(/__WORKER__/,\"#{w}_#{SecureRandom.hex(2)}\").gsub(/__PARAMS_CONNECT_STR__/,+ENV[\"DB_CONNECT_STR\"])\n  worker_run_script([w],public_ips,script_a)\n}\n\n",
   "execution_count": null,
   "outputs": []
  },
  {
   "cell_type": "code",
   "metadata": {
    "cell_id": "35e0b762-41cb-446c-ba5f-61ff78b47c6d",
    "tags": [],
    "deepnote_cell_type": "code"
   },
   "source": "# delete workers\n\nParallel.map(worker,in_threads: 10) { |w| \n  delete_worker = \"aws lightsail delete-instance --no-cli-pager --instance-name #{w}\" \n  puts delete_worker\n  system(delete_worker)\n}\n",
   "execution_count": null,
   "outputs": []
  },
  {
   "cell_type": "markdown",
   "source": "<a style='text-decoration:none;line-height:16px;display:flex;color:#5B5B62;padding:10px;justify-content:end;' href='https://deepnote.com?utm_source=created-in-deepnote-cell&projectId=ebde59c2-d67b-4e31-ad3b-1bdd07014691' target=\"_blank\">\n<img alt='Created in deepnote.com' style='display:inline;max-height:16px;margin:0px;margin-right:7.5px;' src='data:image/svg+xml;base64,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' > </img>\nCreated in <span style='font-weight:600;margin-left:4px;'>Deepnote</span></a>",
   "metadata": {
    "tags": [],
    "created_in_deepnote_cell": true,
    "deepnote_cell_type": "markdown"
   }
  }
 ],
 "nbformat": 4,
 "nbformat_minor": 5,
 "metadata": {
  "kernelspec": {
   "display_name": "Ruby 2.7.5",
   "language": "ruby",
   "name": "ruby"
  },
  "language_info": {
   "file_extension": ".rb",
   "mimetype": "application/x-ruby",
   "name": "ruby",
   "version": "2.7.5"
  },
  "deepnote_notebook_id": "3ba9208f-c8a5-414a-99bf-cf6f9362446d",
  "deepnote": {},
  "deepnote_execution_queue": []
 }
}