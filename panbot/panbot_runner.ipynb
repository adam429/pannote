{
 "cells": [
  {
   "cell_type": "code",
   "metadata": {
    "tags": [],
    "cell_id": "8e327e0b-fe05-4b42-aa55-142c8a8f271e",
    "deepnote_to_be_reexecuted": false,
    "source_hash": "b4ea4bca",
    "execution_start": 1645198097113,
    "execution_millis": 371,
    "deepnote_output_heights": [
     21.1875
    ],
    "deepnote_cell_height": 640.140625,
    "deepnote_cell_type": "code"
   },
   "source": "load \"/work/pannote/panbot_note.rb\"\nload \"/work/panbot/panbot.rb\"\n\nclass PayoutBot < PanBot\n    attr_accessor :config\n    \n    def mainLoop\n        if isLastBetable then\n            log \"#{getCurrentEpoch} #{getCurrentBlock} #{isLastBetable} #{getCurrentPayout} #{getCurrentAmount}\"\n            payout_bull, payout_bear = getCurrentPayout\n            amount = getCurrentAmount\n\n            if [payout_bull, payout_bear].max > @config[:min_payout] and amount >  @config[:min_amount] then\n                log \"make bet\"\n                betBull(self,getCurrentAmount * @config[:bet_amount_factor] + @config[:bet_amount_value]) if payout_bull > payout_bear\n                betBear(self,getCurrentAmount * @config[:bet_amount_factor] + @config[:bet_amount_value]) if payout_bull < payout_bear\n            else\n                log \"do not bet\"\n            end\n        end\n    end\n\n    def initialize(runner, config={})\n        @config = config\n\n        super(runner)\n    end \nend\n\n",
   "execution_count": null,
   "outputs": [
    {
     "output_type": "execute_result",
     "execution_count": 49,
     "data": {
      "text/plain": ":initialize"
     },
     "metadata": {}
    }
   ]
  },
  {
   "cell_type": "code",
   "metadata": {
    "cell_id": "2778f0eb-680f-4720-a91f-3da00a61dda5",
    "deepnote_variable_name": "min_amount",
    "deepnote_variable_value": "20",
    "deepnote_cell_height": 79.171875,
    "deepnote_to_be_reexecuted": false,
    "source_hash": "8865abdd",
    "execution_start": 1645197683814,
    "execution_millis": 0,
    "deepnote_cell_type": "input-text"
   },
   "source": "min_amount = '20'",
   "execution_count": null,
   "outputs": [
    {
     "output_type": "execute_result",
     "execution_count": 28,
     "data": {
      "text/plain": "\"20\""
     },
     "metadata": {}
    }
   ]
  },
  {
   "cell_type": "code",
   "metadata": {
    "cell_id": "ab5e1111-6791-45cc-8139-79ac55b0f282",
    "deepnote_variable_name": "min_payout",
    "deepnote_variable_value": "2.1",
    "deepnote_cell_height": 79.171875,
    "deepnote_to_be_reexecuted": false,
    "source_hash": "f614e169",
    "execution_start": 1645197683999,
    "execution_millis": 1,
    "deepnote_cell_type": "input-text"
   },
   "source": "min_payout = '2.1'",
   "execution_count": null,
   "outputs": [
    {
     "output_type": "execute_result",
     "execution_count": 29,
     "data": {
      "text/plain": "\"2.1\""
     },
     "metadata": {}
    }
   ]
  },
  {
   "cell_type": "code",
   "metadata": {
    "cell_id": "cb968cdc-bbf3-45de-a466-38aa88cb3541",
    "deepnote_variable_name": "bet_amount_factor",
    "deepnote_variable_value": "0",
    "deepnote_cell_height": 79.171875,
    "deepnote_to_be_reexecuted": false,
    "source_hash": "1aa83386",
    "execution_start": 1645197684197,
    "execution_millis": 3,
    "deepnote_cell_type": "input-text"
   },
   "source": "bet_amount_factor = '0'",
   "execution_count": null,
   "outputs": [
    {
     "output_type": "execute_result",
     "execution_count": 30,
     "data": {
      "text/plain": "\"0\""
     },
     "metadata": {}
    }
   ]
  },
  {
   "cell_type": "code",
   "metadata": {
    "cell_id": "97e8b846-145b-4c48-9c02-09a67b2dadde",
    "deepnote_variable_name": "bet_amount_value",
    "deepnote_variable_value": "0.1",
    "deepnote_cell_height": 79.171875,
    "deepnote_to_be_reexecuted": false,
    "source_hash": "cb4b8255",
    "execution_start": 1645197684344,
    "execution_millis": 1,
    "deepnote_cell_type": "input-text"
   },
   "source": "bet_amount_value = '0.1'",
   "execution_count": null,
   "outputs": [
    {
     "output_type": "execute_result",
     "execution_count": 31,
     "data": {
      "text/plain": "\"0.1\""
     },
     "metadata": {}
    }
   ]
  },
  {
   "cell_type": "code",
   "metadata": {
    "cell_id": "921433f6-92e7-4fb2-a4d0-5a05e3bd71da",
    "deepnote_variable_name": "epoch_begin",
    "deepnote_variable_value": "32630",
    "deepnote_cell_height": 79.171875,
    "deepnote_to_be_reexecuted": false,
    "source_hash": "a7c6d104",
    "execution_start": 1645197684475,
    "execution_millis": 360,
    "deepnote_cell_type": "input-text"
   },
   "source": "epoch_begin = '32630'",
   "execution_count": null,
   "outputs": [
    {
     "output_type": "execute_result",
     "execution_count": 32,
     "data": {
      "text/plain": "\"32630\""
     },
     "metadata": {}
    }
   ]
  },
  {
   "cell_type": "code",
   "metadata": {
    "cell_id": "7dbaef4e-2ae9-4843-ba59-9ba3a0fe8e33",
    "deepnote_variable_name": "epoch_end",
    "deepnote_variable_value": "41293",
    "deepnote_cell_height": 79.171875,
    "deepnote_to_be_reexecuted": false,
    "source_hash": "a2dc73e0",
    "execution_start": 1645197685302,
    "execution_millis": 1,
    "deepnote_cell_type": "input-text"
   },
   "source": "epoch_end = '41293'",
   "execution_count": null,
   "outputs": [
    {
     "output_type": "execute_result",
     "execution_count": 33,
     "data": {
      "text/plain": "\"41293\""
     },
     "metadata": {}
    }
   ]
  },
  {
   "cell_type": "code",
   "metadata": {
    "cell_id": "2e56e556-2bc1-4437-a825-73bbb84a1a1c",
    "tags": [],
    "deepnote_to_be_reexecuted": false,
    "source_hash": "862544be",
    "execution_start": 1645201354851,
    "execution_millis": 176,
    "deepnote_output_heights": [
     78.8125,
     606.453125
    ],
    "deepnote_cell_height": 345.59375,
    "deepnote_cell_type": "code"
   },
   "source": "epoch_begin = 32930\nepoch_end = 32940\n\nconfig = {:min_amount => min_amount.to_f, :min_payout=>min_payout.to_f, :bet_amount_factor=>bet_amount_factor.to_f, :bet_amount_value=>bet_amount_value.to_f}\n\ntime = Time.now()\n\nrunner = SimulationRunner.new()\nrunner.time_at_epoch(epoch_begin.to_i,epoch_end.to_i)\n\nbot = PayoutBot.new(runner,config)\nrunner.run\n\nputs \"#{Time.now()-time} s\"",
   "execution_count": null,
   "outputs": [
    {
     "name": "stdout",
     "text": "0.202670876 s\n",
     "output_type": "stream"
    }
   ]
  },
  {
   "cell_type": "code",
   "metadata": {
    "cell_id": "9c58b3cb-3baa-478d-8e25-be7a7c3476c5",
    "tags": [],
    "deepnote_cell_height": 766.140625,
    "deepnote_to_be_reexecuted": false,
    "source_hash": "eafec96e",
    "execution_start": 1645201659370,
    "execution_millis": 11,
    "deepnote_output_heights": [
     21.1875,
     98.015625
    ],
    "deepnote_cell_type": "code"
   },
   "source": "# calc bot stats\n\n\nbot.bet_result = bot.bet_result.map { |x| \n    x[:right_bet] = (x[:bet]==(  x[:bull_payout] > x[:bear_payout]  ? \"bull\" : \"bear\"  )) ? 1 : 0\n    x[:win_bet] = (x[:bet]==x[:bet_result]) ? 1 : 0\n    x\n}\n\nbot.bet_result = bot.bet_result.map { |x| \n    x[:return_amt] = -1*x[:amount] + ( x[:win_bet]==1 ? (x[:amount] * ( x[\"#{x[:bet_result]}_payout\".to_sym] or 0 ) ) : 0 ) if x[:bet]!=\"\"\n    x\n}\n\ninvest_cnt = bet_cnt = bet_epoch = bot.bet_result.filter {|x| x[:bet]!=\"\"}.count\nall_epoch = epoch_end-epoch_begin+1\nbet_ratio = bet_epoch/all_epoch.to_f\nbet_bull_cnt = bot.bet_result.filter {|x| x[:bet]==\"bull\"}.count\nbet_bull_ratio = bet_bull_cnt/bet_epoch.to_f\n\navg_bet_amt = bot.bet_result.filter {|x| x[:bet]!=\"\"}.map {|x| x[:amount]}.sum / bet_epoch.to_f\navg_last_block_order = bot.bet_result.filter {|x| x[:bet]!=\"\"}.map {|x| x[:bet_block_order]}.sum / bet_epoch.to_f\n\nright_bet_ratio = bot.bet_result.filter {|x| x[:bet]!=\"\"}.map {|x| x[:right_bet]}.sum / bet_epoch.to_f\nwin_bet_ratio = bot.bet_result.filter {|x| x[:bet]!=\"\"}.map {|x| x[:win_bet]}.sum / bet_epoch.to_f\n\ninvest_amt = bot.bet_result.filter {|x| x[:bet]!=\"\"}.map {|x| x[:amount]}.sum\nreturn_amt = bot.bet_result.filter {|x| x[:bet]!=\"\"}.map {|x| x[:return_amt]}.sum\nreturn_flow = return_amt / all_epoch.to_f\n\nmax_retrace = 0\nrunning_return = 0\nbot.bet_result.filter {|x| x[:bet]!=\"\"}.map {|x| x[:return_amt]}.each do |x|\n    running_return = running_return + x\n    max_retrace = running_return if running_return<max_retrace\nend\n",
   "execution_count": null,
   "outputs": [
    {
     "output_type": "execute_result",
     "execution_count": 154,
     "data": {
      "text/plain": "0.07509219414904891"
     },
     "metadata": {}
    }
   ]
  },
  {
   "cell_type": "code",
   "metadata": {
    "cell_id": "dcc07d08-4136-45c0-bcfd-eaeeb8bc2cf9",
    "tags": [],
    "deepnote_to_be_reexecuted": false,
    "source_hash": "ec481497",
    "execution_start": 1645196585817,
    "execution_millis": 1,
    "deepnote_cell_height": 260.953125,
    "deepnote_cell_type": "code"
   },
   "source": "# puts bot.bet_result\n# puts runner.logs.join(\"\\n\")\n\n# todo\n# 模拟\n# Payout策略的\n# - 模拟的收益统计，出status\n# Fellow策略\n# - EpochBet.All- 列出目前为止所有bet\n# 模拟的统计，多次随机模拟\n# 实盘的runner",
   "execution_count": null,
   "outputs": []
  },
  {
   "cell_type": "code",
   "metadata": {
    "cell_id": "e0fea0c1-16e3-4556-b397-503a56c00951",
    "tags": [],
    "deepnote_cell_height": 118.140625,
    "deepnote_to_be_reexecuted": false,
    "source_hash": "b3002054",
    "execution_start": 1645201473280,
    "execution_millis": 5483,
    "deepnote_output_heights": [
     21.1875
    ],
    "deepnote_cell_type": "code"
   },
   "source": "return_flow",
   "execution_count": null,
   "outputs": [
    {
     "output_type": "execute_result",
     "execution_count": 150,
     "data": {
      "text/plain": "0.006826563104458992"
     },
     "metadata": {}
    }
   ]
  },
  {
   "cell_type": "code",
   "metadata": {
    "cell_id": "a1ee9248-98ac-4191-85be-c0e451e1b74f",
    "tags": [],
    "deepnote_cell_height": 312.734375,
    "deepnote_to_be_reexecuted": false,
    "source_hash": "c7b7bfc6",
    "execution_start": 1645201360862,
    "execution_millis": 7,
    "deepnote_output_heights": [
     21.1875
    ],
    "deepnote_cell_type": "code"
   },
   "source": "puts bot.bet_result.join(\"\\n\")",
   "execution_count": null,
   "outputs": [
    {
     "name": "stdout",
     "text": "{:epoch=>32930, :bet=>\"bear\", :amount=>0.1, :bet_block_order=>1, :bull_payout=>1.8885949036595615, :bear_payout=>2.125372198154222, :bull_amount=>17.154216214955788, :bear_amount=>15.243149104883928, :bet_result=>\"bear\", :right_bet=>1, :win_bet=>1, :return_amt=>0.1125372198154222}\n{:epoch=>32931, :bet=>\"bear\", :amount=>0.1, :bet_block_order=>1, :bull_payout=>1.9708340777625444, :bear_payout=>2.030042128624773, :bull_amount=>20.628265395107622, :bear_amount=>20.02662301070032, :bet_result=>\"bull\", :right_bet=>1, :win_bet=>0, :return_amt=>-0.1}\n{:epoch=>32932, :bet=>\"bull\", :amount=>0.1, :bet_block_order=>1, :bull_payout=>2.107348311698147, :bear_payout=>1.903058224260508, :bull_amount=>11.889141986183027, :bear_amount=>13.165421305939326, :bet_result=>\"bull\", :right_bet=>1, :win_bet=>1, :return_amt=>0.1107348311698147}\n{:epoch=>32933, :bet=>\"bear\", :amount=>0.1, :bet_block_order=>1, :bull_payout=>1.6425903258386487, :bear_payout=>2.556201454939263, :bull_amount=>18.683992081959687, :bear_amount=>12.006152559913208, :bet_result=>\"bull\", :right_bet=>1, :win_bet=>0, :return_amt=>-0.1}\n{:epoch=>32934, :bet=>\"\", :amount=>nil, :bet_block_order=>nil, :bull_payout=>1.6986207207747888, :bear_payout=>2.4313918414715405, :bull_amount=>15.50951875352443, :bear_amount=>10.835271170457343, :bet_result=>\"bear\", :right_bet=>0, :win_bet=>0}\n{:epoch=>32935, :bet=>\"bear\", :amount=>0.1, :bet_block_order=>1, :bull_payout=>1.6929624955323888, :bear_payout=>2.4430795410243964, :bull_amount=>19.24071961020937, :bear_amount=>13.333097076929658, :bet_result=>\"bull\", :right_bet=>1, :win_bet=>0, :return_amt=>-0.1}\n{:epoch=>32936, :bet=>\"bull\", :amount=>0.1, :bet_block_order=>1, :bull_payout=>2.4333390256467227, :bear_payout=>1.6976716478844214, :bull_amount=>12.04305752214901, :bear_amount=>17.261784334604496, :bet_result=>\"bear\", :right_bet=>1, :win_bet=>0, :return_amt=>-0.1}\n{:epoch=>32937, :bet=>\"\", :amount=>nil, :bet_block_order=>nil, :bull_payout=>2.2696666387312705, :bear_payout=>1.7876083134697958, :bull_amount=>11.988457015393328, :bear_amount=>15.221343922308762, :bet_result=>\"bull\", :right_bet=>0, :win_bet=>0}\n{:epoch=>32938, :bet=>\"bull\", :amount=>0.1, :bet_block_order=>1, :bull_payout=>2.4345320423670955, :bear_payout=>1.697091435022893, :bull_amount=>11.374941027291252, :bear_amount=>16.317717383685387, :bet_result=>\"bull\", :right_bet=>1, :win_bet=>1, :return_amt=>0.14345320423670957}\n{:epoch=>32939, :bet=>\"\", :amount=>nil, :bet_block_order=>nil, :bull_payout=>1.6343872688731136, :bear_payout=>2.5763241935424364, :bull_amount=>17.032639644924085, :bear_amount=>10.805289746043313, :bet_result=>\"bear\", :right_bet=>0, :win_bet=>0}\n{:epoch=>32940, :bet=>\"bear\", :amount=>0.1, :bet_block_order=>1, :bull_payout=>1.9227906683538338, :bear_payout=>2.0836693892710247, :bull_amount=>17.175587226272683, :bear_amount=>15.849471615901743, :bet_result=>\"bear\", :right_bet=>1, :win_bet=>1, :return_amt=>0.10836693892710247}\n",
     "output_type": "stream"
    }
   ]
  },
  {
   "cell_type": "code",
   "metadata": {
    "cell_id": "dc5cbbcf-17ab-4807-8922-0b88cdfc5864",
    "tags": [],
    "deepnote_cell_height": 65.953125,
    "deepnote_cell_type": "code"
   },
   "source": "",
   "execution_count": null,
   "outputs": []
  },
  {
   "cell_type": "markdown",
   "source": "<a style='text-decoration:none;line-height:16px;display:flex;color:#5B5B62;padding:10px;justify-content:end;' href='https://deepnote.com?utm_source=created-in-deepnote-cell&projectId=ebde59c2-d67b-4e31-ad3b-1bdd07014691' target=\"_blank\">\n<img alt='Created in deepnote.com' style='display:inline;max-height:16px;margin:0px;margin-right:7.5px;' src='data:image/svg+xml;base64,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' > </img>\nCreated in <span style='font-weight:600;margin-left:4px;'>Deepnote</span></a>",
   "metadata": {
    "tags": [],
    "created_in_deepnote_cell": true,
    "deepnote_cell_type": "markdown"
   }
  }
 ],
 "nbformat": 4,
 "nbformat_minor": 2,
 "metadata": {
  "orig_nbformat": 2,
  "deepnote": {
   "is_reactive": false
  },
  "deepnote_notebook_id": "1a040fd3-4f6a-4eb4-b40d-06b70ab6d375",
  "deepnote_execution_queue": []
 }
}