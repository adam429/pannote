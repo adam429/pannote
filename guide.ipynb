{
 "cells": [
  {
   "cell_type": "markdown",
   "source": "初始化系统的加载库，用这个代码\n\n```\n# load init moudle file\n\nload \"/work/pannote/panbot_note.rb\"\nnil\n````",
   "metadata": {
    "cell_id": "7d518946-db30-4788-b1f5-9e07c062607c",
    "tags": [],
    "deepnote_cell_type": "markdown"
   }
  },
  {
   "cell_type": "code",
   "metadata": {
    "cell_id": "82e4e4b0-a867-41b3-bddd-f2361426b436",
    "tags": [],
    "deepnote_to_be_reexecuted": false,
    "source_hash": "e23933e5",
    "execution_start": 1644761259242,
    "execution_millis": 2815,
    "deepnote_cell_type": "code"
   },
   "source": "# load init moudle file\n\nload \"/work/pannote/panbot_note.rb\"\nnil",
   "execution_count": null,
   "outputs": []
  },
  {
   "cell_type": "markdown",
   "source": "# Ruby语言基础\n\nRuby是一种动态语言，对初学者非常友好",
   "metadata": {
    "cell_id": "11d15bff-09d7-4a47-beea-2881af3abaa4",
    "tags": [],
    "deepnote_cell_type": "markdown"
   }
  },
  {
   "cell_type": "code",
   "metadata": {
    "cell_id": "69f1d31a-e25a-4c01-a92c-a2f4f46f929d",
    "tags": [],
    "deepnote_to_be_reexecuted": false,
    "source_hash": "2d6487bb",
    "execution_start": 1644761384924,
    "deepnote_output_heights": [
     21.1875
    ],
    "execution_millis": 1,
    "deepnote_cell_type": "code"
   },
   "source": "int_value = 1  # 变量",
   "execution_count": null,
   "outputs": [
    {
     "output_type": "execute_result",
     "execution_count": 4,
     "data": {
      "text/plain": "1"
     },
     "metadata": {}
    }
   ]
  },
  {
   "cell_type": "code",
   "metadata": {
    "cell_id": "8d337f4d-f692-4d16-956e-b75d715bce66",
    "tags": [],
    "deepnote_to_be_reexecuted": false,
    "source_hash": "663d1fee",
    "execution_start": 1644761399491,
    "execution_millis": 7,
    "deepnote_output_heights": [
     21
    ],
    "deepnote_cell_type": "code"
   },
   "source": "str_value = \"hello\"  # 变量",
   "execution_count": null,
   "outputs": [
    {
     "output_type": "execute_result",
     "execution_count": 5,
     "data": {
      "text/plain": "\"hello\""
     },
     "metadata": {}
    }
   ]
  },
  {
   "cell_type": "code",
   "metadata": {
    "cell_id": "fed8615e-bc0b-4e81-845d-e2ff5bfc228f",
    "tags": [],
    "deepnote_to_be_reexecuted": false,
    "source_hash": "7c3ee50a",
    "execution_start": 1644761414557,
    "deepnote_cell_type": "code"
   },
   "source": "#打印\n\nputs int_value\nputs str_value",
   "execution_count": null,
   "outputs": [
    {
     "name": "stdout",
     "text": "1\nhello\n",
     "output_type": "stream"
    }
   ]
  },
  {
   "cell_type": "code",
   "metadata": {
    "cell_id": "8533bd6e-b5b1-480a-9485-cb1af73d3752",
    "tags": [],
    "deepnote_to_be_reexecuted": false,
    "source_hash": "28178388",
    "execution_start": 1644761471107,
    "execution_millis": 5002,
    "deepnote_cell_type": "code"
   },
   "source": "# 字符串\n\nputs \"1 + 2 = #{1+1+1}\"\nputs \"the int_value = #{int_value} \"",
   "execution_count": null,
   "outputs": [
    {
     "name": "stdout",
     "text": "1 + 2 = 3\nthe int_value = 1 \n",
     "output_type": "stream"
    }
   ]
  },
  {
   "cell_type": "code",
   "metadata": {
    "cell_id": "17cbe7da-056c-4d77-aa67-733cb8c5d9b1",
    "tags": [],
    "deepnote_to_be_reexecuted": false,
    "source_hash": "7ce74260",
    "execution_start": 1644761797335,
    "execution_millis": 7,
    "deepnote_cell_type": "code"
   },
   "source": "# 条件判断\n\npanbot_status = true\n\nif panbot_status then\n  puts \"status = true\"\nelse\n  puts \"others\"\nend",
   "execution_count": null,
   "outputs": [
    {
     "name": "stdout",
     "text": "status = true\n",
     "output_type": "stream"
    }
   ]
  },
  {
   "cell_type": "code",
   "metadata": {
    "cell_id": "8c28c084-9158-4103-9e64-b8ae512098a3",
    "tags": [],
    "deepnote_to_be_reexecuted": false,
    "source_hash": "a1a86859",
    "execution_start": 1644762101747,
    "execution_millis": 121869,
    "deepnote_output_heights": [
     null,
     21.1875
    ],
    "deepnote_cell_type": "code"
   },
   "source": "# 数组 和 哈希\n\narr = [1,2,3,4,5]\narr = arr.map do |x|\n  x+1\nend\n\nputs arr.join(\",\") # [2,3,4,5,6]\narr.push (6)\nputs arr.join(\",\") # [2,3,4,5,6,6]\n\nputs \"arr.szie = #{arr.size}\" # 6\n",
   "execution_count": null,
   "outputs": [
    {
     "name": "stdout",
     "text": "2,3,4,5,6\n2,3,4,5,6,6\narr.szie = 6\n",
     "output_type": "stream"
    }
   ]
  },
  {
   "cell_type": "code",
   "metadata": {
    "cell_id": "562ac3c7-1d71-4184-8f4a-b681905f705a",
    "tags": [],
    "deepnote_to_be_reexecuted": false,
    "source_hash": "4256cdc3",
    "execution_start": 1644762364311,
    "execution_millis": 17007,
    "deepnote_output_heights": [
     null,
     21.1875
    ],
    "deepnote_cell_type": "code"
   },
   "source": "hash = {\"beijing\"=>\"010\", \"shanghai\"=>\"021\"}\n\nputs hash[\"beijing\"] # 010\nputs hash[\"shenzhen\"] # nil\nputs hash[\"shenzhen\"]=\"0755\"\nputs hash[\"shenzhen\"] # 0755\n",
   "execution_count": null,
   "outputs": [
    {
     "name": "stdout",
     "text": "010\n\n0755\n0755\n",
     "output_type": "stream"
    }
   ]
  },
  {
   "cell_type": "code",
   "metadata": {
    "cell_id": "a37ae275-e019-43a9-9b69-6e7ee2fd1a32",
    "tags": [],
    "deepnote_to_be_reexecuted": false,
    "source_hash": "efa349ad",
    "execution_start": 1644762364900,
    "deepnote_output_heights": [
     21
    ],
    "execution_millis": 126973,
    "deepnote_cell_type": "code"
   },
   "source": "# 定义函数\n\ndef add(a,b)\n  return a+b\nend\n\nadd(3,5)",
   "execution_count": null,
   "outputs": [
    {
     "output_type": "execute_result",
     "execution_count": 38,
     "data": {
      "text/plain": "8"
     },
     "metadata": {}
    }
   ]
  },
  {
   "cell_type": "markdown",
   "source": "# 数据库\n\n数据入库在数据库中，可以容易查询",
   "metadata": {
    "cell_id": "50adeb26-6c18-4324-9b2d-1afb66314347",
    "tags": [],
    "deepnote_cell_type": "markdown"
   }
  },
  {
   "cell_type": "markdown",
   "source": "### 地址\n\n通过地址获取： Address.find_by_addr(\"0x3e5126c8dd68db20246e51bc31cb087a28003d2e\")\n",
   "metadata": {
    "cell_id": "b2aece5c-411b-4c43-bd0e-f5d0bf47cd2e",
    "tags": [],
    "deepnote_cell_type": "markdown"
   }
  },
  {
   "cell_type": "code",
   "metadata": {
    "cell_id": "e6000421-03e0-4762-ba72-ac255a73d176",
    "tags": [],
    "deepnote_to_be_reexecuted": false,
    "source_hash": "fe90c339",
    "execution_start": 1644762546666,
    "execution_millis": 15,
    "deepnote_output_heights": [
     21.1875
    ],
    "deepnote_cell_type": "code"
   },
   "source": "addr = Address.find_by_addr(\"0x3e5126c8dd68db20246e51bc31cb087a28003d2e\")\n\nputs addr.stats",
   "execution_count": null,
   "outputs": [
    {
     "name": "stdout",
     "text": "=== stats ===\nbet epoch: 1704 / all_epoch: 18183 = bet_ratio: 9.37%\n\ninvest_cnt: 1603 / bet_cnt: 1724 = bet_success_rate: 92.98%\n\nbet_bull_cnt: 762 / bet_cnt: 1724 = bet_bull_ratio: 44.2%\n\navg_bet_amt: 3.9516\nbet_amt_percentile 25%: 1.16 | 50%: 2.6| 75%: 5.6174\n\navg_last_block_order: 18.35\nright_bet_ratio: 26.04%\nwin_bet_ratio: 53.89%\n\ninvest_cnt: 1603 invest_amt: 6334.3732 return_amt: 154.8721\ntotal_roi: 2.44% \n",
     "output_type": "stream"
    }
   ]
  },
  {
   "cell_type": "code",
   "metadata": {
    "cell_id": "0de9db3f-2e22-4136-9cad-cca20fb8f248",
    "tags": [],
    "deepnote_cell_type": "code"
   },
   "source": "",
   "execution_count": null,
   "outputs": []
  },
  {
   "cell_type": "markdown",
   "source": "<a style='text-decoration:none;line-height:16px;display:flex;color:#5B5B62;padding:10px;justify-content:end;' href='https://deepnote.com?utm_source=created-in-deepnote-cell&projectId=ebde59c2-d67b-4e31-ad3b-1bdd07014691' target=\"_blank\">\n<img alt='Created in deepnote.com' style='display:inline;max-height:16px;margin:0px;margin-right:7.5px;' src='data:image/svg+xml;base64,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' > </img>\nCreated in <span style='font-weight:600;margin-left:4px;'>Deepnote</span></a>",
   "metadata": {
    "tags": [],
    "created_in_deepnote_cell": true,
    "deepnote_cell_type": "markdown"
   }
  }
 ],
 "nbformat": 4,
 "nbformat_minor": 2,
 "metadata": {
  "orig_nbformat": 2,
  "deepnote": {
   "is_reactive": false
  },
  "deepnote_notebook_id": "442a355b-4b57-4845-86a9-5a18b464ff06",
  "deepnote_execution_queue": []
 }
}