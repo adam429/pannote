{
 "cells": [
  {
   "cell_type": "markdown",
   "source": "初始化系统的加载库，用这个代码\n\n```\n# load init moudle file\n\nload \"/work/pannote/panbot_note.rb\"\nnil\n````",
   "metadata": {
    "cell_id": "7d518946-db30-4788-b1f5-9e07c062607c",
    "tags": [],
    "deepnote_cell_type": "markdown",
    "deepnote_cell_height": 169.59375
   }
  },
  {
   "cell_type": "code",
   "metadata": {
    "cell_id": "82e4e4b0-a867-41b3-bddd-f2361426b436",
    "tags": [],
    "deepnote_to_be_reexecuted": false,
    "source_hash": "e23933e5",
    "execution_start": 1647167811815,
    "execution_millis": 1221,
    "deepnote_cell_type": "code",
    "deepnote_cell_height": 135
   },
   "source": "# load init moudle file\n\nload \"/work/pannote/panbot_note.rb\"\nnil",
   "execution_count": null,
   "outputs": []
  },
  {
   "cell_type": "markdown",
   "source": "# Ruby语言基础\n\nRuby是一种动态语言，对初学者非常友好",
   "metadata": {
    "cell_id": "11d15bff-09d7-4a47-beea-2881af3abaa4",
    "tags": [],
    "deepnote_cell_type": "markdown",
    "deepnote_cell_height": 120.390625
   }
  },
  {
   "cell_type": "code",
   "metadata": {
    "cell_id": "69f1d31a-e25a-4c01-a92c-a2f4f46f929d",
    "tags": [],
    "deepnote_to_be_reexecuted": false,
    "source_hash": "2d6487bb",
    "execution_start": 1644761384924,
    "execution_millis": 1,
    "deepnote_cell_type": "code",
    "deepnote_cell_height": 118.1875,
    "deepnote_output_heights": [
     21.1875
    ]
   },
   "source": "int_value = 1  # 变量",
   "execution_count": null,
   "outputs": [
    {
     "output_type": "execute_result",
     "execution_count": 4,
     "data": {
      "text/plain": "1"
     },
     "metadata": {}
    }
   ]
  },
  {
   "cell_type": "code",
   "metadata": {
    "cell_id": "8d337f4d-f692-4d16-956e-b75d715bce66",
    "tags": [],
    "deepnote_to_be_reexecuted": false,
    "source_hash": "663d1fee",
    "execution_start": 1644761399491,
    "execution_millis": 7,
    "deepnote_cell_type": "code",
    "deepnote_cell_height": 118.1875,
    "deepnote_output_heights": [
     21.1875
    ]
   },
   "source": "str_value = \"hello\"  # 变量",
   "execution_count": null,
   "outputs": [
    {
     "output_type": "execute_result",
     "execution_count": 5,
     "data": {
      "text/plain": "\"hello\""
     },
     "metadata": {}
    }
   ]
  },
  {
   "cell_type": "code",
   "metadata": {
    "cell_id": "fed8615e-bc0b-4e81-845d-e2ff5bfc228f",
    "tags": [],
    "deepnote_to_be_reexecuted": false,
    "source_hash": "7c3ee50a",
    "execution_start": 1644761414557,
    "deepnote_cell_type": "code",
    "deepnote_cell_height": 185.390625
   },
   "source": "#打印\n\nputs int_value\nputs str_value",
   "execution_count": null,
   "outputs": [
    {
     "name": "stdout",
     "text": "1\nhello\n",
     "output_type": "stream"
    }
   ]
  },
  {
   "cell_type": "code",
   "metadata": {
    "cell_id": "8533bd6e-b5b1-480a-9485-cb1af73d3752",
    "tags": [],
    "deepnote_to_be_reexecuted": false,
    "source_hash": "28178388",
    "execution_start": 1644761471107,
    "execution_millis": 5002,
    "deepnote_cell_type": "code",
    "deepnote_cell_height": 185.390625
   },
   "source": "# 字符串\n\nputs \"1 + 2 = #{1+1+1}\"\nputs \"the int_value = #{int_value} \"",
   "execution_count": null,
   "outputs": [
    {
     "name": "stdout",
     "text": "1 + 2 = 3\nthe int_value = 1 \n",
     "output_type": "stream"
    }
   ]
  },
  {
   "cell_type": "code",
   "metadata": {
    "cell_id": "17cbe7da-056c-4d77-aa67-733cb8c5d9b1",
    "tags": [],
    "deepnote_to_be_reexecuted": false,
    "source_hash": "7ce74260",
    "execution_start": 1644761797335,
    "execution_millis": 7,
    "deepnote_cell_type": "code",
    "deepnote_cell_height": 255.6875
   },
   "source": "# 条件判断\n\npanbot_status = true\n\nif panbot_status then\n  puts \"status = true\"\nelse\n  puts \"others\"\nend",
   "execution_count": null,
   "outputs": [
    {
     "name": "stdout",
     "text": "status = true\n",
     "output_type": "stream"
    }
   ]
  },
  {
   "cell_type": "code",
   "metadata": {
    "cell_id": "8c28c084-9158-4103-9e64-b8ae512098a3",
    "tags": [],
    "deepnote_to_be_reexecuted": false,
    "source_hash": "a1a86859",
    "execution_start": 1644762101747,
    "execution_millis": 121869,
    "deepnote_cell_type": "code",
    "deepnote_cell_height": 367.078125
   },
   "source": "# 数组 和 哈希\n\narr = [1,2,3,4,5]\narr = arr.map do |x|\n  x+1\nend\n\nputs arr.join(\",\") # [2,3,4,5,6]\narr.push (6)\nputs arr.join(\",\") # [2,3,4,5,6,6]\n\nputs \"arr.szie = #{arr.size}\" # 6\n",
   "execution_count": null,
   "outputs": [
    {
     "name": "stdout",
     "text": "2,3,4,5,6\n2,3,4,5,6,6\narr.szie = 6\n",
     "output_type": "stream"
    }
   ]
  },
  {
   "cell_type": "code",
   "metadata": {
    "cell_id": "562ac3c7-1d71-4184-8f4a-b681905f705a",
    "tags": [],
    "deepnote_to_be_reexecuted": false,
    "source_hash": "4256cdc3",
    "execution_start": 1644762364311,
    "execution_millis": 17007,
    "deepnote_cell_type": "code",
    "deepnote_cell_height": 278.78125
   },
   "source": "hash = {\"beijing\"=>\"010\", \"shanghai\"=>\"021\"}\n\nputs hash[\"beijing\"] # 010\nputs hash[\"shenzhen\"] # nil\nputs hash[\"shenzhen\"]=\"0755\"\nputs hash[\"shenzhen\"] # 0755\n",
   "execution_count": null,
   "outputs": [
    {
     "name": "stdout",
     "text": "010\n\n0755\n0755\n",
     "output_type": "stream"
    }
   ]
  },
  {
   "cell_type": "code",
   "metadata": {
    "cell_id": "a37ae275-e019-43a9-9b69-6e7ee2fd1a32",
    "tags": [],
    "deepnote_to_be_reexecuted": false,
    "source_hash": "efa349ad",
    "execution_start": 1644762364900,
    "execution_millis": 126973,
    "deepnote_cell_type": "code",
    "deepnote_cell_height": 226.1875,
    "deepnote_output_heights": [
     21.1875
    ]
   },
   "source": "# 定义函数\n\ndef add(a,b)\n  return a+b\nend\n\nadd(3,5)",
   "execution_count": null,
   "outputs": [
    {
     "output_type": "execute_result",
     "execution_count": 38,
     "data": {
      "text/plain": "8"
     },
     "metadata": {}
    }
   ]
  },
  {
   "cell_type": "markdown",
   "source": "# 数据库\n\n数据入库在数据库中，可以容易查询",
   "metadata": {
    "cell_id": "50adeb26-6c18-4324-9b2d-1afb66314347",
    "tags": [],
    "deepnote_cell_type": "markdown",
    "deepnote_cell_height": 120.390625
   }
  },
  {
   "cell_type": "markdown",
   "source": "### 地址\n\n通过地址获取： Address.find_by_addr(\"0x3e5126c8dd68db20246e51bc31cb087a28003d2e\")\n",
   "metadata": {
    "cell_id": "b2aece5c-411b-4c43-bd0e-f5d0bf47cd2e",
    "tags": [],
    "deepnote_cell_type": "markdown",
    "deepnote_cell_height": 122.796875
   }
  },
  {
   "cell_type": "code",
   "metadata": {
    "cell_id": "e6000421-03e0-4762-ba72-ac255a73d176",
    "tags": [],
    "deepnote_to_be_reexecuted": false,
    "source_hash": "fe90c339",
    "execution_start": 1644762546666,
    "execution_millis": 15,
    "deepnote_cell_type": "code",
    "deepnote_cell_height": 443.125
   },
   "source": "addr = Address.find_by_addr(\"0x3e5126c8dd68db20246e51bc31cb087a28003d2e\")\n\nputs addr.stats",
   "execution_count": null,
   "outputs": [
    {
     "name": "stdout",
     "text": "=== stats ===\nbet epoch: 1704 / all_epoch: 18183 = bet_ratio: 9.37%\n\ninvest_cnt: 1603 / bet_cnt: 1724 = bet_success_rate: 92.98%\n\nbet_bull_cnt: 762 / bet_cnt: 1724 = bet_bull_ratio: 44.2%\n\navg_bet_amt: 3.9516\nbet_amt_percentile 25%: 1.16 | 50%: 2.6| 75%: 5.6174\n\navg_last_block_order: 18.35\nright_bet_ratio: 26.04%\nwin_bet_ratio: 53.89%\n\ninvest_cnt: 1603 invest_amt: 6334.3732 return_amt: 154.8721\ntotal_roi: 2.44% \n",
     "output_type": "stream"
    }
   ]
  },
  {
   "cell_type": "code",
   "metadata": {
    "cell_id": "0de9db3f-2e22-4136-9cad-cca20fb8f248",
    "tags": [],
    "deepnote_to_be_reexecuted": false,
    "source_hash": "e3c0a3a9",
    "execution_start": 1645314526826,
    "execution_millis": 66,
    "deepnote_cell_type": "code",
    "deepnote_cell_height": 118.1875,
    "deepnote_output_heights": [
     21.1875
    ]
   },
   "source": "Task.first",
   "execution_count": null,
   "outputs": [
    {
     "output_type": "execute_result",
     "execution_count": 3,
     "data": {
      "text/plain": "#<Task id: 6275, name: \"0\", status: \"2\", code: \"\", output: \"2022-02-19 16:01:52 +0000 runner N take task 6275 ...\", runner: \"N\", created_at: \"2022-02-19 16:01:16.681653000 +0000\", updated_at: \"2022-02-19 16:12:44.956560000 +0000\", run_timestamp: \"2022-02-19 16:01:52.701654000 +0000\">"
     },
     "metadata": {}
    }
   ]
  },
  {
   "cell_type": "code",
   "metadata": {
    "cell_id": "c2447cba-701c-4b03-a55c-1d18fd94e783",
    "tags": [],
    "deepnote_cell_type": "code",
    "deepnote_cell_height": 66
   },
   "source": "",
   "execution_count": null,
   "outputs": []
  },
  {
   "cell_type": "code",
   "metadata": {
    "cell_id": "1ea4d93e-c10c-42f0-8f4f-b2ca479dd86d",
    "tags": [],
    "deepnote_to_be_reexecuted": false,
    "source_hash": "a739b99b",
    "execution_start": 1647167923665,
    "execution_millis": 5,
    "deepnote_cell_type": "code",
    "deepnote_cell_height": 183.6875
   },
   "source": "# 查找某个Block\n\nblock = Block.find_by_block_number(15863177)\n\nputs \"block tx count = #{block.tx.count}\"",
   "execution_count": null,
   "outputs": [
    {
     "name": "stdout",
     "text": "block tx count = 28\n",
     "output_type": "stream"
    }
   ]
  },
  {
   "cell_type": "code",
   "metadata": {
    "cell_id": "05e40524-76fd-4822-a558-2a305e709d27",
    "tags": [],
    "deepnote_to_be_reexecuted": false,
    "source_hash": "84d31427",
    "execution_start": 1647168224745,
    "execution_millis": 10,
    "deepnote_cell_type": "code",
    "deepnote_cell_height": 237.6875
   },
   "source": "# 这个Block第一笔和Pancake合约的交易\n\ntx = block.tx.where(tx_status:true).where(to:\"0x18b2a687610328590bc8f2e5fedde3b582a49cda\").first\n\nmethod_name = tx.method_name\ninput_data = tx.input_data\namount = tx.amount/1e18\nputs \"method_name = #{method_name}, input_data = #{tx.input_data}, amount = #{amount}\"",
   "execution_count": null,
   "outputs": [
    {
     "name": "stdout",
     "text": "method_name = betBull, input_data = [50996], amount = 0.05\n",
     "output_type": "stream"
    }
   ]
  },
  {
   "cell_type": "code",
   "metadata": {
    "cell_id": "ad6568da-bbb0-4680-850f-122afa581c46",
    "tags": [],
    "deepnote_to_be_reexecuted": false,
    "source_hash": "b1c1092",
    "execution_start": 1647169406769,
    "execution_millis": 1691,
    "deepnote_cell_type": "code",
    "deepnote_cell_height": 935
   },
   "source": "# 查询所有bet amount > 10的交易，看里面的交易地址Top 100\n\ntx = Tx.where(\"amount > ?\",10*1e18)\n    .where(tx_status:true)\n    .where(\"method_name = 'betBear' or method_name='betBull'\")\n    .where(to:\"0x18b2a687610328590bc8f2e5fedde3b582a49cda\")\n    .group(:from)\n    .count\n\ntop100 = tx.to_a\n.sort {|x,y| x[1]<=>y[1]}\n.reverse[0,100]\n\nputs top100.map {|x| x.join (\"-\") }.join(\"\\n\")    ",
   "execution_count": null,
   "outputs": [
    {
     "name": "stdout",
     "text": "0xc8923536f8c1a348f15e87315740bb5933aeb4c9-157\n0x3e5126c8dd68db20246e51bc31cb087a28003d2e-98\n0x48efbe5f12fdbf637f60f1a35ac3e90d61607ae4-71\n0x169e5425cbca7992b51f0cb97dfe665c69245b2c-63\n0x63f5653727c7f23cc4ace5854c69da9d4c888888-57\n0xad483dc8c4482eafdbebbc98ea66a89e461cfbd9-48\n0x2a2df0621cbb1f4a9a1c164eef28c93663423dbe-41\n0xde857ccfbcb09d06e4adab92e9f7717fbaa756e2-40\n0x7c3823d07217c325476ed25cb6d500b0e3834046-34\n0x5fb48a23f050be5f499f9e05e288e34c5536e1e5-32\n0x89bb80b57a27fd30f00b47071c8344d9fca781e9-31\n0x58fd7c3018378228d30d824c0636e401e9102558-31\n0x03fa3c74efa84bcc6d787439fa109b627f527068-30\n0x822040627462b465559030d29b8722d35417a2d1-24\n0x41c5e98c3cc4ecddb889ceb16e8b09c2e67007ca-24\n0x75de2baceee7e70427d400e2f4d88c18db740ab1-22\n0x415636005128c69fbbc63fc5689bd50693e91925-21\n0x72cb0107c72e879fe3594b18168d80d2fdccc4cd-20\n0x6479e0162b5fc3aee06feebbacc001b9bd9cb2d2-19\n0x124c6842e8e7cd570c34e39232ba6e35f0eba733-19\n0xfcbe1b9a24127fdcf915cbcb351d4f63724fa248-15\n0x1235854d05b33bd5ec152ed5db4184a76df45cc2-15\n0x09ae05a95454c61123732b438c06257505be1642-15\n0xea1cebd819208434059afa05d436e26504025891-14\n0xdd0c7c6fbb415e685785f0f3027f77e461f65468-14\n0x58094ec238875955f1d862807db33b1fe9c143fc-14\n0xfb01f11fdab8b9d8b1bda1cb58c14efe4440d194-12\n0xbce32e48e4b5f1ac056d98e51e5d90103d13484e-12\n0x870ac69be300372f7d41eaf1cad8ba9ab451abfd-12\n0x5bd467711a3c16a799f9c7eea2377a26cfa71536-12\n0x358d5195c6641af9fd971baaa19ae4988df2d96a-12\n0x0959124002c58961be75d9fcfe0842f92e67ee2b-12\n0x9d9fc53dc70c5a1cf16282d670bb1899fad0558d-10\n0xd7590f862e5489a69279dea4a26aa48a82347d64-9\n0xc8dd6836299f3569595dcebead1c2aa568183f57-9\n0x799751fb113f031b4c2728ac3d78f560364629bf-9\n0x5e2f59f5fda17b08eba332b680185cee5f022a31-9\n0x541447f1b6e2599b86de681fda1a1e86c158e64e-9\n0xaffb9821885947dcef0ce979763f18b3ea89b478-8\n0x53b00b060674aa17564de0c549130b34c966a315-8\n0x498a5dd28eb31ef0758810af39f438247b58fc59-8\n0x39d5a272faef220ab778edf718fd00a732ac8246-8\n0xaa7228db19d0c7fff9c466ec2ffe724b547dc24e-7\n0xa308a251d9660cd2d97c29a810b5c6f406e1e045-7\n0x9d97d26275269f050ed893e94085bf74a71519c3-7\n0x877a030f95736420ed2ea9e1e33f9d3a25837171-7\n0x853b11c713997c7dfd367128992254d6f15e2baa-7\n0x594f099e4cba52f8844b9021c4b06a22d7e24f7a-7\n0x22625fc8c83541204f7de13ad131d23ff1f11672-7\n0x1043478434957de988c9b2b054896471a74207bc-7\n0x0fa0a0c44f624c335c31c9d4c036347bdce3b45e-7\n0xf9438fba1c614df061c07bbe30fc419eef462c2f-6\n0xda412c59e0683d3da4e61dd607f2cfc9911856eb-6\n0xca90ff3439f5c6bb4a4256af67af46ede00261fd-6\n0x990de199a19639e038c3633e670c669dc095d1c1-6\n0x89c206030df4747e332680f4c1f5bc6fea81f006-6\n0x3f25846f0a8b373da450efabb3988581428209b8-6\n0x10b6b288e613b18944c1bd3932fc9ab2197f593f-6\n0x02fb4d739df80774c16a96bd09c94abdec67954c-6\n0xfb764b4c19da041ae78e780fb69594c9d8329bf9-5\n0xf9e392f92337ad70572c3cb23569cdf1628aa885-5\n0xe9fe6c3ff3e19f94d90576973f7d46ecb01d75f3-5\n0xe2cf06b7632a760baca0b14f25787fc39488b13b-5\n0xd0dfcd797119b3b2478a6633dfd1acc9cc111311-5\n0xbf8b356736f27520d399527b9ca25fe4d0a76fea-5\n0x97e2c347c0bab3b830273fca2e7efb2a0e4260fa-5\n0x6ea972d77f5203ad262c66b98ea7b193f0cc580c-5\n0x63601e212e97d3291999ecea62ba0b8e88d52166-5\n0x5e071b4ff18b7616497111616a7dc71d350c889b-5\n0x5a9390b08a7d8fb50ea8d51aac5bc39ecfdf2bc2-5\n0x50ea356a75c9c5dede91e6decfc302931b506387-5\n0x16503080e7f1d11ec631c80fe9a7cabd20384370-5\n0xf36aedc561af12d427561d14e10507be2e3f15e6-4\n0xf3448525c89bc37bb66c7d596dcfdefec891c935-4\n0xefce36efcf3e13840634d71145caf850fe6b2e15-4\n0xe0f4a4e8b1887d56c32389d58c757ffd94539e3d-4\n0xd25d6eb44ac320d32b1eb06a67d30a9163a1bf65-4\n0xcd5a4c387ec161c1489d72a6f989c950b72ba55e-4\n0xc9af6c874b78655acebc503d4232cf10d88a0442-4\n0xc8086bc69732724012c18ad7c2737e00cc8e74f6-4\n0xc7a53004676a6bf1e42a7e7df05b721e9330548b-4\n0xb463e15ecbda6894b0bfd1ea4358713445045a33-4\n0xb41cb1db37ce01e9f039aa67ef92038e7e0ba813-4\n0xa447a1063beb9185179d2687adee143441ac09f6-4\n0x90d62e3368ab76767bd0395a12d0549f4d5f67f3-4\n0x79f66ad224e4391e9f19438575e70227e8ea3a53-4\n0x798bc384e20d5d16987a07487fc695985f1742c5-4\n0x7559cf03ddd64348d562cb1b0ed0cf481a48b9d3-4\n0x57e715e2a9e0e759b84539e480952e90abc82382-4\n0x57a7f4ba1b54b9f781c5e928def28a0ca3a2ac1d-4\n0x513b716f9cd5ea4b1c98892f9e6cb0aab64014d1-4\n0x502590e3700727b594e466cb152966c5d6d32ff3-4\n0x4ee747e388e06fb0fbb838fbe763fb184ee46b08-4\n0x2248dbde9ce146029cc73159c0cd54f025b78aa8-4\n0x21512bae465f22cfa625f469eb43cc05cc8d0624-4\n0x1744acac42b423b28753fcd9beb7a11ca96fee86-4\n0x0a3b26e517df587b6d08f04344354b7763403926-4\n0x0547a28cc8507d1fe0db9c6933fa076ac3b52d3b-4\n0xefaac38f8975a7ee9668d797e4f45be8b19e127f-3\n0xeed8c31e7f91766e3afe9083d6ae5852bc5d44cd-3\n",
     "output_type": "stream"
    }
   ]
  },
  {
   "cell_type": "code",
   "metadata": {
    "cell_id": "dca8ad04-aa5e-4151-b093-5b77357fea9c",
    "tags": [],
    "deepnote_to_be_reexecuted": false,
    "source_hash": "f3f58b9f",
    "execution_start": 1647169409304,
    "execution_millis": 5300,
    "deepnote_cell_type": "code",
    "deepnote_cell_height": 118.1875,
    "deepnote_output_heights": [
     21.1875
    ]
   },
   "source": "",
   "execution_count": null,
   "outputs": [
    {
     "output_type": "execute_result",
     "execution_count": 66,
     "data": {
      "text/plain": "824791661262016035771592"
     },
     "metadata": {}
    }
   ]
  },
  {
   "cell_type": "code",
   "metadata": {
    "cell_id": "80950cbd-9df7-4ebc-8131-f2189ca58f9f",
    "tags": [],
    "deepnote_to_be_reexecuted": false,
    "source_hash": "381e1745",
    "execution_start": 1647169416950,
    "execution_millis": 3,
    "deepnote_cell_type": "code",
    "deepnote_cell_height": 118.1875,
    "deepnote_output_heights": [
     21.1875
    ]
   },
   "source": "top100_tx_amount / total_tx_amount.to_f",
   "execution_count": null,
   "outputs": [
    {
     "output_type": "execute_result",
     "execution_count": 67,
     "data": {
      "text/plain": "0.1221182868302489"
     },
     "metadata": {}
    }
   ]
  },
  {
   "cell_type": "code",
   "metadata": {
    "cell_id": "ff86cd96-0117-4010-a841-549cfc6a1577",
    "tags": [],
    "deepnote_to_be_reexecuted": false,
    "source_hash": "fbb5af55",
    "execution_start": 1647170684812,
    "execution_millis": 2758,
    "deepnote_cell_type": "code",
    "deepnote_cell_height": 795,
    "deepnote_output_heights": [
     302
    ]
   },
   "source": "# 这些Top 100的地址的所有下注金额，占全部下注金额的比例\n\ntop100_tx_amount = Tx.where(from:top100.map {|x| x[0]})\n    .where(tx_status:true)\n    .where(\"method_name = 'betBear' or method_name='betBull'\")\n    .where(to:\"0x18b2a687610328590bc8f2e5fedde3b582a49cda\")\n    .sum(:amount)\n\ntotal_tx_amount = Tx\n    .where(tx_status:true)\n    .where(\"method_name = 'betBear' or method_name='betBull'\")\n    .where(to:\"0x18b2a687610328590bc8f2e5fedde3b582a49cda\")\n    .sum(:amount)\n\n\nVega.lite\n  .data({\"values\":[{\"x\":\"top100\",\"y\":top100_tx_amount},{\"x\":\"other\",\"y\":total_tx_amount-top100_tx_amount}]})\n  .mark(type: \"arc\", tooltip: true)\n  .encoding(\n    color: {field: \"x\", type: \"nominal\", axis: {title: nil}, legend: {labelFontSize: 12}},\n    theta: {field: \"y\", type: \"quantitative\"}\n  )\n  .view(stroke: nil)",
   "execution_count": null,
   "outputs": [
    {
     "output_type": "execute_result",
     "execution_count": 79,
     "data": {
      "text/html": "<div id=\"chart-f7e70118522fbab3072de9fe106b0e79\" style=\"width: 100%; height: 300px;\"></div>\n<script>\n  require.config({\n    paths: {\n      'vega': 'https://cdn.jsdelivr.net/npm/vega@5.21.0/build/vega.min',\n      'vega-util': 'https://cdn.jsdelivr.net/npm/vega-util@1.17.0/build/vega-util.min',\n      'vega-lite': 'https://cdn.jsdelivr.net/npm/vega-lite@5.2.0/build/vega-lite.min',\n      'vega-embed': 'https://cdn.jsdelivr.net/npm/vega-embed@6.20.5/build/vega-embed.min'\n    }\n  });\n  require(['vega', 'vega-util', 'vega-lite', 'vega-embed'], function(vega, vegaUtil, vegaLite, vegaEmbed) {\n    vegaEmbed(\"#chart-f7e70118522fbab3072de9fe106b0e79\", {\"$schema\":\"https://vega.github.io/schema/vega-lite/v5.json\",\"width\":\"container\",\"height\":\"container\",\"data\":{\"values\":[{\"x\":\"top100\",\"y\":100722144665192368667545},{\"x\":\"other\",\"y\":724069516596823667104047}]},\"mark\":{\"type\":\"arc\",\"tooltip\":true},\"encoding\":{\"color\":{\"field\":\"x\",\"type\":\"nominal\",\"axis\":{\"title\":null},\"legend\":{\"labelFontSize\":12}},\"theta\":{\"field\":\"y\",\"type\":\"quantitative\"}},\"view\":{\"stroke\":null}}, {\"actions\":false});\n  });\n</script>\n",
      "text/plain": "#<Vega::LiteChart:0x0000556a0b90f4f0 @schema=\"https://vega.github.io/schema/vega-lite/v5.json\", @spec={\"$schema\"=>\"https://vega.github.io/schema/vega-lite/v5.json\", \"width\"=>\"container\", \"height\"=>\"container\", \"data\"=>{:values=>[{:x=>\"top100\", :y=>100722144665192368667545}, {:x=>\"other\", :y=>724069516596823667104047}]}, \"mark\"=>{:type=>\"arc\", :tooltip=>true}, \"encoding\"=>{:color=>{:field=>\"x\", :type=>\"nominal\", :axis=>{:title=>nil}, :legend=>{:labelFontSize=>12}}, :theta=>{:field=>\"y\", :type=>\"quantitative\"}}, \"view\"=>{:stroke=>nil}}>"
     },
     "metadata": {}
    }
   ]
  },
  {
   "cell_type": "code",
   "metadata": {
    "cell_id": "1b2c5c4f-6ea1-4c19-8e5c-61438b76e01f",
    "tags": [],
    "deepnote_cell_type": "code",
    "deepnote_cell_height": 66
   },
   "source": "",
   "execution_count": null,
   "outputs": []
  },
  {
   "cell_type": "markdown",
   "source": "<a style='text-decoration:none;line-height:16px;display:flex;color:#5B5B62;padding:10px;justify-content:end;' href='https://deepnote.com?utm_source=created-in-deepnote-cell&projectId=ebde59c2-d67b-4e31-ad3b-1bdd07014691' target=\"_blank\">\n<img alt='Created in deepnote.com' style='display:inline;max-height:16px;margin:0px;margin-right:7.5px;' src='data:image/svg+xml;base64,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' > </img>\nCreated in <span style='font-weight:600;margin-left:4px;'>Deepnote</span></a>",
   "metadata": {
    "tags": [],
    "created_in_deepnote_cell": true,
    "deepnote_cell_type": "markdown"
   }
  }
 ],
 "nbformat": 4,
 "nbformat_minor": 2,
 "metadata": {
  "orig_nbformat": 2,
  "deepnote": {
   "is_reactive": false
  },
  "deepnote_notebook_id": "442a355b-4b57-4845-86a9-5a18b464ff06",
  "deepnote_execution_queue": []
 }
}