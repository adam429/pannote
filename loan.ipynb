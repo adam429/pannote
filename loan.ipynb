{
 "cells": [
  {
   "cell_type": "code",
   "metadata": {
    "tags": [],
    "cell_id": "6bcc20d7-62f7-4fdd-bd55-568fd8ad26cc",
    "deepnote_to_be_reexecuted": false,
    "source_hash": "cc7da020",
    "execution_start": 1647178419492,
    "execution_millis": 2723,
    "deepnote_cell_type": "code",
    "deepnote_cell_height": 171
   },
   "source": "# load init moudle file\n\nload \"/work/pannote/panbot_note.rb\"\nnil\n\n",
   "execution_count": null,
   "outputs": []
  },
  {
   "cell_type": "code",
   "metadata": {
    "cell_id": "363d0711-1eef-4a15-80ee-a7ef048e4da4",
    "tags": [],
    "deepnote_to_be_reexecuted": false,
    "source_hash": "f94d39d0",
    "execution_start": 1647178424934,
    "execution_millis": 518327,
    "deepnote_cell_type": "code",
    "deepnote_cell_height": 1025
   },
   "source": "\nconn = Faraday.new(\n  url: 'http://cashbee-admin-mengmai.comein.club',\n  headers: {'X-Auth-Token' => 'db207076-acdd-420f-8945-383d3a45a8e5'})\n\ntotal_page = 148\ncur_page = 1\ndata = []\n\nloop do\n    puts cur_page\n    response = conn.get(\"/yolo-loan/admin/loanInfo/selectLoanContractListByFirstPartyId?page=#{cur_page}&limit=50\") \n\n    json = JSON.parse(response.body)\n    data = data + json[\"data\"]\n\n    cur_page = cur_page + 1\n    break if cur_page > total_page\nend",
   "execution_count": null,
   "outputs": [
    {
     "name": "stdout",
     "text": "1\n2\n3\n4\n5\n6\n7\n8\n9\n10\n11\n12\n13\n14\n15\n16\n17\n18\n19\n20\n21\n22\n23\n24\n25\n26\n27\n28\n29\n30\n31\n32\n33\n34\n35\n36\n37\n38\n39\n40\n41\n42\n43\n44\n45\n46\n47\n48\n49\n50\n51\n52\n53\n54\n55\n56\n57\n58\n59\n60\n61\n62\n63\n64\n65\n66\n67\n68\n69\n70\n71\n72\n73\n74\n75\n76\n77\n78\n79\n80\n81\n82\n83\n84\n85\n86\n87\n88\n89\n90\n91\n92\n93\n94\n95\n96\n97\n98\n99\n100\n101\n102\n103\n104\n105\n106\n107\n108\n109\n110\n111\n112\n113\n114\n115\n116\n117\n118\n119\n120\n121\n122\n123\n124\n125\n126\n127\n128\n129\n130\n131\n132\n133\n134\n135\n136\n137\n138\n139\n140\n141\n142\n143\n144\n145\n146\n147\n148\n",
     "output_type": "stream"
    }
   ]
  },
  {
   "cell_type": "code",
   "metadata": {
    "cell_id": "e6dd7f43-7d72-42b9-8fc6-4f6dcd92dac0",
    "tags": [],
    "deepnote_to_be_reexecuted": false,
    "source_hash": "4150d1cf",
    "execution_start": 1647178951604,
    "execution_millis": 2555666,
    "deepnote_cell_type": "code",
    "deepnote_cell_height": 118.1875,
    "deepnote_output_heights": [
     21.1875
    ]
   },
   "source": "data.count",
   "execution_count": null,
   "outputs": [
    {
     "output_type": "execute_result",
     "execution_count": 3,
     "data": {
      "text/plain": "7369"
     },
     "metadata": {}
    }
   ]
  },
  {
   "cell_type": "code",
   "metadata": {
    "cell_id": "307cb7b1-b3a3-4812-bf97-635b9fffa43a",
    "tags": [],
    "deepnote_to_be_reexecuted": false,
    "source_hash": "47572522",
    "execution_start": 1647179123297,
    "execution_millis": 200,
    "deepnote_cell_type": "code",
    "deepnote_cell_height": 297
   },
   "source": "require 'moneta'\n\n# Create a simple file store\nstore = Moneta.new(:File, dir: '/home/jovyan/work/loan_data')\n\n# Store some entries\n# store['loan_data'] = data\n\n# Read entry\nstore.key?('loan_data') # returns true\nread_data = store['loan_data'] # returns 'value'\n\nstore.close",
   "execution_count": null,
   "outputs": []
  },
  {
   "cell_type": "code",
   "metadata": {
    "cell_id": "3e6ff4d5-3e27-4cd2-9422-313e92af5584",
    "tags": [],
    "deepnote_to_be_reexecuted": false,
    "source_hash": "5d6185f9",
    "execution_start": 1647179573180,
    "execution_millis": 5,
    "deepnote_cell_type": "code",
    "deepnote_cell_height": 511.6875
   },
   "source": "## Stats\n\nputs data.map {|x| x[\"loanState\"] }.inject(Hash.new(0)) { |h, e| h[e] += 1 ; h }\nputs data.map {|x| x[\"loanDays\"] }.inject(Hash.new(0)) { |h, e| h[e] += 1 ; h }\nputs data.map {|x| x[\"rate\"] }.inject(Hash.new(0)) { |h, e| h[e] += 1 ; h }\nputs data.map {|x| x[\"firstPartyName\"] }.inject(Hash.new(0)) { |h, e| h[e] += 1 ; h }\nputs data.map {|x| x[\"nbfcKey\"] }.inject(Hash.new(0)) { |h, e| h[e] += 1 ; h }\nputs data.map {|x| x[\"finishTime\"] }.inject(Hash.new(0)) { |h, e| h[e] += 1 ; h }\nputs data.map {|x| x[\"loanStartTime\"] }.inject(Hash.new(0)) { |h, e| h[e] += 1 ; h }\nputs data.map {|x| x[\"loanEndTime\"] }.inject(Hash.new(0)) { |h, e| h[e] += 1 ; h }\nputs data.map {|x| x[\"productName\"] }.inject(Hash.new(0)) { |h, e| h[e] += 1 ; h }\n\n\n",
   "execution_count": null,
   "outputs": [
    {
     "name": "stdout",
     "text": "{\"还款中\"=>3662, \"已结清\"=>2832, \"逾期\"=>875}\n{15=>7369}\n{\"36.00%\"=>7369}\n{\"alfred\"=>7369}\n{\"weekline\"=>6842, \"zavron\"=>527}\n{nil=>4537, \"2022-03-11\"=>554, \"2022-03-10\"=>789, \"2022-03-13\"=>2, \"2022-03-12\"=>208, \"2022-03-09\"=>609, \"2022-03-08\"=>194, \"2022-03-07\"=>93, \"2022-03-06\"=>43, \"2022-03-04\"=>51, \"2022-03-05\"=>70, \"2022-03-03\"=>44, \"2022-03-02\"=>47, \"2022-02-27\"=>24, \"2022-03-01\"=>29, \"2022-02-28\"=>29, \"2022-02-26\"=>24, \"2022-02-25\"=>14, \"2022-02-24\"=>8}\n{\"2022-03-12\"=>108, \"2022-03-11\"=>248, \"2022-03-10\"=>288, \"2022-03-09\"=>258, \"2022-03-08\"=>187, \"2022-03-07\"=>213, \"2022-03-06\"=>85, \"2022-03-05\"=>268, \"2022-03-04\"=>153, \"2022-03-03\"=>468, \"2022-03-02\"=>557, \"2022-03-01\"=>433, \"2022-02-28\"=>202, \"2022-02-27\"=>538, \"2022-02-26\"=>490, \"2022-02-25\"=>1041, \"2022-02-24\"=>1832}\n{\"2022-03-26\"=>108, \"2022-03-25\"=>248, \"2022-03-24\"=>288, \"2022-03-23\"=>258, \"2022-03-22\"=>187, \"2022-03-21\"=>213, \"2022-03-20\"=>85, \"2022-03-19\"=>268, \"2022-03-18\"=>153, \"2022-03-17\"=>468, \"2022-03-16\"=>557, \"2022-03-15\"=>433, \"2022-03-14\"=>202, \"2022-03-13\"=>538, \"2022-03-12\"=>490, \"2022-03-11\"=>1041, \"2022-03-10\"=>1832}\n{\"ProductW06\"=>248, \"productZ10\"=>481, \"ProductW04\"=>6495, \"ProductW05\"=>43, \"productZ11\"=>46, \"ProductW03\"=>56}\n",
     "output_type": "stream"
    }
   ]
  },
  {
   "cell_type": "code",
   "metadata": {
    "cell_id": "6c08b515-d7d9-492b-a597-f56107d4b916",
    "tags": [],
    "deepnote_cell_type": "code",
    "deepnote_cell_height": 66
   },
   "source": "",
   "execution_count": null,
   "outputs": []
  },
  {
   "cell_type": "markdown",
   "source": "<a style='text-decoration:none;line-height:16px;display:flex;color:#5B5B62;padding:10px;justify-content:end;' href='https://deepnote.com?utm_source=created-in-deepnote-cell&projectId=ebde59c2-d67b-4e31-ad3b-1bdd07014691' target=\"_blank\">\n<img alt='Created in deepnote.com' style='display:inline;max-height:16px;margin:0px;margin-right:7.5px;' src='data:image/svg+xml;base64,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' > </img>\nCreated in <span style='font-weight:600;margin-left:4px;'>Deepnote</span></a>",
   "metadata": {
    "tags": [],
    "created_in_deepnote_cell": true,
    "deepnote_cell_type": "markdown"
   }
  }
 ],
 "nbformat": 4,
 "nbformat_minor": 2,
 "metadata": {
  "orig_nbformat": 2,
  "deepnote": {
   "is_reactive": false
  },
  "deepnote_notebook_id": "567b8226-8b6d-4be9-aaef-1a5fcaea47cd",
  "deepnote_execution_queue": []
 }
}