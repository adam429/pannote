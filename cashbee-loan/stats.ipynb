{
 "cells": [
  {
   "cell_type": "code",
   "metadata": {
    "cell_id": "718126da-eee3-429b-9db6-aa0b8a68f62c",
    "tags": [],
    "deepnote_to_be_reexecuted": false,
    "source_hash": "14f1cd20",
    "execution_start": 1647476933008,
    "execution_millis": 5,
    "deepnote_cell_type": "code",
    "deepnote_cell_height": 172.1875
   },
   "source": "require 'faraday'\nrequire 'moneta'\nrequire 'parallel'\nrequire 'vega'",
   "execution_count": null,
   "outputs": [
    {
     "output_type": "execute_result",
     "execution_count": 3,
     "data": {
      "text/plain": "true"
     },
     "metadata": {}
    }
   ]
  },
  {
   "cell_type": "code",
   "metadata": {
    "cell_id": "92d873e5-11f0-4f99-9446-e8ecbd40116e",
    "tags": [],
    "deepnote_to_be_reexecuted": false,
    "source_hash": "e2dca81a",
    "execution_start": 1647476882391,
    "execution_millis": 558,
    "deepnote_cell_type": "code",
    "deepnote_cell_height": 330
   },
   "source": "# Create a simple file store\nstore = Moneta.new(:File, dir: '/home/jovyan/work/loan_data')\n\n# # Read entry\n# store.key?('loan_data') # returns true\nloan_data = store['loan_data'] # returns 'value'\nuser_data = store['user_data'] # returns 'value'\n\nstore.close\n\nputs \" loan_data - #{loan_data.count}\"\nputs \" user_data - #{user_data.count}\"",
   "execution_count": null,
   "outputs": [
    {
     "name": "stdout",
     "text": " loan_data - 7474\n user_data - 31663\n",
     "output_type": "stream"
    }
   ]
  },
  {
   "cell_type": "code",
   "metadata": {
    "cell_id": "53a1a402-e73f-4abc-a803-01920e16bb79",
    "tags": [],
    "deepnote_to_be_reexecuted": false,
    "source_hash": "cf213a9e",
    "execution_start": 1647479754441,
    "execution_millis": 26453,
    "deepnote_cell_type": "code",
    "deepnote_cell_height": 154.1875
   },
   "source": "def to_chart(spec,binding)\n  IRuby.html Vega::Spec.new(JSON.parse(ERB.new(spec).result(binding))).to_iruby[1]\nend",
   "execution_count": null,
   "outputs": [
    {
     "output_type": "execute_result",
     "execution_count": 87,
     "data": {
      "text/plain": ":to_chart"
     },
     "metadata": {}
    }
   ]
  },
  {
   "cell_type": "code",
   "metadata": {
    "cell_id": "4b1268db-9506-461f-9025-6904563cf1a3",
    "tags": [],
    "deepnote_to_be_reexecuted": false,
    "source_hash": "9efcc24a",
    "execution_start": 1647479771888,
    "execution_millis": 124,
    "deepnote_cell_type": "code",
    "deepnote_cell_height": 790
   },
   "source": "## all loan stats\n\n## user\nuser_loan_count  = user_data.map {|x| x[\"platformLoanUserId\"]}.inject(Hash.new(0)) { |h, e| h[e] += 1 ; h }.sort { |x,y| -1*(x[1]<=>y[1]) }.to_h\nuser_loan_count2 = user_loan_count.map {|x| x[1]}.inject(Hash.new(0)) { |h, e| h[e] += 1 ; h }\n\nto_chart '''\n{\n  \"$schema\": \"https://vega.github.io/schema/vega-lite/v5.json\",\n  \"description\": \"A simple bar chart with embedded data.\",\n  \"data\": {\n    \"values\": [\n      {\"a\": \"A\", \"b\": <%= user_loan_count2.count  %>}, {\"a\": \"B\", \"b\": 55}, {\"a\": \"C\", \"b\": 43},\n      {\"a\": \"D\", \"b\": 91}, {\"a\": \"E\", \"b\": 81}, {\"a\": \"F\", \"b\": 53},\n      {\"a\": \"G\", \"b\": 19}, {\"a\": \"H\", \"b\": 87}, {\"a\": \"I\", \"b\": 52}\n    ]\n  },\n  \"mark\": \"bar\",\n  \"encoding\": {\n    \"x\": {\"field\": \"a\", \"type\": \"nominal\", \"axis\": {\"labelAngle\": 0}},\n    \"y\": {\"field\": \"b\", \"type\": \"quantitative\"}\n  }\n}\n''',binding\n",
   "execution_count": null,
   "outputs": [
    {
     "output_type": "execute_result",
     "execution_count": 90,
     "data": {
      "text/plain": "\"<div id=\\\"chart-44bedafba5c558c8d80346cbb41c8f1c\\\" style=\\\"width: 100%; height: auto;\\\"></div>\\n<script>\\n  require.config({\\n    paths: {\\n      'vega': 'https://cdn.jsdelivr.net/npm/vega@5.21.0/build/vega.min',\\n      'vega-util': 'https://cdn.jsdelivr.net/npm/vega-util@1.17.0/build/vega-util.min',\\n      'vega-lite': 'https://cdn.jsdelivr.net/npm/vega-lite@5.2.0/build/vega-lite.min',\\n      'vega-embed': 'https://cdn.jsdelivr.net/npm/vega-embed@6.20.5/build/vega-embed.min'\\n    }\\n  });\\n  require(['vega', 'vega-util', 'vega-lite', 'vega-embed'], function(vega, vegaUtil, vegaLite, vegaEmbed) {\\n    vegaEmbed(\\\"#chart-44bedafba5c558c8d80346cbb41c8f1c\\\", {\\\"$schema\\\":\\\"https://vega.github.io/schema/vega-lite/v5.json\\\",\\\"description\\\":\\\"A simple bar chart with embedded data.\\\",\\\"data\\\":{\\\"values\\\":[{\\\"a\\\":\\\"A\\\",\\\"b\\\":18},{\\\"a\\\":\\\"B\\\",\\\"b\\\":55},{\\\"a\\\":\\\"C\\\",\\\"b\\\":43},{\\\"a\\\":\\\"D\\\",\\\"b\\\":91},{\\\"a\\\":\\\"E\\\",\\\"b\\\":81},{\\\"a\\\":\\\"F\\\",\\\"b\\\":53},{\\\"a\\\":\\\"G\\\",\\\"b\\\":19},{\\\"a\\\":\\\"H\\\",\\\"b\\\":87},{\\\"a\\\":\\\"I\\\",\\\"b\\\":52}]},\\\"mark\\\":\\\"bar\\\",\\\"encoding\\\":{\\\"x\\\":{\\\"field\\\":\\\"a\\\",\\\"type\\\":\\\"nominal\\\",\\\"axis\\\":{\\\"labelAngle\\\":0}},\\\"y\\\":{\\\"field\\\":\\\"b\\\",\\\"type\\\":\\\"quantitative\\\"}}}, {\\\"actions\\\":false});\\n  });\\n</script>\\n\"",
      "text/html": "<div id=\"chart-44bedafba5c558c8d80346cbb41c8f1c\" style=\"width: 100%; height: auto;\"></div>\n<script>\n  require.config({\n    paths: {\n      'vega': 'https://cdn.jsdelivr.net/npm/vega@5.21.0/build/vega.min',\n      'vega-util': 'https://cdn.jsdelivr.net/npm/vega-util@1.17.0/build/vega-util.min',\n      'vega-lite': 'https://cdn.jsdelivr.net/npm/vega-lite@5.2.0/build/vega-lite.min',\n      'vega-embed': 'https://cdn.jsdelivr.net/npm/vega-embed@6.20.5/build/vega-embed.min'\n    }\n  });\n  require(['vega', 'vega-util', 'vega-lite', 'vega-embed'], function(vega, vegaUtil, vegaLite, vegaEmbed) {\n    vegaEmbed(\"#chart-44bedafba5c558c8d80346cbb41c8f1c\", {\"$schema\":\"https://vega.github.io/schema/vega-lite/v5.json\",\"description\":\"A simple bar chart with embedded data.\",\"data\":{\"values\":[{\"a\":\"A\",\"b\":18},{\"a\":\"B\",\"b\":55},{\"a\":\"C\",\"b\":43},{\"a\":\"D\",\"b\":91},{\"a\":\"E\",\"b\":81},{\"a\":\"F\",\"b\":53},{\"a\":\"G\",\"b\":19},{\"a\":\"H\",\"b\":87},{\"a\":\"I\",\"b\":52}]},\"mark\":\"bar\",\"encoding\":{\"x\":{\"field\":\"a\",\"type\":\"nominal\",\"axis\":{\"labelAngle\":0}},\"y\":{\"field\":\"b\",\"type\":\"quantitative\"}}}, {\"actions\":false});\n  });\n</script>\n"
     },
     "metadata": {}
    }
   ]
  },
  {
   "cell_type": "code",
   "metadata": {
    "cell_id": "836e057d-0e39-46b1-bd56-662435f1d88e",
    "tags": [],
    "deepnote_to_be_reexecuted": false,
    "source_hash": "7d8a7c5a",
    "execution_start": 1647477997286,
    "execution_millis": 2,
    "owner_user_id": "d2e137b8-edb6-4552-b46d-1d64722d3ed2",
    "deepnote_cell_type": "code",
    "deepnote_cell_height": 450.1875
   },
   "source": "x\n\nputs user_data.map {|x| x[\"productName\"] }.inject(Hash.new(0)) { |h, e| h[e] += 1 ; h }.sort { |x,y| x[0]<=>y[0] }.to_h\nputs user_data.map {|x| x[\"loanAmount\"] }.inject(Hash.new(0)) { |h, e| h[e] += 1 ; h }.sort { |x,y| x[0]<=>y[0] }.to_h\nputs user_data.map {|x| x[\"loanLimit\"] }.inject(Hash.new(0)) { |h, e| h[e] += 1 ; h }.sort { |x,y| x[0]<=>y[0] }.to_h\nputs user_data.map {|x| x[\"withdrawTime\"][0,10] }.inject(Hash.new(0)) { |h, e| h[e] += 1 ; h }.sort { |x,y| x[0]<=>y[0] }.to_h\nputs user_data.map {|x| x[\"expireTime\"][0,10] }.inject(Hash.new(0)) { |h, e| h[e] += 1 ; h }.sort { |x,y| x[0]<=>y[0] }.to_h\nputs user_data.map {|x| x[\"repayAmount\"] }.inject(Hash.new(0)) { |h, e| h[e] += 1 ; h }.sort { |x,y| x[0]<=>y[0] }.to_h\nputs user_data.map {|x| x[\"alreadyRepayAmount\"] }.inject(Hash.new(0)) { |h, e| h[e] += 1 ; h }.sort { |x,y| x[0]<=>y[0] }.to_h\nputs user_data.map {|x| x[\"overdueDay\"] }.inject(Hash.new(0)) { |h, e| h[e] += 1 ; h }.sort { |x,y| x[0]<=>y[0] }.to_h\nputs user_data.map {|x| x[\"overdueAmount\"] }.inject(Hash.new(0)) { |h, e| h[e] += 1 ; h }.sort { |x,y| x[0]<=>y[0] }.to_h\nputs user_data.map {|x| x[\"interestAmount\"] }.inject(Hash.new(0)) { |h, e| h[e] += 1 ; h }.sort { |x,y| x[0]<=>y[0] }.to_h\nputs user_data.map {|x| x[\"fineAmount\"] }.inject(Hash.new(0)) { |h, e| h[e] += 1 ; h }.sort { |x,y| x[0]<=>y[0] }.to_h\nputs user_data.map {|x| x[\"serviceFee\"] }.inject(Hash.new(0)) { |h, e| h[e] += 1 ; h }.sort { |x,y| x[0]<=>y[0] }.to_h\nputs user_data.map {|x| x[\"taxes\"] }.inject(Hash.new(0)) { |h, e| h[e] += 1 ; h }.sort { |x,y| x[0]<=>y[0] }.to_h\n\n\n",
   "execution_count": null,
   "outputs": [
    {
     "output_type": "error",
     "ename": "NameError",
     "evalue": "undefined local variable or method `x' for #<Object:0x000055ee18091788>",
     "traceback": [
      "\u001b[31mNameError\u001b[0m: undefined local variable or method `x' for #<Object:0x000055ee18091788>",
      "(irb):in `irb_binding'"
     ]
    }
   ]
  },
  {
   "cell_type": "code",
   "metadata": {
    "cell_id": "84ebe82d-6169-4cce-b339-ec498a8cece1",
    "tags": [],
    "deepnote_cell_type": "code",
    "deepnote_cell_height": 66
   },
   "source": "## user risk-profile stats",
   "execution_count": null,
   "outputs": []
  },
  {
   "cell_type": "code",
   "metadata": {
    "cell_id": "b1c1be3d-630b-4a20-a524-07ac8b9664df",
    "tags": [],
    "deepnote_cell_type": "code",
    "deepnote_cell_height": 66
   },
   "source": "## assets quality stats",
   "execution_count": null,
   "outputs": []
  },
  {
   "cell_type": "code",
   "metadata": {
    "tags": [],
    "cell_id": "fc17a09e-8599-4248-9c2e-aa074cb725fd",
    "deepnote_cell_type": "code",
    "deepnote_cell_height": 300
   },
   "source": "## Stats\n\nputs data.map {|x| x[\"loanState\"] }.inject(Hash.new(0)) { |h, e| h[e] += 1 ; h }\nputs data.map {|x| x[\"loanDays\"] }.inject(Hash.new(0)) { |h, e| h[e] += 1 ; h }\nputs data.map {|x| x[\"rate\"] }.inject(Hash.new(0)) { |h, e| h[e] += 1 ; h }\nputs data.map {|x| x[\"firstPartyName\"] }.inject(Hash.new(0)) { |h, e| h[e] += 1 ; h }\nputs data.map {|x| x[\"nbfcKey\"] }.inject(Hash.new(0)) { |h, e| h[e] += 1 ; h }\nputs data.map {|x| x[\"finishTime\"] }.inject(Hash.new(0)) { |h, e| h[e] += 1 ; h }\nputs data.map {|x| x[\"loanStartTime\"] }.inject(Hash.new(0)) { |h, e| h[e] += 1 ; h }\nputs data.map {|x| x[\"loanEndTime\"] }.inject(Hash.new(0)) { |h, e| h[e] += 1 ; h }\nputs data.map {|x| x[\"productName\"] }.inject(Hash.new(0)) { |h, e| h[e] += 1 ; h }\n\n\n",
   "execution_count": null,
   "outputs": []
  },
  {
   "cell_type": "markdown",
   "source": "<a style='text-decoration:none;line-height:16px;display:flex;color:#5B5B62;padding:10px;justify-content:end;' href='https://deepnote.com?utm_source=created-in-deepnote-cell&projectId=ebde59c2-d67b-4e31-ad3b-1bdd07014691' target=\"_blank\">\n<img alt='Created in deepnote.com' style='display:inline;max-height:16px;margin:0px;margin-right:7.5px;' src='data:image/svg+xml;base64,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' > </img>\nCreated in <span style='font-weight:600;margin-left:4px;'>Deepnote</span></a>",
   "metadata": {
    "tags": [],
    "created_in_deepnote_cell": true,
    "deepnote_cell_type": "markdown"
   }
  }
 ],
 "nbformat": 4,
 "nbformat_minor": 2,
 "metadata": {
  "orig_nbformat": 2,
  "deepnote": {
   "is_reactive": false
  },
  "deepnote_notebook_id": "bf0d8076-7dba-48c5-8a7f-821fcb89c447",
  "deepnote_execution_queue": []
 }
}