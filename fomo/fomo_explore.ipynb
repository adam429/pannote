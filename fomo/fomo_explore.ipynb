{
 "cells": [
  {
   "cell_type": "code",
   "metadata": {
    "cell_id": "e01c46b6-08cc-4f4b-8816-e73c85c56131",
    "tags": [],
    "deepnote_to_be_reexecuted": false,
    "source_hash": "5448169c",
    "execution_start": 1647704193282,
    "execution_millis": 0,
    "deepnote_cell_type": "code",
    "deepnote_cell_height": 298.1875,
    "deepnote_output_heights": [
     21.1875
    ]
   },
   "source": "# npx hardhat node --fork https://eth-mainnet.alchemyapi.io/v2/xOu9KmQYmgmqBuYhhPW0naOB9YRY3foa\n# ngrok authtoken 1WA2UnsI5GHgexqADDhvw7v1Npd_dqSFiM3bX98ny1vjvx3a\n# ngrok http 8545\n\n# 初始化\nrequire 'ethereum.rb'\nrequire 'eth'\nrequire 'faraday'\nrequire 'parallel'\nrequire 'resolv-replace'\nrequire 'erb'",
   "outputs": [
    {
     "output_type": "execute_result",
     "execution_count": 34,
     "data": {
      "text/plain": "false"
     },
     "metadata": {}
    }
   ],
   "execution_count": null
  },
  {
   "cell_type": "code",
   "metadata": {
    "tags": [],
    "cell_id": "be4e124a-d0e6-4403-b4b5-96ae1980fc26",
    "deepnote_to_be_reexecuted": false,
    "source_hash": "1e1b2490",
    "execution_start": 1647705991980,
    "execution_millis": 366,
    "deepnote_cell_type": "code",
    "deepnote_cell_height": 1377
   },
   "source": "#configure\netherscan_apikey = \"545QYEP8TJKJWMZ7QP41QYXZNMJDVCJUI9\"\n\n# 参数设置\nfomo_name = \"FOMOFast\"\nfomo_addr_abi = fomo_addr = \"0x324b50cAA2b95df219e78e016A3014E9B70EF5a2\".downcase\nfomo_addr = \"0x205718799d502Fe2C45D3aFc91C3c8cCb5c0836f\".downcase  #15.87 eth\nfomo_addr_abi = fomo_addr = \"0xC3BD383Ed5B4F682F5848E63079dF9E5b5261253\".downcase #2.26 eth\nfomo_addr = \"0x45199Ac8507bb38A8734B104f18E881bac832c25\".downcase\nfomo_addr_abi = fomo_addr = \"0x4e8ecF79AdE5e2C49B9e30D795517A81e0Bf00B8\".downcase #86 eth\nfomo_addr = \"0x254176471c09b5c4f6790e000af98894459ad334\".downcase\nfomo_addr_abi = fomo_addr = \"0x254176471c09b5c4f6790e000af98894459ad334\".downcase # balance < pot\n\n\nfomo_addr_abi = fomo_addr = \"0xd7378939089abd6656d3f523bf55edcd2213332c\".downcase #86 eth\nfomo_addr = \"0x05aa2fdf9f58b426b49900834cce0565d88e52eb\".downcase\n\n\nplayerbook_name = \"PlayerBook\"\nplayerbook_addr_abi = playerbook_addr= \"0x18A586F55DA3C95Fe1bD79A4E54F9a37987b688A\".downcase\nplayerbook_addr = \"0x27D5C0C175C1Ba67986319ac297d2F4D3bC2b7b2\".downcase\nplayerbook_addr_abi = playerbook_addr = \"0x27D5C0C175C1Ba67986319ac297d2F4D3bC2b7b2\".downcase\n#playerbook_addr = ???\nplayerbook_addr_abi = playerbook_addr = \"0xD60d353610D9a5Ca478769D371b53CEfAA7B6E4c\".downcase\n\n# playerbook_addr = nil\n# playerbook_addr_abi = playerbook_addr = nil\n\n# 定义账户\nsender_account = \"0xaCC961474eb17C103BBed96FC8f0E4eEac91c475\"\nsender_priv_key = \"6ac277496bb17f43074545db8e2e26e903aa014687448d8ed564d9881ce9bda9\"\nsender_key = Eth::Key.new priv: sender_priv_key\n\nimpersonate_account = \"0xf39fd6e51aad88f6f4ce6ab8827279cfffb92266\"\nimpersonate_priv_key = \"ac0974bec39a17e36ba4a6b4d238ff944bacb478cbed5efcae784d7bf4f2ff80\"\nimpersonate_key = Eth::Key.new priv: impersonate_priv_key\n\n\n# 创建Client\n$client = Ethereum::HttpClient.new(\"http://127.0.0.1:8545/\")\n$client.gas_limit = 30_000_000\n$client.gas_price = $client.eth_gas_price[\"result\"].to_i(16)\n\n# 创建Fomo Contract\nfomo_abi_url = \"https://api.etherscan.io/api?module=contract&action=getabi&address=#{fomo_addr_abi}&apikey=#{etherscan_apikey}\"\nfomo_abi = JSON.parse(Faraday.get(fomo_abi_url).body)[\"result\"]\n\n$fomo_contract = Ethereum::Contract.create(\n        client: $client, \n        name: fomo_name, \n        address: fomo_addr, \n        abi: fomo_abi)\n\n$fomo_contract.key = sender_key\n$fomo_contract.gas_limit = 30_000_000\n$fomo_contract.gas_price = $client.eth_gas_price[\"result\"].to_i(16)\n\n\n# 创建PlayerBook Contract\nplayerbook_abi_url = \"https://api.etherscan.io/api?module=contract&action=getabi&address=#{playerbook_addr_abi}&apikey=#{etherscan_apikey}\"\nplayerbook_abi = JSON.parse(Faraday.get(playerbook_abi_url).body)[\"result\"]\n\n$playerbook_contract = Ethereum::Contract.create(\n        client: $client, \n        name: playerbook_name, \n        address: playerbook_addr, \n        abi: playerbook_abi)\n\n$playerbook_contract.key = sender_key\n$playerbook_contract.gas_limit = 30_000_000\n$playerbook_contract.gas_price = $client.eth_gas_price[\"result\"].to_i(16)\n\nnil",
   "outputs": [],
   "execution_count": null
  },
  {
   "cell_type": "code",
   "metadata": {
    "cell_id": "c95f1745-81fb-4ac8-9f31-b6ed6fa3ba27",
    "tags": [],
    "deepnote_to_be_reexecuted": false,
    "source_hash": "f905bfd6",
    "execution_start": 1647705993463,
    "execution_millis": 1765549,
    "deepnote_cell_type": "code",
    "deepnote_cell_height": 244.1875,
    "deepnote_output_heights": [
     21.1875
    ]
   },
   "source": "decoder = Ethereum::Decoder.new\n\n_abi_constructor, _abi_function, _abi_event = Ethereum::Abi.parse_abi($fomo_contract.abi)\n\nevent_abi = _abi_event.map do |x|\n   [\"0x\"+x.signature,$fomo_contract.abi.filter {|y| y[\"name\"]==x.name}[0]]\nend.to_h\n",
   "outputs": [
    {
     "output_type": "execute_result",
     "execution_count": 68,
     "data": {
      "text/plain": "{\"0x8f36579a548bc439baa172a6521207464154da77f411e2da3db2f53affe6cc3a\"=>{\"anonymous\"=>false, \"inputs\"=>[{\"indexed\"=>true, \"name\"=>\"playerID\", \"type\"=>\"uint256\"}, {\"indexed\"=>false, \"name\"=>\"playerAddress\", \"type\"=>\"address\"}, {\"indexed\"=>false, \"name\"=>\"playerName\", \"type\"=>\"bytes32\"}, {\"indexed\"=>false, \"name\"=>\"ethOut\", \"type\"=>\"uint256\"}, {\"indexed\"=>false, \"name\"=>\"timeStamp\", \"type\"=>\"uint256\"}], \"name\"=>\"onWithdraw\", \"type\"=>\"event\"}, \"0x00af92312107f6175aa18020d4c26cc83792028aa65c484d8c2833fe42584b59\"=>{\"anonymous\"=>false, \"inputs\"=>[{\"indexed\"=>true, \"name\"=>\"playerID\", \"type\"=>\"uint256\"}, {\"indexed\"=>true, \"name\"=>\"playerAddress\", \"type\"=>\"address\"}, {\"indexed\"=>true, \"name\"=>\"playerName\", \"type\"=>\"bytes32\"}, {\"indexed\"=>false, \"name\"=>\"roundID\", \"type\"=>\"uint256\"}, {\"indexed\"=>false, \"name\"=>\"ethIn\", \"type\"=>\"uint256\"}, {\"indexed\"=>false, \"name\"=>\"keys\", \"type\"=>\"uint256\"}, {\"indexed\"=>false, \"name\"=>\"timeStamp\", \"type\"=>\"uint256\"}], \"name\"=>\"onBuyKey\", \"type\"=>\"event\"}, \"0x38eaa4d2ed3700699db84b623b4803500182d44c3a4d20bf89c71b1c38e08f6b\"=>{\"anonymous\"=>false, \"inputs\"=>[{\"indexed\"=>true, \"name\"=>\"playerID\", \"type\"=>\"uint256\"}, {\"indexed\"=>true, \"name\"=>\"playerAddress\", \"type\"=>\"address\"}, {\"indexed\"=>true, \"name\"=>\"playerName\", \"type\"=>\"bytes32\"}, {\"indexed\"=>false, \"name\"=>\"cardID\", \"type\"=>\"uint256\"}, {\"indexed\"=>false, \"name\"=>\"ethIn\", \"type\"=>\"uint256\"}, {\"indexed\"=>false, \"name\"=>\"timeStamp\", \"type\"=>\"uint256\"}], \"name\"=>\"onBuyCard\", \"type\"=>\"event\"}, \"0xf6cd2ad4d8c4552391c717ce089afb3f5f8e81b9f4284296b88cc96790d6ac1e\"=>{\"anonymous\"=>false, \"inputs\"=>[{\"indexed\"=>false, \"name\"=>\"winnerAddr\", \"type\"=>\"address\"}, {\"indexed\"=>false, \"name\"=>\"winnerName\", \"type\"=>\"bytes32\"}, {\"indexed\"=>false, \"name\"=>\"roundID\", \"type\"=>\"uint256\"}, {\"indexed\"=>false, \"name\"=>\"amountWon\", \"type\"=>\"uint256\"}, {\"indexed\"=>false, \"name\"=>\"newPot\", \"type\"=>\"uint256\"}, {\"indexed\"=>false, \"name\"=>\"timeStamp\", \"type\"=>\"uint256\"}], \"name\"=>\"onRoundEnd\", \"type\"=>\"event\"}, \"0x714895308a465f8e2b47a676b0111d2699a483954ff0a223b021867cf45437e2\"=>{\"anonymous\"=>false, \"inputs\"=>[{\"indexed\"=>false, \"name\"=>\"dropwinner\", \"type\"=>\"address\"}, {\"indexed\"=>false, \"name\"=>\"winnerName\", \"type\"=>\"bytes32\"}, {\"indexed\"=>false, \"name\"=>\"roundID\", \"type\"=>\"uint256\"}, {\"indexed\"=>false, \"name\"=>\"droptype\", \"type\"=>\"uint256\"}, {\"indexed\"=>false, \"name\"=>\"win\", \"type\"=>\"uint256\"}, {\"indexed\"=>false, \"name\"=>\"timeStamp\", \"type\"=>\"uint256\"}], \"name\"=>\"onDrop\", \"type\"=>\"event\"}}"
     },
     "metadata": {}
    }
   ],
   "execution_count": null
  },
  {
   "cell_type": "code",
   "metadata": {
    "cell_id": "e2fcb4fb-5fb8-4329-8b73-fa6fa6e90f0c",
    "tags": [],
    "deepnote_to_be_reexecuted": false,
    "source_hash": "bdb71107",
    "execution_start": 1647705994741,
    "execution_millis": 5,
    "deepnote_cell_type": "code",
    "deepnote_cell_height": 154.1875,
    "deepnote_output_heights": [
     21.1875
    ]
   },
   "source": "def get_balance(addr)\n    $client.eth_get_balance(addr)[\"result\"].to_i(16)/1e18.to_f\nend",
   "outputs": [
    {
     "output_type": "execute_result",
     "execution_count": 69,
     "data": {
      "text/plain": ":get_balance"
     },
     "metadata": {}
    }
   ],
   "execution_count": null
  },
  {
   "cell_type": "code",
   "metadata": {
    "cell_id": "c3e1c486-b52a-4490-9444-99e1df79cba0",
    "tags": [],
    "deepnote_to_be_reexecuted": false,
    "source_hash": "45c4ea2",
    "execution_start": 1647705996063,
    "execution_millis": 165,
    "deepnote_cell_type": "code",
    "deepnote_cell_height": 276
   },
   "source": "# ===== View Account Balance =======\n\naccounts = [sender_account,impersonate_account]\n\noutput = accounts.map do |addr|\n  [addr, get_balance(addr)].join(\" - \")\nend.join(\"\\n\")\n\nputs output",
   "outputs": [
    {
     "name": "stdout",
     "text": "0xaCC961474eb17C103BBed96FC8f0E4eEac91c475 - 99.98950159685413\n0xf39fd6e51aad88f6f4ce6ab8827279cfffb92266 - 9899.980326880512\n",
     "output_type": "stream"
    }
   ],
   "execution_count": null
  },
  {
   "cell_type": "code",
   "metadata": {
    "cell_id": "b16c3627-82ca-42ec-94f2-98403a0e19fc",
    "tags": [],
    "deepnote_to_be_reexecuted": false,
    "source_hash": "4af8cbda",
    "execution_start": 1647705996585,
    "execution_millis": 56,
    "deepnote_cell_type": "code",
    "deepnote_cell_height": 402
   },
   "source": "## 操作账户转账到Sender account = 100 ETH\nsender_balance = get_balance(sender_account)\nimpersonate_balance =  get_balance(impersonate_account)\namount = 100.to_i-sender_balance\n$client.transfer(impersonate_key, sender_account, (amount*1e18).to_i) if amount>0\n\n\n# ===== View Account Balance =======\n\naccounts = [sender_account,impersonate_account]\n\noutput = accounts.map do |addr|\n  [addr, get_balance(addr)].join(\" - \")\nend.join(\"\\n\")\n\nputs output",
   "outputs": [
    {
     "name": "stdout",
     "text": "0xaCC961474eb17C103BBed96FC8f0E4eEac91c475 - 99.99999999999999\n0xf39fd6e51aad88f6f4ce6ab8827279cfffb92266 - 9899.969595009115\n",
     "output_type": "stream"
    }
   ],
   "execution_count": null
  },
  {
   "cell_type": "code",
   "metadata": {
    "cell_id": "907034cd-46b3-4e6b-ac3b-dbde05ff9a52",
    "tags": [],
    "deepnote_to_be_reexecuted": false,
    "source_hash": "7fc9bfcf",
    "execution_start": 1647705997504,
    "execution_millis": 0,
    "deepnote_cell_type": "code",
    "deepnote_cell_height": 279
   },
   "source": "# # === Inspect PlayerBook ===\n\n\n# puts \"==Read==\"\n# puts $playerbook_contract.abi.filter{ |x| x[\"constant\"]==true }\n#     .filter{ |x| x[\"type\"]==\"function\" }\n#     .map {|x| [x[\"type\"],x[\"name\"],x[\"inputs\"].to_s,x[\"outputs\"].to_s].join(\" - \") }.join(\"\\n\")\n\n# puts \"==Write==\"\n# puts $playerbook_contract.abi.filter{ |x| x[\"constant\"]==false }\n#     .filter{ |x| x[\"type\"]==\"function\" }\n#     .map {|x| [x[\"type\"],x[\"name\"],x[\"inputs\"].to_s,x[\"outputs\"].to_s].join(\" - \") }.join(\"\\n\")",
   "outputs": [],
   "execution_count": null
  },
  {
   "cell_type": "code",
   "metadata": {
    "cell_id": "e513b005-f0dc-480d-ba7f-c7c2e145bb88",
    "tags": [],
    "deepnote_to_be_reexecuted": false,
    "source_hash": "6ef42564",
    "execution_start": 1647705998723,
    "execution_millis": 1766642,
    "deepnote_cell_type": "code",
    "deepnote_cell_height": 729
   },
   "source": "# # 查询合约情况\n\n# gID_ = $playerbook_contract.call.g_id_\n# pID_ = $playerbook_contract.call.p_id_\n# registrationFee_ = $playerbook_contract.call.registration_fee_\n# getNameFee = $playerbook_contract.call.get_name_fee\n\n# puts \"gID_ = #{gID_}\"\n# puts \"pID_ = #{pID_}\"\n# puts \"registrationFee_ = #{registrationFee_}\"\n# puts \"getNameFee = #{getNameFee}\"\n\n# addrs = Parallel.map( (1..pID_), in_threads: 20) do |i|\n#     {pid:i,addr:$playerbook_contract.call.get_player_addr(i)}\n# end\n\n# games = (1..gID_).map do |i|\n#     {gid:i, addr:$playerbook_contract.call.games_(i)}\n# end\n\n\n# puts\n# puts \"player addr:\"\n# puts addrs.map {|x| \n#     [x[:addr],\n#      $playerbook_contract.call.get_player_name(x[:pid]),\n#      $playerbook_contract.call.get_player_l_aff(x[:pid]) \n#      ]\n#      .join(\" - \") }.join(\"\\n\")\n# puts \"\\n\"\n# puts \"game addr:\"\n# puts games.map {|x| \n#     [x[:addr],\n#      $playerbook_contract.call.game_names_(x[:addr]),\n#      get_balance(\"0x\"+x[:addr])]\n#     .join(\" - \")}.join(\"\\n\")\n",
   "outputs": [],
   "execution_count": null
  },
  {
   "cell_type": "code",
   "metadata": {
    "cell_id": "adbdcb84-6fef-428e-97fd-a74dad41bf79",
    "tags": [],
    "deepnote_to_be_reexecuted": false,
    "source_hash": "8fd209a7",
    "execution_start": 1647705999932,
    "execution_millis": 7,
    "deepnote_cell_type": "code",
    "deepnote_cell_height": 899
   },
   "source": "# === Inspect Fomo ===\n\n\nputs \"==Read==\"\nputs $fomo_contract.abi.filter{ |x| x[\"constant\"]==true }\n    .filter{ |x| x[\"type\"]==\"function\" }\n    .map {|x| [x[\"type\"],x[\"name\"],x[\"inputs\"].to_s,x[\"outputs\"].to_s].join(\" - \") }.join(\"\\n\")\n\nputs \"==Write==\"\nputs $fomo_contract.abi.filter{ |x| x[\"constant\"]==false }\n    .filter{ |x| x[\"type\"]==\"function\" }\n    .map {|x| [x[\"type\"],x[\"name\"],x[\"inputs\"].to_s,x[\"outputs\"].to_s].join(\" - \") }.join(\"\\n\")",
   "outputs": [
    {
     "name": "stdout",
     "text": "==Read==\nfunction - pIDxAddr - [{\"name\"=>\"\", \"type\"=>\"address\"}] - [{\"name\"=>\"\", \"type\"=>\"uint256\"}]\nfunction - getCards - [{\"name\"=>\"_id\", \"type\"=>\"uint256\"}] - [{\"name\"=>\"\", \"type\"=>\"uint256\"}, {\"name\"=>\"\", \"type\"=>\"address\"}, {\"name\"=>\"\", \"type\"=>\"bytes32\"}, {\"name\"=>\"\", \"type\"=>\"uint256\"}, {\"name\"=>\"\", \"type\"=>\"uint256\"}]\nfunction - name - [] - [{\"name\"=>\"\", \"type\"=>\"string\"}]\nfunction - getBuyPrice - [{\"name\"=>\"_key\", \"type\"=>\"uint256\"}] - [{\"name\"=>\"\", \"type\"=>\"uint256\"}]\nfunction - potSplit - [{\"name\"=>\"\", \"type\"=>\"uint256\"}] - [{\"name\"=>\"allPlayer\", \"type\"=>\"uint256\"}, {\"name\"=>\"lastWinner\", \"type\"=>\"uint256\"}, {\"name\"=>\"inviter1st\", \"type\"=>\"uint256\"}, {\"name\"=>\"inviter2nd\", \"type\"=>\"uint256\"}, {\"name\"=>\"inviter3rd\", \"type\"=>\"uint256\"}, {\"name\"=>\"key1st\", \"type\"=>\"uint256\"}, {\"name\"=>\"key2nd\", \"type\"=>\"uint256\"}, {\"name\"=>\"key3rd\", \"type\"=>\"uint256\"}, {\"name\"=>\"next\", \"type\"=>\"uint256\"}]\nfunction - getPlayerVaults - [] - [{\"name\"=>\"\", \"type\"=>\"uint256\"}, {\"name\"=>\"\", \"type\"=>\"uint256\"}, {\"name\"=>\"\", \"type\"=>\"uint256\"}, {\"name\"=>\"\", \"type\"=>\"uint256\"}, {\"name\"=>\"\", \"type\"=>\"uint256\"}]\nfunction - rIDRound - [{\"name\"=>\"\", \"type\"=>\"uint256\"}] - [{\"name\"=>\"leadPID\", \"type\"=>\"uint256\"}, {\"name\"=>\"end\", \"type\"=>\"uint256\"}, {\"name\"=>\"ended\", \"type\"=>\"bool\"}, {\"name\"=>\"strt\", \"type\"=>\"uint256\"}, {\"name\"=>\"team1Keys\", \"type\"=>\"uint256\"}, {\"name\"=>\"team2Keys\", \"type\"=>\"uint256\"}, {\"name\"=>\"eth\", \"type\"=>\"uint256\"}, {\"name\"=>\"pot\", \"type\"=>\"uint256\"}, {\"name\"=>\"team\", \"type\"=>\"uint256\"}, {\"name\"=>\"teamPot\", \"type\"=>\"uint256\"}, {\"name\"=>\"smallDrop\", \"type\"=>\"uint256\"}, {\"name\"=>\"bigDrop\", \"type\"=>\"uint256\"}, {\"name\"=>\"playerPot\", \"type\"=>\"uint256\"}, {\"name\"=>\"mask\", \"type\"=>\"uint256\"}]\nfunction - pID - [] - [{\"name\"=>\"\", \"type\"=>\"uint256\"}]\nfunction - getCurrentRoundInfo - [] - [{\"name\"=>\"\", \"type\"=>\"uint256\"}, {\"name\"=>\"\", \"type\"=>\"uint256\"}, {\"name\"=>\"\", \"type\"=>\"uint256\"}, {\"name\"=>\"\", \"type\"=>\"uint256\"}, {\"name\"=>\"\", \"type\"=>\"uint256\"}, {\"name\"=>\"\", \"type\"=>\"uint256\"}, {\"name\"=>\"\", \"type\"=>\"uint256\"}, {\"name\"=>\"\", \"type\"=>\"address\"}, {\"name\"=>\"\", \"type\"=>\"bytes32\"}, {\"name\"=>\"\", \"type\"=>\"uint256\"}, {\"name\"=>\"\", \"type\"=>\"uint256\"}, {\"name\"=>\"\", \"type\"=>\"uint256\"}]\nfunction - pIDxName - [{\"name\"=>\"\", \"type\"=>\"bytes32\"}] - [{\"name\"=>\"\", \"type\"=>\"uint256\"}]\nfunction - symbol - [] - [{\"name\"=>\"\", \"type\"=>\"string\"}]\nfunction - pIDPlayer - [{\"name\"=>\"\", \"type\"=>\"uint256\"}] - [{\"name\"=>\"addr\", \"type\"=>\"address\"}, {\"name\"=>\"name\", \"type\"=>\"bytes32\"}, {\"name\"=>\"win\", \"type\"=>\"uint256\"}, {\"name\"=>\"gen\", \"type\"=>\"uint256\"}, {\"name\"=>\"inv\", \"type\"=>\"uint256\"}, {\"name\"=>\"tim\", \"type\"=>\"uint256\"}, {\"name\"=>\"crd\", \"type\"=>\"uint256\"}, {\"name\"=>\"lrnd\", \"type\"=>\"uint256\"}, {\"name\"=>\"inviter1\", \"type\"=>\"uint256\"}, {\"name\"=>\"inviter2\", \"type\"=>\"uint256\"}, {\"name\"=>\"vip\", \"type\"=>\"uint256\"}]\nfunction - rID - [] - [{\"name\"=>\"\", \"type\"=>\"uint256\"}]\nfunction - getRankList - [] - [{\"name\"=>\"\", \"type\"=>\"address[3]\"}, {\"name\"=>\"\", \"type\"=>\"uint256[3]\"}, {\"name\"=>\"\", \"type\"=>\"bytes32[3]\"}, {\"name\"=>\"\", \"type\"=>\"address[3]\"}, {\"name\"=>\"\", \"type\"=>\"uint256[3]\"}, {\"name\"=>\"\", \"type\"=>\"bytes32[3]\"}]\nfunction - deposit - [{\"name\"=>\"\", \"type\"=>\"uint256\"}] - [{\"name\"=>\"allPlayer\", \"type\"=>\"uint256\"}, {\"name\"=>\"pot\", \"type\"=>\"uint256\"}, {\"name\"=>\"devfunds\", \"type\"=>\"uint256\"}, {\"name\"=>\"teamFee\", \"type\"=>\"uint256\"}, {\"name\"=>\"cards\", \"type\"=>\"uint256\"}, {\"name\"=>\"inviter\", \"type\"=>\"uint256\"}, {\"name\"=>\"bigDrop\", \"type\"=>\"uint256\"}, {\"name\"=>\"smallDrop\", \"type\"=>\"uint256\"}]\nfunction - getTeamFee - [{\"name\"=>\"_addr\", \"type\"=>\"address\"}] - [{\"name\"=>\"\", \"type\"=>\"uint256\"}]\nfunction - pIDPlayerRound - [{\"name\"=>\"\", \"type\"=>\"uint256\"}, {\"name\"=>\"\", \"type\"=>\"uint256\"}] - [{\"name\"=>\"eth\", \"type\"=>\"uint256\"}, {\"name\"=>\"team1Keys\", \"type\"=>\"uint256\"}, {\"name\"=>\"team2Keys\", \"type\"=>\"uint256\"}, {\"name\"=>\"inv\", \"type\"=>\"uint256\"}, {\"name\"=>\"mask\", \"type\"=>\"uint256\"}, {\"name\"=>\"invMask\", \"type\"=>\"uint256\"}, {\"name\"=>\"score\", \"type\"=>\"uint256\"}]\nfunction - getTimeLeft - [] - [{\"name\"=>\"\", \"type\"=>\"uint256\"}]\nfunction - getScore - [{\"name\"=>\"_addr\", \"type\"=>\"address\"}] - [{\"name\"=>\"\", \"type\"=>\"uint256\"}]\nfunction - getPlayerInfoByAddress - [{\"name\"=>\"_addr\", \"type\"=>\"address\"}] - [{\"name\"=>\"\", \"type\"=>\"uint256\"}, {\"name\"=>\"\", \"type\"=>\"bytes32\"}, {\"name\"=>\"\", \"type\"=>\"uint256\"}, {\"name\"=>\"\", \"type\"=>\"uint256\"}, {\"name\"=>\"\", \"type\"=>\"uint256\"}]\n==Write==\nfunction - buyCardXid - [{\"name\"=>\"_cID\", \"type\"=>\"uint256\"}, {\"name\"=>\"_inviter\", \"type\"=>\"uint256\"}] - []\nfunction - startFirstRound - [] - []\nfunction - withdraw - [] - []\nfunction - activeNTA - [] - []\nfunction - buyXname - [{\"name\"=>\"_team\", \"type\"=>\"uint256\"}, {\"name\"=>\"_invName\", \"type\"=>\"string\"}] - []\nfunction - setInviterCode - [{\"name\"=>\"_addr\", \"type\"=>\"address\"}, {\"name\"=>\"_inv\", \"type\"=>\"uint256\"}, {\"name\"=>\"_vip\", \"type\"=>\"uint256\"}, {\"name\"=>\"_nameString\", \"type\"=>\"string\"}] - []\nfunction - buyCardXname - [{\"name\"=>\"_cID\", \"type\"=>\"uint256\"}, {\"name\"=>\"_invName\", \"type\"=>\"string\"}] - []\nfunction - buyXid - [{\"name\"=>\"_team\", \"type\"=>\"uint256\"}, {\"name\"=>\"_inviter\", \"type\"=>\"uint256\"}] - []\nfunction - registNameXname - [{\"name\"=>\"_nameString\", \"type\"=>\"string\"}, {\"name\"=>\"_inviterName\", \"type\"=>\"string\"}] - []\nfunction - registNameXid - [{\"name\"=>\"_nameString\", \"type\"=>\"string\"}, {\"name\"=>\"_inviter\", \"type\"=>\"uint256\"}] - []\nfunction - teamWithdraw - [] - []\n",
     "output_type": "stream"
    }
   ],
   "execution_count": null
  },
  {
   "cell_type": "code",
   "metadata": {
    "cell_id": "d509dab3-937b-4281-8269-e415040b2a43",
    "tags": [],
    "deepnote_to_be_reexecuted": false,
    "source_hash": "947f2542",
    "execution_start": 1647706001697,
    "execution_millis": 243,
    "deepnote_cell_type": "code",
    "deepnote_cell_height": 298.1875
   },
   "source": "$fomo_contract.abi.filter{ |x| x[\"constant\"]==true }\n    .filter{ |x| x[\"type\"]==\"function\" }\n    .filter{ |x| x[\"inputs\"]==[]}.map {|x| x[\"name\"]}.map { |x| \n        puts \"#{x} = #{$fomo_contract.call.send(x.underscore)}\"\n    }\n\nputs",
   "outputs": [
    {
     "name": "stdout",
     "text": "name = Bingo4Beast Long Official\n",
     "output_type": "stream"
    },
    {
     "output_type": "error",
     "ename": "IOError",
     "evalue": "Error: VM Exception while processing transaction: reverted with reason string 'eth less'",
     "traceback": [
      "\u001b[31mIOError\u001b[0m: Error: VM Exception while processing transaction: reverted with reason string 'eth less'",
      "/usr/local/bundle/gems/ethereum.rb-2.5/lib/ethereum/client.rb:129:in `send_command'",
      "/usr/local/bundle/gems/ethereum.rb-2.5/lib/ethereum/client.rb:137:in `block (2 levels) in <class:Client>'",
      "/usr/local/bundle/gems/ethereum.rb-2.5/lib/ethereum/contract.rb:173:in `call_raw'",
      "/usr/local/bundle/gems/ethereum.rb-2.5/lib/ethereum/contract.rb:179:in `call'",
      "/usr/local/bundle/gems/ethereum.rb-2.5/lib/ethereum/contract.rb:322:in `block (2 levels) in create_function_proxies'",
      "(irb):3:in `block in irb_binding'",
      "(irb):2:in `map'",
      "(irb):2:in `irb_binding'"
     ]
    }
   ],
   "execution_count": null
  },
  {
   "cell_type": "code",
   "source": "puts $fomo_contract.call.p_id_player_round(1,0)",
   "metadata": {
    "cell_id": "28f54160-8131-483e-8724-6312bc1d1c03",
    "tags": [],
    "deepnote_to_be_reexecuted": false,
    "source_hash": "f575055b",
    "execution_start": 1647706128450,
    "execution_millis": 11,
    "deepnote_cell_type": "code",
    "deepnote_cell_height": 144.1875
   },
   "outputs": [
    {
     "output_type": "error",
     "ename": "IOError",
     "evalue": "Error: VM Exception while processing transaction: reverted with reason string 'eth less'",
     "traceback": [
      "\u001b[31mIOError\u001b[0m: Error: VM Exception while processing transaction: reverted with reason string 'eth less'",
      "/usr/local/bundle/gems/ethereum.rb-2.5/lib/ethereum/client.rb:129:in `send_command'",
      "/usr/local/bundle/gems/ethereum.rb-2.5/lib/ethereum/client.rb:137:in `block (2 levels) in <class:Client>'",
      "/usr/local/bundle/gems/ethereum.rb-2.5/lib/ethereum/contract.rb:173:in `call_raw'",
      "/usr/local/bundle/gems/ethereum.rb-2.5/lib/ethereum/contract.rb:179:in `call'",
      "/usr/local/bundle/gems/ethereum.rb-2.5/lib/ethereum/contract.rb:322:in `block (2 levels) in create_function_proxies'",
      "(irb):in `irb_binding'"
     ]
    }
   ],
   "execution_count": null
  },
  {
   "cell_type": "code",
   "metadata": {
    "cell_id": "faa21a37-2825-4ee0-a190-1b72f8e613c2",
    "tags": [],
    "deepnote_to_be_reexecuted": false,
    "source_hash": "d7a4c713",
    "execution_start": 1647704237928,
    "execution_millis": 2028,
    "deepnote_cell_type": "code",
    "deepnote_cell_height": 354
   },
   "source": "index = 1\nplayers = []\nloop do\n    puts index\n    player = $fomo_contract.call.plyr_(index)\n    index=index+1 \n    break if player[0]==\"0000000000000000000000000000000000000000\"\n    players.push ({addr:player[0],pid:index-1})\nend\n",
   "outputs": [
    {
     "name": "stdout",
     "text": "1\n2\n3\n4\n5\n",
     "output_type": "stream"
    }
   ],
   "execution_count": null
  },
  {
   "cell_type": "code",
   "metadata": {
    "cell_id": "64242f2d-1346-4e9c-830d-5bca54665511",
    "tags": [],
    "deepnote_to_be_reexecuted": false,
    "source_hash": "232d986c",
    "execution_start": 1647704242563,
    "execution_millis": 1441,
    "deepnote_cell_type": "code",
    "deepnote_cell_height": 1083,
    "deepnote_output_heights": [
     null,
     148
    ]
   },
   "source": "puts \"player addr:\"\ntotal_vaults = 0\ntable = players.map {|x| \n# table = addrs.map {|x| \n     a=$fomo_contract.call.get_player_info_by_address(x[:addr])\n     b=$fomo_contract.call.get_player_vaults(x[:pid])\n     c=$fomo_contract.call.plyr_(x[:pid]) \n\n    total_vaults =total_vaults+ a[3]/1e18+a[4]/1e18+a[5]/1e18 #b[0]+b[1]+b[2]\n    [x[:addr],a[1],a[2],a[3],a[4],a[5],a[6],b[0],b[1],b[2],c[5],c[6]]\n}\n\nheader = %w(addr name keys  winnings  general  affiliate  round_eth winnings  general  affiliate lrnd laff)\n\nhtml = \"\"\"\n  <table>\n    <tr>\n<%  header.each do |x| %>\n        <th><%= x %></th>\n<% end %>\n    </tr>\n    <%\n       table.each_with_index do |x,i| \n       %>\n    <tr>\n        <td><%=x[0]%></td>\n        <td><%=x[1]%></td>\n        <td><%=x[2]/1e18%></td>\n        <td><%=x[3]/1e18%></td>\n        <td><%=x[4]/1e18%></td>\n        <td><%=x[5]/1e18%></td>\n        <td><%=x[6]/1e18%></td>\n        <td><%=x[7]/1e18%></td>\n        <td><%=x[8]/1e18%></td>\n        <td><%=x[9]/1e18%></td>\n        <td><%=x[10]%></td>\n        <td><%=x[11]%></td>\n    </tr>\n    <% \n       end %>\n  </table>\n\"\"\"\n\nIRuby.html ERB.new(html).result(binding)\n",
   "outputs": [
    {
     "name": "stdout",
     "text": "player addr:\n",
     "output_type": "stream"
    },
    {
     "output_type": "execute_result",
     "execution_count": 46,
     "data": {
      "text/plain": "\"\\n  <table>\\n    <tr>\\n\\n        <th>addr</th>\\n\\n        <th>name</th>\\n\\n        <th>keys</th>\\n\\n        <th>winnings</th>\\n\\n        <th>general</th>\\n\\n        <th>affiliate</th>\\n\\n        <th>round_eth</th>\\n\\n        <th>winnings</th>\\n\\n        <th>general</th>\\n\\n        <th>affiliate</th>\\n\\n        <th>lrnd</th>\\n\\n        <th>laff</th>\\n\\n    </tr>\\n    \\n    <tr>\\n        <td>a78cd12e5f2daf88023f0bfe119eac8b3f3dbc93</td>\\n        <td>sunson</td>\\n        <td>13.650971698084911</td>\\n        <td>0.0</td>\\n        <td>0.04692571997900529</td>\\n        <td>0.0</td>\\n        <td>0.01</td>\\n        <td>0.0</td>\\n        <td>0.06519860342115283</td>\\n        <td>0.0</td>\\n        <td>3</td>\\n        <td>0</td>\\n    </tr>\\n    \\n    <tr>\\n        <td>fb31eb7b96e413bebee61f5e3880938b937c2ef0</td>\\n        <td>gogogo</td>\\n        <td>0.0</td>\\n        <td>0.0</td>\\n        <td>0.0</td>\\n        <td>0.0</td>\\n        <td>0.0</td>\\n        <td>0.0</td>\\n        <td>0.0</td>\\n        <td>0.0</td>\\n        <td>0</td>\\n        <td>0</td>\\n    </tr>\\n    \\n    <tr>\\n        <td>ea8a4f09c45967dfcfda180fa80ad44eefab52be</td>\\n        <td>play</td>\\n        <td>0.0</td>\\n        <td>0.0</td>\\n        <td>0.0</td>\\n        <td>0.0</td>\\n        <td>0.0</td>\\n        <td>0.0</td>\\n        <td>0.0</td>\\n        <td>0.0</td>\\n        <td>0</td>\\n        <td>0</td>\\n    </tr>\\n    \\n    <tr>\\n        <td>f1e32a3eaa5d6c360af6aa2c45a97e377be183bd</td>\\n        <td>begin</td>\\n        <td>0.0</td>\\n        <td>0.0</td>\\n        <td>0.0</td>\\n        <td>0.0</td>\\n        <td>0.0</td>\\n        <td>0.0</td>\\n        <td>0.0</td>\\n        <td>0.0</td>\\n        <td>0</td>\\n        <td>0</td>\\n    </tr>\\n    \\n  </table>\\n\"",
      "text/html": "\n  <table>\n    <tr>\n\n        <th>addr</th>\n\n        <th>name</th>\n\n        <th>keys</th>\n\n        <th>winnings</th>\n\n        <th>general</th>\n\n        <th>affiliate</th>\n\n        <th>round_eth</th>\n\n        <th>winnings</th>\n\n        <th>general</th>\n\n        <th>affiliate</th>\n\n        <th>lrnd</th>\n\n        <th>laff</th>\n\n    </tr>\n    \n    <tr>\n        <td>a78cd12e5f2daf88023f0bfe119eac8b3f3dbc93</td>\n        <td>sunson</td>\n        <td>13.650971698084911</td>\n        <td>0.0</td>\n        <td>0.04692571997900529</td>\n        <td>0.0</td>\n        <td>0.01</td>\n        <td>0.0</td>\n        <td>0.06519860342115283</td>\n        <td>0.0</td>\n        <td>3</td>\n        <td>0</td>\n    </tr>\n    \n    <tr>\n        <td>fb31eb7b96e413bebee61f5e3880938b937c2ef0</td>\n        <td>gogogo</td>\n        <td>0.0</td>\n        <td>0.0</td>\n        <td>0.0</td>\n        <td>0.0</td>\n        <td>0.0</td>\n        <td>0.0</td>\n        <td>0.0</td>\n        <td>0.0</td>\n        <td>0</td>\n        <td>0</td>\n    </tr>\n    \n    <tr>\n        <td>ea8a4f09c45967dfcfda180fa80ad44eefab52be</td>\n        <td>play</td>\n        <td>0.0</td>\n        <td>0.0</td>\n        <td>0.0</td>\n        <td>0.0</td>\n        <td>0.0</td>\n        <td>0.0</td>\n        <td>0.0</td>\n        <td>0.0</td>\n        <td>0</td>\n        <td>0</td>\n    </tr>\n    \n    <tr>\n        <td>f1e32a3eaa5d6c360af6aa2c45a97e377be183bd</td>\n        <td>begin</td>\n        <td>0.0</td>\n        <td>0.0</td>\n        <td>0.0</td>\n        <td>0.0</td>\n        <td>0.0</td>\n        <td>0.0</td>\n        <td>0.0</td>\n        <td>0.0</td>\n        <td>0</td>\n        <td>0</td>\n    </tr>\n    \n  </table>\n"
     },
     "metadata": {}
    }
   ],
   "execution_count": null
  },
  {
   "cell_type": "code",
   "metadata": {
    "cell_id": "55a991ab-d973-4498-88c5-0212dfa5a2b2",
    "tags": [],
    "deepnote_to_be_reexecuted": false,
    "source_hash": "b4e839b3",
    "execution_start": 1647704244023,
    "execution_millis": 22,
    "deepnote_cell_type": "code",
    "deepnote_cell_height": 188
   },
   "source": "puts \"total_vaults - #{total_vaults}\"\nputs \"contract_balance - #{get_balance(fomo_addr)}\"\nputs \"diff = #{get_balance(fomo_addr)-total_vaults}\"",
   "outputs": [
    {
     "name": "stdout",
     "text": "total_vaults - 0.04692571997900529\ncontract_balance - 0.5598145300233387\ndiff = 0.5128888100443334\n",
     "output_type": "stream"
    }
   ],
   "execution_count": null
  },
  {
   "cell_type": "code",
   "metadata": {
    "cell_id": "17247fae-48c9-49db-9b90-c3335cc03c9b",
    "tags": [],
    "deepnote_to_be_reexecuted": false,
    "source_hash": "c4813c5d",
    "execution_start": 1647704293949,
    "execution_millis": 576,
    "deepnote_cell_type": "code",
    "deepnote_cell_height": 1044,
    "deepnote_output_heights": [
     119
    ]
   },
   "source": "rID_ = $fomo_contract.call.r_id_\nround = (rID_-2..rID_).map do |i|\n    $fomo_contract.call.round_(i)\nend\n\nround_team = (rID_-2..rID_).map do |i|\n    [$fomo_contract.call.rnd_tm_eth_(i,0),$fomo_contract.call.rnd_tm_eth_(i,1),$fomo_contract.call.rnd_tm_eth_(i,2),$fomo_contract.call.rnd_tm_eth_(i,3)]\nend\n\n\nhtml = \"\"\"\n  <table>\n    <tr>\n<% %w(index plyr team team0 team1 team2 team3  end  ended strt duration keys eth keys_per_eth pot mask ico icoGen icoAvg).each do |x| %>\n        <th><%= x %></th>\n<% end %>\n    </tr>\n    <% acc_eth = 0\n       round.each_with_index do |rnd,i| \n       %>\n    <tr>\n            <td> <%= i %> </td>\n            <td> <%= rnd[0] %> </td>\n            <td> <%= rnd[1] %> </td>\n            <td> <%= round_team[i][0]/1e18 %> </td>\n            <td> <%= round_team[i][1]/1e18 %> </td>\n            <td> <%= round_team[i][2]/1e18 %> </td>\n            <td> <%= round_team[i][3]/1e18 %> </td>\n            <td> <%= Time.at(rnd[2]).to_fs(:db) %> </td>\n            <td> <%= rnd[3] %> </td>\n            <td> <%= Time.at(rnd[4]).to_fs(:db) %> </td>\n            <td> <%= ActiveSupport::Duration.build(rnd[2]-rnd[4]).inspect %> </td>\n            <td> <%= rnd[5]/1e18 %> </td>\n            <td> <%= rnd[6]/1e18 %> </td>\n            <td> <%= rnd[6]==0 ? 0 : rnd[5]/rnd[6] %> </td>\n            <td> <%= rnd[7]/1e18 %> </td>\n            <td> <%= rnd[8] %> </td>\n            <td> <%= rnd[9] %> </td>\n            <td> <%= rnd[10] %> </td>\n            <td> <%= rnd[11] %> </td>\n    </tr>\n    <% \n       end %>\n  </table>\n\"\"\"\n\nIRuby.html ERB.new(html).result(binding)",
   "outputs": [
    {
     "output_type": "execute_result",
     "execution_count": 54,
     "data": {
      "text/plain": "\"\\n  <table>\\n    <tr>\\n\\n        <th>index</th>\\n\\n        <th>plyr</th>\\n\\n        <th>team</th>\\n\\n        <th>team0</th>\\n\\n        <th>team1</th>\\n\\n        <th>team2</th>\\n\\n        <th>team3</th>\\n\\n        <th>end</th>\\n\\n        <th>ended</th>\\n\\n        <th>strt</th>\\n\\n        <th>duration</th>\\n\\n        <th>keys</th>\\n\\n        <th>eth</th>\\n\\n        <th>keys_per_eth</th>\\n\\n        <th>pot</th>\\n\\n        <th>mask</th>\\n\\n        <th>ico</th>\\n\\n        <th>icoGen</th>\\n\\n        <th>icoAvg</th>\\n\\n    </tr>\\n    \\n    <tr>\\n            <td> 0 </td>\\n            <td> 1 </td>\\n            <td> 2 </td>\\n            <td> 0.0 </td>\\n            <td> 0.0 </td>\\n            <td> 0.000107625 </td>\\n            <td> 0.0 </td>\\n            <td> 2018-08-05 16:15:52 </td>\\n            <td> true </td>\\n            <td> 2018-08-05 13:15:52 </td>\\n            <td> 3 hours </td>\\n            <td> 1.05 </td>\\n            <td> 0.000107625 </td>\\n            <td> 9756 </td>\\n            <td> 1.722e-05 </td>\\n            <td> 71750000000000 </td>\\n            <td> 107625000000000 </td>\\n            <td> 75337500000000 </td>\\n            <td> 102500000000000 </td>\\n    </tr>\\n    \\n    <tr>\\n            <td> 1 </td>\\n            <td> 9 </td>\\n            <td> 0 </td>\\n            <td> 0.6415097169808491 </td>\\n            <td> 0.01 </td>\\n            <td> 0.0 </td>\\n            <td> 0.0 </td>\\n            <td> 2018-08-05 21:50:37 </td>\\n            <td> true </td>\\n            <td> 2018-08-05 18:08:07 </td>\\n            <td> 3 hours, 42 minutes, and 30 seconds </td>\\n            <td> 113.65097169808492 </td>\\n            <td> 0.6515097169808491 </td>\\n            <td> 174 </td>\\n            <td> 0.16903403613200166 </td>\\n            <td> 3950320986056289 </td>\\n            <td> 10000000000000000 </td>\\n            <td> 7000000000000000 </td>\\n            <td> 732548584904245 </td>\\n    </tr>\\n    \\n    <tr>\\n            <td> 2 </td>\\n            <td> 187 </td>\\n            <td> 3 </td>\\n            <td> 0.0 </td>\\n            <td> 0.0 </td>\\n            <td> 0.0 </td>\\n            <td> 0.0001 </td>\\n            <td> 2022-03-19 18:36:07 </td>\\n            <td> false </td>\\n            <td> 2022-03-19 15:36:07 </td>\\n            <td> 3 hours </td>\\n            <td> 0.0 </td>\\n            <td> 0.0 </td>\\n            <td> 0 </td>\\n            <td> 1.6e-05 </td>\\n            <td> 0 </td>\\n            <td> 100000000000000 </td>\\n            <td> 70000000000000 </td>\\n            <td> 0 </td>\\n    </tr>\\n    \\n  </table>\\n\"",
      "text/html": "\n  <table>\n    <tr>\n\n        <th>index</th>\n\n        <th>plyr</th>\n\n        <th>team</th>\n\n        <th>team0</th>\n\n        <th>team1</th>\n\n        <th>team2</th>\n\n        <th>team3</th>\n\n        <th>end</th>\n\n        <th>ended</th>\n\n        <th>strt</th>\n\n        <th>duration</th>\n\n        <th>keys</th>\n\n        <th>eth</th>\n\n        <th>keys_per_eth</th>\n\n        <th>pot</th>\n\n        <th>mask</th>\n\n        <th>ico</th>\n\n        <th>icoGen</th>\n\n        <th>icoAvg</th>\n\n    </tr>\n    \n    <tr>\n            <td> 0 </td>\n            <td> 1 </td>\n            <td> 2 </td>\n            <td> 0.0 </td>\n            <td> 0.0 </td>\n            <td> 0.000107625 </td>\n            <td> 0.0 </td>\n            <td> 2018-08-05 16:15:52 </td>\n            <td> true </td>\n            <td> 2018-08-05 13:15:52 </td>\n            <td> 3 hours </td>\n            <td> 1.05 </td>\n            <td> 0.000107625 </td>\n            <td> 9756 </td>\n            <td> 1.722e-05 </td>\n            <td> 71750000000000 </td>\n            <td> 107625000000000 </td>\n            <td> 75337500000000 </td>\n            <td> 102500000000000 </td>\n    </tr>\n    \n    <tr>\n            <td> 1 </td>\n            <td> 9 </td>\n            <td> 0 </td>\n            <td> 0.6415097169808491 </td>\n            <td> 0.01 </td>\n            <td> 0.0 </td>\n            <td> 0.0 </td>\n            <td> 2018-08-05 21:50:37 </td>\n            <td> true </td>\n            <td> 2018-08-05 18:08:07 </td>\n            <td> 3 hours, 42 minutes, and 30 seconds </td>\n            <td> 113.65097169808492 </td>\n            <td> 0.6515097169808491 </td>\n            <td> 174 </td>\n            <td> 0.16903403613200166 </td>\n            <td> 3950320986056289 </td>\n            <td> 10000000000000000 </td>\n            <td> 7000000000000000 </td>\n            <td> 732548584904245 </td>\n    </tr>\n    \n    <tr>\n            <td> 2 </td>\n            <td> 187 </td>\n            <td> 3 </td>\n            <td> 0.0 </td>\n            <td> 0.0 </td>\n            <td> 0.0 </td>\n            <td> 0.0001 </td>\n            <td> 2022-03-19 18:36:07 </td>\n            <td> false </td>\n            <td> 2022-03-19 15:36:07 </td>\n            <td> 3 hours </td>\n            <td> 0.0 </td>\n            <td> 0.0 </td>\n            <td> 0 </td>\n            <td> 1.6e-05 </td>\n            <td> 0 </td>\n            <td> 100000000000000 </td>\n            <td> 70000000000000 </td>\n            <td> 0 </td>\n    </tr>\n    \n  </table>\n"
     },
     "metadata": {}
    }
   ],
   "execution_count": null
  },
  {
   "cell_type": "code",
   "metadata": {
    "cell_id": "eb79bf2a-483e-4c50-bc5a-a2950ca9a5ab",
    "tags": [],
    "deepnote_to_be_reexecuted": false,
    "source_hash": "29fe0c2d",
    "execution_start": 1647704281767,
    "execution_millis": 500,
    "deepnote_cell_type": "code",
    "deepnote_cell_height": 306.1875
   },
   "source": "player_round = (1..rID_).map do |r|\n    player_round = (1..pID_).map do |p|\n        $fomo_contract.call.plyr_rnds_(p,r)\n    end\n    puts \"== round #{r} ==\"\n    puts \"# - eth - keys - mask - ico\"\n    puts player_round.map.with_index {|x,i|  [i,x[0]/1e18,x[1]/1e18,x[2]/1e18,x[3]/1e18,x[0]==0?\".\":x[2].to_f/x[0]].join(\" - \") }.join(\"\\n\")\nend\n\nnil",
   "outputs": [
    {
     "output_type": "error",
     "ename": "NameError",
     "evalue": "undefined local variable or method `pID_' for #<Object:0x0000557a63f00ef0>",
     "traceback": [
      "\u001b[31mNameError\u001b[0m: undefined local variable or method `pID_' for #<Object:0x0000557a63f00ef0>",
      "(irb):1:in `block in irb_binding'",
      "/usr/local/bundle/gems/activesupport-7.0.2.3/lib/active_support/core_ext/range/each.rb:9:in `each'",
      "/usr/local/bundle/gems/activesupport-7.0.2.3/lib/active_support/core_ext/range/each.rb:9:in `each'",
      "(irb):in `map'",
      "(irb):in `irb_binding'"
     ]
    }
   ],
   "execution_count": null
  },
  {
   "cell_type": "code",
   "metadata": {
    "cell_id": "cfc5fab5-72ed-4cfe-ad1c-765a91a5f85b",
    "tags": [],
    "deepnote_to_be_reexecuted": false,
    "source_hash": "846d6fa2",
    "execution_start": 1647704284063,
    "execution_millis": 0,
    "deepnote_cell_type": "code",
    "deepnote_cell_height": 297
   },
   "source": "## fees_ and potSplit_\n\n# fees_[0] = F3Ddatasets.TeamFee(30,6);   //50% to pot, 10% to aff, 2% to com, 1% to pot swap, 1% to air drop pot\n# fees_[1] = F3Ddatasets.TeamFee(43,0);   //43% to pot, 10% to aff, 2% to com, 1% to pot swap, 1% to air drop pot\n# fees_[2] = F3Ddatasets.TeamFee(56,10);  //20% to pot, 10% to aff, 2% to com, 1% to pot swap, 1% to air drop pot\n# fees_[3] = F3Ddatasets.TeamFee(43,8);   //35% to pot, 10% to aff, 2% to com, 1% to pot swap, 1% to air drop pot\n\n# potSplit_[0] = F3Ddatasets.PotSplit(15,10);  //48% to winner, 25% to next round, 2% to com\n# potSplit_[1] = F3Ddatasets.PotSplit(25,0);   //48% to winner, 25% to next round, 2% to com\n# potSplit_[2] = F3Ddatasets.PotSplit(20,20);  //48% to winner, 10% to next round, 2% to com\n# potSplit_[3] = F3Ddatasets.PotSplit(30,10);  //48% to winner, 10% to next round, 2% to com\n\n",
   "outputs": [],
   "execution_count": null
  },
  {
   "cell_type": "code",
   "metadata": {
    "cell_id": "729a050f-b309-48dd-98e4-72c3eaa8c0c2",
    "tags": [],
    "deepnote_to_be_reexecuted": false,
    "source_hash": "7a7789e3",
    "execution_start": 1647704285553,
    "execution_millis": 7,
    "deepnote_cell_type": "code",
    "deepnote_cell_height": 640.1875,
    "deepnote_output_heights": [
     21.1875
    ]
   },
   "source": "code = '''\nmodule Ethereum\n  class Contract\n    def send_raw_transaction(payload, to = nil)\n      Eth.configure { |c| c.chain_id = @client.net_version[\"result\"].to_i }\n      @nonce ||= @client.get_nonce(key.address)\n      args = {\n        from: key.address,\n        value: $transact_amount ? $transact_amount : 0,\n        data: payload,\n        nonce: @nonce,\n        gas_limit: gas_limit,\n        gas_price: gas_price\n      }\n      args[:to] = to if to\n      tx = Eth::Tx.new(args)\n      tx.sign key\n      @client.eth_send_raw_transaction(tx.hex)[\"result\"]\n    end\n  end\nend\n'''\n\ndef run_code(code,model)\n  open(\"#{model}.rb\",\"w\") {|f| f.write(code) }\n  load \"./#{model}.rb\"\nend\n\nrun_code(code,\"hotfix\")\n",
   "outputs": [
    {
     "output_type": "execute_result",
     "execution_count": 52,
     "data": {
      "text/plain": "true"
     },
     "metadata": {}
    }
   ],
   "execution_count": null
  },
  {
   "cell_type": "code",
   "metadata": {
    "cell_id": "ae1581b1-1e48-4ade-9782-2b60cd816278",
    "tags": [],
    "deepnote_to_be_reexecuted": false,
    "source_hash": "e34afb9b",
    "execution_start": 1647704289121,
    "execution_millis": 1825,
    "deepnote_cell_type": "code",
    "deepnote_cell_height": 280.1875,
    "deepnote_output_heights": [
     21.1875
    ]
   },
   "source": "### buyXid\n\n$transact_amount = $fomo_contract.call.i_want_x_keys(1*1e18.to_i)\n# $transact_amount = 750000000002000\nteam = 3\n\n$fomo_contract.nonce = $client.get_nonce($fomo_contract.key.address)\ntx = $fomo_contract.transact_and_wait.buy_xid(0,team)\n\n",
   "outputs": [
    {
     "output_type": "execute_result",
     "execution_count": 53,
     "data": {
      "text/plain": "#<Ethereum::Transaction:0x0000557a649c64c0 @mined=true, @connection=#<Ethereum::HttpClient:0x0000557a64c07180 @id=0, @log=false, @batch=nil, @formatter=#<Ethereum::Formatter:0x0000557a64c07158>, @gas_price=16005973946, @gas_limit=30000000, @host=\"127.0.0.1\", @port=8545, @proxy=nil, @ssl=false, @uri=#<URI::HTTP http://127.0.0.1:8545/>, @default_account=\"0xf39fd6e51aad88f6f4ce6ab8827279cfffb92266\">, @id=\"0x0a97b96b8a268cd5bf69e31d64d27abac16e0b782149c5eca5b5fd10105dd8d8\", @input=\"0x8f38f30900000000000000000000000000000000000000000000000000000000000000000000000000000000000000000000000000000000000000000000000000000003\", @input_parameters=[0, 3]>"
     },
     "metadata": {}
    }
   ],
   "execution_count": null
  },
  {
   "cell_type": "code",
   "metadata": {
    "cell_id": "57db852e-255a-4010-8ea7-75f82dc33d7d",
    "tags": [],
    "deepnote_to_be_reexecuted": false,
    "source_hash": "37162178",
    "execution_start": 1647704334728,
    "execution_millis": 4,
    "deepnote_cell_type": "code",
    "deepnote_cell_height": 636
   },
   "source": "# tx_detail = $client.eth_get_transaction_by_hash(tx.id)[\"result\"]\nputs tx_detail.map {|x| x.join(\" - \")}.join(\"\\n\")\n\nputs \"---------------\"\nputs \"blockNumber - #{tx_detail[\"blockNumber\"].to_i(16)}\"\nputs \"value - #{tx_detail[\"value\"].to_i(16)}\"\nputs \"gas - #{tx_detail[\"gas\"].to_i(16)}\"\nputs \"gasPrice - #{tx_detail[\"gasPrice\"].to_i(16)}\"\n",
   "outputs": [
    {
     "name": "stdout",
     "text": "blockHash - 0xf28567d14d525935f426fbdde7f72d56abca848bf3fa9228c4d8b91db75eb0e6\nblockNumber - 0xdbfef3\nfrom - 0xacc961474eb17c103bbed96fc8f0e4eeac91c475\ngas - 0x1c9c380\nhash - 0xcc779df4ccf351c615ac7f77dc3d858c07efdf202fcadb5cd8de0dbbcf269cb5\ninput - 0x3ccfd60b0000000000000000000000000000000000000000000000000000000000000000\nnonce - 0x18\nto - 0xf1ae594cefee0bf519f227f3262ee2a851b14b9a\ntransactionIndex - 0x0\nvalue - 0x0\nv - 0xf4f6\nr - 0xf29d5376a8d2e8b266d38c6b8fb6033b1636a60cdca88198f78004d18fa9ddac\ns - 0x1df368ee38efbb64f37549bb9751c1a552dd79444f158aec8a71f64d8bcc28e1\ntype - 0x0\ngasPrice - 0x62691db37\n---------------\nblockNumber - 14417651\nvalue - 0\ngas - 30000000\ngasPrice - 26416896823\n",
     "output_type": "stream"
    }
   ],
   "execution_count": null
  },
  {
   "cell_type": "code",
   "metadata": {
    "cell_id": "797a9e17-f444-4b0b-8fdb-32e87b27d253",
    "tags": [],
    "deepnote_to_be_reexecuted": false,
    "source_hash": "1a81347a",
    "execution_start": 1647704335887,
    "execution_millis": 10,
    "deepnote_cell_type": "code",
    "deepnote_cell_height": 564.796875
   },
   "source": "tx_receipt = $client.eth_get_transaction_receipt(tx.id)[\"result\"]\nputs tx_receipt.map {|x| x.join(\" - \")}.join(\"\\n\")\nputs \"---------------\"\nputs \"effectiveGasPrice - #{tx_receipt[\"effectiveGasPrice\"].to_i(16)}\"\nputs \"gasUsed - #{tx_receipt[\"gasUsed\"].to_i(16)}\"\nputs \"gas_fee - #{tx_receipt[\"gasUsed\"].to_i(16) * tx_receipt[\"effectiveGasPrice\"].to_i(16) / 1e18}\"\n",
   "outputs": [
    {
     "name": "stdout",
     "text": "transactionHash - 0x0a97b96b8a268cd5bf69e31d64d27abac16e0b782149c5eca5b5fd10105dd8d8\ntransactionIndex - 0x0\nblockHash - 0x0301add7b88190fcb49ce2ac98b3522cb8b99f12ac684699c494f8bc37dd030d\nblockNumber - 0xdbfef5\nfrom - 0xacc961474eb17c103bbed96fc8f0e4eeac91c475\nto - 0xb05d588c4852a9cb467cf9eded1f10130d48fad6\ncumulativeGasUsed - 0x7e1b7\ngasUsed - 0x7e1b7\ncontractAddress - \nlogs - {\"removed\"=>false, \"logIndex\"=>\"0x0\", \"transactionIndex\"=>\"0x0\", \"transactionHash\"=>\"0x0a97b96b8a268cd5bf69e31d64d27abac16e0b782149c5eca5b5fd10105dd8d8\", \"blockHash\"=>\"0x0301add7b88190fcb49ce2ac98b3522cb8b99f12ac684699c494f8bc37dd030d\", \"blockNumber\"=>\"0xdbfef5\", \"address\"=>\"0xb05d588c4852a9cb467cf9eded1f10130d48fad6\", \"data\"=>\"0x000000000000000000000000000000000000001d0d065b99b4f31210bfe8e5af000000000000000000006ae91c5255f4c03439524b0b42d52f48736a040000bb0000000000000000000000000000000000000000000000000000000000000000000000000000000000000000acc961474eb17c103bbed96fc8f0e4eeac91c47500000000000000000000000000000000000000000000000000005af3107a400000000000000000000000000000000000000000000000000000000000000000000000000000000000000000000ce468fe1161cd1f86086e9bf5ee160ff322c7c96371637966313233000000000000000000000000000000000000000000000000000000000000000000000000000000000000000000000000021c7a0116bd18670000000000000000000000000000000000000000000000000000000000000000000000000000000000000000000000000000000000000000000000000000000000000000000000000000000000000000000000000000000000003faa2522600000000000000000000000000000000000000000000000000000000e8d4a51000000000000000000000000000000000000000000000000000000005cd67a9f0a80\", \"topics\"=>[\"0x500e72a0e114930aebdbcb371ccdbf43922c49f979794b5de4257ff7e310c746\"]}\nlogsBloom - 0x00080000000000000000000000000000000000000000000000000000000000000000000000000000000000000000000000000000000000000000000000000000000000000000000000000000000000000000000000000000000000000000000000000000000000000000000000000000000000000000000000000000000000000000000000000010000000000000000000000000000000000000000000000000000000000000000000000000000000000000000000000000000000000000000000000000000000004000000000000000000000000000000000000000001000000000000000000000000000000000000000000000000000000000400000000000\ntype - 0x0\nstatus - 0x1\neffectiveGasPrice - 0x3ba07c7ba\n---------------\neffectiveGasPrice - 16005973946\ngasUsed - 516535\ngas_fee - 0.00826764575219711\n",
     "output_type": "stream"
    }
   ],
   "execution_count": null
  },
  {
   "cell_type": "code",
   "metadata": {
    "cell_id": "d8f237d0-ed5f-4333-9edb-cafca507efe9",
    "tags": [],
    "deepnote_to_be_reexecuted": false,
    "source_hash": "b8c4cf9e",
    "execution_start": 1647704336661,
    "execution_millis": 281695,
    "deepnote_cell_type": "code",
    "deepnote_cell_height": 330.796875
   },
   "source": "logs = tx_receipt[\"logs\"][0]\ndata = logs[\"data\"]\ntopic = logs[\"topics\"]\nputs logs.map {|x| x.join(\" - \")}.join(\"\\n\")",
   "outputs": [
    {
     "name": "stdout",
     "text": "removed - false\nlogIndex - 0x0\ntransactionIndex - 0x0\ntransactionHash - 0x0a97b96b8a268cd5bf69e31d64d27abac16e0b782149c5eca5b5fd10105dd8d8\nblockHash - 0x0301add7b88190fcb49ce2ac98b3522cb8b99f12ac684699c494f8bc37dd030d\nblockNumber - 0xdbfef5\naddress - 0xb05d588c4852a9cb467cf9eded1f10130d48fad6\ndata - 0x000000000000000000000000000000000000001d0d065b99b4f31210bfe8e5af000000000000000000006ae91c5255f4c03439524b0b42d52f48736a040000bb0000000000000000000000000000000000000000000000000000000000000000000000000000000000000000acc961474eb17c103bbed96fc8f0e4eeac91c47500000000000000000000000000000000000000000000000000005af3107a400000000000000000000000000000000000000000000000000000000000000000000000000000000000000000000ce468fe1161cd1f86086e9bf5ee160ff322c7c96371637966313233000000000000000000000000000000000000000000000000000000000000000000000000000000000000000000000000021c7a0116bd18670000000000000000000000000000000000000000000000000000000000000000000000000000000000000000000000000000000000000000000000000000000000000000000000000000000000000000000000000000000000003faa2522600000000000000000000000000000000000000000000000000000000e8d4a51000000000000000000000000000000000000000000000000000000005cd67a9f0a80\ntopics - 0x500e72a0e114930aebdbcb371ccdbf43922c49f979794b5de4257ff7e310c746\n",
     "output_type": "stream"
    }
   ],
   "execution_count": null
  },
  {
   "cell_type": "code",
   "metadata": {
    "cell_id": "8e5c138d-88e9-4094-90fd-669c29d57956",
    "tags": [],
    "deepnote_to_be_reexecuted": false,
    "source_hash": "1b18d2e5",
    "execution_start": 1647704337323,
    "execution_millis": 6,
    "deepnote_cell_type": "code",
    "deepnote_cell_height": 554
   },
   "source": "\nevent={}\nevent[\"abi\"] = event_abi[topic[0]]\nevent[\"name\"] = event[\"abi\"][\"name\"]\nevent_inputs = event[\"abi\"]['inputs'].map {|i| OpenStruct.new(i)}\nevent[\"data\"] = event_inputs.map {|x| x.name}.zip(decoder.decode_arguments(event_inputs, data)).to_h\n\nputs \"== Event: #{event[\"name\"]} ==\"\nputs event[\"data\"].map{|x| [x[0],x[1]].join(\"-\") }.join(\"\\n\")\n",
   "outputs": [
    {
     "name": "stdout",
     "text": "== Event: onEndTx ==\ncompressedData-2301647704167001533505837000111\ncompressedIDs-40000000000000000000000000900000000000000000000000187\nplayerName-\nplayerAddress-acc961474eb17c103bbed96fc8f0e4eeac91c475\nethIn-100000000000000\nkeysBought-0\nwinnerAddr-0ce468fe1161cd1f86086e9bf5ee160ff322c7c9\nwinnerName-cqcyf123\namountWon-152130632518801511\nnewPot-0\nP3DAmount-0\ngenAmount-70000000000000\npotAmount-16000000000000\nairDropPot-102076250000000\n",
     "output_type": "stream"
    }
   ],
   "execution_count": null
  },
  {
   "cell_type": "code",
   "metadata": {
    "cell_id": "1c1eb5c1-b9df-4bb1-9047-2e11a984843d",
    "tags": [],
    "deepnote_to_be_reexecuted": false,
    "source_hash": "5e38b0df",
    "execution_start": 1647704338393,
    "execution_millis": 4,
    "deepnote_cell_type": "code",
    "deepnote_cell_height": 300
   },
   "source": "puts \"buy key amount - #{$transact_amount/1e18}\"\nputs \"tx gas_fee - #{gas_fee = tx_receipt[\"gasUsed\"].to_i(16) * tx_receipt[\"effectiveGasPrice\"].to_i(16) / 1e18}\"\nputs \"total_out - #{total_out = $transact_amount/1e18 + tx_receipt[\"gasUsed\"].to_i(16) * tx_receipt[\"effectiveGasPrice\"].to_i(16) / 1e18}\"\nputs \"gas_fee percentage - #{gas_fee/total_out}\"\n\nputs \"sender balance - #{get_balance(sender_account)}\"\n",
   "outputs": [
    {
     "name": "stdout",
     "text": "buy key amount - 0.0001\ntx gas_fee - 0.00826764575219711\ntotal_out - 0.00836764575219711\ngas_fee percentage - 0.9880492072726976\nsender balance - 99.9916323542478\n",
     "output_type": "stream"
    }
   ],
   "execution_count": null
  },
  {
   "cell_type": "code",
   "metadata": {
    "cell_id": "187e2ec4-7fde-463b-963c-83fc45b6310b",
    "tags": [],
    "deepnote_to_be_reexecuted": false,
    "source_hash": "894bd370",
    "execution_start": 1647704338953,
    "execution_millis": 14,
    "deepnote_cell_type": "code",
    "deepnote_cell_height": 664.796875
   },
   "source": "\nblock_detail = $client.eth_get_block_by_number(tx_detail[\"blockNumber\"].to_i(16),true)[\"result\"]\nputs block_detail.map {|x| x.join(\" - \")}.join(\"\\n\")\n\nputs \"---------------\"\nputs \"transactions.count - #{block_detail[\"transactions\"].count}\"\n",
   "outputs": [
    {
     "name": "stdout",
     "text": "number - 0xdbfef3\nhash - 0xf28567d14d525935f426fbdde7f72d56abca848bf3fa9228c4d8b91db75eb0e6\nparentHash - 0xf5b120bc879cac8a31fc64f60e3eb094dc0f38fbb15d4d1203960122d1aa43e4\nnonce - 0x0000000000000042\nmixHash - 0x0000000000000000000000000000000000000000000000000000000000000000\nsha3Uncles - 0x1dcc4de8dec75d7aab85b567b6ccd41ad312451b948a7413f0a142fd40d49347\nlogsBloom - 0x00000000000000000000000000000000000000000000000000000000000000000000000000000000000000000000000000000000000000000000002000000000000000000000000000000000000000000000000000000000000040000000000000010000000000000000001000000000000000000000000000000200000000000000000000000000000000000000000000000000000000000000000000000000000000000000000000000000000000000200000000000000000000080000000000000000000000000000000000020000000040000000000000000000000000000000000000000000000000000000000000000000000000000000000000000000\ntransactionsRoot - 0x9daac6b8c81f195ec25248c13a756453fca257395732ca0578bba8641acc1d8c\nstateRoot - 0xd2065345f5052e96c7f0d0eea3dbfa5c7d526c0c2ed9bdb337fef550701888cf\nreceiptsRoot - 0xbbf8456125ba1fb676dcbbf58edf2276397dc10018ab37666f22635ebc08ca3d\nminer - 0xc014ba5ec014ba5ec014ba5ec014ba5ec014ba5e\ndifficulty - 0x2d337eb773dec6\ntotalDifficulty - 0x95ad2ee19c7a6d00251\nextraData - 0x\nsize - 0x29f\ngasLimit - 0x1c9c380\ngasUsed - 0x135d8\ntimestamp - 0x6235f792\ntransactions - {\"blockHash\"=>\"0xf28567d14d525935f426fbdde7f72d56abca848bf3fa9228c4d8b91db75eb0e6\", \"blockNumber\"=>\"0xdbfef3\", \"from\"=>\"0xacc961474eb17c103bbed96fc8f0e4eeac91c475\", \"gas\"=>\"0x1c9c380\", \"hash\"=>\"0xcc779df4ccf351c615ac7f77dc3d858c07efdf202fcadb5cd8de0dbbcf269cb5\", \"input\"=>\"0x3ccfd60b0000000000000000000000000000000000000000000000000000000000000000\", \"nonce\"=>\"0x18\", \"to\"=>\"0xf1ae594cefee0bf519f227f3262ee2a851b14b9a\", \"transactionIndex\"=>\"0x0\", \"value\"=>\"0x0\", \"v\"=>\"0xf4f6\", \"r\"=>\"0xf29d5376a8d2e8b266d38c6b8fb6033b1636a60cdca88198f78004d18fa9ddac\", \"s\"=>\"0x1df368ee38efbb64f37549bb9751c1a552dd79444f158aec8a71f64d8bcc28e1\", \"type\"=>\"0x0\", \"gasPrice\"=>\"0x62691db37\"}\nuncles - \nbaseFeePerGas - 0x3fd6de26f\n---------------\ntransactions.count - 1\n",
     "output_type": "stream"
    }
   ],
   "execution_count": null
  },
  {
   "cell_type": "code",
   "metadata": {
    "cell_id": "d5064074-44d1-44f7-8a09-217ab06225d6",
    "tags": [],
    "deepnote_to_be_reexecuted": false,
    "source_hash": "1d69ba2e",
    "execution_start": 1647704340466,
    "execution_millis": 275,
    "deepnote_cell_type": "code",
    "deepnote_cell_height": 172.1875,
    "deepnote_output_heights": [
     21.1875
    ]
   },
   "source": "### withdraw\n$transact_amount = 0\n$fomo_contract.nonce = $client.get_nonce($fomo_contract.key.address)\ntx = $fomo_contract.transact_and_wait.withdraw",
   "outputs": [
    {
     "output_type": "execute_result",
     "execution_count": 61,
     "data": {
      "text/plain": "#<Ethereum::Transaction:0x0000557a648465a0 @mined=true, @connection=#<Ethereum::HttpClient:0x0000557a64c07180 @id=0, @log=false, @batch=nil, @formatter=#<Ethereum::Formatter:0x0000557a64c07158>, @gas_price=16005973946, @gas_limit=30000000, @host=\"127.0.0.1\", @port=8545, @proxy=nil, @ssl=false, @uri=#<URI::HTTP http://127.0.0.1:8545/>, @default_account=\"0xf39fd6e51aad88f6f4ce6ab8827279cfffb92266\">, @id=\"0xd9a91a71597bf3736632be015499fc306071f65698712a8aba7f0eb85589cdce\", @input=\"0x3ccfd60b0000000000000000000000000000000000000000000000000000000000000000\", @input_parameters=[]>"
     },
     "metadata": {}
    }
   ],
   "execution_count": null
  },
  {
   "cell_type": "code",
   "metadata": {
    "cell_id": "d3de6f7b-bfe7-4376-949d-07bb6b7372c4",
    "tags": [],
    "deepnote_to_be_reexecuted": false,
    "source_hash": "4b41976",
    "execution_start": 1647704341041,
    "execution_millis": 12,
    "deepnote_cell_type": "code",
    "deepnote_cell_height": 636
   },
   "source": "tx_detail = $client.eth_get_transaction_by_hash(tx.id)[\"result\"]\nputs tx_detail.map {|x| x.join(\" - \")}.join(\"\\n\")\n\nputs \"---------------\"\nputs \"blockNumber - #{tx_detail[\"blockNumber\"].to_i(16)}\"\nputs \"value - #{tx_detail[\"value\"].to_i(16)}\"\nputs \"gas - #{tx_detail[\"gas\"].to_i(16)}\"\nputs \"gasPrice - #{tx_detail[\"gasPrice\"].to_i(16)}\"\n",
   "outputs": [
    {
     "name": "stdout",
     "text": "blockHash - 0xf29208f4902977bfe9b598eaf4f4cc15c05b7a05703db3912e3fedc809b055dc\nblockNumber - 0xdbfef6\nfrom - 0xacc961474eb17c103bbed96fc8f0e4eeac91c475\ngas - 0x1c9c380\nhash - 0xd9a91a71597bf3736632be015499fc306071f65698712a8aba7f0eb85589cdce\ninput - 0x3ccfd60b0000000000000000000000000000000000000000000000000000000000000000\nnonce - 0x1a\nto - 0xb05d588c4852a9cb467cf9eded1f10130d48fad6\ntransactionIndex - 0x0\nvalue - 0x0\nv - 0xf4f6\nr - 0xd5f912f7cc504ff811d6c4ef9ce87a622c9699a1f189269ecc185e28f7dd8a95\ns - 0x35dd2d50f87caa35ba392abd736bab1d1c628ea4209cf3e466eb9d0be29b17b4\ntype - 0x0\ngasPrice - 0x3ba07c7ba\n---------------\nblockNumber - 14417654\nvalue - 0\ngas - 30000000\ngasPrice - 16005973946\n",
     "output_type": "stream"
    }
   ],
   "execution_count": null
  },
  {
   "cell_type": "code",
   "metadata": {
    "cell_id": "d5ebaf61-ae0d-4d78-a688-9f3bc668b0b3",
    "tags": [],
    "deepnote_to_be_reexecuted": false,
    "source_hash": "1a81347a",
    "execution_start": 1647704341908,
    "execution_millis": 22,
    "deepnote_cell_type": "code",
    "deepnote_cell_height": 564.796875
   },
   "source": "tx_receipt = $client.eth_get_transaction_receipt(tx.id)[\"result\"]\nputs tx_receipt.map {|x| x.join(\" - \")}.join(\"\\n\")\nputs \"---------------\"\nputs \"effectiveGasPrice - #{tx_receipt[\"effectiveGasPrice\"].to_i(16)}\"\nputs \"gasUsed - #{tx_receipt[\"gasUsed\"].to_i(16)}\"\nputs \"gas_fee - #{tx_receipt[\"gasUsed\"].to_i(16) * tx_receipt[\"effectiveGasPrice\"].to_i(16) / 1e18}\"\n",
   "outputs": [
    {
     "name": "stdout",
     "text": "transactionHash - 0xd9a91a71597bf3736632be015499fc306071f65698712a8aba7f0eb85589cdce\ntransactionIndex - 0x0\nblockHash - 0xf29208f4902977bfe9b598eaf4f4cc15c05b7a05703db3912e3fedc809b055dc\nblockNumber - 0xdbfef6\nfrom - 0xacc961474eb17c103bbed96fc8f0e4eeac91c475\nto - 0xb05d588c4852a9cb467cf9eded1f10130d48fad6\ncumulativeGasUsed - 0x21918\ngasUsed - 0x21918\ncontractAddress - \nlogs - {\"removed\"=>false, \"logIndex\"=>\"0x0\", \"transactionIndex\"=>\"0x0\", \"transactionHash\"=>\"0xd9a91a71597bf3736632be015499fc306071f65698712a8aba7f0eb85589cdce\", \"blockHash\"=>\"0xf29208f4902977bfe9b598eaf4f4cc15c05b7a05703db3912e3fedc809b055dc\", \"blockNumber\"=>\"0xdbfef6\", \"address\"=>\"0xb05d588c4852a9cb467cf9eded1f10130d48fad6\", \"data\"=>\"0x000000000000000000000000acc961474eb17c103bbed96fc8f0e4eeac91c475000000000000000000000000000000000000000000000000000000000000000000000000000000000000000000000000000000000000000000003faa25226000000000000000000000000000000000000000000000000000000000006235f89a\", \"topics\"=>[\"0x8f36579a548bc439baa172a6521207464154da77f411e2da3db2f53affe6cc3a\", \"0x00000000000000000000000000000000000000000000000000000000000000bb\"]}\nlogsBloom - 0x00000000000000000000000000000000000000000000000000000000000000000000000000000000000000000000000000000000000000000000000000000000000000000000000000000000000000200000000000000000000040000000000000000000000000000000000000000000000000000000000000000000000000000000000000000010000000000000000000000000000000000000000000000000000000000000000000000000000000000000000000000000000000080000000000000000000000000000000000000000000048000000000000000000001000000000000000000000000080000000000000000000000000000000400000000000\ntype - 0x0\nstatus - 0x1\neffectiveGasPrice - 0x3ba07c7ba\n---------------\neffectiveGasPrice - 16005973946\ngasUsed - 137496\ngas_fee - 0.002200757393679216\n",
     "output_type": "stream"
    }
   ],
   "execution_count": null
  },
  {
   "cell_type": "code",
   "metadata": {
    "cell_id": "42320dde-29b5-432b-8ce5-a25a9f8239e7",
    "tags": [],
    "deepnote_to_be_reexecuted": false,
    "source_hash": "b296cbdf",
    "execution_start": 1647704342430,
    "execution_millis": 3,
    "deepnote_cell_type": "code",
    "deepnote_cell_height": 368.796875
   },
   "source": "logs = tx_receipt[\"logs\"][0]\ndata = logs[\"data\"]\ntopic = logs[\"topics\"]\nputs \"log count = #{tx_receipt[\"logs\"].count}\"\nputs logs.map {|x| x.join(\" - \")}.join(\"\\n\")",
   "outputs": [
    {
     "name": "stdout",
     "text": "log count = 1\nremoved - false\nlogIndex - 0x0\ntransactionIndex - 0x0\ntransactionHash - 0xd9a91a71597bf3736632be015499fc306071f65698712a8aba7f0eb85589cdce\nblockHash - 0xf29208f4902977bfe9b598eaf4f4cc15c05b7a05703db3912e3fedc809b055dc\nblockNumber - 0xdbfef6\naddress - 0xb05d588c4852a9cb467cf9eded1f10130d48fad6\ndata - 0x000000000000000000000000acc961474eb17c103bbed96fc8f0e4eeac91c475000000000000000000000000000000000000000000000000000000000000000000000000000000000000000000000000000000000000000000003faa25226000000000000000000000000000000000000000000000000000000000006235f89a\ntopics - 0x8f36579a548bc439baa172a6521207464154da77f411e2da3db2f53affe6cc3a - 0x00000000000000000000000000000000000000000000000000000000000000bb\n",
     "output_type": "stream"
    }
   ],
   "execution_count": null
  },
  {
   "cell_type": "code",
   "metadata": {
    "cell_id": "ddb928c8-e226-46a1-b519-33f08f367ffa",
    "tags": [],
    "deepnote_to_be_reexecuted": false,
    "source_hash": "1b18d2e5",
    "execution_start": 1647704344173,
    "execution_millis": 3,
    "deepnote_cell_type": "code",
    "deepnote_cell_height": 352.1875
   },
   "source": "\nevent={}\nevent[\"abi\"] = event_abi[topic[0]]\nevent[\"name\"] = event[\"abi\"][\"name\"]\nevent_inputs = event[\"abi\"]['inputs'].map {|i| OpenStruct.new(i)}\nevent[\"data\"] = event_inputs.map {|x| x.name}.zip(decoder.decode_arguments(event_inputs, data)).to_h\n\nputs \"== Event: #{event[\"name\"]} ==\"\nputs event[\"data\"].map{|x| [x[0],x[1]].join(\"-\") }.join(\"\\n\")\n",
   "outputs": [
    {
     "name": "stdout",
     "text": "== Event: onWithdraw ==\n",
     "output_type": "stream"
    },
    {
     "output_type": "error",
     "ename": "JSON::GeneratorError",
     "evalue": "source sequence is illegal/malformed utf-8",
     "traceback": [
      "\u001b[31mJSON::GeneratorError\u001b[0m: source sequence is illegal/malformed utf-8",
      "/usr/local/bundle/gems/activesupport-7.0.2.3/lib/active_support/core_ext/object/json.rb:39:in `to_json'",
      "/usr/local/bundle/gems/activesupport-7.0.2.3/lib/active_support/core_ext/object/json.rb:39:in `to_json'",
      "/usr/local/bundle/gems/activesupport-7.0.2.3/lib/active_support/json/encoding.rb:57:in `to_json'",
      "/usr/local/lib/ruby/2.7.0/json/common.rb:224:in `generate'",
      "/usr/local/lib/ruby/2.7.0/json/common.rb:224:in `generate'",
      "/usr/local/bundle/gems/activesupport-7.0.2.3/lib/active_support/json/encoding.rb:110:in `stringify'",
      "/usr/local/bundle/gems/activesupport-7.0.2.3/lib/active_support/json/encoding.rb:35:in `encode'",
      "/usr/local/bundle/gems/activesupport-7.0.2.3/lib/active_support/json/encoding.rb:22:in `encode'",
      "/usr/local/bundle/gems/activesupport-7.0.2.3/lib/active_support/core_ext/object/json.rb:42:in `to_json'",
      "/usr/local/bundle/gems/multi_json-1.15.0/lib/multi_json/adapters/json_common.rb:19:in `dump'",
      "/usr/local/bundle/gems/multi_json-1.15.0/lib/multi_json/adapter.rb:25:in `dump'",
      "/usr/local/bundle/gems/multi_json-1.15.0/lib/multi_json.rb:139:in `dump'",
      "/usr/local/bundle/gems/iruby-0.7.4/lib/iruby/session/mixin.rb:11:in `serialize'",
      "/usr/local/bundle/gems/iruby-0.7.4/lib/iruby/session.rb:86:in `send'",
      "/usr/local/bundle/gems/iruby-0.7.4/lib/iruby/ostream.rb:63:in `session_send'",
      "/usr/local/bundle/gems/iruby-0.7.4/lib/iruby/ostream.rb:42:in `puts'",
      "(irb):8:in `puts'",
      "(irb):8:in `irb_binding'"
     ]
    }
   ],
   "execution_count": null
  },
  {
   "cell_type": "code",
   "metadata": {
    "cell_id": "1ddb2fdd-fb82-4b87-92d7-09495262be19",
    "tags": [],
    "deepnote_to_be_reexecuted": false,
    "source_hash": "295d92cf",
    "execution_start": 1647704345706,
    "execution_millis": 2,
    "deepnote_cell_type": "code",
    "deepnote_cell_height": 168
   },
   "source": "puts \"tx gas_fee - #{gas_fee = tx_receipt[\"gasUsed\"].to_i(16) * tx_receipt[\"effectiveGasPrice\"].to_i(16) / 1e18}\"\nputs \"sender balance - #{get_balance(sender_account)}\"\n",
   "outputs": [
    {
     "name": "stdout",
     "text": "tx gas_fee - 0.002200757393679216\nsender balance - 99.98950159685413\n",
     "output_type": "stream"
    }
   ],
   "execution_count": null
  },
  {
   "cell_type": "code",
   "metadata": {
    "cell_id": "71b1ecd5-f5e1-4ce0-a61e-d7c5b772f4fa",
    "tags": [],
    "deepnote_to_be_reexecuted": false,
    "source_hash": "4d315724",
    "execution_start": 1647439121255,
    "execution_millis": 1,
    "deepnote_cell_type": "code",
    "deepnote_cell_height": 280.1875,
    "deepnote_output_heights": [
     21.1875
    ]
   },
   "source": "# buy key amount - 7.5e-05\n# tx gas_fee - 0.012698015764806073\n# total_out - 0.012773015764806073\n# gas_fee percentage - 0.9941282465017658\n# sender balance - 99.9872359842352\n\n# tx gas_fee - 0.007280189317043226\n# sender balance - 99.98104080726533\n\n99.98104080726533-(99.9872359842352-0.007280189317043226)",
   "execution_count": null,
   "outputs": [
    {
     "output_type": "execute_result",
     "execution_count": 37,
     "data": {
      "text/plain": "0.0010850123471755069"
     },
     "metadata": {}
    }
   ]
  },
  {
   "cell_type": "code",
   "metadata": {
    "cell_id": "ccad0533-5927-4dc0-a37e-6d90b3a6bf9c",
    "tags": [],
    "deepnote_cell_type": "code",
    "deepnote_cell_height": 66
   },
   "source": "",
   "execution_count": null,
   "outputs": []
  },
  {
   "cell_type": "markdown",
   "source": "<a style='text-decoration:none;line-height:16px;display:flex;color:#5B5B62;padding:10px;justify-content:end;' href='https://deepnote.com?utm_source=created-in-deepnote-cell&projectId=ebde59c2-d67b-4e31-ad3b-1bdd07014691' target=\"_blank\">\n<img alt='Created in deepnote.com' style='display:inline;max-height:16px;margin:0px;margin-right:7.5px;' src='data:image/svg+xml;base64,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' > </img>\nCreated in <span style='font-weight:600;margin-left:4px;'>Deepnote</span></a>",
   "metadata": {
    "tags": [],
    "created_in_deepnote_cell": true,
    "deepnote_cell_type": "markdown"
   }
  }
 ],
 "nbformat": 4,
 "nbformat_minor": 2,
 "metadata": {
  "orig_nbformat": 2,
  "deepnote": {
   "is_reactive": false
  },
  "deepnote_notebook_id": "8da51324-b2dd-4466-8703-b4c888a77c61",
  "deepnote_execution_queue": []
 }
}