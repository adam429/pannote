{
 "cells": [
  {
   "cell_type": "code",
   "metadata": {
    "tags": [],
    "cell_id": "798a7fbe-164e-4b40-aa67-62098377feef",
    "deepnote_to_be_reexecuted": false,
    "source_hash": "ab5b3489",
    "execution_start": 1647576466685,
    "execution_millis": 249,
    "deepnote_cell_type": "code",
    "deepnote_cell_height": 494
   },
   "source": "# begin_block = 5905762\n# end_block = begin_block + 3600/15*24*30*12\n\n# tasks = (begin_block..end_block).each_slice(100000).to_a.map {|x| {status:\"open\",range:x} }\n\n# puts \"begin_block = #{begin_block}\"\n# puts \"end_block = #{end_block}\"\n# puts tasks.size\n\n# # Create a simple file store\n# store = Moneta.new(:File, dir: '/home/jovyan/work/loan_data')\n\n# # Store some entries\n# store['fomo_tasks'] = tasks\n\n# # # Read entry\n# # store.key?('loan_data') # returns true\n# # read_data = store['loan_data'] # returns 'value'\n\n# store.close",
   "execution_count": null,
   "outputs": [
    {
     "name": "stdout",
     "text": "begin_block = 5905762\nend_block = 7979362\n21\n",
     "output_type": "stream"
    }
   ]
  },
  {
   "cell_type": "code",
   "metadata": {
    "cell_id": "2a195de3-fde3-498e-b6c4-fb9b5a24c1a5",
    "tags": [],
    "deepnote_to_be_reexecuted": false,
    "source_hash": "c1af081e",
    "execution_start": 1647576757185,
    "execution_millis": 1,
    "deepnote_cell_type": "code",
    "deepnote_cell_height": 406.1875,
    "deepnote_output_heights": [
     21.1875
    ]
   },
   "source": "# npx hardhat node --fork https://eth-mainnet.alchemyapi.io/v2/xOu9KmQYmgmqBuYhhPW0naOB9YRY3foa\n# ngrok authtoken 1WA2UnsI5GHgexqADDhvw7v1Npd_dqSFiM3bX98ny1vjvx3a\n# ngrok http 8545\n\n# 初始化\nrequire 'ethereum.rb'\nrequire 'eth'\nrequire 'faraday'\nrequire 'parallel'\nrequire 'resolv-replace'\nrequire 'erb'    \nrequire 'moneta'\n\n# $client = Ethereum::HttpClient.new(\"http://127.0.0.1:8545/\")\n$client = Ethereum::HttpClient.new(\"https://eth-mainnet.alchemyapi.io/v2/xOu9KmQYmgmqBuYhhPW0naOB9YRY3foa\")\n\n",
   "execution_count": null,
   "outputs": [
    {
     "output_type": "execute_result",
     "execution_count": 59,
     "data": {
      "text/plain": "#<Ethereum::HttpClient:0x00007ff1b414f228 @id=0, @log=false, @batch=nil, @formatter=#<Ethereum::Formatter:0x00007ff1b414f200>, @gas_price=22000000000, @gas_limit=4000000, @host=\"eth-mainnet.alchemyapi.io\", @port=443, @proxy=nil, @ssl=true, @uri=#<URI::HTTPS https://eth-mainnet.alchemyapi.io/v2/xOu9KmQYmgmqBuYhhPW0naOB9YRY3foa>>"
     },
     "metadata": {}
    }
   ]
  },
  {
   "cell_type": "code",
   "metadata": {
    "cell_id": "0e618260-7e93-4ad2-8480-07ef8e4178ed",
    "tags": [],
    "deepnote_to_be_reexecuted": false,
    "source_hash": "8fe40de4",
    "execution_start": 1647576495803,
    "execution_millis": 297,
    "deepnote_cell_type": "code",
    "deepnote_cell_height": 762
   },
   "source": "# Create a simple file store\nstore = Moneta.new(:File, dir: '/home/jovyan/work/loan_data')\n\n# # Read entry\nstore.key?('fomo_tasks') # returns true\ntasks = store['fomo_tasks'] # returns 'value'\n\ntask_range = nil\ntasks = tasks.map {|x| \n  if x[:status]==\"open\" and task_range==nil then\n    x[:status]=\"run\"\n    task_range = x[:range]\n    x\n  else\n    x\n  end\n}\n\n# Store some entries\nstore['fomo_tasks'] = tasks\nstore.close\n\nif task_range!=nil then\n    puts task_range.count\n    puts task_range[0,10]\nend",
   "execution_count": null,
   "outputs": [
    {
     "name": "stdout",
     "text": "100000\n5905762\n5905763\n5905764\n5905765\n5905766\n5905767\n5905768\n5905769\n5905770\n5905771\n",
     "output_type": "stream"
    }
   ]
  },
  {
   "cell_type": "code",
   "metadata": {
    "cell_id": "eb54c6e9-4e68-4c9c-9797-ad03b9da393c",
    "tags": [],
    "deepnote_to_be_reexecuted": false,
    "source_hash": "5fa10a8a",
    "execution_start": 1647576759470,
    "execution_millis": 1,
    "deepnote_cell_type": "code",
    "deepnote_cell_height": 460.1875,
    "deepnote_output_heights": [
     21.1875
    ]
   },
   "source": "def auto_retry(logger=nil,retry_cnt=12)\n    begin\n        yield\n    rescue IOError,Faraday::TimeoutError,Net::OpenTimeout,OpenSSL::SSL::SSLError,JSON::ParserError,Net::ReadTimeout,Errno::EPIPE,Errno::ECONNRESET,Errno::ECONNREFUSED=>e\n        if (retry_cnt-=1) > 0 then\n            retry_number = 12-retry_cnt\n            \n            logger.call \"sleep #{0.01*(2**retry_number)}\" if logger!=nil\n            sleep (0.01*(2**retry_number))\n            logger.call \"retry_cnt #{retry_number} at #{Time.now.to_s}\" if logger!=nil\n            retry \n        else\n            raise e\n        end\n    end\nend\n\n# auto_retry(lambda {|x| puts(x.to_s)},12) { raise Net::OpenTimeout }\nmethod_map = {\"0x8f38f309\"=>true,\"0x98a0871d\"=>true,\"0xa65b37a1\"=>true}\n",
   "execution_count": null,
   "outputs": [
    {
     "output_type": "execute_result",
     "execution_count": 60,
     "data": {
      "text/plain": "{\"0x8f38f309\"=>true, \"0x98a0871d\"=>true, \"0xa65b37a1\"=>true}"
     },
     "metadata": {}
    }
   ]
  },
  {
   "cell_type": "code",
   "metadata": {
    "cell_id": "3ce5cd0f-611d-466f-afc5-cb07a887c3ab",
    "tags": [],
    "deepnote_to_be_reexecuted": false,
    "source_hash": "b266acba",
    "execution_start": 1647576762696,
    "execution_millis": 824400,
    "deepnote_cell_type": "code",
    "deepnote_cell_height": 640
   },
   "source": "time = Time.now\n\nfomo_contracts = Parallel.map(task_range, in_threads: 30) { |cur_block|\n    puts cur_block if cur_block % 10000 == 0\n    tx = auto_retry(lambda {|x| puts(x.to_s)},12) { $client.eth_get_block_by_number(cur_block,true)[\"result\"][\"transactions\"] }\n    tx.filter {|x| method_map[x[\"input\"][0,10]]}.map { |x| x[\"to\"] }.uniq\n}.flatten.uniq\n\nputs \"time - #{Time.now-time}s\"\n\n\n# Create a simple file store\nstore = Moneta.new(:File, dir: '/home/jovyan/work/loan_data')\n\n# # Read entry\nstore.key?('fomo_all') # returns true\nfomo_all = store['fomo_all'] # returns 'value'\n\nputs \"fomo_all.count - #{fomo_all.count}\"\nfomo_all = (fomo_all + fomo_contracts).uniq\nputs \"fomo_contracts.count - #{fomo_contracts.count}\"\nputs \"fomo_all.count - #{fomo_all.count}\"\n\n# Store some entries\nstore['fomo_all'] = fomo_all\nstore.close\n",
   "execution_count": null,
   "outputs": [
    {
     "name": "stdout",
     "text": "5910000\n5920000\n5930000\nsleep 0.02\n",
     "output_type": "stream"
    }
   ]
  },
  {
   "cell_type": "code",
   "metadata": {
    "cell_id": "6abdbcdf-cfec-453f-a147-c1740c143630",
    "tags": [],
    "deepnote_to_be_reexecuted": false,
    "source_hash": "e23933e5",
    "execution_start": 1647667150551,
    "execution_millis": 3456,
    "deepnote_cell_type": "code",
    "deepnote_cell_height": 135
   },
   "source": "# load init moudle file\n\nload \"/work/pannote/panbot_note.rb\"\nnil",
   "execution_count": null,
   "outputs": []
  },
  {
   "cell_type": "code",
   "metadata": {
    "cell_id": "f5488c48-090d-4e60-a2b6-6722f9b00d77",
    "tags": [],
    "deepnote_to_be_reexecuted": false,
    "source_hash": "cc3053f8",
    "execution_start": 1647667215885,
    "execution_millis": 16,
    "deepnote_cell_type": "code",
    "deepnote_cell_height": 118.1875,
    "deepnote_output_heights": [
     21.1875
    ]
   },
   "source": "contracts = Task.where(name:\"misc/fomo_contract\").where(status:\"close\").map {|x| x.raw_ret}.flatten.uniq",
   "execution_count": null,
   "outputs": [
    {
     "output_type": "execute_result",
     "execution_count": 6,
     "data": {
      "text/plain": "[\"0xdd9fd6b6f8f7ea932997992bbe67eabb3e316f3c\", \"0xa004b902bdcf710462f905ed487642031d17521c\", \"0x4e8ecf79ade5e2c49b9e30d795517a81e0bf00b8\", \"0x4f0b09be4032772ff023ab374b45c615ffd3f4e5\", \"0xa62142888aba8370742be823c1782d17a0389da1\", \"0xc65d85f7bda97015c0fe23b8cdca3c5567a526a1\", \"0x9872ffc47ff6ae0cbdec2f68bb88ad3169d69afc\", \"0x820dfa17d30f938dc2c172b716630a06ec759d99\", \"0x6db943251e4126f913e9733821031791e75df713\", \"0xe336d0c8b24d8e20b6f714522f590abadb601493\", \"0x0bacc180c94648daffef39c4ab7a9e5e6657230e\", \"0xcfcd4a9607d756704ac52d28777f98a48ee99efb\", \"0xed3762edcc5820a5587105d7b9f574c711c4a700\", \"0x3d9806b5f595398b27706729706c86096dfa4197\", \"0x3dd21350a340adfc0a040e0c7074ec8f5728062a\", \"0x81675fc9d2395b1fbc606cf97d7c488d899d201c\", \"0x0ad3227eb47597b566ec138b3afd78cfea752de5\", \"0x4d2c5308f1d9b42bdc398d215713bbc9e0738a0a\", \"0x86d179c28cceb120cd3f64930cf1820a88b77d60\", \"0xc2748e342411a2b1f84f9fa807d4e1c81365da1c\", \"0x342fb83e089e3e04ba4dc4e21c21ec44a9ec0c8e\", \"0x103d98686ced96f1d2cf1a0d1eabdd63c9c027e4\", \"0x1ca95b07290db4cb91f9efc9060a8df2a8eaff00\", \"0xfb0c78f6e1f9e2536c410ca529714921ef9fdc21\", \"0x51a5271ec514c3065d9de2d8e95051989f7d53ab\", \"0x01cc05f9b341e3f488eda3fe63f771f5a4f0a952\", \"0xdf100fa9a871669f1c99649fe7852ff45228a83b\", \"0xbab334138f28d87e1a4d70f474ea539e25b9992f\", \"0x0248d2dbbf900dcd93ffbd902de779ae0dd5eec0\", \"0x52083b1a21a5abc422b1b0bce5c43ca86ef74cd1\", \"0x8fe7af8163b3891d368126db0ba6d68e70f680f7\", \"0xa9b9805d0fed371cec8fb8a8f2300f279c47ba53\", \"0xec4e41ffc9e17aa71b7ddcc5c1c6e9960a70a11c\", \"0x4e71b5e47a7e4f8eaccff4ade0e3292f80780cf0\", \"0x7b20471396cedf00cd1f65eca27fdb3ca1643b6c\", \"0x93b3b11f18b7bd7aa5e72afaee7aec78b71b9dc9\", \"0x8d8377c57470bf747426c5e6a7d62f19b49bef5d\", \"0xe1f338e069f202f2113d32c8a5d1046d83c92ca4\", \"0xa157c0d0b1512ecf4c029dd41f6b7124fe722750\", \"0xe04f0c120e56e458d75b80e25ca49c17c05a3b16\", \"0x12169a9b82f2eb2fb1f2ae2f840eadc6b5e1644f\", \"0x5a5ed076e9343022fe91c18759ac35d158ae9d7c\", \"0xe5575c3a697e2725abb1b7930627b04049289789\", \"0xab4e6f106fff4e80f8d0689c61d235fc430f629e\", \"0x51b97f7c35b126379e6d88f52114ce5a24bb83be\", \"0xee3973161a2e136da63c6e71e9a212d8b1777d9b\", \"0x39ffccecc551f35f8dfcb52c8c01060919aed1ea\", \"0x7329688cf215059252b8339e6f4d102caafca58c\", \"0x4f1e174265c29a18a7ecbf93009e0a0d1a819df4\", \"0xb3640c4e8b8317cbe65aa4f20c7851996e6b406c\", \"0x6cdd4f8e44395c598c90947223211ab62b04a7d2\", \"0xecff8fc2a19f83fc855618704f38725756dbcae3\", \"0xaff1b0e3ac4fcafd8ef37afe56264aa935bc979c\", \"0x460a5098248f4aa1a46eec6aac78b7819ea01c42\", \"0xc3bd383ed5b4f682f5848e63079df9e5b5261253\", \"0xa307dc134d5f4e62e80e1a1501610e3fc145634e\", \"0x9d9526c7d43e645d99951ab53254286fc1ed3408\", \"0xa6b4a7e35bf6ca75554b669588c6032cb0a10ed3\", \"0x829c0404f87170fe4ae29187d4f45d26f65e13fa\", \"0xba77472071578e7fa408bb00f9098b2f635ef62b\", \"0xdfeaa6de6f7ca646da2ae5ad512d82bbd41e43d2\", \"0x5f347e6602828731f62875e8724ec48ed8f862a7\", \"0x24da016c06941ec2c92be28e0a2b2e679f0d1dc7\", \"0x6d8c22c09960b4283446c61cbf5a9f7f2449cb78\", \"0x45199ac8507bb38a8734b104f18e881bac832c25\", \"0x7802b44acc5f37b4843d10f7c4eaec1c36bc7d2d\", \"0x5d0d76787d9d564061dd23f8209f804a3b8ad2f2\", \"0x6d248983a92a00e55c54a8abc727079a951026b0\", \"0x205718799d502fe2c45d3afc91c3c8ccb5c0836f\", \"0xe8633a47f4d1cfdd3da15441064ce8f8f42c1369\", \"0xdf8c51c6bfff6870e62337dcf033056a3197ee18\", \"0x7fd4a3e6ac19786bc9e79a08e409263a341389ea\", \"0x7228d4bd85dd8eee96b791a4d25d5936b6eeb098\", \"0x5c487565174d88a10bfd5fc2e3da27eea562ed57\", \"0x469431743a71bd7a0f985ddebbefea4b31f5dfd9\", \"0xf5ad74c2a4deeeffd1e5e27d1221a4ca33214277\", \"0xe1bb663b41a5691a15d960fc2e3f4972bf905ee5\", \"0xd58ac53abd1e9a67b8096f5bd3653ebc49bf9f84\", \"0x09f3b2e744b62eff955a0e4cedadcff2fb923d55\", \"0xc32d92e3bdf6df2ff891224e3ff9a2da0e1d6e64\", \"0x9a44a4451c7e7f3af84ad9158f09ee2da1cc6c83\", \"0xc851288f12dff70176831ac6926b50565ac94128\", \"0x2ffcdd58c7bc3a810411a8e6d9667bb393504b04\", \"0x05aa2fdf9f58b426b49900834cce0565d88e52eb\", \"0x47a40aaff442b3d20773bae35199f8495ac9621f\", \"0x0f90ef4e2526e3d1791862574f9fb26a0f39ec86\", \"0xc3258f4b7ec932d04f0e7704e53348153b94059e\", \"0xa661d30ed10195a946a73d299645678338807ecb\", \"0x6916e68fc3c5f770c5daf9b7139a0546d654b5ca\", \"0x0fc53f7c2659a708f46d0c4336eb8c1e0f551307\", \"0xd097000368260510fd5fbd8ea270d00a04c70e7e\", \"0x2f0ad9f30ece5580f11d47187ab5df946449bce7\", \"0xcb47c89cb17c10b719fc5ed9665bae157cac2cb1\", \"0x87484e1047b56bf585551ad921ff369fd3a7a453\", \"0xa8a259af6ad5e8662a1b0be91e721de8a26c91d1\", \"0x86cd40f527bb402643f4b1ad13dcbff2b03c1c6e\", \"0x1f4acd7d9b2f23533b926089946261ff728d8e3a\", \"0xf9b18867740cf0e4d8d226105409b048442e8c73\", \"0xb4807e67e932b60db0036cd3150b2d3564e3734e\", \"0xe2efe70ba4349369c93762850f8910eace45e9b8\", \"0x390fb5af2df79da723a9e1c619748df580524365\", \"0x3356822010d69a9b07f2773564923ff91d8a24a7\", \"0x63dee77880a38da6c43a37dff3d0daf3207f99cd\", \"0x29488e24cfdaa52a0b837217926c0c0853db7962\", \"0x653bc9842cb54fa5454645be2eed7265f9fb9523\", \"0x2a9a8d2b24fc00d3eb5370857316c0ab57e74ecd\", \"0xbd5bbd30aafaf76a2b7bfa92c9c0f92218609778\", \"0x0c14811dbea9af62144df33acabff53385b60f25\", \"0x3ece3d1c2c769ea680040a805aed847872e7b922\", \"0x4a150955cbb2c8420901988f90392d9d2f83f11d\", \"0x3664be8ec8a66e8dab9dfa48e5092f576edab746\", \"0xd151db4dbd18b06a2351b7fc7ff23236d4aacc13\", \"0x96e16d2d8e29977c8fe7c970521f8a74ebf000b5\", \"0x87cf5e35a8e57a12e513fd8bb4e5a708245632dc\", \"0x37ff51633540e3d1da9e11b8dbd214d9cc15b963\", \"0xc7acc31641f231b809fd609c21c8343501aa3702\", \"0xf1ae594cefee0bf519f227f3262ee2a851b14b9a\", \"0x5041d5c444c2d730b406ae5ec9199cd8e47e463c\", \"0xba5b56aeda50c1c18fd8f17544302b6a8d7e53f5\", \"0xeb0b5fa53843aaa2e636ccb599ba4a8ce8029aa1\", \"0x6bfa42451ff3df4b491c4c9d933c019f80060593\", \"0x84bfb6ad92ff26b27e9284eb0815174e9b94fcd3\", \"0xaff69c67f5dbbdd088ccbc6d47cb9e0ea547e132\", \"0x2347434059282e868a705367bdd5e05571e4e9b1\", \"0x64c6ba14ef4e77ae7d61687382ec0aa58a73544c\", \"0xb6d0c7f22bf8ebdb42697d1d16460f114e916135\", \"0xf53d58dd60bbd3f318bdb64b29feb41f16b229a7\", \"0x564ed59701c58f1cf2e0fec2666295c9df8488ee\", \"0xdf0841d1e970cbb375ddfecd477b2c47904bc06f\", \"0x3ad3fdc5b3f8b15708cf8ff08b90d44898ab1ea8\", \"0x76ac336ba076308b768128278ff4902359e69713\", \"0x13e90c24473919a6287d4a8bade3a593d4c26f83\", \"0x43f215793cc57899875e2f7e35d46aad590443cb\", \"0xcc55c087d027c5dd3b0f3c28280c3a3fdd798c8b\", \"0xc7d572dbc059ac297aa51a340c53d82915ad6fa8\", \"0xcf0fc3bc199158eb6b5340f83eb58dd6ac8158b8\", \"0xcd086f9820088b528021ecf078a8721c3b778a81\", \"0xaeae6eeacad5944dbbddfdb9b7c4afd55dedeead\", \"0x3e22bb2279d6bea3cfe57f3ed608fc3b1deadadf\", \"0x552e386454dee40c1dd15bc1e592126bf0f59a59\", \"0x5d99e9ab040efa45de99a44c8410cf8f61cc3101\", \"0x5b79c4037f2d75adf78c956b44539b35f811ec99\", \"0xf3057294dd6ae51589cff7ccc62ef0b4bdc73a7d\", \"0x184f4938686fd628b93d54605a5ef6c3f8879c45\", \"0x58232003b3d18021acfc9213d27d6f8b72f4f029\", \"0x4e2f21d1fe4168e3ac10462d41b8364786b8cf90\", \"0x9f1f6105fd4e4d0a6f922855131c9e9c451627a7\", \"0xb178ea2c9023bb2dd500a607505d2aa121f92a35\", \"0xbfd9a4428cb3b1e303425859589f5cf787eb2a02\", \"0xf5fe6b716c0cd0e88059d8b3d8385c086012eb0e\", \"0xd02c223bc1a3da3b263bf84bfd8532795be47197\", \"0xc75506deae7c01f47bcd330b324226ce9ba78e30\", \"0x5d2088e4b9e0e0e925a7349a64066821a6d310eb\", \"0xb6cadfb7d4d900f8152954a58bff03901a57c2e2\", \"0xc7bd7f749cc212360ab06c5c0e18caf1af9ee150\", \"0x2711847ffe2a0dd128197c3a6fe193fad1995ef3\", \"0x08b00e7250981ad94bbe00ebad8dda560142b8b6\", \"0xa1f484fa63c0dfec6a80348b0378f51a5c46deb8\", \"0x304b3c3b5a741c2a640d5e04bcdc9382208e6f94\", \"0x2a71ae354d82c16233416e96374ef324b12a5646\", \"0xf75c34362034bef5a1a49b5d4441516796919d85\", \"0xbe1a70641c58f490a5bb554f761e3f3a27d1f07c\", \"0xd03df16b06177acdaf48bffd363d760b47d6cd78\", \"0xd595d8820179fffe4f4f31655e3ec49d87a10f95\", \"0xab83d96de35bad6f234178fbb6507203488e9626\", \"0xfc812ef2661a99cd21ab452edcbab505583fe40b\", \"0x47e4712d8654225d2a9c9ba60cdc0f4f11499aba\", \"0xde527099f9ecf94a67bc94c676694453f6bda781\", \"0xe7d2c826292ce8bdd5e51ce44fff4033be657269\", \"0x202d16c018d31d60fe179a67901444565e0f0cc7\", \"0xe818ccb1795b184ed6d9b96c6eeaf50449da2a2c\", \"0xc4632f6059c3c993fcea61c138b1d1f5dc06a9b1\", \"0x43a48f6c6c635b586b639d68dc3a04230ee26d3b\", \"0xe58230311c16fa171652f5b8fa569b95b4e5828f\", \"0x6e865ebf6b8b12d4519202ef4ca1e5237dc18739\", \"0x2bbbf638ee9cd850c0e5298257c0eaa349cbf96a\", \"0x708ca05833cc5f171bb832a1ca0e3474bafe429f\", \"0xa1ad52ff49fc70b7920b7d02483a58beb15d492b\", \"0x74dc7a202dddb80f1e2c40e3c686a37a3051cfe9\", \"0xf24e8a512820ceffe283d609477810841ad79e51\", \"0xdbef8a8e4ae5b2222d6696c0740f36af342bd9d7\", \"0xa3812950f92bc324e274be2df8f3fbe460e4ed52\", \"0x8d8fc36358a6d9be1be89dee2ef5304328e802b0\", \"0x234f715152d5ce9e3a97d135670edeba69861708\", \"0xb330ffc5017f616e1226f0994750bdaa3a9b2ab7\", \"0xb81d1c941ca275133a1fb646cf29b80a47f4ad2b\", \"0x33fbf2c28bb6ba7d7c83afe8372c62146b296f4f\", \"0xaa568efac825a364aac75280cd4f4adab485628e\", \"0x6a0ad7cdb127c94f8bb2b39e3fd73fc462a66a95\", \"0x62c64a92b2155153b019038ca6e689c26aaa4d43\", \"0xe5553b54c3ffe46360bbfde02ff95ef1c5c2c8c0\", \"0x84d7c40bb0cf1705a0ce7b02c0cd7b4888a19363\", \"0xc86608a934c8f7552939c97092144b3d497d00e6\", \"0x462d8043df91388f4b95079392b2273d4eacd127\", \"0x599d914b404215afd9c127650f8ab90c049d45c4\", \"0xbabed6ca5c86b2347d374e88251ca8007c417f55\", \"0x6be6aa1b23afcee2f73f663f9be2e70bb3224f8c\", \"0xfdf4b0221d272c442541225b1a3aa0ce76c8d243\", \"0x42cead70158235a6ca4868f3cfaf600c7a7b0ebb\", \"0x9954ff17909893b443e2ee825066373960c2735a\", \"0xec20d4d9a4631bdeadb59b0d1764c656eee83ef4\", \"0x24ee9c02fa209c3f5d27f630ce208c193b2fdc18\", \"0xc664601059699bcaf2a045943af8ad4dfd53d384\", \"0x5cd17346bc2b8b3b04251dfea7763dbc70cceaf7\", \"0x21f3421bd5c0bb1838d005f92a7ee6f5d3df255f\", \"0xdc066c14edba00567c1a6c491e2f3a3e66ea2b25\", \"0x2ece5039059742e7b6efe2676b5d40392adc4b61\", \"0xe69ba47f38ee8ab38696014c19b547a4aa955480\", \"0x3e84f9554d16b630cc4bb95131b8f0b97dfddb1b\", \"0x2250453d4d5eaae706671090d89dd23be305d236\", \"0xe19c616ff1efc079792df6b5583d2cf3e6e77d10\", \"0x254176471c09b5c4f6790e000af98894459ad334\", \"0x914cb835d724d0d7d57cea2d48e4bc9f1a9db092\", \"0x1e0c81f0fa468941844337fc6704a1f631046e6f\", \"0x603f234b6c1cf8104a0791a1cc32ee73cd73cab7\", \"0x5b879b47592a4030cb05727215541a5b76410746\", \"0x0b588a1d41518991a94590a7884f52b8836df38d\", \"0xc0c2d062306fe840e11f7fcf394df831a09ef20c\", \"0x1eab3921f89c976225e2159e15c6f9be60531544\", \"0xa4e5fb80dad1ef521d93a7d8d0fa76bc73adec1b\", \"0xbe910a4667bd4706de535c91ad2825f821b38245\", \"0x406e6cd18388dae56c339b7b74c9331d0db21a93\", \"0xb70aa6548f9324405d3b4d1d8e66c2fe51f101e6\", \"0x098f03732d8d05b5a4cc131979cc090dd7c8dd54\", \"0xe36b1ac44f592b55c7d0673b7c36155e55c407cb\", \"0x4d32df060c8cb4aa1851830110a0a4dc96692371\", \"0x9eefd01e00ff980fa3f4c5419003c8a925fe08df\", \"0x99b34122d26e9693070e0cc43accdcfa77339dca\", \"0x95524cea20f91fcad2c6cc8d6694760c28060088\", \"0x7b0fcab45a7345ea333b7895b7d346dfa1c9e267\", \"0x9eec065f1d5d03c52f1879097d838f362cf2a4b7\", \"0xf9ba0955b0509ac6138908ccc50d5bd296e48d7d\", \"0x66a4281a861eda423f61ce56c12891b42c279719\", \"0x5783b99f9558aabc55774315e37e1251e50290e1\", \"0xb7c2e4047fb76508d4137be787daf28b013f00e6\", \"0x30908c6af9f6fc666d1b81091dbb4fef89c77d88\", \"0xbc2bc488172b0ca444c97dc1e3f3ff194f652177\", \"0xf1f0956a7d15c96e71c181cde29a238abf9ba8da\", \"0x3ee173490d9821339c004c0a8e482414777b6920\", \"0x5ca950f680b9cf4fe9c64f47ba24ad6cb61386b6\", \"0xd7d930635d06626ba2f623b3832daa0e334eeb7c\", \"0x51f835d5671dece76c3fd11d648d1da00f8aa206\", \"0x1d3b8cb503625899a25f01325891fd2894f3f591\", \"0xd634fcd4e073ec169d74fc9b0898d527865ee698\", \"0xa88db287066a1658db91c60f3a8386a1784411ab\", \"0xc5da1918edd8ac7dc1043f1cccd317161403983a\", \"0x07c8096ec3f77c9e2c09474bb4631246b96a4f77\", \"0x73fba38c502f2d0a0fe55bdc715e06f70d586a37\", \"0x58db9e7a4afca731d824eeefa55ce37666aa3eaf\", \"0x70835f1376f989931267324b21f80df47aafdf66\", \"0x772fd2f2e4a85e2a7a88cc138f9abe15cb8d48a4\", \"0x94af7f3ef8cdc9f31e0f223028f07436437fa647\", \"0x8ae24380331e7c6c6323034d8d873ec1b5da5461\", \"0x750394570280998b3038806dab7ee605ce81f38a\", \"0x5a24adff2ad6362c8b21c3258afd2c8df57a8a95\", \"0xded6e881c9b156e29561bd57208cfb6923bbe254\", \"0x210623e3e5fdfd5891be1c2708506b501672cc6c\", \"0x481d9acc755ce37c4379ca1e2219cc7d8732ba24\", \"0xd6a4d841c78d5291523fa641ff30f7c63e71a2c5\", \"0x9237e2b066c86eecc4d52708f11d0042dae8111a\", \"0x4a59e54623a8246591e1868222aef25195be11f1\", \"0x66838bf9c5068ad9a0fdfcfb3271a327133d685c\", \"0x9e09226ec0196e95a4acfd11a67c54fb0008398d\", \"0x8cb36b3f9964f64f3ba0db4c2f4d461ac931c01d\", \"0xe2f3486ec3f0148b50be64c4b649175e561813b4\", \"0x9134c89c2132b80f361c5797bee6fc96c8d15cd1\", \"0x8b5d9d156a4a3742ae1dba56434477e31754a056\", \"0xc541e02e7d66cb5cbd7d33d1874dcc3f028ad75c\", \"0xf359f2cc9e921496cd1ffa6746b6fdd08c25fab4\", \"0x9edc05176ae3bba98c3112ac842269b225e55722\", \"0x34041af365f1b1c008180721e51540a0b0231985\", \"0x8c74f1ed536e79de5cb225f035bc989ae84493f7\", \"0x0d93b0188b86eae82201751c696b6bc0f96881f9\", \"0x574d31c8737fc015f6fe8e21d44e1a022081e06e\", \"0x87f65233683454eb4c568cf23d07ca8c7e1f9985\", \"0x8a66c94ada376fb7c64cccf2f01c238b9075bda2\", \"0xfc11ee30936eff859cafe63cf0aaa425c43304a2\", \"0x0c65ce088aa040d3ad3a12af4d03d3b1d2ad8607\", \"0x8405488c7febe47b7627fb52ddd389ded465e9f4\", \"0xff09da06a23956dd8149d504696abe245aa07881\", \"0xa0d5f2481cab1b389c2e4f3324126c01e1a61094\", \"0xd614512a2492b93b179103cc0ef968c1e9892087\", \"0xaea97a5e6ef0e7c77041ed4d522c41a415a4536e\", \"0x11dcb85916423c46f70552ddb220e2583d2a830f\", \"0xb959c0a3dfc116bc7f97d690223f8179c868ed5b\", \"0xd60e1b84d2fac7b58d376693e36353c031808bb0\", \"0xdc2bede3f21841f237d9d309c10b8afcb539c924\", \"0xa0598f779686a5085cf7ba023cd32fc5a3cecc17\", \"0x399517c643e1425ff0372e53b4a1dd31b2c7a9f0\", \"0x68f2e8e5ba53b3afbd2668c9d2c9c1700ab955d6\", \"0x91a78833e5d944397d513a4d339550bb33d77065\", \"0x14c727a241d4e7121e0fe1f8f233cbb9ccb0d20b\", \"0x9c2058bdc11297293e670195d02abb2d01c1eea4\", \"0xf63ae2f88ce6ec90e9f6801bb15c1b0ef5870ac4\", \"0x3af24388ff9086cd5d910f4b7e0b3f5ef629b5a4\", \"0xc6369ef2899122cea0436d8b19f81e3037741fd6\", \"0x674695b11710111dec32f247713631e1e0028597\", \"0x19a21c1715494413a5052924234c58d24b09b15c\", \"0x4fb7d68e0116f35ade131b6535b2db1027bf7650\", \"0x9b61b10356a04644dbbad26037fa40141db3f407\", \"0x47663541167ece0b96d9e5c60f9e470b2a20f598\", nil, \"0x51057efc2882e5255a634dbf6a7864d199562dd4\", \"0x914b7031e31faa8c1c332d2044f5b531540dbd30\", \"0x4cba8d9080964482371b6e6e474dd48eba541640\", \"0x9a2b42c4a269204bc3645ae2fc83e8d5eb5cc58c\", \"0x6963f8e62f7d710685990310a910c7ee11b1121f\", \"0x8baa2f4d84a9debe3f60d490b7e1e5832ea24382\", \"0x9520769b72e8f0730c0e91475d3b1c26c660b08d\", \"0x88b896a3f9a7399695609fc735f9d637fa4efb7f\", \"0x636ce12554fe24348cd1ad2c6c65436345b88b97\", \"0x9ddf4d7f5afa1bf0270b2719811324c2ac97480c\", \"0x4ca603803d7819cdb2c86fe146f213dfc4a5b8cf\", \"0x984d783bb1bad8148b7d5db10e59fc1532c2dd0d\", \"0x58c59914f17cf82884d7d54bdb5de6758b742ef7\", \"0xb77b6ef8cb8e43628e6116e1a7dd8db068615dbc\", \"0x417bdc58ef9a3d7de04a66ab84ed13048d9a82bb\", \"0xc3237200538782e0e932db4db026288c229a6b14\", \"0x410f0596fd3b9cc63a3e9ff87f6cdb48b8d3ddc3\", \"0x49640c0b505315e28f97bf83810112c174bd924a\", \"0xc355cbb42a48b6a63e6738c7e15a8b8918eb6654\", \"0x26d76a22859fec45da123dbf3e14053a8b5b0831\", \"0x0988d81627ea4c1cbaa7a3a2b1ad068d3bab5747\", \"0x43312c23f2e8fe11390329c15079717c5b27b8b9\", \"0x04edcf348026794caf7ae9f092e80ac3d33f4686\", \"0x0b5da756938e334c97ce20715e32a4a8fea12ba9\", \"0xd460022f7c6f4dbdc142942f320464c8b28282bc\", \"0x324b50caa2b95df219e78e016a3014e9b70ef5a2\", \"0xd53a68138acac9f2674f6c247cc1f6374ca69ba0\", \"0x0fc5c437610152223aac0546b0b7d986248fd6d0\", \"0xe0b81bf2042e839ddf33f36561fec5554c4cd9d7\", \"0x004a0ea16df8e38e9107461dffe34d6a7f9caab1\", \"0x2f3dba34d725d2252f62997cad8c7db5a92444e6\", \"0x87705ded1be84f6de26c708d7055dd44bfb289c7\", \"0x6a02e1a01e24007c80d3c377ce8ea624bf2a22c6\", \"0xcf3832fe8062b6b870a762f2eefaad725bf4dfb1\", \"0x951a88379a6ab4fa8f645622086ff5637e75c9e6\", \"0xb9a8348773f1c01c49730ee51644cbd16a473e75\", \"0x6ab16482010915d89c6a9e2fdd60176eb4c01f1d\", \"0xbbddb9e125e6ccdeb11829484c15141f39b20586\", \"0x698a105e13dbc26f864fc04f94bcdfb11b55b7eb\", \"0x443899c75543d4ae2221e6665a16a0a40d1cccff\", \"0x0a3ed956f14d3c725f2a04117e2f25b12dd3dec3\", \"0x0198b0d6f20ba5ff8d32f6f2e1358896d5f01ec6\", \"0xc8e50748a0dcb8e08b5aa0a9d92144091a55edc2\", \"0x830ef78bc6f67c8f2bb691a72a74920a6c3d874a\", \"0x6de7fd35c2f9b25b0efe85621306e9de41eab97f\", \"0x472cec8463e463e54c803db6eca1b82dccb5c687\", \"0xa6b81dab2f522d0a3a004d0ced6ddab5b76dcb00\", \"0xac290cccbaadf47f94dc4bbd37eea24a5cd3312b\", \"0xe4c74bd8ca9cd10a81242497a783d87c0ba93bf3\", \"0x8a233644e464b382a48a3ff4b00752bef73be465\", \"0x760fbd1446e3ce8f22cc7805ef057ad3b259161f\", \"0x848f39d56f7b7e8562d13c9edb5a18416aa5b730\", \"0x994060c48c9b2ef77b99381926a848aef9ef4f10\", \"0xa2edca10311a70883c5019b51048f55fd1508fe6\", \"0x888803c63f1ee47ae4b4bf84abd35c9a047c56e3\", \"0x79d0dc07b547836e97caa54783f3bced8e5b8c6f\", \"0x80541913ea10b23a4b63e559a1d0dbea4ae669ac\", \"0x1e6bba8a4aab68877fd8915009ad0ebcca483432\", \"0xd8807641f56cb85b20a99198298e1f535342a08e\", \"0x77ad7abcaf4013d766f359c3fb2c634da18a4198\", \"0x2df3e4fd10b58124f4706139ab754a81cce676c9\", \"0x300983ba5416802148cf80793928c6e17636169b\", \"0x0bc50963b8eccb87b904e2fdfa209a30b1ca0ed0\", \"0x73951ffff896022c0d0073876ae52382ea413cc5\", \"0x8378438344d4f1e3c9d7c9663e2eb8b23c6c80ca\", \"0x4b4ca3e746baf3b70f5e16899675f0178f756e3a\", \"0xaf61beae75fb0bf57a31833d6425fc514fc1c4fc\", \"0x16b3e2e923a467c74caf1c99d2a6909ff5114152\", \"0x109c1a93948f3eacb4f78104bbc48e0ff654c81d\", \"0xc7fe58719b3db1e276559a14cb72a488f1413bdb\", \"0x10c1a22866e51166e3398274ccd736211018b660\", \"0x9a0516cfb85c42a3f62cacb3c310784c0fcb0da2\", \"0x059f3e09a69dad8c4dda8819d6989b98fc70ccd2\", \"0x60e8595bf4a468900ed07c8b24e7f125a524fc26\", \"0x6e4c0f93cfa81ce9ab66bf07dd9264957d1ca10c\", \"0x8fc3f0970c82f2741730bb0d8e33b83fc646014d\", \"0xe07a031ce99e7dcc7b3b4ce2d12773d7f2ad0e53\", \"0xcaad5a638b0638353dfff55c0d9602e43955eeba\", \"0x473c31f84a453a86f295e5860e4cbd3a17f91cda\", \"0x3a364bc5119f4bbf40d2b48f76f4a73e43dfcdf2\", \"0x0c7f64eef5a10382b260b5648d105fe8925a55b7\", \"0x118d7e83d2c83fe4597ca24c2d958cf47ed61c34\", \"0x09c9c8e270801b86c3d6a93217957554204b461b\", \"0xc57d591db46d01d8fb53169af11c3a265f4f470f\", \"0x0c54d2e6416999032eb1b798663e108ec20af9f5\", \"0x94197f2d7384ff6c71a73fdc95d9e5629c1e6e7e\", \"0x08e726dd4b6dbeeeb15ec26d04ac952b8bcea480\", \"0xd82409930a32dad66f90bc8455be4ce8faa06e93\", \"0xa9cd85313cb403c25a49fe9c2bd83e3e8fc0d6aa\", \"0x0f1f5b0aec864262aef8cbe1f89be64b7beb6a39\", \"0x3f7ce3425b6d37df5ca4c21856a4a67a96a8b6d9\", \"0x304eec612ad5542db86c4fcd28cd7358983c3028\", \"0x8d93d6bdbf2f798a730ea0dbb2d83cf2dcf93546\", \"0x302cf8ce6326a607b52702b6c0b560f5408a96c2\", \"0x097f0d3072b0bb5e364ec7e403285a0fd35d35ed\", \"0xcc8aabf5199a93c6cff2495761cbb70e056b41a5\", \"0x1181ebd2c9bb4045e30eb8dfe82cf57906676644\", \"0xc6d6dda991dff57fdf359f3c0a3e29edc9131869\", \"0x34cf249455304ca05096cd8737b1b16a885de30d\", \"0x95faafb4229fd3f1fb466fa68e13f233d3134509\", \"0xef1e8749538700e3975c1899276e15dcb6851163\", \"0xef6754ce39b05653d01b4465984834c554677dc1\", \"0x3d2e57a25b1a6f4a601b0eb9c096f4f2b3b6b667\", \"0xd9ee30812b0d3d3a7190645caf20f781d64a0bcf\", \"0x723c7bca7ed11ab6a18b84c1ff5b979fec00f54e\", \"0x962754330c553546af333ccf716dd32d20b2f6fc\", \"0x9d5133cbc557d71335c1462118c017616fe63453\", \"0xf9e237412dda52dec39eb19220b2049a0b1adf14\", \"0xfb6916095ca1df60bb79ce92ce3ea74c37c5d359\", \"0xf39e044e1ab204460e06e87c6dca2c6319fc69e3\", \"0xfa935a169fb267bfaafb8c34753c8541513b5c5b\", \"0xe65060b5b855e2625cfc5038f013929a5a7170d1\", \"0xb67bcb0134d2692581e09c20fe742043c3b448e3\", \"0xe159f75e375218e1ecc089835a804cb4a1581f4b\", \"0xc0c001140319c5f114f8467295b1f22f86929ad0\", \"0x6cf404db466dd83dc0f0b7be672798a4ab709aaa\", \"0x41f19807c446c9a649fc124561314174ff5b5c25\", \"0xc863439207e4b339df1fcc78648128f0705ca0f3\", \"0x8e9b8f9a65dc549e917e5e981713efcd1b8c9720\", \"0xff0719687738c1e7fce3c50ee53140fcc56a5791\", \"0x125365069020439b830c9eac9dd402f8aa762569\", \"0xedfd2e59cd5e5a683d14fc5cbd939a3602203e2f\", \"0x607bad7a2969019ade64cb1b74f60fffa20cc3e5\", \"0xbe61cb089b430c488e60b1be2a96c09f4e275c89\", \"0x504d00c4ad9df0783ef745a19130266667ffa888\", \"0x9c9f98c95ec0a9555688b4120c8e841b6a1be3d3\", \"0xe3b0354425ef59467bcb53fe4cf7cec72787756a\", \"0xbf06e2b5b97e375f7c0b3d8c61b8337a9c7ea23c\", \"0x01653e20d03d450658740691087ea7155bcd9726\", \"0x908c8b42b19e157592865e1a15f99a077e9e9cdf\", \"0xddd37e4c9f600f728ac6ecf5d95283cb91cabce2\", \"0x9576a5c917caf5cc79d8124292d35ab131f514ef\", \"0x1a050d77003caee532df18d04d86b99ca15bf9e8\", \"0xf449e6beac410b030d4f848672505d4b35ddd415\", \"0xb2b30d39074c52a60283a26f238abff31fcb4217\", \"0xda8d7ff0d043848a689125e2c7ab87b16a0cbe81\", \"0x1a053763034a053eeeb17e0dab59afb1416071d1\", \"0xd09423077580628ddcdda342337280e8de34aa80\", \"0x623dbcb14e4f6f9d74fe987a6c0718467722062c\", \"0x8fd81bcfc1eee7087f73aa5b3bbc6dbaf65425e9\", \"0x45226bd7981508b1857eb1a401cf36a2329384e1\", \"0xa9272062c170e2878cd0405fd433246d1f4384ff\", \"0xd695dc2ddd1d063e5eb9e3681e4a7d215558388e\", \"0x3b57437c6a9b053adb4addf6ede1eacd6e34f00d\", \"0xf9b66672c9736236027c4474c40fc78b1b1bac6b\", \"0xd918219fd9be2de265438128988a0716c2be1236\", \"0x1fe4de38647778255a47060769942c360fbc5b71\", \"0xc9fd3863af2c178751ee5293206145e5e68b1fba\", \"0xf0bb254574f6aee3b09367063e4e02aea028bd2a\", \"0x05a59c5172152ac21cc5ec2b77656ef25f811c37\", \"0x0517a54cbbc7a7edc622890488a6275419da4fd7\", \"0x25a5ed4828daee693b4bc3e07943dee025c6c2f7\", \"0xd74a162417553402b15916dc7ac36bb4ab6af05b\", \"0xc91b94cce1f5fae9c73ad182102ad8759a4919a8\", \"0xacf1730fde2777fd158605737bd852ba57f6680f\", \"0x978b15cd40f7286d674258588af4635dce055282\", \"0xf144dee03a5c7f4f628a727a7c71c8b6cfa95039\", \"0x48fde74488f34999a2195ad879e7821f7b9fac52\", \"0xa9ff155339e2472b8606fcb9c89f65a80c2c297b\", \"0x24c40e598a5e40dd8e908a3ffc3cf4bcd88d62d2\", \"0x9aace38e75a49d248865551a9599cff3495b6d5b\", \"0x8dc0df6d1185f2d7f1defcc30922511a9f0bc3ae\", \"0xa3c887aa5998104a321efc24cbf745fe1fd5b75d\", \"0xb8abc1490c4fd684015354d04c34a33c73536db3\", \"0xd61b48536d5d69f78bba9ebd80ee49af0943ec44\", \"0x496b09897590ddbaa0e1b194e148a4752a0e3167\", \"0x09c9a8838a98a9e96ef88da0238218f89a05d33f\", \"0x2a9dc0ccc7cbca982f2e79eff994cb16341e3d7a\", \"0xba375634778ea2332faded1da5b5c4b005615622\", \"0x797d53e596fe2bc0c41fb298186294b3b7dab100\", \"0xb05d588c4852a9cb467cf9eded1f10130d48fad6\", \"0x9d693e33e3bdcd89687302aa8e9acd1e1febc09f\", \"0x3670a029a6ce9be3bd62c76853e747e65ddf6431\", \"0xd0aa48ed4c42411e61876abb434ff9371760fb62\", \"0xc3ebbd1371587cf0671ec3329c6db154a24e836b\", \"0xd7378939089abd6656d3f523bf55edcd2213332c\", \"0x8f71649bd9404ef7095ae2528762528099a44f45\", \"0xc03a59b3b8e0907900f1f55c4646e7435f99e786\", \"0x667e3e933ed540613538e5931b6897a07c118d01\", \"0xac5d4cce170a809db68527caeca8755e1d4f704f\", \"0x2a485521c7abcca51c309bdc60583f15babd0989\"]"
     },
     "metadata": {}
    }
   ]
  },
  {
   "cell_type": "code",
   "metadata": {
    "cell_id": "04eb2915-4503-4efd-a421-5fba06ecc020",
    "tags": [],
    "deepnote_to_be_reexecuted": false,
    "source_hash": "ed700950",
    "execution_start": 1647667254773,
    "execution_millis": 5,
    "deepnote_cell_type": "code",
    "deepnote_cell_height": 118.1875,
    "deepnote_output_heights": [
     21.1875
    ]
   },
   "source": "contracts.count",
   "execution_count": null,
   "outputs": [
    {
     "output_type": "execute_result",
     "execution_count": 7,
     "data": {
      "text/plain": "483"
     },
     "metadata": {}
    }
   ]
  },
  {
   "cell_type": "code",
   "metadata": {
    "cell_id": "6b9c4904-28bb-418f-93db-005ee89b9b48",
    "tags": [],
    "deepnote_cell_type": "code",
    "deepnote_cell_height": 66
   },
   "source": "",
   "execution_count": null,
   "outputs": []
  },
  {
   "cell_type": "markdown",
   "source": "<a style='text-decoration:none;line-height:16px;display:flex;color:#5B5B62;padding:10px;justify-content:end;' href='https://deepnote.com?utm_source=created-in-deepnote-cell&projectId=ebde59c2-d67b-4e31-ad3b-1bdd07014691' target=\"_blank\">\n<img alt='Created in deepnote.com' style='display:inline;max-height:16px;margin:0px;margin-right:7.5px;' src='data:image/svg+xml;base64,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' > </img>\nCreated in <span style='font-weight:600;margin-left:4px;'>Deepnote</span></a>",
   "metadata": {
    "tags": [],
    "created_in_deepnote_cell": true,
    "deepnote_cell_type": "markdown"
   }
  }
 ],
 "nbformat": 4,
 "nbformat_minor": 2,
 "metadata": {
  "orig_nbformat": 2,
  "deepnote": {
   "is_reactive": false
  },
  "deepnote_notebook_id": "8d7f8c5a-82c8-4f3b-9d7c-32f7a83ac878",
  "deepnote_execution_queue": []
 }
}